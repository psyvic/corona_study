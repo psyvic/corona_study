{
 "cells": [
  {
   "cell_type": "code",
   "execution_count": 1,
   "metadata": {
    "Collapsed": "false"
   },
   "outputs": [],
   "source": [
    "# Libraries\n",
    "import pandas as pd\n",
    "import numpy as np\n",
    "from time import strptime\n",
    "import datetime\n",
    "\n",
    "import matplotlib.pyplot as plt\n",
    "import seaborn as sns\n",
    "\n",
    "import plotly as py\n",
    "import ipywidgets as widgets\n",
    "from plotly import tools\n",
    "import plotly.graph_objs as go\n",
    "import plotly.express as px"
   ]
  },
  {
   "cell_type": "markdown",
   "metadata": {
    "Collapsed": "false"
   },
   "source": [
    "# Project 3: Coronavirus: Demographical and Epidemiological Visualisation\n",
    "-------\n",
    "\n"
   ]
  },
  {
   "cell_type": "markdown",
   "metadata": {
    "Collapsed": "false"
   },
   "source": [
    "## Introduction\n",
    "\n",
    "Coronavirus is a reality that has been affecting the way people live around the globe. There is lots of useful information out there, but also a lot fake, inaccurate data and misconceptions due to personal beliefs/bias, etc.\n",
    "\n",
    "Hopefully this visual guide will help tackle some of this issues and check with facts the spread of the virus and whether or we can do something to help.\n",
    "\n",
    "Initially this project aimed to do a deeper analysis on demographics and comorbidity, but this data was impossible to find. One reason why this kind of data is scarse might be due to the ongoing crisis and lack of resources, which doesn't allow the authorities to recover the necessary information.\n",
    "\n",
    "There are some numbers and theories regarding comorbidity, but it's all in scientific researches and papers, and the data used for them is not accesible.\n",
    "\n",
    "------------\n",
    "\n",
    "## Dataset\n",
    "\n",
    "Multiple datasets where used for this project(6). The source of the data is mostly from Kaggle(https://www.kaggle.com/sudalairajkumar/novel-corona-virus-2019-dataset) and Our World in Data(https://ourworldindata.org/). The data had some irrelevant or empty values that needed to be removed, and some other values had to be modified in order to work with them.\n",
    "\n",
    "----------------"
   ]
  },
  {
   "cell_type": "markdown",
   "metadata": {
    "Collapsed": "false"
   },
   "source": [
    "## Demographics\n",
    "\n",
    "Let's start with some basic distribution visualisation on age and gender and see if there are important facts to summarize."
   ]
  },
  {
   "cell_type": "code",
   "execution_count": 2,
   "metadata": {
    "Collapsed": "false"
   },
   "outputs": [],
   "source": [
    "demog = pd.read_csv('data/COVID19_line_list_data.csv')\n",
    "\n",
    "#remove unnecesary columns\n",
    "drop_cols = [\n",
    "    'id', 'case_in_country', 'reporting date', 'Unnamed: 3', 'summary', 'location', 'country', 'symptom_onset', \n",
    "    'recovered', 'symptom', 'source', 'link', 'If_onset_approximated', 'hosp_visit_date', 'exposure_start',\n",
    "    'visiting Wuhan', 'from Wuhan', 'death', 'exposure_end', 'Unnamed: 21', 'Unnamed: 22', 'Unnamed: 23', \n",
    "    'Unnamed: 24', 'Unnamed: 25', 'Unnamed: 26',\n",
    "]\n",
    "demog.drop(drop_cols, axis=1, inplace=True)"
   ]
  },
  {
   "cell_type": "code",
   "execution_count": 3,
   "metadata": {
    "Collapsed": "false"
   },
   "outputs": [
    {
     "data": {
      "application/vnd.jupyter.widget-view+json": {
       "model_id": "dca66f8c1d7c4099a2d237186ce9541f",
       "version_major": 2,
       "version_minor": 0
      },
      "text/plain": [
       "interactive(children=(ToggleButtons(description='data:', options=('gender', 'age', 'gender/age'), tooltips=('S…"
      ]
     },
     "metadata": {},
     "output_type": "display_data"
    },
    {
     "data": {
      "application/vnd.plotly.v1+json": {
       "config": {
        "plotlyServerURL": "https://plot.ly"
       },
       "data": [
        {
         "boxmean": "sd",
         "marker": {
          "color": "indianred"
         },
         "name": "Female",
         "type": "box",
         "y": [
          56,
          60,
          44,
          18,
          32,
          52,
          28,
          66,
          32,
          33,
          33,
          62,
          36,
          48,
          82,
          80,
          70,
          50,
          66,
          23,
          50,
          32,
          85,
          69,
          70,
          65,
          29,
          null,
          56,
          39,
          34,
          76,
          66,
          67,
          82,
          49,
          2,
          59,
          68,
          29,
          33,
          20,
          24,
          45,
          9,
          42,
          32,
          55,
          79,
          19,
          58,
          39,
          21,
          30,
          64,
          70,
          52,
          32,
          48,
          19,
          68,
          4,
          69,
          55,
          36,
          36,
          40,
          63,
          47,
          42,
          41,
          28,
          51,
          30,
          null,
          33,
          60,
          58,
          35,
          23,
          35,
          45,
          45,
          35,
          25,
          25,
          35,
          55,
          85,
          65,
          55,
          55,
          65,
          65,
          85,
          55,
          45,
          75,
          75,
          55,
          75,
          65,
          45,
          55,
          75,
          55,
          25,
          25,
          65,
          55,
          75,
          55,
          55,
          15,
          55,
          65,
          46,
          65,
          75,
          65,
          35,
          45,
          25,
          55,
          75,
          25,
          55,
          25,
          25,
          65,
          65,
          55,
          75,
          75,
          45,
          25,
          75,
          75,
          45,
          75,
          55,
          60,
          45,
          65,
          65,
          4,
          36,
          49,
          40,
          37,
          59,
          67,
          65,
          39,
          32,
          83,
          53,
          53,
          56,
          56,
          31,
          37,
          73,
          47,
          47,
          31,
          28,
          48,
          44,
          32,
          42,
          42,
          39,
          40,
          38,
          52,
          2,
          55,
          51,
          44,
          54,
          61,
          56,
          79,
          27,
          71,
          57,
          35,
          38,
          57,
          35,
          30,
          75,
          58,
          35,
          62,
          28,
          52,
          40,
          42,
          21,
          41,
          59,
          58,
          73,
          37,
          30,
          68,
          61,
          11,
          40,
          26,
          48,
          57,
          61,
          69,
          29,
          58,
          46,
          54,
          63,
          72,
          61,
          38,
          26,
          34,
          59,
          58,
          52,
          59,
          50,
          30,
          56,
          48,
          56,
          39,
          20,
          23,
          57,
          22,
          34,
          65,
          69,
          55,
          55,
          50,
          50,
          70,
          70,
          null,
          25,
          55,
          45,
          85,
          65,
          60,
          45,
          25,
          75,
          35,
          55,
          61,
          74,
          73,
          33,
          57,
          73,
          54,
          35,
          60,
          31,
          null,
          61,
          57,
          null,
          42,
          16,
          29,
          55,
          21,
          45,
          42,
          60,
          25,
          37,
          55,
          25,
          55,
          35,
          35,
          35,
          25,
          65,
          40,
          null,
          null,
          24,
          46,
          null,
          null,
          null,
          73,
          36,
          64,
          62,
          62,
          68,
          73,
          37,
          72,
          64,
          56,
          28,
          55,
          63,
          65,
          57,
          91,
          51,
          25,
          50,
          55,
          63,
          86,
          62,
          60,
          37,
          67,
          41,
          null,
          46,
          32,
          83,
          83,
          70,
          38,
          96,
          80,
          76,
          57,
          68,
          59,
          58,
          57,
          55,
          60,
          49,
          21,
          29,
          70,
          89,
          null,
          null,
          null,
          null,
          null,
          null,
          38,
          60,
          32,
          null,
          36,
          null,
          22,
          null,
          25,
          27,
          25,
          null,
          45,
          null,
          null,
          null,
          null,
          null,
          null,
          null,
          null,
          null,
          null,
          null,
          null
         ]
        },
        {
         "boxmean": "sd",
         "marker": {
          "color": "lightseagreen"
         },
         "name": "Male",
         "type": "box",
         "y": [
          66,
          46,
          58,
          34,
          37,
          39,
          56,
          37,
          51,
          57,
          56,
          50,
          33,
          40,
          70,
          51,
          null,
          37,
          19,
          29,
          46,
          28,
          55,
          68,
          38,
          72,
          45,
          42,
          37,
          69,
          63,
          49,
          50,
          48,
          36,
          61,
          69,
          89,
          89,
          66,
          75,
          82,
          66,
          81,
          65,
          53,
          86,
          84,
          40,
          45,
          59,
          43,
          49,
          42,
          22,
          47,
          52,
          53,
          46,
          36,
          73,
          81,
          42,
          30,
          49,
          23,
          39,
          49,
          70,
          72,
          79,
          55,
          87,
          58,
          66,
          78,
          67,
          65,
          58,
          null,
          57,
          40,
          46,
          56,
          29,
          57,
          30,
          28,
          41,
          46,
          40,
          28,
          27,
          15,
          24,
          34,
          63,
          58,
          null,
          null,
          null,
          49,
          33,
          44,
          33,
          71,
          31,
          71,
          35,
          38,
          50,
          78,
          49,
          34,
          null,
          65,
          38,
          18,
          50,
          48,
          39,
          31,
          27,
          37,
          48,
          31,
          80,
          63,
          55,
          36,
          60,
          null,
          31,
          72,
          null,
          50,
          null,
          35,
          45,
          45,
          45,
          65,
          55,
          55,
          45,
          45,
          35,
          55,
          45,
          25,
          55,
          25,
          45,
          55,
          75,
          55,
          25,
          75,
          75,
          65,
          55,
          35,
          55,
          65,
          45,
          65,
          35,
          65,
          65,
          65,
          55,
          55,
          65,
          35,
          85,
          25,
          55,
          65,
          85,
          75,
          65,
          45,
          65,
          65,
          75,
          55,
          65,
          45,
          85,
          85,
          85,
          5,
          15,
          55,
          65,
          85,
          75,
          55,
          65,
          45,
          85,
          75,
          65,
          65,
          65,
          65,
          55,
          55,
          75,
          75,
          45,
          35,
          25,
          75,
          85,
          55,
          65,
          55,
          55,
          55,
          45,
          55,
          35,
          65,
          55,
          55,
          65,
          75,
          25,
          75,
          45,
          65,
          85,
          75,
          75,
          55,
          65,
          75,
          75,
          55,
          55,
          55,
          45,
          55,
          55,
          35,
          75,
          65,
          45,
          45,
          5,
          35,
          5,
          85,
          35,
          85,
          65,
          65,
          40,
          11,
          2,
          52,
          41,
          63,
          45,
          9,
          31,
          27,
          32,
          66,
          37,
          36,
          56,
          35,
          56,
          56,
          31,
          38,
          null,
          0.5,
          45,
          41,
          27,
          53,
          64,
          53,
          51,
          36,
          71,
          39,
          54,
          37,
          35,
          39,
          34,
          46,
          62,
          48,
          37,
          54,
          30,
          30,
          26,
          55,
          61,
          57,
          50,
          28,
          26,
          25,
          40,
          43,
          29,
          1,
          35,
          50,
          54,
          36,
          24,
          32,
          41,
          47,
          38,
          55,
          54,
          55,
          32,
          56,
          28,
          25,
          48,
          28,
          43,
          37,
          36,
          46,
          28,
          51,
          82,
          24,
          49,
          77,
          28,
          58,
          76,
          24,
          57,
          59,
          75,
          30,
          60,
          22,
          29,
          49,
          36,
          55,
          64,
          67,
          74,
          35,
          62,
          58,
          62,
          41,
          36,
          75,
          55,
          55,
          null,
          55,
          45,
          55,
          25,
          25,
          65,
          55,
          35,
          85,
          55,
          45,
          null,
          35,
          68,
          null,
          50,
          70,
          29,
          null,
          8,
          25,
          35,
          null,
          65,
          null,
          25,
          57,
          66,
          28,
          30,
          50,
          35,
          43,
          53,
          55,
          44,
          65,
          60,
          8,
          37,
          56,
          45,
          35,
          45,
          60,
          33,
          null,
          52,
          33,
          58,
          49,
          25,
          60,
          32,
          47,
          41,
          null,
          null,
          null,
          null,
          31,
          null,
          null,
          null,
          null,
          32,
          41,
          8,
          37,
          70,
          39,
          56,
          63,
          47,
          64,
          72,
          75,
          39,
          80,
          60,
          25,
          56,
          58,
          42,
          24,
          70,
          68,
          22,
          23,
          52,
          69,
          59,
          71,
          37,
          66,
          75,
          51,
          43,
          37,
          70,
          54,
          69,
          45,
          58,
          68,
          75,
          58,
          48,
          68,
          62,
          35,
          57,
          33,
          24,
          16,
          80,
          26,
          null,
          35,
          null,
          53,
          null,
          null,
          null,
          null,
          44,
          null,
          null,
          69,
          31,
          22,
          62,
          44,
          30,
          null,
          null,
          null,
          null,
          null,
          28,
          42,
          53,
          55,
          58,
          null,
          null,
          null,
          null,
          null,
          null,
          70
         ]
        }
       ],
       "layout": {
        "annotations": [
         {
          "font": {
           "color": "rgb(150,150,150)",
           "family": "Arial",
           "size": 12
          },
          "showarrow": false,
          "text": "Source: Kaggle Coronavirus (COVID-19) Visualization & Prediction",
          "x": 0.5,
          "xanchor": "center",
          "xref": "paper",
          "y": -0.16,
          "yanchor": "top",
          "yref": "paper"
         },
         {
          "font": {
           "color": "rgb(37,37,37)",
           "family": "Arial",
           "size": 30
          },
          "showarrow": false,
          "text": "Distribution of population on gender/age",
          "x": 0,
          "xanchor": "left",
          "xref": "paper",
          "y": 1.05,
          "yanchor": "bottom",
          "yref": "paper"
         }
        ],
        "bargap": 0.2,
        "bargroupgap": 0.1,
        "plot_bgcolor": "white",
        "template": {
         "data": {
          "bar": [
           {
            "error_x": {
             "color": "#2a3f5f"
            },
            "error_y": {
             "color": "#2a3f5f"
            },
            "marker": {
             "line": {
              "color": "#E5ECF6",
              "width": 0.5
             }
            },
            "type": "bar"
           }
          ],
          "barpolar": [
           {
            "marker": {
             "line": {
              "color": "#E5ECF6",
              "width": 0.5
             }
            },
            "type": "barpolar"
           }
          ],
          "carpet": [
           {
            "aaxis": {
             "endlinecolor": "#2a3f5f",
             "gridcolor": "white",
             "linecolor": "white",
             "minorgridcolor": "white",
             "startlinecolor": "#2a3f5f"
            },
            "baxis": {
             "endlinecolor": "#2a3f5f",
             "gridcolor": "white",
             "linecolor": "white",
             "minorgridcolor": "white",
             "startlinecolor": "#2a3f5f"
            },
            "type": "carpet"
           }
          ],
          "choropleth": [
           {
            "colorbar": {
             "outlinewidth": 0,
             "ticks": ""
            },
            "type": "choropleth"
           }
          ],
          "contour": [
           {
            "colorbar": {
             "outlinewidth": 0,
             "ticks": ""
            },
            "colorscale": [
             [
              0,
              "#0d0887"
             ],
             [
              0.1111111111111111,
              "#46039f"
             ],
             [
              0.2222222222222222,
              "#7201a8"
             ],
             [
              0.3333333333333333,
              "#9c179e"
             ],
             [
              0.4444444444444444,
              "#bd3786"
             ],
             [
              0.5555555555555556,
              "#d8576b"
             ],
             [
              0.6666666666666666,
              "#ed7953"
             ],
             [
              0.7777777777777778,
              "#fb9f3a"
             ],
             [
              0.8888888888888888,
              "#fdca26"
             ],
             [
              1,
              "#f0f921"
             ]
            ],
            "type": "contour"
           }
          ],
          "contourcarpet": [
           {
            "colorbar": {
             "outlinewidth": 0,
             "ticks": ""
            },
            "type": "contourcarpet"
           }
          ],
          "heatmap": [
           {
            "colorbar": {
             "outlinewidth": 0,
             "ticks": ""
            },
            "colorscale": [
             [
              0,
              "#0d0887"
             ],
             [
              0.1111111111111111,
              "#46039f"
             ],
             [
              0.2222222222222222,
              "#7201a8"
             ],
             [
              0.3333333333333333,
              "#9c179e"
             ],
             [
              0.4444444444444444,
              "#bd3786"
             ],
             [
              0.5555555555555556,
              "#d8576b"
             ],
             [
              0.6666666666666666,
              "#ed7953"
             ],
             [
              0.7777777777777778,
              "#fb9f3a"
             ],
             [
              0.8888888888888888,
              "#fdca26"
             ],
             [
              1,
              "#f0f921"
             ]
            ],
            "type": "heatmap"
           }
          ],
          "heatmapgl": [
           {
            "colorbar": {
             "outlinewidth": 0,
             "ticks": ""
            },
            "colorscale": [
             [
              0,
              "#0d0887"
             ],
             [
              0.1111111111111111,
              "#46039f"
             ],
             [
              0.2222222222222222,
              "#7201a8"
             ],
             [
              0.3333333333333333,
              "#9c179e"
             ],
             [
              0.4444444444444444,
              "#bd3786"
             ],
             [
              0.5555555555555556,
              "#d8576b"
             ],
             [
              0.6666666666666666,
              "#ed7953"
             ],
             [
              0.7777777777777778,
              "#fb9f3a"
             ],
             [
              0.8888888888888888,
              "#fdca26"
             ],
             [
              1,
              "#f0f921"
             ]
            ],
            "type": "heatmapgl"
           }
          ],
          "histogram": [
           {
            "marker": {
             "colorbar": {
              "outlinewidth": 0,
              "ticks": ""
             }
            },
            "type": "histogram"
           }
          ],
          "histogram2d": [
           {
            "colorbar": {
             "outlinewidth": 0,
             "ticks": ""
            },
            "colorscale": [
             [
              0,
              "#0d0887"
             ],
             [
              0.1111111111111111,
              "#46039f"
             ],
             [
              0.2222222222222222,
              "#7201a8"
             ],
             [
              0.3333333333333333,
              "#9c179e"
             ],
             [
              0.4444444444444444,
              "#bd3786"
             ],
             [
              0.5555555555555556,
              "#d8576b"
             ],
             [
              0.6666666666666666,
              "#ed7953"
             ],
             [
              0.7777777777777778,
              "#fb9f3a"
             ],
             [
              0.8888888888888888,
              "#fdca26"
             ],
             [
              1,
              "#f0f921"
             ]
            ],
            "type": "histogram2d"
           }
          ],
          "histogram2dcontour": [
           {
            "colorbar": {
             "outlinewidth": 0,
             "ticks": ""
            },
            "colorscale": [
             [
              0,
              "#0d0887"
             ],
             [
              0.1111111111111111,
              "#46039f"
             ],
             [
              0.2222222222222222,
              "#7201a8"
             ],
             [
              0.3333333333333333,
              "#9c179e"
             ],
             [
              0.4444444444444444,
              "#bd3786"
             ],
             [
              0.5555555555555556,
              "#d8576b"
             ],
             [
              0.6666666666666666,
              "#ed7953"
             ],
             [
              0.7777777777777778,
              "#fb9f3a"
             ],
             [
              0.8888888888888888,
              "#fdca26"
             ],
             [
              1,
              "#f0f921"
             ]
            ],
            "type": "histogram2dcontour"
           }
          ],
          "mesh3d": [
           {
            "colorbar": {
             "outlinewidth": 0,
             "ticks": ""
            },
            "type": "mesh3d"
           }
          ],
          "parcoords": [
           {
            "line": {
             "colorbar": {
              "outlinewidth": 0,
              "ticks": ""
             }
            },
            "type": "parcoords"
           }
          ],
          "pie": [
           {
            "automargin": true,
            "type": "pie"
           }
          ],
          "scatter": [
           {
            "marker": {
             "colorbar": {
              "outlinewidth": 0,
              "ticks": ""
             }
            },
            "type": "scatter"
           }
          ],
          "scatter3d": [
           {
            "line": {
             "colorbar": {
              "outlinewidth": 0,
              "ticks": ""
             }
            },
            "marker": {
             "colorbar": {
              "outlinewidth": 0,
              "ticks": ""
             }
            },
            "type": "scatter3d"
           }
          ],
          "scattercarpet": [
           {
            "marker": {
             "colorbar": {
              "outlinewidth": 0,
              "ticks": ""
             }
            },
            "type": "scattercarpet"
           }
          ],
          "scattergeo": [
           {
            "marker": {
             "colorbar": {
              "outlinewidth": 0,
              "ticks": ""
             }
            },
            "type": "scattergeo"
           }
          ],
          "scattergl": [
           {
            "marker": {
             "colorbar": {
              "outlinewidth": 0,
              "ticks": ""
             }
            },
            "type": "scattergl"
           }
          ],
          "scattermapbox": [
           {
            "marker": {
             "colorbar": {
              "outlinewidth": 0,
              "ticks": ""
             }
            },
            "type": "scattermapbox"
           }
          ],
          "scatterpolar": [
           {
            "marker": {
             "colorbar": {
              "outlinewidth": 0,
              "ticks": ""
             }
            },
            "type": "scatterpolar"
           }
          ],
          "scatterpolargl": [
           {
            "marker": {
             "colorbar": {
              "outlinewidth": 0,
              "ticks": ""
             }
            },
            "type": "scatterpolargl"
           }
          ],
          "scatterternary": [
           {
            "marker": {
             "colorbar": {
              "outlinewidth": 0,
              "ticks": ""
             }
            },
            "type": "scatterternary"
           }
          ],
          "surface": [
           {
            "colorbar": {
             "outlinewidth": 0,
             "ticks": ""
            },
            "colorscale": [
             [
              0,
              "#0d0887"
             ],
             [
              0.1111111111111111,
              "#46039f"
             ],
             [
              0.2222222222222222,
              "#7201a8"
             ],
             [
              0.3333333333333333,
              "#9c179e"
             ],
             [
              0.4444444444444444,
              "#bd3786"
             ],
             [
              0.5555555555555556,
              "#d8576b"
             ],
             [
              0.6666666666666666,
              "#ed7953"
             ],
             [
              0.7777777777777778,
              "#fb9f3a"
             ],
             [
              0.8888888888888888,
              "#fdca26"
             ],
             [
              1,
              "#f0f921"
             ]
            ],
            "type": "surface"
           }
          ],
          "table": [
           {
            "cells": {
             "fill": {
              "color": "#EBF0F8"
             },
             "line": {
              "color": "white"
             }
            },
            "header": {
             "fill": {
              "color": "#C8D4E3"
             },
             "line": {
              "color": "white"
             }
            },
            "type": "table"
           }
          ]
         },
         "layout": {
          "annotationdefaults": {
           "arrowcolor": "#2a3f5f",
           "arrowhead": 0,
           "arrowwidth": 1
          },
          "coloraxis": {
           "colorbar": {
            "outlinewidth": 0,
            "ticks": ""
           }
          },
          "colorscale": {
           "diverging": [
            [
             0,
             "#8e0152"
            ],
            [
             0.1,
             "#c51b7d"
            ],
            [
             0.2,
             "#de77ae"
            ],
            [
             0.3,
             "#f1b6da"
            ],
            [
             0.4,
             "#fde0ef"
            ],
            [
             0.5,
             "#f7f7f7"
            ],
            [
             0.6,
             "#e6f5d0"
            ],
            [
             0.7,
             "#b8e186"
            ],
            [
             0.8,
             "#7fbc41"
            ],
            [
             0.9,
             "#4d9221"
            ],
            [
             1,
             "#276419"
            ]
           ],
           "sequential": [
            [
             0,
             "#0d0887"
            ],
            [
             0.1111111111111111,
             "#46039f"
            ],
            [
             0.2222222222222222,
             "#7201a8"
            ],
            [
             0.3333333333333333,
             "#9c179e"
            ],
            [
             0.4444444444444444,
             "#bd3786"
            ],
            [
             0.5555555555555556,
             "#d8576b"
            ],
            [
             0.6666666666666666,
             "#ed7953"
            ],
            [
             0.7777777777777778,
             "#fb9f3a"
            ],
            [
             0.8888888888888888,
             "#fdca26"
            ],
            [
             1,
             "#f0f921"
            ]
           ],
           "sequentialminus": [
            [
             0,
             "#0d0887"
            ],
            [
             0.1111111111111111,
             "#46039f"
            ],
            [
             0.2222222222222222,
             "#7201a8"
            ],
            [
             0.3333333333333333,
             "#9c179e"
            ],
            [
             0.4444444444444444,
             "#bd3786"
            ],
            [
             0.5555555555555556,
             "#d8576b"
            ],
            [
             0.6666666666666666,
             "#ed7953"
            ],
            [
             0.7777777777777778,
             "#fb9f3a"
            ],
            [
             0.8888888888888888,
             "#fdca26"
            ],
            [
             1,
             "#f0f921"
            ]
           ]
          },
          "colorway": [
           "#636efa",
           "#EF553B",
           "#00cc96",
           "#ab63fa",
           "#FFA15A",
           "#19d3f3",
           "#FF6692",
           "#B6E880",
           "#FF97FF",
           "#FECB52"
          ],
          "font": {
           "color": "#2a3f5f"
          },
          "geo": {
           "bgcolor": "white",
           "lakecolor": "white",
           "landcolor": "#E5ECF6",
           "showlakes": true,
           "showland": true,
           "subunitcolor": "white"
          },
          "hoverlabel": {
           "align": "left"
          },
          "hovermode": "closest",
          "mapbox": {
           "style": "light"
          },
          "paper_bgcolor": "white",
          "plot_bgcolor": "#E5ECF6",
          "polar": {
           "angularaxis": {
            "gridcolor": "white",
            "linecolor": "white",
            "ticks": ""
           },
           "bgcolor": "#E5ECF6",
           "radialaxis": {
            "gridcolor": "white",
            "linecolor": "white",
            "ticks": ""
           }
          },
          "scene": {
           "xaxis": {
            "backgroundcolor": "#E5ECF6",
            "gridcolor": "white",
            "gridwidth": 2,
            "linecolor": "white",
            "showbackground": true,
            "ticks": "",
            "zerolinecolor": "white"
           },
           "yaxis": {
            "backgroundcolor": "#E5ECF6",
            "gridcolor": "white",
            "gridwidth": 2,
            "linecolor": "white",
            "showbackground": true,
            "ticks": "",
            "zerolinecolor": "white"
           },
           "zaxis": {
            "backgroundcolor": "#E5ECF6",
            "gridcolor": "white",
            "gridwidth": 2,
            "linecolor": "white",
            "showbackground": true,
            "ticks": "",
            "zerolinecolor": "white"
           }
          },
          "shapedefaults": {
           "line": {
            "color": "#2a3f5f"
           }
          },
          "ternary": {
           "aaxis": {
            "gridcolor": "white",
            "linecolor": "white",
            "ticks": ""
           },
           "baxis": {
            "gridcolor": "white",
            "linecolor": "white",
            "ticks": ""
           },
           "bgcolor": "#E5ECF6",
           "caxis": {
            "gridcolor": "white",
            "linecolor": "white",
            "ticks": ""
           }
          },
          "title": {
           "x": 0.05
          },
          "xaxis": {
           "automargin": true,
           "gridcolor": "white",
           "linecolor": "white",
           "ticks": "",
           "title": {
            "standoff": 15
           },
           "zerolinecolor": "white",
           "zerolinewidth": 2
          },
          "yaxis": {
           "automargin": true,
           "gridcolor": "white",
           "linecolor": "white",
           "ticks": "",
           "title": {
            "standoff": 15
           },
           "zerolinecolor": "white",
           "zerolinewidth": 2
          }
         }
        },
        "yaxis": {
         "nticks": 20,
         "title": {
          "text": "Age"
         }
        }
       }
      },
      "text/html": [
       "<div>                            <div id=\"10b34cb8-56aa-4529-8442-eb20fc6f9938\" class=\"plotly-graph-div\" style=\"height:525px; width:100%;\"></div>            <script type=\"text/javascript\">                require([\"plotly\"], function(Plotly) {                    window.PLOTLYENV=window.PLOTLYENV || {};                                    if (document.getElementById(\"10b34cb8-56aa-4529-8442-eb20fc6f9938\")) {                    Plotly.newPlot(                        \"10b34cb8-56aa-4529-8442-eb20fc6f9938\",                        [{\"boxmean\": \"sd\", \"marker\": {\"color\": \"indianred\"}, \"name\": \"Female\", \"type\": \"box\", \"y\": [56.0, 60.0, 44.0, 18.0, 32.0, 52.0, 28.0, 66.0, 32.0, 33.0, 33.0, 62.0, 36.0, 48.0, 82.0, 80.0, 70.0, 50.0, 66.0, 23.0, 50.0, 32.0, 85.0, 69.0, 70.0, 65.0, 29.0, null, 56.0, 39.0, 34.0, 76.0, 66.0, 67.0, 82.0, 49.0, 2.0, 59.0, 68.0, 29.0, 33.0, 20.0, 24.0, 45.0, 9.0, 42.0, 32.0, 55.0, 79.0, 19.0, 58.0, 39.0, 21.0, 30.0, 64.0, 70.0, 52.0, 32.0, 48.0, 19.0, 68.0, 4.0, 69.0, 55.0, 36.0, 36.0, 40.0, 63.0, 47.0, 42.0, 41.0, 28.0, 51.0, 30.0, null, 33.0, 60.0, 58.0, 35.0, 23.0, 35.0, 45.0, 45.0, 35.0, 25.0, 25.0, 35.0, 55.0, 85.0, 65.0, 55.0, 55.0, 65.0, 65.0, 85.0, 55.0, 45.0, 75.0, 75.0, 55.0, 75.0, 65.0, 45.0, 55.0, 75.0, 55.0, 25.0, 25.0, 65.0, 55.0, 75.0, 55.0, 55.0, 15.0, 55.0, 65.0, 46.0, 65.0, 75.0, 65.0, 35.0, 45.0, 25.0, 55.0, 75.0, 25.0, 55.0, 25.0, 25.0, 65.0, 65.0, 55.0, 75.0, 75.0, 45.0, 25.0, 75.0, 75.0, 45.0, 75.0, 55.0, 60.0, 45.0, 65.0, 65.0, 4.0, 36.0, 49.0, 40.0, 37.0, 59.0, 67.0, 65.0, 39.0, 32.0, 83.0, 53.0, 53.0, 56.0, 56.0, 31.0, 37.0, 73.0, 47.0, 47.0, 31.0, 28.0, 48.0, 44.0, 32.0, 42.0, 42.0, 39.0, 40.0, 38.0, 52.0, 2.0, 55.0, 51.0, 44.0, 54.0, 61.0, 56.0, 79.0, 27.0, 71.0, 57.0, 35.0, 38.0, 57.0, 35.0, 30.0, 75.0, 58.0, 35.0, 62.0, 28.0, 52.0, 40.0, 42.0, 21.0, 41.0, 59.0, 58.0, 73.0, 37.0, 30.0, 68.0, 61.0, 11.0, 40.0, 26.0, 48.0, 57.0, 61.0, 69.0, 29.0, 58.0, 46.0, 54.0, 63.0, 72.0, 61.0, 38.0, 26.0, 34.0, 59.0, 58.0, 52.0, 59.0, 50.0, 30.0, 56.0, 48.0, 56.0, 39.0, 20.0, 23.0, 57.0, 22.0, 34.0, 65.0, 69.0, 55.0, 55.0, 50.0, 50.0, 70.0, 70.0, null, 25.0, 55.0, 45.0, 85.0, 65.0, 60.0, 45.0, 25.0, 75.0, 35.0, 55.0, 61.0, 74.0, 73.0, 33.0, 57.0, 73.0, 54.0, 35.0, 60.0, 31.0, null, 61.0, 57.0, null, 42.0, 16.0, 29.0, 55.0, 21.0, 45.0, 42.0, 60.0, 25.0, 37.0, 55.0, 25.0, 55.0, 35.0, 35.0, 35.0, 25.0, 65.0, 40.0, null, null, 24.0, 46.0, null, null, null, 73.0, 36.0, 64.0, 62.0, 62.0, 68.0, 73.0, 37.0, 72.0, 64.0, 56.0, 28.0, 55.0, 63.0, 65.0, 57.0, 91.0, 51.0, 25.0, 50.0, 55.0, 63.0, 86.0, 62.0, 60.0, 37.0, 67.0, 41.0, null, 46.0, 32.0, 83.0, 83.0, 70.0, 38.0, 96.0, 80.0, 76.0, 57.0, 68.0, 59.0, 58.0, 57.0, 55.0, 60.0, 49.0, 21.0, 29.0, 70.0, 89.0, null, null, null, null, null, null, 38.0, 60.0, 32.0, null, 36.0, null, 22.0, null, 25.0, 27.0, 25.0, null, 45.0, null, null, null, null, null, null, null, null, null, null, null, null]}, {\"boxmean\": \"sd\", \"marker\": {\"color\": \"lightseagreen\"}, \"name\": \"Male\", \"type\": \"box\", \"y\": [66.0, 46.0, 58.0, 34.0, 37.0, 39.0, 56.0, 37.0, 51.0, 57.0, 56.0, 50.0, 33.0, 40.0, 70.0, 51.0, null, 37.0, 19.0, 29.0, 46.0, 28.0, 55.0, 68.0, 38.0, 72.0, 45.0, 42.0, 37.0, 69.0, 63.0, 49.0, 50.0, 48.0, 36.0, 61.0, 69.0, 89.0, 89.0, 66.0, 75.0, 82.0, 66.0, 81.0, 65.0, 53.0, 86.0, 84.0, 40.0, 45.0, 59.0, 43.0, 49.0, 42.0, 22.0, 47.0, 52.0, 53.0, 46.0, 36.0, 73.0, 81.0, 42.0, 30.0, 49.0, 23.0, 39.0, 49.0, 70.0, 72.0, 79.0, 55.0, 87.0, 58.0, 66.0, 78.0, 67.0, 65.0, 58.0, null, 57.0, 40.0, 46.0, 56.0, 29.0, 57.0, 30.0, 28.0, 41.0, 46.0, 40.0, 28.0, 27.0, 15.0, 24.0, 34.0, 63.0, 58.0, null, null, null, 49.0, 33.0, 44.0, 33.0, 71.0, 31.0, 71.0, 35.0, 38.0, 50.0, 78.0, 49.0, 34.0, null, 65.0, 38.0, 18.0, 50.0, 48.0, 39.0, 31.0, 27.0, 37.0, 48.0, 31.0, 80.0, 63.0, 55.0, 36.0, 60.0, null, 31.0, 72.0, null, 50.0, null, 35.0, 45.0, 45.0, 45.0, 65.0, 55.0, 55.0, 45.0, 45.0, 35.0, 55.0, 45.0, 25.0, 55.0, 25.0, 45.0, 55.0, 75.0, 55.0, 25.0, 75.0, 75.0, 65.0, 55.0, 35.0, 55.0, 65.0, 45.0, 65.0, 35.0, 65.0, 65.0, 65.0, 55.0, 55.0, 65.0, 35.0, 85.0, 25.0, 55.0, 65.0, 85.0, 75.0, 65.0, 45.0, 65.0, 65.0, 75.0, 55.0, 65.0, 45.0, 85.0, 85.0, 85.0, 5.0, 15.0, 55.0, 65.0, 85.0, 75.0, 55.0, 65.0, 45.0, 85.0, 75.0, 65.0, 65.0, 65.0, 65.0, 55.0, 55.0, 75.0, 75.0, 45.0, 35.0, 25.0, 75.0, 85.0, 55.0, 65.0, 55.0, 55.0, 55.0, 45.0, 55.0, 35.0, 65.0, 55.0, 55.0, 65.0, 75.0, 25.0, 75.0, 45.0, 65.0, 85.0, 75.0, 75.0, 55.0, 65.0, 75.0, 75.0, 55.0, 55.0, 55.0, 45.0, 55.0, 55.0, 35.0, 75.0, 65.0, 45.0, 45.0, 5.0, 35.0, 5.0, 85.0, 35.0, 85.0, 65.0, 65.0, 40.0, 11.0, 2.0, 52.0, 41.0, 63.0, 45.0, 9.0, 31.0, 27.0, 32.0, 66.0, 37.0, 36.0, 56.0, 35.0, 56.0, 56.0, 31.0, 38.0, null, 0.5, 45.0, 41.0, 27.0, 53.0, 64.0, 53.0, 51.0, 36.0, 71.0, 39.0, 54.0, 37.0, 35.0, 39.0, 34.0, 46.0, 62.0, 48.0, 37.0, 54.0, 30.0, 30.0, 26.0, 55.0, 61.0, 57.0, 50.0, 28.0, 26.0, 25.0, 40.0, 43.0, 29.0, 1.0, 35.0, 50.0, 54.0, 36.0, 24.0, 32.0, 41.0, 47.0, 38.0, 55.0, 54.0, 55.0, 32.0, 56.0, 28.0, 25.0, 48.0, 28.0, 43.0, 37.0, 36.0, 46.0, 28.0, 51.0, 82.0, 24.0, 49.0, 77.0, 28.0, 58.0, 76.0, 24.0, 57.0, 59.0, 75.0, 30.0, 60.0, 22.0, 29.0, 49.0, 36.0, 55.0, 64.0, 67.0, 74.0, 35.0, 62.0, 58.0, 62.0, 41.0, 36.0, 75.0, 55.0, 55.0, null, 55.0, 45.0, 55.0, 25.0, 25.0, 65.0, 55.0, 35.0, 85.0, 55.0, 45.0, null, 35.0, 68.0, null, 50.0, 70.0, 29.0, null, 8.0, 25.0, 35.0, null, 65.0, null, 25.0, 57.0, 66.0, 28.0, 30.0, 50.0, 35.0, 43.0, 53.0, 55.0, 44.0, 65.0, 60.0, 8.0, 37.0, 56.0, 45.0, 35.0, 45.0, 60.0, 33.0, null, 52.0, 33.0, 58.0, 49.0, 25.0, 60.0, 32.0, 47.0, 41.0, null, null, null, null, 31.0, null, null, null, null, 32.0, 41.0, 8.0, 37.0, 70.0, 39.0, 56.0, 63.0, 47.0, 64.0, 72.0, 75.0, 39.0, 80.0, 60.0, 25.0, 56.0, 58.0, 42.0, 24.0, 70.0, 68.0, 22.0, 23.0, 52.0, 69.0, 59.0, 71.0, 37.0, 66.0, 75.0, 51.0, 43.0, 37.0, 70.0, 54.0, 69.0, 45.0, 58.0, 68.0, 75.0, 58.0, 48.0, 68.0, 62.0, 35.0, 57.0, 33.0, 24.0, 16.0, 80.0, 26.0, null, 35.0, null, 53.0, null, null, null, null, 44.0, null, null, 69.0, 31.0, 22.0, 62.0, 44.0, 30.0, null, null, null, null, null, 28.0, 42.0, 53.0, 55.0, 58.0, null, null, null, null, null, null, 70.0]}],                        {\"annotations\": [{\"font\": {\"color\": \"rgb(150,150,150)\", \"family\": \"Arial\", \"size\": 12}, \"showarrow\": false, \"text\": \"Source: Kaggle Coronavirus (COVID-19) Visualization & Prediction\", \"x\": 0.5, \"xanchor\": \"center\", \"xref\": \"paper\", \"y\": -0.16, \"yanchor\": \"top\", \"yref\": \"paper\"}, {\"font\": {\"color\": \"rgb(37,37,37)\", \"family\": \"Arial\", \"size\": 30}, \"showarrow\": false, \"text\": \"Distribution of population on gender/age\", \"x\": 0.0, \"xanchor\": \"left\", \"xref\": \"paper\", \"y\": 1.05, \"yanchor\": \"bottom\", \"yref\": \"paper\"}], \"bargap\": 0.2, \"bargroupgap\": 0.1, \"plot_bgcolor\": \"white\", \"template\": {\"data\": {\"bar\": [{\"error_x\": {\"color\": \"#2a3f5f\"}, \"error_y\": {\"color\": \"#2a3f5f\"}, \"marker\": {\"line\": {\"color\": \"#E5ECF6\", \"width\": 0.5}}, \"type\": \"bar\"}], \"barpolar\": [{\"marker\": {\"line\": {\"color\": \"#E5ECF6\", \"width\": 0.5}}, \"type\": \"barpolar\"}], \"carpet\": [{\"aaxis\": {\"endlinecolor\": \"#2a3f5f\", \"gridcolor\": \"white\", \"linecolor\": \"white\", \"minorgridcolor\": \"white\", \"startlinecolor\": \"#2a3f5f\"}, \"baxis\": {\"endlinecolor\": \"#2a3f5f\", \"gridcolor\": \"white\", \"linecolor\": \"white\", \"minorgridcolor\": \"white\", \"startlinecolor\": \"#2a3f5f\"}, \"type\": \"carpet\"}], \"choropleth\": [{\"colorbar\": {\"outlinewidth\": 0, \"ticks\": \"\"}, \"type\": \"choropleth\"}], \"contour\": [{\"colorbar\": {\"outlinewidth\": 0, \"ticks\": \"\"}, \"colorscale\": [[0.0, \"#0d0887\"], [0.1111111111111111, \"#46039f\"], [0.2222222222222222, \"#7201a8\"], [0.3333333333333333, \"#9c179e\"], [0.4444444444444444, \"#bd3786\"], [0.5555555555555556, \"#d8576b\"], [0.6666666666666666, \"#ed7953\"], [0.7777777777777778, \"#fb9f3a\"], [0.8888888888888888, \"#fdca26\"], [1.0, \"#f0f921\"]], \"type\": \"contour\"}], \"contourcarpet\": [{\"colorbar\": {\"outlinewidth\": 0, \"ticks\": \"\"}, \"type\": \"contourcarpet\"}], \"heatmap\": [{\"colorbar\": {\"outlinewidth\": 0, \"ticks\": \"\"}, \"colorscale\": [[0.0, \"#0d0887\"], [0.1111111111111111, \"#46039f\"], [0.2222222222222222, \"#7201a8\"], [0.3333333333333333, \"#9c179e\"], [0.4444444444444444, \"#bd3786\"], [0.5555555555555556, \"#d8576b\"], [0.6666666666666666, \"#ed7953\"], [0.7777777777777778, \"#fb9f3a\"], [0.8888888888888888, \"#fdca26\"], [1.0, \"#f0f921\"]], \"type\": \"heatmap\"}], \"heatmapgl\": [{\"colorbar\": {\"outlinewidth\": 0, \"ticks\": \"\"}, \"colorscale\": [[0.0, \"#0d0887\"], [0.1111111111111111, \"#46039f\"], [0.2222222222222222, \"#7201a8\"], [0.3333333333333333, \"#9c179e\"], [0.4444444444444444, \"#bd3786\"], [0.5555555555555556, \"#d8576b\"], [0.6666666666666666, \"#ed7953\"], [0.7777777777777778, \"#fb9f3a\"], [0.8888888888888888, \"#fdca26\"], [1.0, \"#f0f921\"]], \"type\": \"heatmapgl\"}], \"histogram\": [{\"marker\": {\"colorbar\": {\"outlinewidth\": 0, \"ticks\": \"\"}}, \"type\": \"histogram\"}], \"histogram2d\": [{\"colorbar\": {\"outlinewidth\": 0, \"ticks\": \"\"}, \"colorscale\": [[0.0, \"#0d0887\"], [0.1111111111111111, \"#46039f\"], [0.2222222222222222, \"#7201a8\"], [0.3333333333333333, \"#9c179e\"], [0.4444444444444444, \"#bd3786\"], [0.5555555555555556, \"#d8576b\"], [0.6666666666666666, \"#ed7953\"], [0.7777777777777778, \"#fb9f3a\"], [0.8888888888888888, \"#fdca26\"], [1.0, \"#f0f921\"]], \"type\": \"histogram2d\"}], \"histogram2dcontour\": [{\"colorbar\": {\"outlinewidth\": 0, \"ticks\": \"\"}, \"colorscale\": [[0.0, \"#0d0887\"], [0.1111111111111111, \"#46039f\"], [0.2222222222222222, \"#7201a8\"], [0.3333333333333333, \"#9c179e\"], [0.4444444444444444, \"#bd3786\"], [0.5555555555555556, \"#d8576b\"], [0.6666666666666666, \"#ed7953\"], [0.7777777777777778, \"#fb9f3a\"], [0.8888888888888888, \"#fdca26\"], [1.0, \"#f0f921\"]], \"type\": \"histogram2dcontour\"}], \"mesh3d\": [{\"colorbar\": {\"outlinewidth\": 0, \"ticks\": \"\"}, \"type\": \"mesh3d\"}], \"parcoords\": [{\"line\": {\"colorbar\": {\"outlinewidth\": 0, \"ticks\": \"\"}}, \"type\": \"parcoords\"}], \"pie\": [{\"automargin\": true, \"type\": \"pie\"}], \"scatter\": [{\"marker\": {\"colorbar\": {\"outlinewidth\": 0, \"ticks\": \"\"}}, \"type\": \"scatter\"}], \"scatter3d\": [{\"line\": {\"colorbar\": {\"outlinewidth\": 0, \"ticks\": \"\"}}, \"marker\": {\"colorbar\": {\"outlinewidth\": 0, \"ticks\": \"\"}}, \"type\": \"scatter3d\"}], \"scattercarpet\": [{\"marker\": {\"colorbar\": {\"outlinewidth\": 0, \"ticks\": \"\"}}, \"type\": \"scattercarpet\"}], \"scattergeo\": [{\"marker\": {\"colorbar\": {\"outlinewidth\": 0, \"ticks\": \"\"}}, \"type\": \"scattergeo\"}], \"scattergl\": [{\"marker\": {\"colorbar\": {\"outlinewidth\": 0, \"ticks\": \"\"}}, \"type\": \"scattergl\"}], \"scattermapbox\": [{\"marker\": {\"colorbar\": {\"outlinewidth\": 0, \"ticks\": \"\"}}, \"type\": \"scattermapbox\"}], \"scatterpolar\": [{\"marker\": {\"colorbar\": {\"outlinewidth\": 0, \"ticks\": \"\"}}, \"type\": \"scatterpolar\"}], \"scatterpolargl\": [{\"marker\": {\"colorbar\": {\"outlinewidth\": 0, \"ticks\": \"\"}}, \"type\": \"scatterpolargl\"}], \"scatterternary\": [{\"marker\": {\"colorbar\": {\"outlinewidth\": 0, \"ticks\": \"\"}}, \"type\": \"scatterternary\"}], \"surface\": [{\"colorbar\": {\"outlinewidth\": 0, \"ticks\": \"\"}, \"colorscale\": [[0.0, \"#0d0887\"], [0.1111111111111111, \"#46039f\"], [0.2222222222222222, \"#7201a8\"], [0.3333333333333333, \"#9c179e\"], [0.4444444444444444, \"#bd3786\"], [0.5555555555555556, \"#d8576b\"], [0.6666666666666666, \"#ed7953\"], [0.7777777777777778, \"#fb9f3a\"], [0.8888888888888888, \"#fdca26\"], [1.0, \"#f0f921\"]], \"type\": \"surface\"}], \"table\": [{\"cells\": {\"fill\": {\"color\": \"#EBF0F8\"}, \"line\": {\"color\": \"white\"}}, \"header\": {\"fill\": {\"color\": \"#C8D4E3\"}, \"line\": {\"color\": \"white\"}}, \"type\": \"table\"}]}, \"layout\": {\"annotationdefaults\": {\"arrowcolor\": \"#2a3f5f\", \"arrowhead\": 0, \"arrowwidth\": 1}, \"coloraxis\": {\"colorbar\": {\"outlinewidth\": 0, \"ticks\": \"\"}}, \"colorscale\": {\"diverging\": [[0, \"#8e0152\"], [0.1, \"#c51b7d\"], [0.2, \"#de77ae\"], [0.3, \"#f1b6da\"], [0.4, \"#fde0ef\"], [0.5, \"#f7f7f7\"], [0.6, \"#e6f5d0\"], [0.7, \"#b8e186\"], [0.8, \"#7fbc41\"], [0.9, \"#4d9221\"], [1, \"#276419\"]], \"sequential\": [[0.0, \"#0d0887\"], [0.1111111111111111, \"#46039f\"], [0.2222222222222222, \"#7201a8\"], [0.3333333333333333, \"#9c179e\"], [0.4444444444444444, \"#bd3786\"], [0.5555555555555556, \"#d8576b\"], [0.6666666666666666, \"#ed7953\"], [0.7777777777777778, \"#fb9f3a\"], [0.8888888888888888, \"#fdca26\"], [1.0, \"#f0f921\"]], \"sequentialminus\": [[0.0, \"#0d0887\"], [0.1111111111111111, \"#46039f\"], [0.2222222222222222, \"#7201a8\"], [0.3333333333333333, \"#9c179e\"], [0.4444444444444444, \"#bd3786\"], [0.5555555555555556, \"#d8576b\"], [0.6666666666666666, \"#ed7953\"], [0.7777777777777778, \"#fb9f3a\"], [0.8888888888888888, \"#fdca26\"], [1.0, \"#f0f921\"]]}, \"colorway\": [\"#636efa\", \"#EF553B\", \"#00cc96\", \"#ab63fa\", \"#FFA15A\", \"#19d3f3\", \"#FF6692\", \"#B6E880\", \"#FF97FF\", \"#FECB52\"], \"font\": {\"color\": \"#2a3f5f\"}, \"geo\": {\"bgcolor\": \"white\", \"lakecolor\": \"white\", \"landcolor\": \"#E5ECF6\", \"showlakes\": true, \"showland\": true, \"subunitcolor\": \"white\"}, \"hoverlabel\": {\"align\": \"left\"}, \"hovermode\": \"closest\", \"mapbox\": {\"style\": \"light\"}, \"paper_bgcolor\": \"white\", \"plot_bgcolor\": \"#E5ECF6\", \"polar\": {\"angularaxis\": {\"gridcolor\": \"white\", \"linecolor\": \"white\", \"ticks\": \"\"}, \"bgcolor\": \"#E5ECF6\", \"radialaxis\": {\"gridcolor\": \"white\", \"linecolor\": \"white\", \"ticks\": \"\"}}, \"scene\": {\"xaxis\": {\"backgroundcolor\": \"#E5ECF6\", \"gridcolor\": \"white\", \"gridwidth\": 2, \"linecolor\": \"white\", \"showbackground\": true, \"ticks\": \"\", \"zerolinecolor\": \"white\"}, \"yaxis\": {\"backgroundcolor\": \"#E5ECF6\", \"gridcolor\": \"white\", \"gridwidth\": 2, \"linecolor\": \"white\", \"showbackground\": true, \"ticks\": \"\", \"zerolinecolor\": \"white\"}, \"zaxis\": {\"backgroundcolor\": \"#E5ECF6\", \"gridcolor\": \"white\", \"gridwidth\": 2, \"linecolor\": \"white\", \"showbackground\": true, \"ticks\": \"\", \"zerolinecolor\": \"white\"}}, \"shapedefaults\": {\"line\": {\"color\": \"#2a3f5f\"}}, \"ternary\": {\"aaxis\": {\"gridcolor\": \"white\", \"linecolor\": \"white\", \"ticks\": \"\"}, \"baxis\": {\"gridcolor\": \"white\", \"linecolor\": \"white\", \"ticks\": \"\"}, \"bgcolor\": \"#E5ECF6\", \"caxis\": {\"gridcolor\": \"white\", \"linecolor\": \"white\", \"ticks\": \"\"}}, \"title\": {\"x\": 0.05}, \"xaxis\": {\"automargin\": true, \"gridcolor\": \"white\", \"linecolor\": \"white\", \"ticks\": \"\", \"title\": {\"standoff\": 15}, \"zerolinecolor\": \"white\", \"zerolinewidth\": 2}, \"yaxis\": {\"automargin\": true, \"gridcolor\": \"white\", \"linecolor\": \"white\", \"ticks\": \"\", \"title\": {\"standoff\": 15}, \"zerolinecolor\": \"white\", \"zerolinewidth\": 2}}}, \"yaxis\": {\"nticks\": 20, \"title\": {\"text\": \"Age\"}}},                        {\"responsive\": true}                    ).then(function(){\n",
       "                            \n",
       "var gd = document.getElementById('10b34cb8-56aa-4529-8442-eb20fc6f9938');\n",
       "var x = new MutationObserver(function (mutations, observer) {{\n",
       "        var display = window.getComputedStyle(gd).display;\n",
       "        if (!display || display === 'none') {{\n",
       "            console.log([gd, 'removed!']);\n",
       "            Plotly.purge(gd);\n",
       "            observer.disconnect();\n",
       "        }}\n",
       "}});\n",
       "\n",
       "// Listen for the removal of the full notebook cells\n",
       "var notebookContainer = gd.closest('#notebook-container');\n",
       "if (notebookContainer) {{\n",
       "    x.observe(notebookContainer, {childList: true});\n",
       "}}\n",
       "\n",
       "// Listen for the clearing of the current output cell\n",
       "var outputEl = gd.closest('.output');\n",
       "if (outputEl) {{\n",
       "    x.observe(outputEl, {childList: true});\n",
       "}}\n",
       "\n",
       "                        })                };                });            </script>        </div>"
      ]
     },
     "metadata": {},
     "output_type": "display_data"
    }
   ],
   "source": [
    "@widgets.interact(\n",
    "    data = widgets.ToggleButtons(\n",
    "        options=['gender', 'age', 'gender/age'],\n",
    "        value='gender',\n",
    "        description='data:',\n",
    "        disabled=False,\n",
    "        tooltips=['See Gender Distribution', 'See Age Distribution', 'See Age/Distribution'],\n",
    "    )\n",
    ")\n",
    "\n",
    "def chart(data):\n",
    "    annotations = []\n",
    "    \n",
    "    fig = go.Figure()\n",
    "    if data == 'gender/age':\n",
    "        bg= True\n",
    "        fig.add_trace(go.Histogram(\n",
    "            x=demog[demog['gender'] == 'male']['age'],\n",
    "            histnorm='percent',\n",
    "            name='male',\n",
    "            marker_color='#37ced2',\n",
    "            opacity=0.75,\n",
    "        ))\n",
    "        \n",
    "        fig.add_trace(go.Histogram(\n",
    "            x=demog[demog['gender'] == 'female']['age'],\n",
    "            histnorm='percent',\n",
    "            name='female',\n",
    "            marker_color='#e3ff00',\n",
    "            opacity=0.75\n",
    "        ))\n",
    "    else:\n",
    "        fig.add_trace(go.Histogram(\n",
    "            x=demog[data],\n",
    "            histnorm='percent',\n",
    "            name='control',\n",
    "            marker_color='#3dc546',\n",
    "            opacity=0.75\n",
    "        ))\n",
    "    \n",
    "    #Source Part\n",
    "    annotations.append(\n",
    "        dict(\n",
    "            xref='paper', \n",
    "            yref='paper', \n",
    "            x=0.5, \n",
    "            y=-0.16,\n",
    "            xanchor='center', \n",
    "            yanchor='top',\n",
    "            text='Source: Kaggle Coronavirus (COVID-19) Visualization & Prediction',\n",
    "            font=dict(\n",
    "                family='Arial',\n",
    "                size=12,\n",
    "                color='rgb(150,150,150)'\n",
    "            ),\n",
    "            showarrow=False\n",
    "        )\n",
    "    )\n",
    "    \n",
    "    # Title Part\n",
    "    annotations.append(\n",
    "        dict(\n",
    "            xref='paper', \n",
    "            yref='paper', \n",
    "            x=0.0, \n",
    "            y=1.05,\n",
    "            xanchor='left', \n",
    "            yanchor='bottom',\n",
    "            text=f'Distribution of population on {data}',\n",
    "            font=dict(\n",
    "                family='Arial',\n",
    "                size=30,\n",
    "                color='rgb(37,37,37)'\n",
    "             ),\n",
    "             showarrow=False\n",
    "        )\n",
    "    )\n",
    "    \n",
    "    if data == 'age' or data == 'gender/age':\n",
    "        # right_side of the plot\n",
    "        annotations.append(\n",
    "            dict(\n",
    "                xref='paper', \n",
    "                x=1, \n",
    "    #             y=0.5,\n",
    "                xanchor='left', \n",
    "                yanchor='middle',\n",
    "                text=f'mean {int(np.mean(demog[\"age\"]))}',\n",
    "                font=dict(\n",
    "                    family='Arial',\n",
    "                    size=16\n",
    "                ),\n",
    "              showarrow=False\n",
    "            )\n",
    "        )\n",
    "\n",
    "    fig.update_layout(\n",
    "        bargap=0.2,\n",
    "        bargroupgap=0.1,\n",
    "        xaxis=dict(\n",
    "            title= data,\n",
    "            showticklabels=True,\n",
    "        ),\n",
    "        yaxis=dict(\n",
    "            title= 'Percentage',\n",
    "            nticks=20,\n",
    "        ),\n",
    "        annotations = annotations\n",
    "    )\n",
    "    fig.show()\n",
    "\n",
    "fig = go.Figure()\n",
    "fig.add_trace(\n",
    "    go.Box(\n",
    "        y=demog[demog['gender'] == 'female']['age'], \n",
    "        name='Female',\n",
    "        marker_color = 'indianred', \n",
    "        boxmean='sd',\n",
    "    )\n",
    ")\n",
    "fig.add_trace(\n",
    "    go.Box(\n",
    "        y=demog[demog['gender'] == 'male']['age'], \n",
    "        name='Male',\n",
    "        marker_color = 'lightseagreen', \n",
    "        boxmean='sd'\n",
    "    )\n",
    ")\n",
    "annotations = []\n",
    "#Source Part\n",
    "annotations.append(\n",
    "    dict(\n",
    "        xref='paper', \n",
    "        yref='paper', \n",
    "        x=0.5, \n",
    "        y=-0.16,\n",
    "        xanchor='center', \n",
    "        yanchor='top',\n",
    "        text='Source: Kaggle Coronavirus (COVID-19) Visualization & Prediction',\n",
    "        font=dict(\n",
    "            family='Arial',\n",
    "            size=12,\n",
    "            color='rgb(150,150,150)'\n",
    "        ),\n",
    "        showarrow=False\n",
    "    )\n",
    ")\n",
    "\n",
    "# Title Part\n",
    "annotations.append(\n",
    "    dict(\n",
    "        xref='paper', \n",
    "        yref='paper', \n",
    "        x=0.0, \n",
    "        y=1.05,\n",
    "        xanchor='left', \n",
    "        yanchor='bottom',\n",
    "        text=f'Distribution of population on gender/age',\n",
    "        font=dict(family='Arial',\n",
    "            size=30,\n",
    "            color='rgb(37,37,37)'\n",
    "         ),\n",
    "         showarrow=False\n",
    "    )\n",
    ")\n",
    "\n",
    "fig.update_layout(\n",
    "    bargap=0.2,\n",
    "    bargroupgap=0.1,\n",
    "    yaxis=dict(\n",
    "        title= 'Age',\n",
    "        nticks=20,\n",
    "    ),\n",
    "    plot_bgcolor='white',\n",
    "    annotations = annotations\n",
    ")\n",
    "fig.show()"
   ]
  },
  {
   "cell_type": "markdown",
   "metadata": {
    "Collapsed": "false"
   },
   "source": [
    "By using the buttons you can toggle between gender and age distributions. By hovering on the box plots you can see different distribution statistics. \n",
    "\n",
    "From these plots we can assume the following:\n",
    "\n",
    "- There is a predominance of COVID in male individuals.\n",
    "- We can observe a negative skewness on the age distribution.\n",
    "- \"Young\" people are also concerned.\n",
    "- Age distribution doesn't change much according to sex.\n",
    "- Children and teenagers are the lowest risk population.\n",
    "\n",
    "--------"
   ]
  },
  {
   "cell_type": "markdown",
   "metadata": {
    "Collapsed": "false"
   },
   "source": [
    "## Evolution of COVID-19\n",
    "\n",
    "With the next series of plots, we will see the chronological evolution of the virus and its impact on the different countries.\n",
    "\n",
    "The data used for these plots are the total number of Coronavirus cases, Recoveries and deaths per country per day."
   ]
  },
  {
   "cell_type": "code",
   "execution_count": 4,
   "metadata": {
    "Collapsed": "false"
   },
   "outputs": [],
   "source": [
    "time = pd.read_csv('data/covid_19_data.csv')\n",
    "time = time.groupby(['Country/Region', 'ObservationDate']).agg('sum')\n",
    "time = time.reset_index()\n",
    "time.drop('SNo', axis=1, inplace=True)\n",
    "time.rename(columns={'ObservationDate': 'Date Long'}, inplace=True)\n",
    "time['Date'] = time['Date Long'].replace(regex=True,to_replace=r'(\\/\\d{2})\\w+',value=r'')\n",
    "time = time.sort_values(by=['Date Long'])"
   ]
  },
  {
   "cell_type": "code",
   "execution_count": 5,
   "metadata": {
    "Collapsed": "false"
   },
   "outputs": [
    {
     "data": {
      "application/vnd.jupyter.widget-view+json": {
       "model_id": "d6545a6a9e904f87a79d43516f0b19b0",
       "version_major": 2,
       "version_minor": 0
      },
      "text/plain": [
       "interactive(children=(Dropdown(description='Data:', options=('Confirmed', 'Deaths', 'Recovered'), value='Confi…"
      ]
     },
     "metadata": {},
     "output_type": "display_data"
    }
   ],
   "source": [
    "countries_list = list(time['Country/Region'].unique())\n",
    "countries_list.sort()\n",
    "@widgets.interact(\n",
    "    num_dates = (1, time['Date'].nunique()),\n",
    "    countries = widgets.SelectMultiple(\n",
    "        options=countries_list,\n",
    "        value=['Netherlands', 'US', 'France', 'Spain', 'Mainland China', 'Italy', 'Germany'],\n",
    "        description='Countries',\n",
    "        disabled=False\n",
    "    ),\n",
    "    data = widgets.Dropdown(\n",
    "        options=['Confirmed', 'Deaths', 'Recovered'],\n",
    "        value='Confirmed',\n",
    "        description='Data:',\n",
    "        disabled=False,\n",
    "    ),\n",
    "    from_date = widgets.DatePicker(\n",
    "        description='From',\n",
    "        disabled=False\n",
    "    ),\n",
    "    to_date = widgets.DatePicker(\n",
    "        description='To',\n",
    "        disabled=False\n",
    "    ),\n",
    ")\n",
    "\n",
    "def chart(data, countries, from_date, to_date, num_dates):\n",
    "    df = time\n",
    "    if len(list(countries)) > 0:\n",
    "        df = df[df['Country/Region'].isin(countries)]\n",
    "\n",
    "    if from_date is not None and from_date.strftime('%m/%d/%Y') < df['Date Long'].max():\n",
    "        df = df[df['Date Long'] >= from_date.strftime('%m/%d/%Y')]\n",
    "\n",
    "    if to_date is not None and to_date.strftime('%m/%d/%Y') > df['Date Long'].min():\n",
    "        df = df[df['Date Long'] <= to_date.strftime('%m/%d/%Y')]\n",
    "\n",
    "    fig = px.line(\n",
    "        df, \n",
    "        x=\"Date\",\n",
    "        y=data,\n",
    "        color=\"Country/Region\",\n",
    "    )\n",
    "    \n",
    "    annotations = []\n",
    "    #Source Part\n",
    "    annotations.append(\n",
    "        dict(\n",
    "            xref='paper', \n",
    "            yref='paper', \n",
    "            x=0.5, \n",
    "            y=-0.16,\n",
    "            xanchor='center', \n",
    "            yanchor='top',\n",
    "            text='Source: Kaggle Coronavirus (COVID-19) Visualization & Prediction',\n",
    "            font=dict(\n",
    "                family='Arial',\n",
    "                size=12,\n",
    "                color='rgb(150,150,150)'\n",
    "            ),\n",
    "            showarrow=False\n",
    "        )\n",
    "    )\n",
    "    \n",
    "    # Title Part\n",
    "    annotations.append(\n",
    "        dict(\n",
    "            xref='paper', \n",
    "            yref='paper', \n",
    "            x=0.0, \n",
    "            y=1.05,\n",
    "            xanchor='left', \n",
    "            yanchor='bottom',\n",
    "            text=f'Evolution of cases ({data}) per country',\n",
    "            font=dict(family='Arial',\n",
    "                size=30,\n",
    "                color='rgb(37,37,37)'\n",
    "             ),\n",
    "             showarrow=False\n",
    "        )\n",
    "    )\n",
    "    \n",
    "    fig.update_layout(\n",
    "        xaxis=dict(\n",
    "            nticks=num_dates,\n",
    "            showticklabels=True,\n",
    "            tickangle=45,\n",
    "        ),\n",
    "        yaxis=dict(\n",
    "            nticks=20,\n",
    "        ),\n",
    "        plot_bgcolor='white',\n",
    "        annotations = annotations\n",
    "    )\n",
    "    fig.show()"
   ]
  },
  {
   "cell_type": "markdown",
   "metadata": {
    "Collapsed": "false"
   },
   "source": [
    "By using the Data select you can choose between confirmed cases, deaths and recoveries. The country field is a multi-select, by using command/ctrl + click you can select multiple countries, and by clicking the name on the legend you can toggle them on/off. From and To date fields allow you to look for an specific range of dates, and num_dates allows you to choose how many dates to see on the plot at once.\n",
    "\n",
    "Insights:\n",
    "\n",
    "- The China curve stabilized 1 month after the records from this database.\n",
    "- The US speed of spread is alarmingly high (more than twice than China, for a country with 1/3 of the population).\n",
    "- Other countries that are heavily affected (Spain, France, Italy) have also high curves, but not as high.\n",
    "- In comparaison to other countries, the Netherlands might seem as a not high value, but we need to take into consideration that Netherlands is a much smaller country, with a smaller population count. But the population density is higher, so the risk of contagion is more present.\n",
    "- The confirmed case curve and death curve is highly similar.\n",
    "- China is leading in recovered cases.\n",
    "-------"
   ]
  },
  {
   "cell_type": "markdown",
   "metadata": {
    "Collapsed": "false"
   },
   "source": [
    "## Bending the curve\n",
    "\n",
    "Are there any countries that have been able to revert the curve? \n",
    "\n",
    "To verify this we created 2 plots with datasets that are linked to our previous one, but show us different information.\n",
    "\n",
    "There is one dataset that provides us with information of the daily new confirmed cases per country (and also world), and the second one provides us with information of the daily new deaths."
   ]
  },
  {
   "cell_type": "code",
   "execution_count": 6,
   "metadata": {
    "Collapsed": "false"
   },
   "outputs": [],
   "source": [
    "deaths = pd.read_csv('data/covid-confirmed-daily-deaths.csv')\n",
    "deaths['Date'] = deaths['Date'].apply(lambda x: datetime.datetime.strptime(x, '%b %d, %Y').strftime('%m/%d/%Y'))\n",
    "deaths = deaths[deaths['Date'] != '12/31/2019']\n",
    "deaths.rename(columns={'Date': 'Date Long', 'Daily confirmed deaths': 'Daily Confirmed Deaths', 'Entity': 'Country'}, inplace=True)\n",
    "deaths['Date'] = deaths['Date Long'].replace(regex=True,to_replace=r'(\\/\\d{2})\\w+',value=r'')\n",
    "deaths = deaths.sort_values(by=['Date Long'])\n",
    "\n",
    "cases = pd.read_csv('data/covid-confirmed-daily-cases.csv')\n",
    "cases['Date'] = cases['Date'].apply(lambda x: datetime.datetime.strptime(x, '%b %d, %Y').strftime('%m/%d/%Y'))\n",
    "cases = cases[cases['Date'] != '12/31/2019']\n",
    "cases.rename(columns={'Date': 'Date Long', 'Daily confirmed cases': 'Daily Confirmed Cases', 'Entity': 'Country'}, inplace=True)\n",
    "cases['Date'] = cases['Date Long'].replace(regex=True,to_replace=r'(\\/\\d{2})\\w+',value=r'')\n",
    "cases = cases.sort_values(by=['Date Long'])"
   ]
  },
  {
   "cell_type": "code",
   "execution_count": 7,
   "metadata": {
    "Collapsed": "false"
   },
   "outputs": [
    {
     "data": {
      "application/vnd.jupyter.widget-view+json": {
       "model_id": "115627dd1c9c48028bc5d0d2be2b3602",
       "version_major": 2,
       "version_minor": 0
      },
      "text/plain": [
       "interactive(children=(Dropdown(description='Data:', options=('Daily Confirmed Cases', 'Daily Confirmed Deaths'…"
      ]
     },
     "metadata": {},
     "output_type": "display_data"
    }
   ],
   "source": [
    "countries_list = list(deaths['Country'].unique())\n",
    "countries_list.sort()\n",
    "@widgets.interact(\n",
    "    num_dates = (1, deaths['Date'].nunique()),\n",
    "    countries = widgets.SelectMultiple(\n",
    "        options=countries_list,\n",
    "        value=['Netherlands', 'France', 'Spain', 'China', 'United States', 'Germany'],\n",
    "        description='Countries',\n",
    "        disabled=False\n",
    "    ),\n",
    "    data = widgets.Dropdown(\n",
    "        options=['Daily Confirmed Cases', 'Daily Confirmed Deaths'],\n",
    "        value='Daily Confirmed Cases',\n",
    "        description='Data:',\n",
    "        disabled=False,\n",
    "    ),\n",
    "    from_date = widgets.DatePicker(\n",
    "        description='From',\n",
    "        disabled=False\n",
    "    ),\n",
    "    to_date = widgets.DatePicker(\n",
    "        description='To',\n",
    "        disabled=False\n",
    "    ),\n",
    ")\n",
    "def chart(data, countries, from_date, to_date, num_dates):\n",
    "    if data == 'Daily Confirmed Cases':\n",
    "        df = cases\n",
    "    if data == 'Daily Confirmed Deaths':\n",
    "        df = deaths\n",
    "\n",
    "    if len(list(countries)) > 0:\n",
    "        df = df[df['Country'].isin(countries)]\n",
    "        \n",
    "    if from_date is not None and from_date.strftime('%m/%d/%Y') < df['Date Long'].max():\n",
    "        df = df[df['Date Long'] >= from_date.strftime('%m/%d/%Y')]\n",
    "\n",
    "    if to_date is not None and to_date.strftime('%m/%d/%Y') > df['Date Long'].min():\n",
    "        df = df[df['Date Long'] <= to_date.strftime('%m/%d/%Y')]\n",
    "\n",
    "    fig = px.line(\n",
    "        df, \n",
    "        x=\"Date\",\n",
    "        y=data,\n",
    "        color=\"Country\",\n",
    "    )\n",
    "    \n",
    "    annotations = []\n",
    "    #Source Part\n",
    "    annotations.append(\n",
    "        dict(\n",
    "            xref='paper', \n",
    "            yref='paper', \n",
    "            x=0.5, \n",
    "            y=-0.16,\n",
    "            xanchor='center', \n",
    "            yanchor='top',\n",
    "            text='Source: https://ourworldindata.org/',\n",
    "            font=dict(\n",
    "                family='Arial',\n",
    "                size=12,\n",
    "                color='rgb(150,150,150)'\n",
    "            ),\n",
    "            showarrow=False\n",
    "        )\n",
    "    )\n",
    "    \n",
    "    # Title Part\n",
    "    annotations.append(\n",
    "        dict(\n",
    "            xref='paper', \n",
    "            yref='paper', \n",
    "            x=0.0, \n",
    "            y=1.05,\n",
    "            xanchor='left', \n",
    "            yanchor='bottom',\n",
    "            text=f'{data} per country',\n",
    "            font=dict(family='Arial',\n",
    "                size=30,\n",
    "                color='rgb(37,37,37)'\n",
    "             ),\n",
    "             showarrow=False\n",
    "        )\n",
    "    )\n",
    "    \n",
    "    fig.update_layout(\n",
    "        xaxis=dict(\n",
    "            nticks=num_dates,\n",
    "            showticklabels=True,\n",
    "            tickangle=45,\n",
    "        ),\n",
    "        yaxis=dict(\n",
    "            nticks=20,\n",
    "        ),\n",
    "        plot_bgcolor='white',\n",
    "        annotations = annotations\n",
    "    )\n",
    "    fig.show()"
   ]
  },
  {
   "cell_type": "markdown",
   "metadata": {
    "Collapsed": "false"
   },
   "source": [
    "Insights:\n",
    "\n",
    "- As in the previous plots, the distribution between the confirmed daily cases and confirmed deaths is relatively similar.\n",
    "- So far, only 1 country has been able to bend the curve succesfully: China.\n",
    "- According to this data, France might be on the right path to bend the curve also, going from the highest peak of 7578 new cases in April 1st, to 2116 on April 4th, being the lowest number since March 23th.\n",
    "- Daily cases in the Netherlands have been consistenly growing.\n",
    "\n",
    "----"
   ]
  },
  {
   "cell_type": "markdown",
   "metadata": {
    "Collapsed": "false"
   },
   "source": [
    "## Higher risk countries.\n",
    "\n",
    "To define which are the High risk countries, we used some insight gained from our previous plots (on which we see that the most concerned population is older people), and country data on percentage of population 70 years old or over and the quantity of physicians per 1000 citizens.\n",
    "\n",
    "Assuming that countries with higher rate of population >= 70 years old  will have a higher need of physicians and medical facilities to handle complications related to Coronavirus, we consider higher risk those countries who present a higher than average percentage of elderly people and lower than average quantity of physicians per 1000 citizens.\n",
    "\n",
    "---"
   ]
  },
  {
   "cell_type": "code",
   "execution_count": 8,
   "metadata": {
    "Collapsed": "false"
   },
   "outputs": [],
   "source": [
    "doctors = pd.read_csv('data/physicians-per-1000-people.csv')\n",
    "doctors.rename(columns={'Physicians (per 1,000 people) (per 1,000 people)': 'data', 'Entity': 'Country'}, inplace=True)\n",
    "doctors = doctors.groupby('Country').agg('max')\n",
    "doctors = doctors.reset_index()\n",
    "\n",
    "age = pd.read_csv('data/age.csv')\n",
    "age.rename(columns={'Share who is 70 or over (%)': 'data', 'Entity': 'Country'}, inplace=True)\n",
    "age = age.groupby('Country').agg('max')\n",
    "age = age.reset_index()\n",
    "\n",
    "merged_df = pd.merge(age, doctors, on='Country')\n",
    "merged_df.drop(columns=['Code_y', 'Year_y'] ,axis=1 ,inplace=True)\n",
    "merged_df.rename(columns={'Code_x': 'Code', 'Year_x': 'Year', 'data_x': 'age', 'data_y': 'doctors'} ,inplace=True)"
   ]
  },
  {
   "cell_type": "code",
   "execution_count": 9,
   "metadata": {
    "Collapsed": "false"
   },
   "outputs": [
    {
     "data": {
      "application/vnd.jupyter.widget-view+json": {
       "model_id": "48261b7a519540368d74b09679993747",
       "version_major": 2,
       "version_minor": 0
      },
      "text/plain": [
       "interactive(children=(Dropdown(description='Options:', index=2, options=('High Risk Countries(Age/Doctors Rati…"
      ]
     },
     "metadata": {},
     "output_type": "display_data"
    }
   ],
   "source": [
    "countries_list = list(doctors['Country'].unique())\n",
    "countries_list.sort()\n",
    "@widgets.interact(\n",
    "    countries = widgets.SelectMultiple(\n",
    "        options=countries_list,\n",
    "\n",
    "        description='Countries',\n",
    "        disabled=False\n",
    "    ),\n",
    "    data = widgets.Dropdown(\n",
    "        options=['High Risk Countries(Age/Doctors Ratio)', 'Low Risk Countries(Age/Doctors Ratio)', \"Overall\"],\n",
    "        value = \"Overall\",\n",
    "        description='Options:',\n",
    "        disabled=False,\n",
    "    )\n",
    ")\n",
    "\n",
    "def chart(data, countries):\n",
    "    df = merged_df\n",
    "    \n",
    "    if data == 'High Risk Countries(Age/Doctors Ratio)':\n",
    "        df = df[(df['age'] > 9) & (df['doctors'] < 4)]\n",
    "    \n",
    "    if data == 'Low Risk Countries(Age/Doctors Ratio)':\n",
    "        df = df[(df['age'] <= 9) & (df['doctors'] >= 4)]\n",
    "\n",
    "    if len(list(countries)) > 0 and data == 'Overall':\n",
    "        df = df[df['Country'].isin(countries)]\n",
    "    fig = px.scatter(df, \n",
    "                     x=\"age\", \n",
    "                     y=\"doctors\", \n",
    "                     color=\"Country\",\n",
    "                     hover_data={\n",
    "                         'Country' : False,\n",
    "                         'age' : ':.2f',\n",
    "                         'doctors' : ':.2f',\n",
    "                     },\n",
    "                     hover_name=\"Country\")\n",
    "    \n",
    "    annotations = []\n",
    "    #Source Part\n",
    "    annotations.append(\n",
    "        dict(\n",
    "            xref='paper', \n",
    "            yref='paper', \n",
    "            x=0.5, \n",
    "            y=-0.16,\n",
    "            xanchor='center', \n",
    "            yanchor='top',\n",
    "            text='Source: https://ourworldindata.org/',\n",
    "            font=dict(\n",
    "                family='Arial',\n",
    "                size=12,\n",
    "                color='rgb(150,150,150)'\n",
    "            ),\n",
    "            showarrow=False\n",
    "        )\n",
    "    )\n",
    "    \n",
    "    # Title Part\n",
    "    annotations.append(\n",
    "        dict(\n",
    "            xref='paper', \n",
    "            yref='paper', \n",
    "            x=0.0, \n",
    "            y=1.05,\n",
    "            xanchor='left', \n",
    "            yanchor='bottom',\n",
    "            text=f'Countries risk according population age/doctors per 1000',\n",
    "            font=dict(family='Arial',\n",
    "                size=30,\n",
    "                color='rgb(37,37,37)'\n",
    "             ),\n",
    "             showarrow=False\n",
    "        )\n",
    "    )\n",
    "    \n",
    "    fig.update_layout(\n",
    "        xaxis=dict(\n",
    "            showticklabels=True,\n",
    "            tickangle=45,\n",
    "            title='percentage of people > 70'\n",
    "        ),\n",
    "        yaxis=dict(\n",
    "            nticks=20,\n",
    "        ),\n",
    "        plot_bgcolor='white',\n",
    "        annotations = annotations\n",
    "    )\n",
    "    fig.show()\n"
   ]
  },
  {
   "cell_type": "markdown",
   "metadata": {
    "Collapsed": "false"
   },
   "source": [
    "We consider high risk country the ones that have a percentage of elderly people ( >= 70 years old) over 9 and number of physicians per 1000 residents < 4. Low risk countries are those whose percentage of elderly people is equal or under 9 and number of physicians per 1000 is over 4.\n",
    "Insights:\n",
    "\n",
    "- Japan, Italy and Germany are amongst the countries with the oldest population. Germany and Italy are amongst the countries most affected by coronavirus.\n",
    "- Cuba and Greece are the countries with the highest quantity of physicians per 1000 citizens.\n",
    "- There are multiple high risk countries, and amongst these some countries that are in the list of most affected countries (like Netherlands, France, US).\n",
    "- In low risk countries we have only 2, Israel and Turkmenistan.\n",
    "\n",
    "---"
   ]
  },
  {
   "cell_type": "markdown",
   "metadata": {
    "Collapsed": "false"
   },
   "source": [
    "## Conclusions\n",
    "\n",
    "- Contrary to popular belief, younger adults are also affected by the coronavirus. Infection rate is lower, but still highly significant.\n",
    "- So far, China has been the only country who has experienced a contamination crisis and has managed to revert it.\n",
    "- The worst part is yet to come, if the data follows the same trend then the next days/week will be the worst part of the crisis.\n",
    "- Social distancing is the only tool we have at the moment to face this crisis and manage to bend the curve like China.\n",
    "\n",
    "## Improvements\n",
    "\n",
    "- Get some more data on demographics.\n",
    "- Get more detailed data on demographics and contagion/deaths/recoveries.\n",
    "- Use logarithmic scale plots to show the growth tendencies.\n",
    "- Be able to link this data with comorbidity.\n",
    "- Build Interactive maps plots to have a detailed information per country and a more visually intuitive interface."
   ]
  }
 ],
 "metadata": {
  "hide_input": false,
  "kernelspec": {
   "display_name": "Python 3",
   "language": "python",
   "name": "python3"
  },
  "language_info": {
   "codemirror_mode": {
    "name": "ipython",
    "version": 3
   },
   "file_extension": ".py",
   "mimetype": "text/x-python",
   "name": "python",
   "nbconvert_exporter": "python",
   "pygments_lexer": "ipython3",
   "version": "3.7.2"
  },
  "latex_envs": {
   "LaTeX_envs_menu_present": true,
   "autoclose": false,
   "autocomplete": true,
   "bibliofile": "biblio.bib",
   "cite_by": "apalike",
   "current_citInitial": 1,
   "eqLabelWithNumbers": true,
   "eqNumInitial": 1,
   "hotkeys": {
    "equation": "Ctrl-E",
    "itemize": "Ctrl-I"
   },
   "labels_anchors": false,
   "latex_user_defs": false,
   "report_style_numbering": false,
   "user_envs_cfg": false
  },
  "toc": {
   "base_numbering": 1,
   "nav_menu": {},
   "number_sections": true,
   "sideBar": true,
   "skip_h1_title": false,
   "title_cell": "Table of Contents",
   "title_sidebar": "Contents",
   "toc_cell": false,
   "toc_position": {},
   "toc_section_display": true,
   "toc_window_display": false
  }
 },
 "nbformat": 4,
 "nbformat_minor": 4
}
