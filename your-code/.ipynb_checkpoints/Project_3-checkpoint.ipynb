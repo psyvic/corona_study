{
 "cells": [
  {
   "cell_type": "code",
   "execution_count": 3,
   "metadata": {
    "Collapsed": "false"
   },
   "outputs": [
    {
     "ename": "SyntaxError",
     "evalue": "invalid syntax (<ipython-input-3-2e7e89a2ebf4>, line 21)",
     "output_type": "error",
     "traceback": [
      "\u001b[0;36m  File \u001b[0;32m\"<ipython-input-3-2e7e89a2ebf4>\"\u001b[0;36m, line \u001b[0;32m21\u001b[0m\n\u001b[0;31m    pip list\u001b[0m\n\u001b[0m           ^\u001b[0m\n\u001b[0;31mSyntaxError\u001b[0m\u001b[0;31m:\u001b[0m invalid syntax\n"
     ]
    }
   ],
   "source": [
    "# Libraries\n",
    "import pandas as pd\n",
    "import numpy as np\n",
    "from time import strptime\n",
    "import datetime\n",
    "import re\n",
    "\n",
    "import matplotlib.pyplot as plt\n",
    "import seaborn as sns\n",
    "\n",
    "import chart_studio.plotly as py\n",
    "import cufflinks as cf\n",
    "%matplotlib inline\n",
    "import ipywidgets as widgets\n",
    "from plotly import tools\n",
    "import plotly.graph_objs as go\n",
    "import plotly.express as px\n",
    "import warnings\n",
    "\n",
    "cf.go_offline()"
   ]
  },
  {
   "cell_type": "markdown",
   "metadata": {
    "Collapsed": "false"
   },
   "source": [
    "# Project 3: Coronavirus: Demographical and Epidemiological Visualisation\n",
    "-------\n",
    "\n"
   ]
  },
  {
   "cell_type": "markdown",
   "metadata": {
    "Collapsed": "false"
   },
   "source": [
    "## Introduction\n",
    "\n",
    "Coronavirus is a reality that has been affecting the way people live around the globe. There is lots of useful information out there, but also a lot fake, inaccurate data and misconceptions due to personal beliefs/bias, etc.\n",
    "\n",
    "Hopefully this visual guide will help tackle some of this issues and check with facts the spread of the virus and whether or we can do something to help.\n",
    "\n",
    "Initially this project aimed to do a deeper analysis on demographics and comorbidity, but this data was impossible to find. One reason why this kind of data is scarse might be due to the ongoing crisis and lack of resources, which doesn't allow the authorities to recover the necessary information.\n",
    "\n",
    "There are some numbers and theories regarding comorbidity, but it's all in scientific researches and papers, and the data used for them is not accesible.\n",
    "\n",
    "------------\n",
    "\n",
    "## Dataset\n",
    "\n",
    "Multiple datasets where used for this project(5). The source of the data is mostly from Kaggle and Our World in Data. The data had some irrelevant or empty values that needed to be removed, and some other values had to be modified in order to work with them.\n",
    "\n",
    "The data can be downloaded from the following link: https://drive.google.com/drive/u/1/folders/1XWpKmPrmCkuOfCmukV_3tNkPz2VTb68u\n",
    "\n",
    "----------------"
   ]
  },
  {
   "cell_type": "markdown",
   "metadata": {
    "Collapsed": "false"
   },
   "source": [
    "## Demographics\n",
    "\n",
    "Let's start with some basic distribution visualisation on age and gender and see if there are important facts to summarize."
   ]
  },
  {
   "cell_type": "code",
   "execution_count": 4,
   "metadata": {
    "Collapsed": "false"
   },
   "outputs": [],
   "source": [
    "demog = pd.read_csv('data/COVID19_line_list_data (1).csv')\n",
    "#Paolo: be careful with filenames, file names should not have spaces, same for similar cases below.  \n",
    "# I modified the name removing spaces. Also a local data folder (as per project instructions) was not directly provided\n",
    "drop_cols = [\n",
    "    'id', 'case_in_country', 'reporting date', 'Unnamed: 3', 'summary', 'location', 'country', 'symptom_onset', \n",
    "    'recovered', 'symptom', 'source', 'link', 'If_onset_approximated', 'hosp_visit_date', 'exposure_start',\n",
    "    'visiting Wuhan', 'from Wuhan', 'death', 'exposure_end', 'Unnamed: 21', 'Unnamed: 22', 'Unnamed: 23', \n",
    "    'Unnamed: 24', 'Unnamed: 25', 'Unnamed: 26',\n",
    "]\n",
    "demog.drop(drop_cols, axis=1, inplace=True)"
   ]
  },
  {
   "cell_type": "code",
   "execution_count": 5,
   "metadata": {
    "Collapsed": "false"
   },
   "outputs": [
    {
     "data": {
      "application/vnd.plotly.v1+json": {
       "config": {
        "plotlyServerURL": "https://plot.ly"
       },
       "data": [
        {
         "histnorm": "percent",
         "marker": {
          "color": "#3dc546"
         },
         "name": "control",
         "opacity": 0.75,
         "type": "histogram",
         "x": [
          "male",
          "female",
          "male",
          "female",
          "male",
          "female",
          "male",
          "male",
          "male",
          "male",
          "female",
          "female",
          "male",
          "male",
          "male",
          "male",
          "male",
          "female",
          "male",
          "male",
          "male",
          "male",
          "male",
          "female",
          "male",
          "male",
          "male",
          "female",
          "male",
          "female",
          "male",
          "male",
          "male",
          "male",
          "male",
          "male",
          "male",
          "female",
          "female",
          "male",
          "male",
          "male",
          "female",
          "male",
          "male",
          "male",
          "male",
          "female",
          "male",
          "male",
          "male",
          "male",
          "male",
          "male",
          "female",
          "male",
          "male",
          "male",
          "female",
          "male",
          "female",
          "male",
          "male",
          "female",
          "male",
          "female",
          "male",
          "male",
          "female",
          "male",
          "female",
          "female",
          "male",
          "male",
          "male",
          "female",
          "male",
          "male",
          "male",
          "male",
          "male",
          "female",
          "female",
          "male",
          "male",
          "female",
          "male",
          "female",
          "male",
          "male",
          "female",
          "female",
          "male",
          "male",
          "female",
          "male",
          "female",
          "female",
          "male",
          "male",
          "female",
          "male",
          "male",
          "male",
          "male",
          "female",
          "male",
          "male",
          "male",
          "male",
          "male",
          "male",
          "female",
          "female",
          "female",
          "female",
          "male",
          "female",
          "male",
          "female",
          "male",
          "male",
          "male",
          "female",
          "male",
          "male",
          "male",
          "female",
          "female",
          "female",
          "male",
          "male",
          "male",
          "female",
          "female",
          "male",
          "male",
          "male",
          "male",
          "female",
          "male",
          "female",
          "male",
          "male",
          "male",
          "male",
          "male",
          "male",
          "male",
          "male",
          "female",
          "female",
          "female",
          "female",
          "female",
          "female",
          "female",
          "female",
          "male",
          "female",
          "female",
          "female",
          "male",
          "male",
          "male",
          "female",
          "female",
          "female",
          "male",
          "male",
          "female",
          "male",
          "female",
          "male",
          "male",
          "male",
          "male",
          "male",
          "female",
          "female",
          "male",
          "male",
          "female",
          "male",
          "male",
          "female",
          "female",
          "female",
          "female",
          "male",
          "male",
          "female",
          "male",
          "male",
          "female",
          "female",
          "male",
          "male",
          "male",
          "female",
          "male",
          "female",
          null,
          null,
          null,
          null,
          null,
          null,
          null,
          "female",
          "male",
          "male",
          "male",
          "male",
          "female",
          null,
          null,
          null,
          null,
          null,
          null,
          null,
          null,
          null,
          null,
          "male",
          "female",
          "male",
          null,
          "male",
          "male",
          "male",
          null,
          "female",
          "male",
          "female",
          "male",
          "male",
          "female",
          "male",
          "male",
          "male",
          "female",
          "female",
          "male",
          "male",
          "female",
          "female",
          "female",
          "male",
          "male",
          "male",
          "female",
          "female",
          "male",
          "male",
          "male",
          "male",
          "male",
          "male",
          "male",
          null,
          "female",
          "male",
          "male",
          "male",
          "male",
          "female",
          "female",
          "male",
          "male",
          "male",
          "male",
          "male",
          "female",
          "male",
          "female",
          "female",
          "male",
          "male",
          "male",
          "male",
          "male",
          "male",
          "female",
          "female",
          "male",
          "male",
          "female",
          "male",
          "male",
          "male",
          "male",
          "male",
          "male",
          "male",
          "male",
          "male",
          "male",
          "male",
          "male",
          "male",
          "female",
          "female",
          "female",
          "male",
          "male",
          "male",
          "female",
          "male",
          null,
          null,
          "male",
          "male",
          "female",
          "male",
          "male",
          "female",
          "male",
          null,
          "female",
          "female",
          "female",
          "male",
          "male",
          "male",
          "female",
          "female",
          "male",
          "male",
          "male",
          "female",
          "female",
          "female",
          "male",
          "male",
          "female",
          "male",
          "female",
          "female",
          "female",
          "male",
          "female",
          "female",
          "male",
          "male",
          "female",
          "male",
          "male",
          "male",
          "female",
          "male",
          "male",
          "male",
          "female",
          "male",
          "male",
          "female",
          "male",
          "female",
          "female",
          "female",
          "male",
          "male",
          "female",
          "male",
          "female",
          "male",
          "male",
          "male",
          "male",
          "male",
          "female",
          "female",
          "female",
          "male",
          "male",
          "female",
          "female",
          "female",
          "female",
          "female",
          "female",
          "male",
          "male",
          "male",
          "male",
          "female",
          "male",
          null,
          "female",
          "female",
          "male",
          "male",
          "female",
          "male",
          "male",
          "male",
          "male",
          "male",
          "male",
          "male",
          "female",
          "male",
          "female",
          "male",
          "male",
          "female",
          "male",
          "male",
          "male",
          "male",
          "male",
          "male",
          "male",
          "male",
          "male",
          "male",
          "male",
          "male",
          "male",
          "male",
          "male",
          "female",
          "female",
          "male",
          "male",
          "female",
          "male",
          "male",
          "female",
          "female",
          "male",
          "female",
          "male",
          "male",
          "male",
          "male",
          "female",
          "female",
          "female",
          "female",
          "female",
          "male",
          "female",
          "male",
          "female",
          "female",
          "female",
          "male",
          "male",
          "female",
          "male",
          "male",
          "female",
          "male",
          "male",
          "female",
          "male",
          "male",
          "female",
          "female",
          "female",
          "male",
          "female",
          "male",
          "female",
          "female",
          "female",
          "female",
          "female",
          null,
          null,
          "female",
          "male",
          "female",
          "male",
          "male",
          "male",
          "male",
          "male",
          "female",
          "female",
          "female",
          "male",
          "female",
          "male",
          "female",
          "male",
          "male",
          "male",
          "male",
          "male",
          "male",
          "female",
          "male",
          "male",
          "male",
          "male",
          "male",
          "male",
          "male",
          "male",
          "female",
          "male",
          "male",
          "male",
          "male",
          "male",
          "female",
          "male",
          "female",
          "female",
          "male",
          "female",
          "male",
          "female",
          "female",
          "male",
          "female",
          "male",
          "male",
          "male",
          "male",
          "female",
          "male",
          "male",
          "female",
          "female",
          "female",
          "male",
          "female",
          "male",
          "female",
          "male",
          "male",
          "male",
          "female",
          "male",
          "female",
          "female",
          "male",
          "male",
          "female",
          "male",
          "male",
          "male",
          "male",
          "male",
          "male",
          "female",
          "female",
          "female",
          "male",
          "male",
          "male",
          "female",
          "male",
          "female",
          "male",
          "female",
          "male",
          "female",
          "female",
          "male",
          "female",
          "male",
          "female",
          "male",
          "female",
          "female",
          "male",
          "female",
          "female",
          "female",
          "female",
          "male",
          "female",
          "female",
          "male",
          "female",
          "female",
          "male",
          "female",
          "female",
          "female",
          "female",
          "female",
          "male",
          "female",
          "female",
          "male",
          "male",
          "female",
          "male",
          "female",
          "male",
          "male",
          "male",
          "male",
          "female",
          "female",
          "female",
          "female",
          "male",
          "female",
          "female",
          "female",
          "male",
          "female",
          "female",
          "male",
          "female",
          "female",
          "female",
          "female",
          "male",
          "female",
          "male",
          "female",
          "male",
          "female",
          "female",
          "female",
          "male",
          null,
          null,
          null,
          null,
          null,
          null,
          null,
          null,
          null,
          null,
          null,
          null,
          null,
          null,
          null,
          null,
          null,
          null,
          null,
          null,
          null,
          null,
          "male",
          "male",
          "male",
          "male",
          "male",
          "male",
          "male",
          "male",
          "female",
          "male",
          "female",
          "female",
          "male",
          "female",
          "female",
          "female",
          "female",
          "male",
          "male",
          "female",
          "male",
          "male",
          "female",
          "male",
          "female",
          "female",
          "male",
          "male",
          "male",
          "male",
          "female",
          "male",
          "female",
          "female",
          "female",
          "female",
          "male",
          "male",
          "male",
          "female",
          "male",
          "female",
          "male",
          "female",
          "female",
          "female",
          "male",
          "female",
          "male",
          "female",
          "female",
          "female",
          null,
          null,
          null,
          null,
          null,
          null,
          null,
          null,
          null,
          null,
          null,
          "male",
          null,
          null,
          null,
          "male",
          null,
          null,
          null,
          null,
          null,
          null,
          null,
          null,
          "female",
          "female",
          "female",
          "female",
          "male",
          "male",
          "female",
          "male",
          "male",
          "male",
          "female",
          "male",
          null,
          null,
          "male",
          "male",
          "male",
          "male",
          "female",
          "female",
          null,
          null,
          null,
          null,
          null,
          null,
          null,
          "male",
          "male",
          null,
          null,
          null,
          null,
          null,
          null,
          "male",
          "female",
          "female",
          null,
          "female",
          "female",
          null,
          "male",
          "male",
          "male",
          "male",
          "male",
          "female",
          "male",
          "male",
          "female",
          "female",
          "male",
          "female",
          "female",
          "male",
          "male",
          "female",
          "male",
          "female",
          "male",
          "female",
          "female",
          "male",
          "female",
          "female",
          "female",
          "female",
          "male",
          "female",
          "male",
          "female",
          "male",
          null,
          null,
          null,
          "male",
          null,
          "male",
          "male",
          null,
          null,
          null,
          "male",
          "female",
          "female",
          "male",
          null,
          "male",
          "male",
          "female",
          "male",
          "male",
          "female",
          "male",
          null,
          null,
          null,
          null,
          null,
          null,
          null,
          null,
          null,
          null,
          null,
          null,
          null,
          null,
          null,
          null,
          null,
          "male",
          "female",
          "female",
          "male",
          "male",
          null,
          "male",
          "male",
          "male",
          "male",
          "male",
          "male",
          "male",
          "female",
          "female",
          "female",
          "male",
          "male",
          null,
          null,
          null,
          null,
          "male",
          null,
          null,
          "male",
          "female",
          null,
          null,
          null,
          null,
          null,
          null,
          null,
          null,
          "male",
          "male",
          "female",
          "female",
          "male",
          "male",
          "female",
          "male",
          "female",
          "male",
          "female",
          "male",
          "male",
          "male",
          "female",
          "female",
          "male",
          "male",
          "female",
          "female",
          "male",
          "female",
          "female",
          "female",
          "male",
          "male",
          "male",
          "male",
          "male",
          "female",
          "female",
          "female",
          "female",
          "male",
          "female",
          "male",
          "female",
          "male",
          "male",
          "female",
          "female",
          "female",
          "male",
          "female",
          "male",
          "male",
          "male",
          "female",
          "male",
          "male",
          "male",
          "female",
          "male",
          "female",
          "male",
          "female",
          "male",
          "male",
          "male",
          "female",
          "female",
          "male",
          "female",
          "female",
          "male",
          "female",
          "male",
          "female",
          "male",
          "male",
          "female",
          "male",
          "male",
          "female",
          "female",
          "male",
          "female",
          "female",
          "female",
          "female",
          "male",
          "female",
          "male",
          "female",
          "male",
          "female",
          "female",
          "female",
          "male",
          "male",
          "female",
          "male",
          "female",
          "female",
          "male",
          "female",
          "male",
          "female",
          "male",
          null,
          null,
          "male",
          null,
          "male",
          "male",
          "male",
          "female",
          "female",
          null,
          null,
          null,
          null,
          null,
          null,
          null,
          null,
          null,
          "female",
          "male",
          "female",
          null,
          null,
          "male",
          "female",
          "female",
          "female",
          "male",
          "male",
          "male",
          "female",
          "female",
          null,
          "male",
          null,
          null,
          null,
          "male",
          "male",
          "female",
          "male",
          null,
          null,
          "female",
          "male",
          null,
          "male",
          "male",
          "male",
          "male",
          "female",
          "male",
          "male",
          "male",
          "male",
          null,
          "male",
          "female",
          "male",
          null,
          "female",
          "female",
          null,
          null,
          null,
          null,
          null,
          null,
          null,
          null,
          null,
          null,
          null,
          null,
          null,
          null,
          null,
          null,
          null,
          null,
          null,
          null,
          "female",
          "female",
          null,
          null,
          null,
          null,
          null,
          null,
          null,
          null,
          "female",
          null,
          null,
          "male",
          "female",
          "female",
          "female",
          "female",
          "female",
          "female",
          "female",
          "female",
          "female",
          "male",
          "male",
          "male",
          "female",
          "female",
          null,
          null,
          null,
          "male",
          "male",
          "male"
         ]
        }
       ],
       "layout": {
        "annotations": [
         {
          "font": {
           "color": "rgb(150,150,150)",
           "family": "Arial",
           "size": 12
          },
          "showarrow": false,
          "text": "Source: Kaggle Coronavirus (COVID-19) Visualization & Prediction",
          "x": 0.5,
          "xanchor": "center",
          "xref": "paper",
          "y": -0.16,
          "yanchor": "top",
          "yref": "paper"
         },
         {
          "font": {
           "color": "rgb(37,37,37)",
           "family": "Arial",
           "size": 30
          },
          "showarrow": false,
          "text": "Distribution of population on gender",
          "x": 0,
          "xanchor": "left",
          "xref": "paper",
          "y": 1.05,
          "yanchor": "bottom",
          "yref": "paper"
         }
        ],
        "bargap": 0.2,
        "bargroupgap": 0.1,
        "template": {
         "data": {
          "bar": [
           {
            "error_x": {
             "color": "#2a3f5f"
            },
            "error_y": {
             "color": "#2a3f5f"
            },
            "marker": {
             "line": {
              "color": "#E5ECF6",
              "width": 0.5
             }
            },
            "type": "bar"
           }
          ],
          "barpolar": [
           {
            "marker": {
             "line": {
              "color": "#E5ECF6",
              "width": 0.5
             }
            },
            "type": "barpolar"
           }
          ],
          "carpet": [
           {
            "aaxis": {
             "endlinecolor": "#2a3f5f",
             "gridcolor": "white",
             "linecolor": "white",
             "minorgridcolor": "white",
             "startlinecolor": "#2a3f5f"
            },
            "baxis": {
             "endlinecolor": "#2a3f5f",
             "gridcolor": "white",
             "linecolor": "white",
             "minorgridcolor": "white",
             "startlinecolor": "#2a3f5f"
            },
            "type": "carpet"
           }
          ],
          "choropleth": [
           {
            "colorbar": {
             "outlinewidth": 0,
             "ticks": ""
            },
            "type": "choropleth"
           }
          ],
          "contour": [
           {
            "colorbar": {
             "outlinewidth": 0,
             "ticks": ""
            },
            "colorscale": [
             [
              0,
              "#0d0887"
             ],
             [
              0.1111111111111111,
              "#46039f"
             ],
             [
              0.2222222222222222,
              "#7201a8"
             ],
             [
              0.3333333333333333,
              "#9c179e"
             ],
             [
              0.4444444444444444,
              "#bd3786"
             ],
             [
              0.5555555555555556,
              "#d8576b"
             ],
             [
              0.6666666666666666,
              "#ed7953"
             ],
             [
              0.7777777777777778,
              "#fb9f3a"
             ],
             [
              0.8888888888888888,
              "#fdca26"
             ],
             [
              1,
              "#f0f921"
             ]
            ],
            "type": "contour"
           }
          ],
          "contourcarpet": [
           {
            "colorbar": {
             "outlinewidth": 0,
             "ticks": ""
            },
            "type": "contourcarpet"
           }
          ],
          "heatmap": [
           {
            "colorbar": {
             "outlinewidth": 0,
             "ticks": ""
            },
            "colorscale": [
             [
              0,
              "#0d0887"
             ],
             [
              0.1111111111111111,
              "#46039f"
             ],
             [
              0.2222222222222222,
              "#7201a8"
             ],
             [
              0.3333333333333333,
              "#9c179e"
             ],
             [
              0.4444444444444444,
              "#bd3786"
             ],
             [
              0.5555555555555556,
              "#d8576b"
             ],
             [
              0.6666666666666666,
              "#ed7953"
             ],
             [
              0.7777777777777778,
              "#fb9f3a"
             ],
             [
              0.8888888888888888,
              "#fdca26"
             ],
             [
              1,
              "#f0f921"
             ]
            ],
            "type": "heatmap"
           }
          ],
          "heatmapgl": [
           {
            "colorbar": {
             "outlinewidth": 0,
             "ticks": ""
            },
            "colorscale": [
             [
              0,
              "#0d0887"
             ],
             [
              0.1111111111111111,
              "#46039f"
             ],
             [
              0.2222222222222222,
              "#7201a8"
             ],
             [
              0.3333333333333333,
              "#9c179e"
             ],
             [
              0.4444444444444444,
              "#bd3786"
             ],
             [
              0.5555555555555556,
              "#d8576b"
             ],
             [
              0.6666666666666666,
              "#ed7953"
             ],
             [
              0.7777777777777778,
              "#fb9f3a"
             ],
             [
              0.8888888888888888,
              "#fdca26"
             ],
             [
              1,
              "#f0f921"
             ]
            ],
            "type": "heatmapgl"
           }
          ],
          "histogram": [
           {
            "marker": {
             "colorbar": {
              "outlinewidth": 0,
              "ticks": ""
             }
            },
            "type": "histogram"
           }
          ],
          "histogram2d": [
           {
            "colorbar": {
             "outlinewidth": 0,
             "ticks": ""
            },
            "colorscale": [
             [
              0,
              "#0d0887"
             ],
             [
              0.1111111111111111,
              "#46039f"
             ],
             [
              0.2222222222222222,
              "#7201a8"
             ],
             [
              0.3333333333333333,
              "#9c179e"
             ],
             [
              0.4444444444444444,
              "#bd3786"
             ],
             [
              0.5555555555555556,
              "#d8576b"
             ],
             [
              0.6666666666666666,
              "#ed7953"
             ],
             [
              0.7777777777777778,
              "#fb9f3a"
             ],
             [
              0.8888888888888888,
              "#fdca26"
             ],
             [
              1,
              "#f0f921"
             ]
            ],
            "type": "histogram2d"
           }
          ],
          "histogram2dcontour": [
           {
            "colorbar": {
             "outlinewidth": 0,
             "ticks": ""
            },
            "colorscale": [
             [
              0,
              "#0d0887"
             ],
             [
              0.1111111111111111,
              "#46039f"
             ],
             [
              0.2222222222222222,
              "#7201a8"
             ],
             [
              0.3333333333333333,
              "#9c179e"
             ],
             [
              0.4444444444444444,
              "#bd3786"
             ],
             [
              0.5555555555555556,
              "#d8576b"
             ],
             [
              0.6666666666666666,
              "#ed7953"
             ],
             [
              0.7777777777777778,
              "#fb9f3a"
             ],
             [
              0.8888888888888888,
              "#fdca26"
             ],
             [
              1,
              "#f0f921"
             ]
            ],
            "type": "histogram2dcontour"
           }
          ],
          "mesh3d": [
           {
            "colorbar": {
             "outlinewidth": 0,
             "ticks": ""
            },
            "type": "mesh3d"
           }
          ],
          "parcoords": [
           {
            "line": {
             "colorbar": {
              "outlinewidth": 0,
              "ticks": ""
             }
            },
            "type": "parcoords"
           }
          ],
          "pie": [
           {
            "automargin": true,
            "type": "pie"
           }
          ],
          "scatter": [
           {
            "marker": {
             "colorbar": {
              "outlinewidth": 0,
              "ticks": ""
             }
            },
            "type": "scatter"
           }
          ],
          "scatter3d": [
           {
            "line": {
             "colorbar": {
              "outlinewidth": 0,
              "ticks": ""
             }
            },
            "marker": {
             "colorbar": {
              "outlinewidth": 0,
              "ticks": ""
             }
            },
            "type": "scatter3d"
           }
          ],
          "scattercarpet": [
           {
            "marker": {
             "colorbar": {
              "outlinewidth": 0,
              "ticks": ""
             }
            },
            "type": "scattercarpet"
           }
          ],
          "scattergeo": [
           {
            "marker": {
             "colorbar": {
              "outlinewidth": 0,
              "ticks": ""
             }
            },
            "type": "scattergeo"
           }
          ],
          "scattergl": [
           {
            "marker": {
             "colorbar": {
              "outlinewidth": 0,
              "ticks": ""
             }
            },
            "type": "scattergl"
           }
          ],
          "scattermapbox": [
           {
            "marker": {
             "colorbar": {
              "outlinewidth": 0,
              "ticks": ""
             }
            },
            "type": "scattermapbox"
           }
          ],
          "scatterpolar": [
           {
            "marker": {
             "colorbar": {
              "outlinewidth": 0,
              "ticks": ""
             }
            },
            "type": "scatterpolar"
           }
          ],
          "scatterpolargl": [
           {
            "marker": {
             "colorbar": {
              "outlinewidth": 0,
              "ticks": ""
             }
            },
            "type": "scatterpolargl"
           }
          ],
          "scatterternary": [
           {
            "marker": {
             "colorbar": {
              "outlinewidth": 0,
              "ticks": ""
             }
            },
            "type": "scatterternary"
           }
          ],
          "surface": [
           {
            "colorbar": {
             "outlinewidth": 0,
             "ticks": ""
            },
            "colorscale": [
             [
              0,
              "#0d0887"
             ],
             [
              0.1111111111111111,
              "#46039f"
             ],
             [
              0.2222222222222222,
              "#7201a8"
             ],
             [
              0.3333333333333333,
              "#9c179e"
             ],
             [
              0.4444444444444444,
              "#bd3786"
             ],
             [
              0.5555555555555556,
              "#d8576b"
             ],
             [
              0.6666666666666666,
              "#ed7953"
             ],
             [
              0.7777777777777778,
              "#fb9f3a"
             ],
             [
              0.8888888888888888,
              "#fdca26"
             ],
             [
              1,
              "#f0f921"
             ]
            ],
            "type": "surface"
           }
          ],
          "table": [
           {
            "cells": {
             "fill": {
              "color": "#EBF0F8"
             },
             "line": {
              "color": "white"
             }
            },
            "header": {
             "fill": {
              "color": "#C8D4E3"
             },
             "line": {
              "color": "white"
             }
            },
            "type": "table"
           }
          ]
         },
         "layout": {
          "annotationdefaults": {
           "arrowcolor": "#2a3f5f",
           "arrowhead": 0,
           "arrowwidth": 1
          },
          "coloraxis": {
           "colorbar": {
            "outlinewidth": 0,
            "ticks": ""
           }
          },
          "colorscale": {
           "diverging": [
            [
             0,
             "#8e0152"
            ],
            [
             0.1,
             "#c51b7d"
            ],
            [
             0.2,
             "#de77ae"
            ],
            [
             0.3,
             "#f1b6da"
            ],
            [
             0.4,
             "#fde0ef"
            ],
            [
             0.5,
             "#f7f7f7"
            ],
            [
             0.6,
             "#e6f5d0"
            ],
            [
             0.7,
             "#b8e186"
            ],
            [
             0.8,
             "#7fbc41"
            ],
            [
             0.9,
             "#4d9221"
            ],
            [
             1,
             "#276419"
            ]
           ],
           "sequential": [
            [
             0,
             "#0d0887"
            ],
            [
             0.1111111111111111,
             "#46039f"
            ],
            [
             0.2222222222222222,
             "#7201a8"
            ],
            [
             0.3333333333333333,
             "#9c179e"
            ],
            [
             0.4444444444444444,
             "#bd3786"
            ],
            [
             0.5555555555555556,
             "#d8576b"
            ],
            [
             0.6666666666666666,
             "#ed7953"
            ],
            [
             0.7777777777777778,
             "#fb9f3a"
            ],
            [
             0.8888888888888888,
             "#fdca26"
            ],
            [
             1,
             "#f0f921"
            ]
           ],
           "sequentialminus": [
            [
             0,
             "#0d0887"
            ],
            [
             0.1111111111111111,
             "#46039f"
            ],
            [
             0.2222222222222222,
             "#7201a8"
            ],
            [
             0.3333333333333333,
             "#9c179e"
            ],
            [
             0.4444444444444444,
             "#bd3786"
            ],
            [
             0.5555555555555556,
             "#d8576b"
            ],
            [
             0.6666666666666666,
             "#ed7953"
            ],
            [
             0.7777777777777778,
             "#fb9f3a"
            ],
            [
             0.8888888888888888,
             "#fdca26"
            ],
            [
             1,
             "#f0f921"
            ]
           ]
          },
          "colorway": [
           "#636efa",
           "#EF553B",
           "#00cc96",
           "#ab63fa",
           "#FFA15A",
           "#19d3f3",
           "#FF6692",
           "#B6E880",
           "#FF97FF",
           "#FECB52"
          ],
          "font": {
           "color": "#2a3f5f"
          },
          "geo": {
           "bgcolor": "white",
           "lakecolor": "white",
           "landcolor": "#E5ECF6",
           "showlakes": true,
           "showland": true,
           "subunitcolor": "white"
          },
          "hoverlabel": {
           "align": "left"
          },
          "hovermode": "closest",
          "mapbox": {
           "style": "light"
          },
          "paper_bgcolor": "white",
          "plot_bgcolor": "#E5ECF6",
          "polar": {
           "angularaxis": {
            "gridcolor": "white",
            "linecolor": "white",
            "ticks": ""
           },
           "bgcolor": "#E5ECF6",
           "radialaxis": {
            "gridcolor": "white",
            "linecolor": "white",
            "ticks": ""
           }
          },
          "scene": {
           "xaxis": {
            "backgroundcolor": "#E5ECF6",
            "gridcolor": "white",
            "gridwidth": 2,
            "linecolor": "white",
            "showbackground": true,
            "ticks": "",
            "zerolinecolor": "white"
           },
           "yaxis": {
            "backgroundcolor": "#E5ECF6",
            "gridcolor": "white",
            "gridwidth": 2,
            "linecolor": "white",
            "showbackground": true,
            "ticks": "",
            "zerolinecolor": "white"
           },
           "zaxis": {
            "backgroundcolor": "#E5ECF6",
            "gridcolor": "white",
            "gridwidth": 2,
            "linecolor": "white",
            "showbackground": true,
            "ticks": "",
            "zerolinecolor": "white"
           }
          },
          "shapedefaults": {
           "line": {
            "color": "#2a3f5f"
           }
          },
          "ternary": {
           "aaxis": {
            "gridcolor": "white",
            "linecolor": "white",
            "ticks": ""
           },
           "baxis": {
            "gridcolor": "white",
            "linecolor": "white",
            "ticks": ""
           },
           "bgcolor": "#E5ECF6",
           "caxis": {
            "gridcolor": "white",
            "linecolor": "white",
            "ticks": ""
           }
          },
          "title": {
           "x": 0.05
          },
          "xaxis": {
           "automargin": true,
           "gridcolor": "white",
           "linecolor": "white",
           "ticks": "",
           "title": {
            "standoff": 15
           },
           "zerolinecolor": "white",
           "zerolinewidth": 2
          },
          "yaxis": {
           "automargin": true,
           "gridcolor": "white",
           "linecolor": "white",
           "ticks": "",
           "title": {
            "standoff": 15
           },
           "zerolinecolor": "white",
           "zerolinewidth": 2
          }
         }
        },
        "xaxis": {
         "showticklabels": true,
         "title": {
          "text": "gender"
         }
        },
        "yaxis": {
         "nticks": 20,
         "title": {
          "text": "Percentage"
         }
        }
       }
      },
      "text/html": [
       "<div>\n",
       "        \n",
       "        \n",
       "            <div id=\"6b0af8af-bc20-4490-b190-4c16c17727fd\" class=\"plotly-graph-div\" style=\"height:525px; width:100%;\"></div>\n",
       "            <script type=\"text/javascript\">\n",
       "                require([\"plotly\"], function(Plotly) {\n",
       "                    window.PLOTLYENV=window.PLOTLYENV || {};\n",
       "                    \n",
       "                if (document.getElementById(\"6b0af8af-bc20-4490-b190-4c16c17727fd\")) {\n",
       "                    Plotly.newPlot(\n",
       "                        '6b0af8af-bc20-4490-b190-4c16c17727fd',\n",
       "                        [{\"histnorm\": \"percent\", \"marker\": {\"color\": \"#3dc546\"}, \"name\": \"control\", \"opacity\": 0.75, \"type\": \"histogram\", \"x\": [\"male\", \"female\", \"male\", \"female\", \"male\", \"female\", \"male\", \"male\", \"male\", \"male\", \"female\", \"female\", \"male\", \"male\", \"male\", \"male\", \"male\", \"female\", \"male\", \"male\", \"male\", \"male\", \"male\", \"female\", \"male\", \"male\", \"male\", \"female\", \"male\", \"female\", \"male\", \"male\", \"male\", \"male\", \"male\", \"male\", \"male\", \"female\", \"female\", \"male\", \"male\", \"male\", \"female\", \"male\", \"male\", \"male\", \"male\", \"female\", \"male\", \"male\", \"male\", \"male\", \"male\", \"male\", \"female\", \"male\", \"male\", \"male\", \"female\", \"male\", \"female\", \"male\", \"male\", \"female\", \"male\", \"female\", \"male\", \"male\", \"female\", \"male\", \"female\", \"female\", \"male\", \"male\", \"male\", \"female\", \"male\", \"male\", \"male\", \"male\", \"male\", \"female\", \"female\", \"male\", \"male\", \"female\", \"male\", \"female\", \"male\", \"male\", \"female\", \"female\", \"male\", \"male\", \"female\", \"male\", \"female\", \"female\", \"male\", \"male\", \"female\", \"male\", \"male\", \"male\", \"male\", \"female\", \"male\", \"male\", \"male\", \"male\", \"male\", \"male\", \"female\", \"female\", \"female\", \"female\", \"male\", \"female\", \"male\", \"female\", \"male\", \"male\", \"male\", \"female\", \"male\", \"male\", \"male\", \"female\", \"female\", \"female\", \"male\", \"male\", \"male\", \"female\", \"female\", \"male\", \"male\", \"male\", \"male\", \"female\", \"male\", \"female\", \"male\", \"male\", \"male\", \"male\", \"male\", \"male\", \"male\", \"male\", \"female\", \"female\", \"female\", \"female\", \"female\", \"female\", \"female\", \"female\", \"male\", \"female\", \"female\", \"female\", \"male\", \"male\", \"male\", \"female\", \"female\", \"female\", \"male\", \"male\", \"female\", \"male\", \"female\", \"male\", \"male\", \"male\", \"male\", \"male\", \"female\", \"female\", \"male\", \"male\", \"female\", \"male\", \"male\", \"female\", \"female\", \"female\", \"female\", \"male\", \"male\", \"female\", \"male\", \"male\", \"female\", \"female\", \"male\", \"male\", \"male\", \"female\", \"male\", \"female\", null, null, null, null, null, null, null, \"female\", \"male\", \"male\", \"male\", \"male\", \"female\", null, null, null, null, null, null, null, null, null, null, \"male\", \"female\", \"male\", null, \"male\", \"male\", \"male\", null, \"female\", \"male\", \"female\", \"male\", \"male\", \"female\", \"male\", \"male\", \"male\", \"female\", \"female\", \"male\", \"male\", \"female\", \"female\", \"female\", \"male\", \"male\", \"male\", \"female\", \"female\", \"male\", \"male\", \"male\", \"male\", \"male\", \"male\", \"male\", null, \"female\", \"male\", \"male\", \"male\", \"male\", \"female\", \"female\", \"male\", \"male\", \"male\", \"male\", \"male\", \"female\", \"male\", \"female\", \"female\", \"male\", \"male\", \"male\", \"male\", \"male\", \"male\", \"female\", \"female\", \"male\", \"male\", \"female\", \"male\", \"male\", \"male\", \"male\", \"male\", \"male\", \"male\", \"male\", \"male\", \"male\", \"male\", \"male\", \"male\", \"female\", \"female\", \"female\", \"male\", \"male\", \"male\", \"female\", \"male\", null, null, \"male\", \"male\", \"female\", \"male\", \"male\", \"female\", \"male\", null, \"female\", \"female\", \"female\", \"male\", \"male\", \"male\", \"female\", \"female\", \"male\", \"male\", \"male\", \"female\", \"female\", \"female\", \"male\", \"male\", \"female\", \"male\", \"female\", \"female\", \"female\", \"male\", \"female\", \"female\", \"male\", \"male\", \"female\", \"male\", \"male\", \"male\", \"female\", \"male\", \"male\", \"male\", \"female\", \"male\", \"male\", \"female\", \"male\", \"female\", \"female\", \"female\", \"male\", \"male\", \"female\", \"male\", \"female\", \"male\", \"male\", \"male\", \"male\", \"male\", \"female\", \"female\", \"female\", \"male\", \"male\", \"female\", \"female\", \"female\", \"female\", \"female\", \"female\", \"male\", \"male\", \"male\", \"male\", \"female\", \"male\", null, \"female\", \"female\", \"male\", \"male\", \"female\", \"male\", \"male\", \"male\", \"male\", \"male\", \"male\", \"male\", \"female\", \"male\", \"female\", \"male\", \"male\", \"female\", \"male\", \"male\", \"male\", \"male\", \"male\", \"male\", \"male\", \"male\", \"male\", \"male\", \"male\", \"male\", \"male\", \"male\", \"male\", \"female\", \"female\", \"male\", \"male\", \"female\", \"male\", \"male\", \"female\", \"female\", \"male\", \"female\", \"male\", \"male\", \"male\", \"male\", \"female\", \"female\", \"female\", \"female\", \"female\", \"male\", \"female\", \"male\", \"female\", \"female\", \"female\", \"male\", \"male\", \"female\", \"male\", \"male\", \"female\", \"male\", \"male\", \"female\", \"male\", \"male\", \"female\", \"female\", \"female\", \"male\", \"female\", \"male\", \"female\", \"female\", \"female\", \"female\", \"female\", null, null, \"female\", \"male\", \"female\", \"male\", \"male\", \"male\", \"male\", \"male\", \"female\", \"female\", \"female\", \"male\", \"female\", \"male\", \"female\", \"male\", \"male\", \"male\", \"male\", \"male\", \"male\", \"female\", \"male\", \"male\", \"male\", \"male\", \"male\", \"male\", \"male\", \"male\", \"female\", \"male\", \"male\", \"male\", \"male\", \"male\", \"female\", \"male\", \"female\", \"female\", \"male\", \"female\", \"male\", \"female\", \"female\", \"male\", \"female\", \"male\", \"male\", \"male\", \"male\", \"female\", \"male\", \"male\", \"female\", \"female\", \"female\", \"male\", \"female\", \"male\", \"female\", \"male\", \"male\", \"male\", \"female\", \"male\", \"female\", \"female\", \"male\", \"male\", \"female\", \"male\", \"male\", \"male\", \"male\", \"male\", \"male\", \"female\", \"female\", \"female\", \"male\", \"male\", \"male\", \"female\", \"male\", \"female\", \"male\", \"female\", \"male\", \"female\", \"female\", \"male\", \"female\", \"male\", \"female\", \"male\", \"female\", \"female\", \"male\", \"female\", \"female\", \"female\", \"female\", \"male\", \"female\", \"female\", \"male\", \"female\", \"female\", \"male\", \"female\", \"female\", \"female\", \"female\", \"female\", \"male\", \"female\", \"female\", \"male\", \"male\", \"female\", \"male\", \"female\", \"male\", \"male\", \"male\", \"male\", \"female\", \"female\", \"female\", \"female\", \"male\", \"female\", \"female\", \"female\", \"male\", \"female\", \"female\", \"male\", \"female\", \"female\", \"female\", \"female\", \"male\", \"female\", \"male\", \"female\", \"male\", \"female\", \"female\", \"female\", \"male\", null, null, null, null, null, null, null, null, null, null, null, null, null, null, null, null, null, null, null, null, null, null, \"male\", \"male\", \"male\", \"male\", \"male\", \"male\", \"male\", \"male\", \"female\", \"male\", \"female\", \"female\", \"male\", \"female\", \"female\", \"female\", \"female\", \"male\", \"male\", \"female\", \"male\", \"male\", \"female\", \"male\", \"female\", \"female\", \"male\", \"male\", \"male\", \"male\", \"female\", \"male\", \"female\", \"female\", \"female\", \"female\", \"male\", \"male\", \"male\", \"female\", \"male\", \"female\", \"male\", \"female\", \"female\", \"female\", \"male\", \"female\", \"male\", \"female\", \"female\", \"female\", null, null, null, null, null, null, null, null, null, null, null, \"male\", null, null, null, \"male\", null, null, null, null, null, null, null, null, \"female\", \"female\", \"female\", \"female\", \"male\", \"male\", \"female\", \"male\", \"male\", \"male\", \"female\", \"male\", null, null, \"male\", \"male\", \"male\", \"male\", \"female\", \"female\", null, null, null, null, null, null, null, \"male\", \"male\", null, null, null, null, null, null, \"male\", \"female\", \"female\", null, \"female\", \"female\", null, \"male\", \"male\", \"male\", \"male\", \"male\", \"female\", \"male\", \"male\", \"female\", \"female\", \"male\", \"female\", \"female\", \"male\", \"male\", \"female\", \"male\", \"female\", \"male\", \"female\", \"female\", \"male\", \"female\", \"female\", \"female\", \"female\", \"male\", \"female\", \"male\", \"female\", \"male\", null, null, null, \"male\", null, \"male\", \"male\", null, null, null, \"male\", \"female\", \"female\", \"male\", null, \"male\", \"male\", \"female\", \"male\", \"male\", \"female\", \"male\", null, null, null, null, null, null, null, null, null, null, null, null, null, null, null, null, null, \"male\", \"female\", \"female\", \"male\", \"male\", null, \"male\", \"male\", \"male\", \"male\", \"male\", \"male\", \"male\", \"female\", \"female\", \"female\", \"male\", \"male\", null, null, null, null, \"male\", null, null, \"male\", \"female\", null, null, null, null, null, null, null, null, \"male\", \"male\", \"female\", \"female\", \"male\", \"male\", \"female\", \"male\", \"female\", \"male\", \"female\", \"male\", \"male\", \"male\", \"female\", \"female\", \"male\", \"male\", \"female\", \"female\", \"male\", \"female\", \"female\", \"female\", \"male\", \"male\", \"male\", \"male\", \"male\", \"female\", \"female\", \"female\", \"female\", \"male\", \"female\", \"male\", \"female\", \"male\", \"male\", \"female\", \"female\", \"female\", \"male\", \"female\", \"male\", \"male\", \"male\", \"female\", \"male\", \"male\", \"male\", \"female\", \"male\", \"female\", \"male\", \"female\", \"male\", \"male\", \"male\", \"female\", \"female\", \"male\", \"female\", \"female\", \"male\", \"female\", \"male\", \"female\", \"male\", \"male\", \"female\", \"male\", \"male\", \"female\", \"female\", \"male\", \"female\", \"female\", \"female\", \"female\", \"male\", \"female\", \"male\", \"female\", \"male\", \"female\", \"female\", \"female\", \"male\", \"male\", \"female\", \"male\", \"female\", \"female\", \"male\", \"female\", \"male\", \"female\", \"male\", null, null, \"male\", null, \"male\", \"male\", \"male\", \"female\", \"female\", null, null, null, null, null, null, null, null, null, \"female\", \"male\", \"female\", null, null, \"male\", \"female\", \"female\", \"female\", \"male\", \"male\", \"male\", \"female\", \"female\", null, \"male\", null, null, null, \"male\", \"male\", \"female\", \"male\", null, null, \"female\", \"male\", null, \"male\", \"male\", \"male\", \"male\", \"female\", \"male\", \"male\", \"male\", \"male\", null, \"male\", \"female\", \"male\", null, \"female\", \"female\", null, null, null, null, null, null, null, null, null, null, null, null, null, null, null, null, null, null, null, null, \"female\", \"female\", null, null, null, null, null, null, null, null, \"female\", null, null, \"male\", \"female\", \"female\", \"female\", \"female\", \"female\", \"female\", \"female\", \"female\", \"female\", \"male\", \"male\", \"male\", \"female\", \"female\", null, null, null, \"male\", \"male\", \"male\"]}],\n",
       "                        {\"annotations\": [{\"font\": {\"color\": \"rgb(150,150,150)\", \"family\": \"Arial\", \"size\": 12}, \"showarrow\": false, \"text\": \"Source: Kaggle Coronavirus (COVID-19) Visualization & Prediction\", \"x\": 0.5, \"xanchor\": \"center\", \"xref\": \"paper\", \"y\": -0.16, \"yanchor\": \"top\", \"yref\": \"paper\"}, {\"font\": {\"color\": \"rgb(37,37,37)\", \"family\": \"Arial\", \"size\": 30}, \"showarrow\": false, \"text\": \"Distribution of population on gender\", \"x\": 0.0, \"xanchor\": \"left\", \"xref\": \"paper\", \"y\": 1.05, \"yanchor\": \"bottom\", \"yref\": \"paper\"}], \"bargap\": 0.2, \"bargroupgap\": 0.1, \"template\": {\"data\": {\"bar\": [{\"error_x\": {\"color\": \"#2a3f5f\"}, \"error_y\": {\"color\": \"#2a3f5f\"}, \"marker\": {\"line\": {\"color\": \"#E5ECF6\", \"width\": 0.5}}, \"type\": \"bar\"}], \"barpolar\": [{\"marker\": {\"line\": {\"color\": \"#E5ECF6\", \"width\": 0.5}}, \"type\": \"barpolar\"}], \"carpet\": [{\"aaxis\": {\"endlinecolor\": \"#2a3f5f\", \"gridcolor\": \"white\", \"linecolor\": \"white\", \"minorgridcolor\": \"white\", \"startlinecolor\": \"#2a3f5f\"}, \"baxis\": {\"endlinecolor\": \"#2a3f5f\", \"gridcolor\": \"white\", \"linecolor\": \"white\", \"minorgridcolor\": \"white\", \"startlinecolor\": \"#2a3f5f\"}, \"type\": \"carpet\"}], \"choropleth\": [{\"colorbar\": {\"outlinewidth\": 0, \"ticks\": \"\"}, \"type\": \"choropleth\"}], \"contour\": [{\"colorbar\": {\"outlinewidth\": 0, \"ticks\": \"\"}, \"colorscale\": [[0.0, \"#0d0887\"], [0.1111111111111111, \"#46039f\"], [0.2222222222222222, \"#7201a8\"], [0.3333333333333333, \"#9c179e\"], [0.4444444444444444, \"#bd3786\"], [0.5555555555555556, \"#d8576b\"], [0.6666666666666666, \"#ed7953\"], [0.7777777777777778, \"#fb9f3a\"], [0.8888888888888888, \"#fdca26\"], [1.0, \"#f0f921\"]], \"type\": \"contour\"}], \"contourcarpet\": [{\"colorbar\": {\"outlinewidth\": 0, \"ticks\": \"\"}, \"type\": \"contourcarpet\"}], \"heatmap\": [{\"colorbar\": {\"outlinewidth\": 0, \"ticks\": \"\"}, \"colorscale\": [[0.0, \"#0d0887\"], [0.1111111111111111, \"#46039f\"], [0.2222222222222222, \"#7201a8\"], [0.3333333333333333, \"#9c179e\"], [0.4444444444444444, \"#bd3786\"], [0.5555555555555556, \"#d8576b\"], [0.6666666666666666, \"#ed7953\"], [0.7777777777777778, \"#fb9f3a\"], [0.8888888888888888, \"#fdca26\"], [1.0, \"#f0f921\"]], \"type\": \"heatmap\"}], \"heatmapgl\": [{\"colorbar\": {\"outlinewidth\": 0, \"ticks\": \"\"}, \"colorscale\": [[0.0, \"#0d0887\"], [0.1111111111111111, \"#46039f\"], [0.2222222222222222, \"#7201a8\"], [0.3333333333333333, \"#9c179e\"], [0.4444444444444444, \"#bd3786\"], [0.5555555555555556, \"#d8576b\"], [0.6666666666666666, \"#ed7953\"], [0.7777777777777778, \"#fb9f3a\"], [0.8888888888888888, \"#fdca26\"], [1.0, \"#f0f921\"]], \"type\": \"heatmapgl\"}], \"histogram\": [{\"marker\": {\"colorbar\": {\"outlinewidth\": 0, \"ticks\": \"\"}}, \"type\": \"histogram\"}], \"histogram2d\": [{\"colorbar\": {\"outlinewidth\": 0, \"ticks\": \"\"}, \"colorscale\": [[0.0, \"#0d0887\"], [0.1111111111111111, \"#46039f\"], [0.2222222222222222, \"#7201a8\"], [0.3333333333333333, \"#9c179e\"], [0.4444444444444444, \"#bd3786\"], [0.5555555555555556, \"#d8576b\"], [0.6666666666666666, \"#ed7953\"], [0.7777777777777778, \"#fb9f3a\"], [0.8888888888888888, \"#fdca26\"], [1.0, \"#f0f921\"]], \"type\": \"histogram2d\"}], \"histogram2dcontour\": [{\"colorbar\": {\"outlinewidth\": 0, \"ticks\": \"\"}, \"colorscale\": [[0.0, \"#0d0887\"], [0.1111111111111111, \"#46039f\"], [0.2222222222222222, \"#7201a8\"], [0.3333333333333333, \"#9c179e\"], [0.4444444444444444, \"#bd3786\"], [0.5555555555555556, \"#d8576b\"], [0.6666666666666666, \"#ed7953\"], [0.7777777777777778, \"#fb9f3a\"], [0.8888888888888888, \"#fdca26\"], [1.0, \"#f0f921\"]], \"type\": \"histogram2dcontour\"}], \"mesh3d\": [{\"colorbar\": {\"outlinewidth\": 0, \"ticks\": \"\"}, \"type\": \"mesh3d\"}], \"parcoords\": [{\"line\": {\"colorbar\": {\"outlinewidth\": 0, \"ticks\": \"\"}}, \"type\": \"parcoords\"}], \"pie\": [{\"automargin\": true, \"type\": \"pie\"}], \"scatter\": [{\"marker\": {\"colorbar\": {\"outlinewidth\": 0, \"ticks\": \"\"}}, \"type\": \"scatter\"}], \"scatter3d\": [{\"line\": {\"colorbar\": {\"outlinewidth\": 0, \"ticks\": \"\"}}, \"marker\": {\"colorbar\": {\"outlinewidth\": 0, \"ticks\": \"\"}}, \"type\": \"scatter3d\"}], \"scattercarpet\": [{\"marker\": {\"colorbar\": {\"outlinewidth\": 0, \"ticks\": \"\"}}, \"type\": \"scattercarpet\"}], \"scattergeo\": [{\"marker\": {\"colorbar\": {\"outlinewidth\": 0, \"ticks\": \"\"}}, \"type\": \"scattergeo\"}], \"scattergl\": [{\"marker\": {\"colorbar\": {\"outlinewidth\": 0, \"ticks\": \"\"}}, \"type\": \"scattergl\"}], \"scattermapbox\": [{\"marker\": {\"colorbar\": {\"outlinewidth\": 0, \"ticks\": \"\"}}, \"type\": \"scattermapbox\"}], \"scatterpolar\": [{\"marker\": {\"colorbar\": {\"outlinewidth\": 0, \"ticks\": \"\"}}, \"type\": \"scatterpolar\"}], \"scatterpolargl\": [{\"marker\": {\"colorbar\": {\"outlinewidth\": 0, \"ticks\": \"\"}}, \"type\": \"scatterpolargl\"}], \"scatterternary\": [{\"marker\": {\"colorbar\": {\"outlinewidth\": 0, \"ticks\": \"\"}}, \"type\": \"scatterternary\"}], \"surface\": [{\"colorbar\": {\"outlinewidth\": 0, \"ticks\": \"\"}, \"colorscale\": [[0.0, \"#0d0887\"], [0.1111111111111111, \"#46039f\"], [0.2222222222222222, \"#7201a8\"], [0.3333333333333333, \"#9c179e\"], [0.4444444444444444, \"#bd3786\"], [0.5555555555555556, \"#d8576b\"], [0.6666666666666666, \"#ed7953\"], [0.7777777777777778, \"#fb9f3a\"], [0.8888888888888888, \"#fdca26\"], [1.0, \"#f0f921\"]], \"type\": \"surface\"}], \"table\": [{\"cells\": {\"fill\": {\"color\": \"#EBF0F8\"}, \"line\": {\"color\": \"white\"}}, \"header\": {\"fill\": {\"color\": \"#C8D4E3\"}, \"line\": {\"color\": \"white\"}}, \"type\": \"table\"}]}, \"layout\": {\"annotationdefaults\": {\"arrowcolor\": \"#2a3f5f\", \"arrowhead\": 0, \"arrowwidth\": 1}, \"coloraxis\": {\"colorbar\": {\"outlinewidth\": 0, \"ticks\": \"\"}}, \"colorscale\": {\"diverging\": [[0, \"#8e0152\"], [0.1, \"#c51b7d\"], [0.2, \"#de77ae\"], [0.3, \"#f1b6da\"], [0.4, \"#fde0ef\"], [0.5, \"#f7f7f7\"], [0.6, \"#e6f5d0\"], [0.7, \"#b8e186\"], [0.8, \"#7fbc41\"], [0.9, \"#4d9221\"], [1, \"#276419\"]], \"sequential\": [[0.0, \"#0d0887\"], [0.1111111111111111, \"#46039f\"], [0.2222222222222222, \"#7201a8\"], [0.3333333333333333, \"#9c179e\"], [0.4444444444444444, \"#bd3786\"], [0.5555555555555556, \"#d8576b\"], [0.6666666666666666, \"#ed7953\"], [0.7777777777777778, \"#fb9f3a\"], [0.8888888888888888, \"#fdca26\"], [1.0, \"#f0f921\"]], \"sequentialminus\": [[0.0, \"#0d0887\"], [0.1111111111111111, \"#46039f\"], [0.2222222222222222, \"#7201a8\"], [0.3333333333333333, \"#9c179e\"], [0.4444444444444444, \"#bd3786\"], [0.5555555555555556, \"#d8576b\"], [0.6666666666666666, \"#ed7953\"], [0.7777777777777778, \"#fb9f3a\"], [0.8888888888888888, \"#fdca26\"], [1.0, \"#f0f921\"]]}, \"colorway\": [\"#636efa\", \"#EF553B\", \"#00cc96\", \"#ab63fa\", \"#FFA15A\", \"#19d3f3\", \"#FF6692\", \"#B6E880\", \"#FF97FF\", \"#FECB52\"], \"font\": {\"color\": \"#2a3f5f\"}, \"geo\": {\"bgcolor\": \"white\", \"lakecolor\": \"white\", \"landcolor\": \"#E5ECF6\", \"showlakes\": true, \"showland\": true, \"subunitcolor\": \"white\"}, \"hoverlabel\": {\"align\": \"left\"}, \"hovermode\": \"closest\", \"mapbox\": {\"style\": \"light\"}, \"paper_bgcolor\": \"white\", \"plot_bgcolor\": \"#E5ECF6\", \"polar\": {\"angularaxis\": {\"gridcolor\": \"white\", \"linecolor\": \"white\", \"ticks\": \"\"}, \"bgcolor\": \"#E5ECF6\", \"radialaxis\": {\"gridcolor\": \"white\", \"linecolor\": \"white\", \"ticks\": \"\"}}, \"scene\": {\"xaxis\": {\"backgroundcolor\": \"#E5ECF6\", \"gridcolor\": \"white\", \"gridwidth\": 2, \"linecolor\": \"white\", \"showbackground\": true, \"ticks\": \"\", \"zerolinecolor\": \"white\"}, \"yaxis\": {\"backgroundcolor\": \"#E5ECF6\", \"gridcolor\": \"white\", \"gridwidth\": 2, \"linecolor\": \"white\", \"showbackground\": true, \"ticks\": \"\", \"zerolinecolor\": \"white\"}, \"zaxis\": {\"backgroundcolor\": \"#E5ECF6\", \"gridcolor\": \"white\", \"gridwidth\": 2, \"linecolor\": \"white\", \"showbackground\": true, \"ticks\": \"\", \"zerolinecolor\": \"white\"}}, \"shapedefaults\": {\"line\": {\"color\": \"#2a3f5f\"}}, \"ternary\": {\"aaxis\": {\"gridcolor\": \"white\", \"linecolor\": \"white\", \"ticks\": \"\"}, \"baxis\": {\"gridcolor\": \"white\", \"linecolor\": \"white\", \"ticks\": \"\"}, \"bgcolor\": \"#E5ECF6\", \"caxis\": {\"gridcolor\": \"white\", \"linecolor\": \"white\", \"ticks\": \"\"}}, \"title\": {\"x\": 0.05}, \"xaxis\": {\"automargin\": true, \"gridcolor\": \"white\", \"linecolor\": \"white\", \"ticks\": \"\", \"title\": {\"standoff\": 15}, \"zerolinecolor\": \"white\", \"zerolinewidth\": 2}, \"yaxis\": {\"automargin\": true, \"gridcolor\": \"white\", \"linecolor\": \"white\", \"ticks\": \"\", \"title\": {\"standoff\": 15}, \"zerolinecolor\": \"white\", \"zerolinewidth\": 2}}}, \"xaxis\": {\"showticklabels\": true, \"title\": {\"text\": \"gender\"}}, \"yaxis\": {\"nticks\": 20, \"title\": {\"text\": \"Percentage\"}}},\n",
       "                        {\"responsive\": true}\n",
       "                    ).then(function(){\n",
       "                            \n",
       "var gd = document.getElementById('6b0af8af-bc20-4490-b190-4c16c17727fd');\n",
       "var x = new MutationObserver(function (mutations, observer) {{\n",
       "        var display = window.getComputedStyle(gd).display;\n",
       "        if (!display || display === 'none') {{\n",
       "            console.log([gd, 'removed!']);\n",
       "            Plotly.purge(gd);\n",
       "            observer.disconnect();\n",
       "        }}\n",
       "}});\n",
       "\n",
       "// Listen for the removal of the full notebook cells\n",
       "var notebookContainer = gd.closest('#notebook-container');\n",
       "if (notebookContainer) {{\n",
       "    x.observe(notebookContainer, {childList: true});\n",
       "}}\n",
       "\n",
       "// Listen for the clearing of the current output cell\n",
       "var outputEl = gd.closest('.output');\n",
       "if (outputEl) {{\n",
       "    x.observe(outputEl, {childList: true});\n",
       "}}\n",
       "\n",
       "                        })\n",
       "                };\n",
       "                });\n",
       "            </script>\n",
       "        </div>"
      ]
     },
     "metadata": {},
     "output_type": "display_data"
    },
    {
     "data": {
      "application/vnd.plotly.v1+json": {
       "config": {
        "plotlyServerURL": "https://plot.ly"
       },
       "data": [
        {
         "boxmean": "sd",
         "marker": {
          "color": "indianred"
         },
         "name": "Female",
         "type": "box",
         "y": [
          56,
          60,
          44,
          18,
          32,
          52,
          28,
          66,
          32,
          33,
          33,
          62,
          36,
          48,
          82,
          80,
          70,
          50,
          66,
          23,
          50,
          32,
          85,
          69,
          70,
          65,
          29,
          null,
          56,
          39,
          34,
          76,
          66,
          67,
          82,
          49,
          2,
          59,
          68,
          29,
          33,
          20,
          24,
          45,
          9,
          42,
          32,
          55,
          79,
          19,
          58,
          39,
          21,
          30,
          64,
          70,
          52,
          32,
          48,
          19,
          68,
          4,
          69,
          55,
          36,
          36,
          40,
          63,
          47,
          42,
          41,
          28,
          51,
          30,
          null,
          33,
          60,
          58,
          35,
          23,
          35,
          45,
          45,
          35,
          25,
          25,
          35,
          55,
          85,
          65,
          55,
          55,
          65,
          65,
          85,
          55,
          45,
          75,
          75,
          55,
          75,
          65,
          45,
          55,
          75,
          55,
          25,
          25,
          65,
          55,
          75,
          55,
          55,
          15,
          55,
          65,
          46,
          65,
          75,
          65,
          35,
          45,
          25,
          55,
          75,
          25,
          55,
          25,
          25,
          65,
          65,
          55,
          75,
          75,
          45,
          25,
          75,
          75,
          45,
          75,
          55,
          60,
          45,
          65,
          65,
          4,
          36,
          49,
          40,
          37,
          59,
          67,
          65,
          39,
          32,
          83,
          53,
          53,
          56,
          56,
          31,
          37,
          73,
          47,
          47,
          31,
          28,
          48,
          44,
          32,
          42,
          42,
          39,
          40,
          38,
          52,
          2,
          55,
          51,
          44,
          54,
          61,
          56,
          79,
          27,
          71,
          57,
          35,
          38,
          57,
          35,
          30,
          75,
          58,
          35,
          62,
          28,
          52,
          40,
          42,
          21,
          41,
          59,
          58,
          73,
          37,
          30,
          68,
          61,
          11,
          40,
          26,
          48,
          57,
          61,
          69,
          29,
          58,
          46,
          54,
          63,
          72,
          61,
          38,
          26,
          34,
          59,
          58,
          52,
          59,
          50,
          30,
          56,
          48,
          56,
          39,
          20,
          23,
          57,
          22,
          34,
          65,
          69,
          55,
          55,
          50,
          50,
          70,
          70,
          null,
          25,
          55,
          45,
          85,
          65,
          60,
          45,
          25,
          75,
          35,
          55,
          61,
          74,
          73,
          33,
          57,
          73,
          54,
          35,
          60,
          31,
          null,
          61,
          57,
          null,
          42,
          16,
          29,
          55,
          21,
          45,
          42,
          60,
          25,
          37,
          55,
          25,
          55,
          35,
          35,
          35,
          25,
          65,
          40,
          null,
          null,
          24,
          46,
          null,
          null,
          null,
          73,
          36,
          64,
          62,
          62,
          68,
          73,
          37,
          72,
          64,
          56,
          28,
          55,
          63,
          65,
          57,
          91,
          51,
          25,
          50,
          55,
          63,
          86,
          62,
          60,
          37,
          67,
          41,
          null,
          46,
          32,
          83,
          83,
          70,
          38,
          96,
          80,
          76,
          57,
          68,
          59,
          58,
          57,
          55,
          60,
          49,
          21,
          29,
          70,
          89,
          null,
          null,
          null,
          null,
          null,
          null,
          38,
          60,
          32,
          null,
          36,
          null,
          22,
          null,
          25,
          27,
          25,
          null,
          45,
          null,
          null,
          null,
          null,
          null,
          null,
          null,
          null,
          null,
          null,
          null,
          null
         ]
        },
        {
         "boxmean": "sd",
         "marker": {
          "color": "lightseagreen"
         },
         "name": "Male",
         "type": "box",
         "y": [
          66,
          46,
          58,
          34,
          37,
          39,
          56,
          37,
          51,
          57,
          56,
          50,
          33,
          40,
          70,
          51,
          null,
          37,
          19,
          29,
          46,
          28,
          55,
          68,
          38,
          72,
          45,
          42,
          37,
          69,
          63,
          49,
          50,
          48,
          36,
          61,
          69,
          89,
          89,
          66,
          75,
          82,
          66,
          81,
          65,
          53,
          86,
          84,
          40,
          45,
          59,
          43,
          49,
          42,
          22,
          47,
          52,
          53,
          46,
          36,
          73,
          81,
          42,
          30,
          49,
          23,
          39,
          49,
          70,
          72,
          79,
          55,
          87,
          58,
          66,
          78,
          67,
          65,
          58,
          null,
          57,
          40,
          46,
          56,
          29,
          57,
          30,
          28,
          41,
          46,
          40,
          28,
          27,
          15,
          24,
          34,
          63,
          58,
          null,
          null,
          null,
          49,
          33,
          44,
          33,
          71,
          31,
          71,
          35,
          38,
          50,
          78,
          49,
          34,
          null,
          65,
          38,
          18,
          50,
          48,
          39,
          31,
          27,
          37,
          48,
          31,
          80,
          63,
          55,
          36,
          60,
          null,
          31,
          72,
          null,
          50,
          null,
          35,
          45,
          45,
          45,
          65,
          55,
          55,
          45,
          45,
          35,
          55,
          45,
          25,
          55,
          25,
          45,
          55,
          75,
          55,
          25,
          75,
          75,
          65,
          55,
          35,
          55,
          65,
          45,
          65,
          35,
          65,
          65,
          65,
          55,
          55,
          65,
          35,
          85,
          25,
          55,
          65,
          85,
          75,
          65,
          45,
          65,
          65,
          75,
          55,
          65,
          45,
          85,
          85,
          85,
          5,
          15,
          55,
          65,
          85,
          75,
          55,
          65,
          45,
          85,
          75,
          65,
          65,
          65,
          65,
          55,
          55,
          75,
          75,
          45,
          35,
          25,
          75,
          85,
          55,
          65,
          55,
          55,
          55,
          45,
          55,
          35,
          65,
          55,
          55,
          65,
          75,
          25,
          75,
          45,
          65,
          85,
          75,
          75,
          55,
          65,
          75,
          75,
          55,
          55,
          55,
          45,
          55,
          55,
          35,
          75,
          65,
          45,
          45,
          5,
          35,
          5,
          85,
          35,
          85,
          65,
          65,
          40,
          11,
          2,
          52,
          41,
          63,
          45,
          9,
          31,
          27,
          32,
          66,
          37,
          36,
          56,
          35,
          56,
          56,
          31,
          38,
          null,
          0.5,
          45,
          41,
          27,
          53,
          64,
          53,
          51,
          36,
          71,
          39,
          54,
          37,
          35,
          39,
          34,
          46,
          62,
          48,
          37,
          54,
          30,
          30,
          26,
          55,
          61,
          57,
          50,
          28,
          26,
          25,
          40,
          43,
          29,
          1,
          35,
          50,
          54,
          36,
          24,
          32,
          41,
          47,
          38,
          55,
          54,
          55,
          32,
          56,
          28,
          25,
          48,
          28,
          43,
          37,
          36,
          46,
          28,
          51,
          82,
          24,
          49,
          77,
          28,
          58,
          76,
          24,
          57,
          59,
          75,
          30,
          60,
          22,
          29,
          49,
          36,
          55,
          64,
          67,
          74,
          35,
          62,
          58,
          62,
          41,
          36,
          75,
          55,
          55,
          null,
          55,
          45,
          55,
          25,
          25,
          65,
          55,
          35,
          85,
          55,
          45,
          null,
          35,
          68,
          null,
          50,
          70,
          29,
          null,
          8,
          25,
          35,
          null,
          65,
          null,
          25,
          57,
          66,
          28,
          30,
          50,
          35,
          43,
          53,
          55,
          44,
          65,
          60,
          8,
          37,
          56,
          45,
          35,
          45,
          60,
          33,
          null,
          52,
          33,
          58,
          49,
          25,
          60,
          32,
          47,
          41,
          null,
          null,
          null,
          null,
          31,
          null,
          null,
          null,
          null,
          32,
          41,
          8,
          37,
          70,
          39,
          56,
          63,
          47,
          64,
          72,
          75,
          39,
          80,
          60,
          25,
          56,
          58,
          42,
          24,
          70,
          68,
          22,
          23,
          52,
          69,
          59,
          71,
          37,
          66,
          75,
          51,
          43,
          37,
          70,
          54,
          69,
          45,
          58,
          68,
          75,
          58,
          48,
          68,
          62,
          35,
          57,
          33,
          24,
          16,
          80,
          26,
          null,
          35,
          null,
          53,
          null,
          null,
          null,
          null,
          44,
          null,
          null,
          69,
          31,
          22,
          62,
          44,
          30,
          null,
          null,
          null,
          null,
          null,
          28,
          42,
          53,
          55,
          58,
          null,
          null,
          null,
          null,
          null,
          null,
          70
         ]
        }
       ],
       "layout": {
        "annotations": [
         {
          "font": {
           "color": "rgb(150,150,150)",
           "family": "Arial",
           "size": 12
          },
          "showarrow": false,
          "text": "Source: Kaggle Coronavirus (COVID-19) Visualization & Prediction",
          "x": 0.5,
          "xanchor": "center",
          "xref": "paper",
          "y": -0.16,
          "yanchor": "top",
          "yref": "paper"
         },
         {
          "font": {
           "color": "rgb(37,37,37)",
           "family": "Arial",
           "size": 30
          },
          "showarrow": false,
          "text": "Distribution of population on gender/age",
          "x": 0,
          "xanchor": "left",
          "xref": "paper",
          "y": 1.05,
          "yanchor": "bottom",
          "yref": "paper"
         }
        ],
        "bargap": 0.2,
        "bargroupgap": 0.1,
        "plot_bgcolor": "white",
        "template": {
         "data": {
          "bar": [
           {
            "error_x": {
             "color": "#2a3f5f"
            },
            "error_y": {
             "color": "#2a3f5f"
            },
            "marker": {
             "line": {
              "color": "#E5ECF6",
              "width": 0.5
             }
            },
            "type": "bar"
           }
          ],
          "barpolar": [
           {
            "marker": {
             "line": {
              "color": "#E5ECF6",
              "width": 0.5
             }
            },
            "type": "barpolar"
           }
          ],
          "carpet": [
           {
            "aaxis": {
             "endlinecolor": "#2a3f5f",
             "gridcolor": "white",
             "linecolor": "white",
             "minorgridcolor": "white",
             "startlinecolor": "#2a3f5f"
            },
            "baxis": {
             "endlinecolor": "#2a3f5f",
             "gridcolor": "white",
             "linecolor": "white",
             "minorgridcolor": "white",
             "startlinecolor": "#2a3f5f"
            },
            "type": "carpet"
           }
          ],
          "choropleth": [
           {
            "colorbar": {
             "outlinewidth": 0,
             "ticks": ""
            },
            "type": "choropleth"
           }
          ],
          "contour": [
           {
            "colorbar": {
             "outlinewidth": 0,
             "ticks": ""
            },
            "colorscale": [
             [
              0,
              "#0d0887"
             ],
             [
              0.1111111111111111,
              "#46039f"
             ],
             [
              0.2222222222222222,
              "#7201a8"
             ],
             [
              0.3333333333333333,
              "#9c179e"
             ],
             [
              0.4444444444444444,
              "#bd3786"
             ],
             [
              0.5555555555555556,
              "#d8576b"
             ],
             [
              0.6666666666666666,
              "#ed7953"
             ],
             [
              0.7777777777777778,
              "#fb9f3a"
             ],
             [
              0.8888888888888888,
              "#fdca26"
             ],
             [
              1,
              "#f0f921"
             ]
            ],
            "type": "contour"
           }
          ],
          "contourcarpet": [
           {
            "colorbar": {
             "outlinewidth": 0,
             "ticks": ""
            },
            "type": "contourcarpet"
           }
          ],
          "heatmap": [
           {
            "colorbar": {
             "outlinewidth": 0,
             "ticks": ""
            },
            "colorscale": [
             [
              0,
              "#0d0887"
             ],
             [
              0.1111111111111111,
              "#46039f"
             ],
             [
              0.2222222222222222,
              "#7201a8"
             ],
             [
              0.3333333333333333,
              "#9c179e"
             ],
             [
              0.4444444444444444,
              "#bd3786"
             ],
             [
              0.5555555555555556,
              "#d8576b"
             ],
             [
              0.6666666666666666,
              "#ed7953"
             ],
             [
              0.7777777777777778,
              "#fb9f3a"
             ],
             [
              0.8888888888888888,
              "#fdca26"
             ],
             [
              1,
              "#f0f921"
             ]
            ],
            "type": "heatmap"
           }
          ],
          "heatmapgl": [
           {
            "colorbar": {
             "outlinewidth": 0,
             "ticks": ""
            },
            "colorscale": [
             [
              0,
              "#0d0887"
             ],
             [
              0.1111111111111111,
              "#46039f"
             ],
             [
              0.2222222222222222,
              "#7201a8"
             ],
             [
              0.3333333333333333,
              "#9c179e"
             ],
             [
              0.4444444444444444,
              "#bd3786"
             ],
             [
              0.5555555555555556,
              "#d8576b"
             ],
             [
              0.6666666666666666,
              "#ed7953"
             ],
             [
              0.7777777777777778,
              "#fb9f3a"
             ],
             [
              0.8888888888888888,
              "#fdca26"
             ],
             [
              1,
              "#f0f921"
             ]
            ],
            "type": "heatmapgl"
           }
          ],
          "histogram": [
           {
            "marker": {
             "colorbar": {
              "outlinewidth": 0,
              "ticks": ""
             }
            },
            "type": "histogram"
           }
          ],
          "histogram2d": [
           {
            "colorbar": {
             "outlinewidth": 0,
             "ticks": ""
            },
            "colorscale": [
             [
              0,
              "#0d0887"
             ],
             [
              0.1111111111111111,
              "#46039f"
             ],
             [
              0.2222222222222222,
              "#7201a8"
             ],
             [
              0.3333333333333333,
              "#9c179e"
             ],
             [
              0.4444444444444444,
              "#bd3786"
             ],
             [
              0.5555555555555556,
              "#d8576b"
             ],
             [
              0.6666666666666666,
              "#ed7953"
             ],
             [
              0.7777777777777778,
              "#fb9f3a"
             ],
             [
              0.8888888888888888,
              "#fdca26"
             ],
             [
              1,
              "#f0f921"
             ]
            ],
            "type": "histogram2d"
           }
          ],
          "histogram2dcontour": [
           {
            "colorbar": {
             "outlinewidth": 0,
             "ticks": ""
            },
            "colorscale": [
             [
              0,
              "#0d0887"
             ],
             [
              0.1111111111111111,
              "#46039f"
             ],
             [
              0.2222222222222222,
              "#7201a8"
             ],
             [
              0.3333333333333333,
              "#9c179e"
             ],
             [
              0.4444444444444444,
              "#bd3786"
             ],
             [
              0.5555555555555556,
              "#d8576b"
             ],
             [
              0.6666666666666666,
              "#ed7953"
             ],
             [
              0.7777777777777778,
              "#fb9f3a"
             ],
             [
              0.8888888888888888,
              "#fdca26"
             ],
             [
              1,
              "#f0f921"
             ]
            ],
            "type": "histogram2dcontour"
           }
          ],
          "mesh3d": [
           {
            "colorbar": {
             "outlinewidth": 0,
             "ticks": ""
            },
            "type": "mesh3d"
           }
          ],
          "parcoords": [
           {
            "line": {
             "colorbar": {
              "outlinewidth": 0,
              "ticks": ""
             }
            },
            "type": "parcoords"
           }
          ],
          "pie": [
           {
            "automargin": true,
            "type": "pie"
           }
          ],
          "scatter": [
           {
            "marker": {
             "colorbar": {
              "outlinewidth": 0,
              "ticks": ""
             }
            },
            "type": "scatter"
           }
          ],
          "scatter3d": [
           {
            "line": {
             "colorbar": {
              "outlinewidth": 0,
              "ticks": ""
             }
            },
            "marker": {
             "colorbar": {
              "outlinewidth": 0,
              "ticks": ""
             }
            },
            "type": "scatter3d"
           }
          ],
          "scattercarpet": [
           {
            "marker": {
             "colorbar": {
              "outlinewidth": 0,
              "ticks": ""
             }
            },
            "type": "scattercarpet"
           }
          ],
          "scattergeo": [
           {
            "marker": {
             "colorbar": {
              "outlinewidth": 0,
              "ticks": ""
             }
            },
            "type": "scattergeo"
           }
          ],
          "scattergl": [
           {
            "marker": {
             "colorbar": {
              "outlinewidth": 0,
              "ticks": ""
             }
            },
            "type": "scattergl"
           }
          ],
          "scattermapbox": [
           {
            "marker": {
             "colorbar": {
              "outlinewidth": 0,
              "ticks": ""
             }
            },
            "type": "scattermapbox"
           }
          ],
          "scatterpolar": [
           {
            "marker": {
             "colorbar": {
              "outlinewidth": 0,
              "ticks": ""
             }
            },
            "type": "scatterpolar"
           }
          ],
          "scatterpolargl": [
           {
            "marker": {
             "colorbar": {
              "outlinewidth": 0,
              "ticks": ""
             }
            },
            "type": "scatterpolargl"
           }
          ],
          "scatterternary": [
           {
            "marker": {
             "colorbar": {
              "outlinewidth": 0,
              "ticks": ""
             }
            },
            "type": "scatterternary"
           }
          ],
          "surface": [
           {
            "colorbar": {
             "outlinewidth": 0,
             "ticks": ""
            },
            "colorscale": [
             [
              0,
              "#0d0887"
             ],
             [
              0.1111111111111111,
              "#46039f"
             ],
             [
              0.2222222222222222,
              "#7201a8"
             ],
             [
              0.3333333333333333,
              "#9c179e"
             ],
             [
              0.4444444444444444,
              "#bd3786"
             ],
             [
              0.5555555555555556,
              "#d8576b"
             ],
             [
              0.6666666666666666,
              "#ed7953"
             ],
             [
              0.7777777777777778,
              "#fb9f3a"
             ],
             [
              0.8888888888888888,
              "#fdca26"
             ],
             [
              1,
              "#f0f921"
             ]
            ],
            "type": "surface"
           }
          ],
          "table": [
           {
            "cells": {
             "fill": {
              "color": "#EBF0F8"
             },
             "line": {
              "color": "white"
             }
            },
            "header": {
             "fill": {
              "color": "#C8D4E3"
             },
             "line": {
              "color": "white"
             }
            },
            "type": "table"
           }
          ]
         },
         "layout": {
          "annotationdefaults": {
           "arrowcolor": "#2a3f5f",
           "arrowhead": 0,
           "arrowwidth": 1
          },
          "coloraxis": {
           "colorbar": {
            "outlinewidth": 0,
            "ticks": ""
           }
          },
          "colorscale": {
           "diverging": [
            [
             0,
             "#8e0152"
            ],
            [
             0.1,
             "#c51b7d"
            ],
            [
             0.2,
             "#de77ae"
            ],
            [
             0.3,
             "#f1b6da"
            ],
            [
             0.4,
             "#fde0ef"
            ],
            [
             0.5,
             "#f7f7f7"
            ],
            [
             0.6,
             "#e6f5d0"
            ],
            [
             0.7,
             "#b8e186"
            ],
            [
             0.8,
             "#7fbc41"
            ],
            [
             0.9,
             "#4d9221"
            ],
            [
             1,
             "#276419"
            ]
           ],
           "sequential": [
            [
             0,
             "#0d0887"
            ],
            [
             0.1111111111111111,
             "#46039f"
            ],
            [
             0.2222222222222222,
             "#7201a8"
            ],
            [
             0.3333333333333333,
             "#9c179e"
            ],
            [
             0.4444444444444444,
             "#bd3786"
            ],
            [
             0.5555555555555556,
             "#d8576b"
            ],
            [
             0.6666666666666666,
             "#ed7953"
            ],
            [
             0.7777777777777778,
             "#fb9f3a"
            ],
            [
             0.8888888888888888,
             "#fdca26"
            ],
            [
             1,
             "#f0f921"
            ]
           ],
           "sequentialminus": [
            [
             0,
             "#0d0887"
            ],
            [
             0.1111111111111111,
             "#46039f"
            ],
            [
             0.2222222222222222,
             "#7201a8"
            ],
            [
             0.3333333333333333,
             "#9c179e"
            ],
            [
             0.4444444444444444,
             "#bd3786"
            ],
            [
             0.5555555555555556,
             "#d8576b"
            ],
            [
             0.6666666666666666,
             "#ed7953"
            ],
            [
             0.7777777777777778,
             "#fb9f3a"
            ],
            [
             0.8888888888888888,
             "#fdca26"
            ],
            [
             1,
             "#f0f921"
            ]
           ]
          },
          "colorway": [
           "#636efa",
           "#EF553B",
           "#00cc96",
           "#ab63fa",
           "#FFA15A",
           "#19d3f3",
           "#FF6692",
           "#B6E880",
           "#FF97FF",
           "#FECB52"
          ],
          "font": {
           "color": "#2a3f5f"
          },
          "geo": {
           "bgcolor": "white",
           "lakecolor": "white",
           "landcolor": "#E5ECF6",
           "showlakes": true,
           "showland": true,
           "subunitcolor": "white"
          },
          "hoverlabel": {
           "align": "left"
          },
          "hovermode": "closest",
          "mapbox": {
           "style": "light"
          },
          "paper_bgcolor": "white",
          "plot_bgcolor": "#E5ECF6",
          "polar": {
           "angularaxis": {
            "gridcolor": "white",
            "linecolor": "white",
            "ticks": ""
           },
           "bgcolor": "#E5ECF6",
           "radialaxis": {
            "gridcolor": "white",
            "linecolor": "white",
            "ticks": ""
           }
          },
          "scene": {
           "xaxis": {
            "backgroundcolor": "#E5ECF6",
            "gridcolor": "white",
            "gridwidth": 2,
            "linecolor": "white",
            "showbackground": true,
            "ticks": "",
            "zerolinecolor": "white"
           },
           "yaxis": {
            "backgroundcolor": "#E5ECF6",
            "gridcolor": "white",
            "gridwidth": 2,
            "linecolor": "white",
            "showbackground": true,
            "ticks": "",
            "zerolinecolor": "white"
           },
           "zaxis": {
            "backgroundcolor": "#E5ECF6",
            "gridcolor": "white",
            "gridwidth": 2,
            "linecolor": "white",
            "showbackground": true,
            "ticks": "",
            "zerolinecolor": "white"
           }
          },
          "shapedefaults": {
           "line": {
            "color": "#2a3f5f"
           }
          },
          "ternary": {
           "aaxis": {
            "gridcolor": "white",
            "linecolor": "white",
            "ticks": ""
           },
           "baxis": {
            "gridcolor": "white",
            "linecolor": "white",
            "ticks": ""
           },
           "bgcolor": "#E5ECF6",
           "caxis": {
            "gridcolor": "white",
            "linecolor": "white",
            "ticks": ""
           }
          },
          "title": {
           "x": 0.05
          },
          "xaxis": {
           "automargin": true,
           "gridcolor": "white",
           "linecolor": "white",
           "ticks": "",
           "title": {
            "standoff": 15
           },
           "zerolinecolor": "white",
           "zerolinewidth": 2
          },
          "yaxis": {
           "automargin": true,
           "gridcolor": "white",
           "linecolor": "white",
           "ticks": "",
           "title": {
            "standoff": 15
           },
           "zerolinecolor": "white",
           "zerolinewidth": 2
          }
         }
        },
        "yaxis": {
         "nticks": 20,
         "title": {
          "text": "Age"
         }
        }
       }
      },
      "text/html": [
       "<div>\n",
       "        \n",
       "        \n",
       "            <div id=\"ca793d70-25bf-4313-9c2a-e385bde014ae\" class=\"plotly-graph-div\" style=\"height:525px; width:100%;\"></div>\n",
       "            <script type=\"text/javascript\">\n",
       "                require([\"plotly\"], function(Plotly) {\n",
       "                    window.PLOTLYENV=window.PLOTLYENV || {};\n",
       "                    \n",
       "                if (document.getElementById(\"ca793d70-25bf-4313-9c2a-e385bde014ae\")) {\n",
       "                    Plotly.newPlot(\n",
       "                        'ca793d70-25bf-4313-9c2a-e385bde014ae',\n",
       "                        [{\"boxmean\": \"sd\", \"marker\": {\"color\": \"indianred\"}, \"name\": \"Female\", \"type\": \"box\", \"y\": [56.0, 60.0, 44.0, 18.0, 32.0, 52.0, 28.0, 66.0, 32.0, 33.0, 33.0, 62.0, 36.0, 48.0, 82.0, 80.0, 70.0, 50.0, 66.0, 23.0, 50.0, 32.0, 85.0, 69.0, 70.0, 65.0, 29.0, null, 56.0, 39.0, 34.0, 76.0, 66.0, 67.0, 82.0, 49.0, 2.0, 59.0, 68.0, 29.0, 33.0, 20.0, 24.0, 45.0, 9.0, 42.0, 32.0, 55.0, 79.0, 19.0, 58.0, 39.0, 21.0, 30.0, 64.0, 70.0, 52.0, 32.0, 48.0, 19.0, 68.0, 4.0, 69.0, 55.0, 36.0, 36.0, 40.0, 63.0, 47.0, 42.0, 41.0, 28.0, 51.0, 30.0, null, 33.0, 60.0, 58.0, 35.0, 23.0, 35.0, 45.0, 45.0, 35.0, 25.0, 25.0, 35.0, 55.0, 85.0, 65.0, 55.0, 55.0, 65.0, 65.0, 85.0, 55.0, 45.0, 75.0, 75.0, 55.0, 75.0, 65.0, 45.0, 55.0, 75.0, 55.0, 25.0, 25.0, 65.0, 55.0, 75.0, 55.0, 55.0, 15.0, 55.0, 65.0, 46.0, 65.0, 75.0, 65.0, 35.0, 45.0, 25.0, 55.0, 75.0, 25.0, 55.0, 25.0, 25.0, 65.0, 65.0, 55.0, 75.0, 75.0, 45.0, 25.0, 75.0, 75.0, 45.0, 75.0, 55.0, 60.0, 45.0, 65.0, 65.0, 4.0, 36.0, 49.0, 40.0, 37.0, 59.0, 67.0, 65.0, 39.0, 32.0, 83.0, 53.0, 53.0, 56.0, 56.0, 31.0, 37.0, 73.0, 47.0, 47.0, 31.0, 28.0, 48.0, 44.0, 32.0, 42.0, 42.0, 39.0, 40.0, 38.0, 52.0, 2.0, 55.0, 51.0, 44.0, 54.0, 61.0, 56.0, 79.0, 27.0, 71.0, 57.0, 35.0, 38.0, 57.0, 35.0, 30.0, 75.0, 58.0, 35.0, 62.0, 28.0, 52.0, 40.0, 42.0, 21.0, 41.0, 59.0, 58.0, 73.0, 37.0, 30.0, 68.0, 61.0, 11.0, 40.0, 26.0, 48.0, 57.0, 61.0, 69.0, 29.0, 58.0, 46.0, 54.0, 63.0, 72.0, 61.0, 38.0, 26.0, 34.0, 59.0, 58.0, 52.0, 59.0, 50.0, 30.0, 56.0, 48.0, 56.0, 39.0, 20.0, 23.0, 57.0, 22.0, 34.0, 65.0, 69.0, 55.0, 55.0, 50.0, 50.0, 70.0, 70.0, null, 25.0, 55.0, 45.0, 85.0, 65.0, 60.0, 45.0, 25.0, 75.0, 35.0, 55.0, 61.0, 74.0, 73.0, 33.0, 57.0, 73.0, 54.0, 35.0, 60.0, 31.0, null, 61.0, 57.0, null, 42.0, 16.0, 29.0, 55.0, 21.0, 45.0, 42.0, 60.0, 25.0, 37.0, 55.0, 25.0, 55.0, 35.0, 35.0, 35.0, 25.0, 65.0, 40.0, null, null, 24.0, 46.0, null, null, null, 73.0, 36.0, 64.0, 62.0, 62.0, 68.0, 73.0, 37.0, 72.0, 64.0, 56.0, 28.0, 55.0, 63.0, 65.0, 57.0, 91.0, 51.0, 25.0, 50.0, 55.0, 63.0, 86.0, 62.0, 60.0, 37.0, 67.0, 41.0, null, 46.0, 32.0, 83.0, 83.0, 70.0, 38.0, 96.0, 80.0, 76.0, 57.0, 68.0, 59.0, 58.0, 57.0, 55.0, 60.0, 49.0, 21.0, 29.0, 70.0, 89.0, null, null, null, null, null, null, 38.0, 60.0, 32.0, null, 36.0, null, 22.0, null, 25.0, 27.0, 25.0, null, 45.0, null, null, null, null, null, null, null, null, null, null, null, null]}, {\"boxmean\": \"sd\", \"marker\": {\"color\": \"lightseagreen\"}, \"name\": \"Male\", \"type\": \"box\", \"y\": [66.0, 46.0, 58.0, 34.0, 37.0, 39.0, 56.0, 37.0, 51.0, 57.0, 56.0, 50.0, 33.0, 40.0, 70.0, 51.0, null, 37.0, 19.0, 29.0, 46.0, 28.0, 55.0, 68.0, 38.0, 72.0, 45.0, 42.0, 37.0, 69.0, 63.0, 49.0, 50.0, 48.0, 36.0, 61.0, 69.0, 89.0, 89.0, 66.0, 75.0, 82.0, 66.0, 81.0, 65.0, 53.0, 86.0, 84.0, 40.0, 45.0, 59.0, 43.0, 49.0, 42.0, 22.0, 47.0, 52.0, 53.0, 46.0, 36.0, 73.0, 81.0, 42.0, 30.0, 49.0, 23.0, 39.0, 49.0, 70.0, 72.0, 79.0, 55.0, 87.0, 58.0, 66.0, 78.0, 67.0, 65.0, 58.0, null, 57.0, 40.0, 46.0, 56.0, 29.0, 57.0, 30.0, 28.0, 41.0, 46.0, 40.0, 28.0, 27.0, 15.0, 24.0, 34.0, 63.0, 58.0, null, null, null, 49.0, 33.0, 44.0, 33.0, 71.0, 31.0, 71.0, 35.0, 38.0, 50.0, 78.0, 49.0, 34.0, null, 65.0, 38.0, 18.0, 50.0, 48.0, 39.0, 31.0, 27.0, 37.0, 48.0, 31.0, 80.0, 63.0, 55.0, 36.0, 60.0, null, 31.0, 72.0, null, 50.0, null, 35.0, 45.0, 45.0, 45.0, 65.0, 55.0, 55.0, 45.0, 45.0, 35.0, 55.0, 45.0, 25.0, 55.0, 25.0, 45.0, 55.0, 75.0, 55.0, 25.0, 75.0, 75.0, 65.0, 55.0, 35.0, 55.0, 65.0, 45.0, 65.0, 35.0, 65.0, 65.0, 65.0, 55.0, 55.0, 65.0, 35.0, 85.0, 25.0, 55.0, 65.0, 85.0, 75.0, 65.0, 45.0, 65.0, 65.0, 75.0, 55.0, 65.0, 45.0, 85.0, 85.0, 85.0, 5.0, 15.0, 55.0, 65.0, 85.0, 75.0, 55.0, 65.0, 45.0, 85.0, 75.0, 65.0, 65.0, 65.0, 65.0, 55.0, 55.0, 75.0, 75.0, 45.0, 35.0, 25.0, 75.0, 85.0, 55.0, 65.0, 55.0, 55.0, 55.0, 45.0, 55.0, 35.0, 65.0, 55.0, 55.0, 65.0, 75.0, 25.0, 75.0, 45.0, 65.0, 85.0, 75.0, 75.0, 55.0, 65.0, 75.0, 75.0, 55.0, 55.0, 55.0, 45.0, 55.0, 55.0, 35.0, 75.0, 65.0, 45.0, 45.0, 5.0, 35.0, 5.0, 85.0, 35.0, 85.0, 65.0, 65.0, 40.0, 11.0, 2.0, 52.0, 41.0, 63.0, 45.0, 9.0, 31.0, 27.0, 32.0, 66.0, 37.0, 36.0, 56.0, 35.0, 56.0, 56.0, 31.0, 38.0, null, 0.5, 45.0, 41.0, 27.0, 53.0, 64.0, 53.0, 51.0, 36.0, 71.0, 39.0, 54.0, 37.0, 35.0, 39.0, 34.0, 46.0, 62.0, 48.0, 37.0, 54.0, 30.0, 30.0, 26.0, 55.0, 61.0, 57.0, 50.0, 28.0, 26.0, 25.0, 40.0, 43.0, 29.0, 1.0, 35.0, 50.0, 54.0, 36.0, 24.0, 32.0, 41.0, 47.0, 38.0, 55.0, 54.0, 55.0, 32.0, 56.0, 28.0, 25.0, 48.0, 28.0, 43.0, 37.0, 36.0, 46.0, 28.0, 51.0, 82.0, 24.0, 49.0, 77.0, 28.0, 58.0, 76.0, 24.0, 57.0, 59.0, 75.0, 30.0, 60.0, 22.0, 29.0, 49.0, 36.0, 55.0, 64.0, 67.0, 74.0, 35.0, 62.0, 58.0, 62.0, 41.0, 36.0, 75.0, 55.0, 55.0, null, 55.0, 45.0, 55.0, 25.0, 25.0, 65.0, 55.0, 35.0, 85.0, 55.0, 45.0, null, 35.0, 68.0, null, 50.0, 70.0, 29.0, null, 8.0, 25.0, 35.0, null, 65.0, null, 25.0, 57.0, 66.0, 28.0, 30.0, 50.0, 35.0, 43.0, 53.0, 55.0, 44.0, 65.0, 60.0, 8.0, 37.0, 56.0, 45.0, 35.0, 45.0, 60.0, 33.0, null, 52.0, 33.0, 58.0, 49.0, 25.0, 60.0, 32.0, 47.0, 41.0, null, null, null, null, 31.0, null, null, null, null, 32.0, 41.0, 8.0, 37.0, 70.0, 39.0, 56.0, 63.0, 47.0, 64.0, 72.0, 75.0, 39.0, 80.0, 60.0, 25.0, 56.0, 58.0, 42.0, 24.0, 70.0, 68.0, 22.0, 23.0, 52.0, 69.0, 59.0, 71.0, 37.0, 66.0, 75.0, 51.0, 43.0, 37.0, 70.0, 54.0, 69.0, 45.0, 58.0, 68.0, 75.0, 58.0, 48.0, 68.0, 62.0, 35.0, 57.0, 33.0, 24.0, 16.0, 80.0, 26.0, null, 35.0, null, 53.0, null, null, null, null, 44.0, null, null, 69.0, 31.0, 22.0, 62.0, 44.0, 30.0, null, null, null, null, null, 28.0, 42.0, 53.0, 55.0, 58.0, null, null, null, null, null, null, 70.0]}],\n",
       "                        {\"annotations\": [{\"font\": {\"color\": \"rgb(150,150,150)\", \"family\": \"Arial\", \"size\": 12}, \"showarrow\": false, \"text\": \"Source: Kaggle Coronavirus (COVID-19) Visualization & Prediction\", \"x\": 0.5, \"xanchor\": \"center\", \"xref\": \"paper\", \"y\": -0.16, \"yanchor\": \"top\", \"yref\": \"paper\"}, {\"font\": {\"color\": \"rgb(37,37,37)\", \"family\": \"Arial\", \"size\": 30}, \"showarrow\": false, \"text\": \"Distribution of population on gender/age\", \"x\": 0.0, \"xanchor\": \"left\", \"xref\": \"paper\", \"y\": 1.05, \"yanchor\": \"bottom\", \"yref\": \"paper\"}], \"bargap\": 0.2, \"bargroupgap\": 0.1, \"plot_bgcolor\": \"white\", \"template\": {\"data\": {\"bar\": [{\"error_x\": {\"color\": \"#2a3f5f\"}, \"error_y\": {\"color\": \"#2a3f5f\"}, \"marker\": {\"line\": {\"color\": \"#E5ECF6\", \"width\": 0.5}}, \"type\": \"bar\"}], \"barpolar\": [{\"marker\": {\"line\": {\"color\": \"#E5ECF6\", \"width\": 0.5}}, \"type\": \"barpolar\"}], \"carpet\": [{\"aaxis\": {\"endlinecolor\": \"#2a3f5f\", \"gridcolor\": \"white\", \"linecolor\": \"white\", \"minorgridcolor\": \"white\", \"startlinecolor\": \"#2a3f5f\"}, \"baxis\": {\"endlinecolor\": \"#2a3f5f\", \"gridcolor\": \"white\", \"linecolor\": \"white\", \"minorgridcolor\": \"white\", \"startlinecolor\": \"#2a3f5f\"}, \"type\": \"carpet\"}], \"choropleth\": [{\"colorbar\": {\"outlinewidth\": 0, \"ticks\": \"\"}, \"type\": \"choropleth\"}], \"contour\": [{\"colorbar\": {\"outlinewidth\": 0, \"ticks\": \"\"}, \"colorscale\": [[0.0, \"#0d0887\"], [0.1111111111111111, \"#46039f\"], [0.2222222222222222, \"#7201a8\"], [0.3333333333333333, \"#9c179e\"], [0.4444444444444444, \"#bd3786\"], [0.5555555555555556, \"#d8576b\"], [0.6666666666666666, \"#ed7953\"], [0.7777777777777778, \"#fb9f3a\"], [0.8888888888888888, \"#fdca26\"], [1.0, \"#f0f921\"]], \"type\": \"contour\"}], \"contourcarpet\": [{\"colorbar\": {\"outlinewidth\": 0, \"ticks\": \"\"}, \"type\": \"contourcarpet\"}], \"heatmap\": [{\"colorbar\": {\"outlinewidth\": 0, \"ticks\": \"\"}, \"colorscale\": [[0.0, \"#0d0887\"], [0.1111111111111111, \"#46039f\"], [0.2222222222222222, \"#7201a8\"], [0.3333333333333333, \"#9c179e\"], [0.4444444444444444, \"#bd3786\"], [0.5555555555555556, \"#d8576b\"], [0.6666666666666666, \"#ed7953\"], [0.7777777777777778, \"#fb9f3a\"], [0.8888888888888888, \"#fdca26\"], [1.0, \"#f0f921\"]], \"type\": \"heatmap\"}], \"heatmapgl\": [{\"colorbar\": {\"outlinewidth\": 0, \"ticks\": \"\"}, \"colorscale\": [[0.0, \"#0d0887\"], [0.1111111111111111, \"#46039f\"], [0.2222222222222222, \"#7201a8\"], [0.3333333333333333, \"#9c179e\"], [0.4444444444444444, \"#bd3786\"], [0.5555555555555556, \"#d8576b\"], [0.6666666666666666, \"#ed7953\"], [0.7777777777777778, \"#fb9f3a\"], [0.8888888888888888, \"#fdca26\"], [1.0, \"#f0f921\"]], \"type\": \"heatmapgl\"}], \"histogram\": [{\"marker\": {\"colorbar\": {\"outlinewidth\": 0, \"ticks\": \"\"}}, \"type\": \"histogram\"}], \"histogram2d\": [{\"colorbar\": {\"outlinewidth\": 0, \"ticks\": \"\"}, \"colorscale\": [[0.0, \"#0d0887\"], [0.1111111111111111, \"#46039f\"], [0.2222222222222222, \"#7201a8\"], [0.3333333333333333, \"#9c179e\"], [0.4444444444444444, \"#bd3786\"], [0.5555555555555556, \"#d8576b\"], [0.6666666666666666, \"#ed7953\"], [0.7777777777777778, \"#fb9f3a\"], [0.8888888888888888, \"#fdca26\"], [1.0, \"#f0f921\"]], \"type\": \"histogram2d\"}], \"histogram2dcontour\": [{\"colorbar\": {\"outlinewidth\": 0, \"ticks\": \"\"}, \"colorscale\": [[0.0, \"#0d0887\"], [0.1111111111111111, \"#46039f\"], [0.2222222222222222, \"#7201a8\"], [0.3333333333333333, \"#9c179e\"], [0.4444444444444444, \"#bd3786\"], [0.5555555555555556, \"#d8576b\"], [0.6666666666666666, \"#ed7953\"], [0.7777777777777778, \"#fb9f3a\"], [0.8888888888888888, \"#fdca26\"], [1.0, \"#f0f921\"]], \"type\": \"histogram2dcontour\"}], \"mesh3d\": [{\"colorbar\": {\"outlinewidth\": 0, \"ticks\": \"\"}, \"type\": \"mesh3d\"}], \"parcoords\": [{\"line\": {\"colorbar\": {\"outlinewidth\": 0, \"ticks\": \"\"}}, \"type\": \"parcoords\"}], \"pie\": [{\"automargin\": true, \"type\": \"pie\"}], \"scatter\": [{\"marker\": {\"colorbar\": {\"outlinewidth\": 0, \"ticks\": \"\"}}, \"type\": \"scatter\"}], \"scatter3d\": [{\"line\": {\"colorbar\": {\"outlinewidth\": 0, \"ticks\": \"\"}}, \"marker\": {\"colorbar\": {\"outlinewidth\": 0, \"ticks\": \"\"}}, \"type\": \"scatter3d\"}], \"scattercarpet\": [{\"marker\": {\"colorbar\": {\"outlinewidth\": 0, \"ticks\": \"\"}}, \"type\": \"scattercarpet\"}], \"scattergeo\": [{\"marker\": {\"colorbar\": {\"outlinewidth\": 0, \"ticks\": \"\"}}, \"type\": \"scattergeo\"}], \"scattergl\": [{\"marker\": {\"colorbar\": {\"outlinewidth\": 0, \"ticks\": \"\"}}, \"type\": \"scattergl\"}], \"scattermapbox\": [{\"marker\": {\"colorbar\": {\"outlinewidth\": 0, \"ticks\": \"\"}}, \"type\": \"scattermapbox\"}], \"scatterpolar\": [{\"marker\": {\"colorbar\": {\"outlinewidth\": 0, \"ticks\": \"\"}}, \"type\": \"scatterpolar\"}], \"scatterpolargl\": [{\"marker\": {\"colorbar\": {\"outlinewidth\": 0, \"ticks\": \"\"}}, \"type\": \"scatterpolargl\"}], \"scatterternary\": [{\"marker\": {\"colorbar\": {\"outlinewidth\": 0, \"ticks\": \"\"}}, \"type\": \"scatterternary\"}], \"surface\": [{\"colorbar\": {\"outlinewidth\": 0, \"ticks\": \"\"}, \"colorscale\": [[0.0, \"#0d0887\"], [0.1111111111111111, \"#46039f\"], [0.2222222222222222, \"#7201a8\"], [0.3333333333333333, \"#9c179e\"], [0.4444444444444444, \"#bd3786\"], [0.5555555555555556, \"#d8576b\"], [0.6666666666666666, \"#ed7953\"], [0.7777777777777778, \"#fb9f3a\"], [0.8888888888888888, \"#fdca26\"], [1.0, \"#f0f921\"]], \"type\": \"surface\"}], \"table\": [{\"cells\": {\"fill\": {\"color\": \"#EBF0F8\"}, \"line\": {\"color\": \"white\"}}, \"header\": {\"fill\": {\"color\": \"#C8D4E3\"}, \"line\": {\"color\": \"white\"}}, \"type\": \"table\"}]}, \"layout\": {\"annotationdefaults\": {\"arrowcolor\": \"#2a3f5f\", \"arrowhead\": 0, \"arrowwidth\": 1}, \"coloraxis\": {\"colorbar\": {\"outlinewidth\": 0, \"ticks\": \"\"}}, \"colorscale\": {\"diverging\": [[0, \"#8e0152\"], [0.1, \"#c51b7d\"], [0.2, \"#de77ae\"], [0.3, \"#f1b6da\"], [0.4, \"#fde0ef\"], [0.5, \"#f7f7f7\"], [0.6, \"#e6f5d0\"], [0.7, \"#b8e186\"], [0.8, \"#7fbc41\"], [0.9, \"#4d9221\"], [1, \"#276419\"]], \"sequential\": [[0.0, \"#0d0887\"], [0.1111111111111111, \"#46039f\"], [0.2222222222222222, \"#7201a8\"], [0.3333333333333333, \"#9c179e\"], [0.4444444444444444, \"#bd3786\"], [0.5555555555555556, \"#d8576b\"], [0.6666666666666666, \"#ed7953\"], [0.7777777777777778, \"#fb9f3a\"], [0.8888888888888888, \"#fdca26\"], [1.0, \"#f0f921\"]], \"sequentialminus\": [[0.0, \"#0d0887\"], [0.1111111111111111, \"#46039f\"], [0.2222222222222222, \"#7201a8\"], [0.3333333333333333, \"#9c179e\"], [0.4444444444444444, \"#bd3786\"], [0.5555555555555556, \"#d8576b\"], [0.6666666666666666, \"#ed7953\"], [0.7777777777777778, \"#fb9f3a\"], [0.8888888888888888, \"#fdca26\"], [1.0, \"#f0f921\"]]}, \"colorway\": [\"#636efa\", \"#EF553B\", \"#00cc96\", \"#ab63fa\", \"#FFA15A\", \"#19d3f3\", \"#FF6692\", \"#B6E880\", \"#FF97FF\", \"#FECB52\"], \"font\": {\"color\": \"#2a3f5f\"}, \"geo\": {\"bgcolor\": \"white\", \"lakecolor\": \"white\", \"landcolor\": \"#E5ECF6\", \"showlakes\": true, \"showland\": true, \"subunitcolor\": \"white\"}, \"hoverlabel\": {\"align\": \"left\"}, \"hovermode\": \"closest\", \"mapbox\": {\"style\": \"light\"}, \"paper_bgcolor\": \"white\", \"plot_bgcolor\": \"#E5ECF6\", \"polar\": {\"angularaxis\": {\"gridcolor\": \"white\", \"linecolor\": \"white\", \"ticks\": \"\"}, \"bgcolor\": \"#E5ECF6\", \"radialaxis\": {\"gridcolor\": \"white\", \"linecolor\": \"white\", \"ticks\": \"\"}}, \"scene\": {\"xaxis\": {\"backgroundcolor\": \"#E5ECF6\", \"gridcolor\": \"white\", \"gridwidth\": 2, \"linecolor\": \"white\", \"showbackground\": true, \"ticks\": \"\", \"zerolinecolor\": \"white\"}, \"yaxis\": {\"backgroundcolor\": \"#E5ECF6\", \"gridcolor\": \"white\", \"gridwidth\": 2, \"linecolor\": \"white\", \"showbackground\": true, \"ticks\": \"\", \"zerolinecolor\": \"white\"}, \"zaxis\": {\"backgroundcolor\": \"#E5ECF6\", \"gridcolor\": \"white\", \"gridwidth\": 2, \"linecolor\": \"white\", \"showbackground\": true, \"ticks\": \"\", \"zerolinecolor\": \"white\"}}, \"shapedefaults\": {\"line\": {\"color\": \"#2a3f5f\"}}, \"ternary\": {\"aaxis\": {\"gridcolor\": \"white\", \"linecolor\": \"white\", \"ticks\": \"\"}, \"baxis\": {\"gridcolor\": \"white\", \"linecolor\": \"white\", \"ticks\": \"\"}, \"bgcolor\": \"#E5ECF6\", \"caxis\": {\"gridcolor\": \"white\", \"linecolor\": \"white\", \"ticks\": \"\"}}, \"title\": {\"x\": 0.05}, \"xaxis\": {\"automargin\": true, \"gridcolor\": \"white\", \"linecolor\": \"white\", \"ticks\": \"\", \"title\": {\"standoff\": 15}, \"zerolinecolor\": \"white\", \"zerolinewidth\": 2}, \"yaxis\": {\"automargin\": true, \"gridcolor\": \"white\", \"linecolor\": \"white\", \"ticks\": \"\", \"title\": {\"standoff\": 15}, \"zerolinecolor\": \"white\", \"zerolinewidth\": 2}}}, \"yaxis\": {\"nticks\": 20, \"title\": {\"text\": \"Age\"}}},\n",
       "                        {\"responsive\": true}\n",
       "                    ).then(function(){\n",
       "                            \n",
       "var gd = document.getElementById('ca793d70-25bf-4313-9c2a-e385bde014ae');\n",
       "var x = new MutationObserver(function (mutations, observer) {{\n",
       "        var display = window.getComputedStyle(gd).display;\n",
       "        if (!display || display === 'none') {{\n",
       "            console.log([gd, 'removed!']);\n",
       "            Plotly.purge(gd);\n",
       "            observer.disconnect();\n",
       "        }}\n",
       "}});\n",
       "\n",
       "// Listen for the removal of the full notebook cells\n",
       "var notebookContainer = gd.closest('#notebook-container');\n",
       "if (notebookContainer) {{\n",
       "    x.observe(notebookContainer, {childList: true});\n",
       "}}\n",
       "\n",
       "// Listen for the clearing of the current output cell\n",
       "var outputEl = gd.closest('.output');\n",
       "if (outputEl) {{\n",
       "    x.observe(outputEl, {childList: true});\n",
       "}}\n",
       "\n",
       "                        })\n",
       "                };\n",
       "                });\n",
       "            </script>\n",
       "        </div>"
      ]
     },
     "metadata": {},
     "output_type": "display_data"
    }
   ],
   "source": [
    "@widgets.interact(\n",
    "    data = widgets.ToggleButtons(\n",
    "        options=['gender', 'age', 'gender/age'],\n",
    "        value='gender',\n",
    "        description='data:',\n",
    "        disabled=False,\n",
    "        tooltips=['See Gender Distribution', 'See Age Distribution', 'See Age/Distribution'],\n",
    "    )\n",
    ")\n",
    "\n",
    "def chart(data):\n",
    "    annotations = []\n",
    "    \n",
    "    fig = go.Figure()\n",
    "    if data == 'gender/age':\n",
    "        bg= True\n",
    "        fig.add_trace(go.Histogram(\n",
    "            x=demog[demog['gender'] == 'male']['age'],\n",
    "            histnorm='percent',\n",
    "            name='male',\n",
    "            marker_color='#37ced2',\n",
    "            opacity=0.75,\n",
    "        ))\n",
    "        \n",
    "        fig.add_trace(go.Histogram(\n",
    "            x=demog[demog['gender'] == 'female']['age'],\n",
    "            histnorm='percent',\n",
    "            name='female',\n",
    "            marker_color='#e3ff00',\n",
    "            opacity=0.75\n",
    "        ))\n",
    "    else:\n",
    "        fig.add_trace(go.Histogram(\n",
    "            x=demog[data],\n",
    "            histnorm='percent',\n",
    "            name='control',\n",
    "            marker_color='#3dc546',\n",
    "            opacity=0.75\n",
    "        ))\n",
    "    \n",
    "    #Source Part\n",
    "    annotations.append(\n",
    "        dict(\n",
    "            xref='paper', \n",
    "            yref='paper', \n",
    "            x=0.5, \n",
    "            y=-0.16,\n",
    "            xanchor='center', \n",
    "            yanchor='top',\n",
    "            text='Source: Kaggle Coronavirus (COVID-19) Visualization & Prediction',\n",
    "            font=dict(\n",
    "                family='Arial',\n",
    "                size=12,\n",
    "                color='rgb(150,150,150)'\n",
    "            ),\n",
    "            showarrow=False\n",
    "        )\n",
    "    )\n",
    "    \n",
    "    # Title Part\n",
    "    annotations.append(\n",
    "        dict(\n",
    "            xref='paper', \n",
    "            yref='paper', \n",
    "            x=0.0, \n",
    "            y=1.05,\n",
    "            xanchor='left', \n",
    "            yanchor='bottom',\n",
    "            text=f'Distribution of population on {data}',\n",
    "            font=dict(\n",
    "                family='Arial',\n",
    "                size=30,\n",
    "                color='rgb(37,37,37)'\n",
    "             ),\n",
    "             showarrow=False\n",
    "        )\n",
    "    )\n",
    "    \n",
    "    if data == 'age' or data == 'gender/age':\n",
    "        # right_side of the plot\n",
    "        annotations.append(\n",
    "            dict(\n",
    "                xref='paper', \n",
    "                x=1, \n",
    "    #             y=0.5,\n",
    "                xanchor='left', \n",
    "                yanchor='middle',\n",
    "                text=f'mean {int(np.mean(demog[\"age\"]))}',\n",
    "                font=dict(\n",
    "                    family='Arial',\n",
    "                    size=16\n",
    "                ),\n",
    "              showarrow=False\n",
    "            )\n",
    "        )\n",
    "\n",
    "    fig.update_layout(\n",
    "        bargap=0.2,\n",
    "        bargroupgap=0.1,\n",
    "        xaxis=dict(\n",
    "            title= data,\n",
    "            showticklabels=True,\n",
    "        ),\n",
    "        yaxis=dict(\n",
    "            title= 'Percentage',\n",
    "            nticks=20,\n",
    "        ),\n",
    "        annotations = annotations\n",
    "    )\n",
    "    fig.show()\n",
    "\n",
    "fig = go.Figure()\n",
    "fig.add_trace(\n",
    "    go.Box(\n",
    "        y=demog[demog['gender'] == 'female']['age'], \n",
    "        name='Female',\n",
    "        marker_color = 'indianred', \n",
    "        boxmean='sd',\n",
    "    )\n",
    ")\n",
    "fig.add_trace(\n",
    "    go.Box(\n",
    "        y=demog[demog['gender'] == 'male']['age'], \n",
    "        name='Male',\n",
    "        marker_color = 'lightseagreen', \n",
    "        boxmean='sd'\n",
    "    )\n",
    ")\n",
    "annotations = []\n",
    "#Source Part\n",
    "annotations.append(\n",
    "    dict(\n",
    "        xref='paper', \n",
    "        yref='paper', \n",
    "        x=0.5, \n",
    "        y=-0.16,\n",
    "        xanchor='center', \n",
    "        yanchor='top',\n",
    "        text='Source: Kaggle Coronavirus (COVID-19) Visualization & Prediction',\n",
    "        font=dict(\n",
    "            family='Arial',\n",
    "            size=12,\n",
    "            color='rgb(150,150,150)'\n",
    "        ),\n",
    "        showarrow=False\n",
    "    )\n",
    ")\n",
    "\n",
    "# Title Part\n",
    "annotations.append(\n",
    "    dict(\n",
    "        xref='paper', \n",
    "        yref='paper', \n",
    "        x=0.0, \n",
    "        y=1.05,\n",
    "        xanchor='left', \n",
    "        yanchor='bottom',\n",
    "        text=f'Distribution of population on gender/age',\n",
    "        font=dict(family='Arial',\n",
    "            size=30,\n",
    "            color='rgb(37,37,37)'\n",
    "         ),\n",
    "         showarrow=False\n",
    "    )\n",
    ")\n",
    "\n",
    "fig.update_layout(\n",
    "    bargap=0.2,\n",
    "    bargroupgap=0.1,\n",
    "    yaxis=dict(\n",
    "        title= 'Age',\n",
    "        nticks=20,\n",
    "    ),\n",
    "    plot_bgcolor='white',\n",
    "    annotations = annotations\n",
    ")\n",
    "fig.show()\n",
    "#Paolo: great visualizations!"
   ]
  },
  {
   "cell_type": "markdown",
   "metadata": {
    "Collapsed": "false"
   },
   "source": [
    "From these plots we can assume the following:\n",
    "\n",
    "- There is a predominance of COVID in male individuals.\n",
    "- We can observe a negative skewness on the age distribution.\n",
    "- \"Young\" people are also concerned.\n",
    "- Age distribution doesn't change much according to sex.\n",
    "- Children and teenagers are the lowest risk population.\n",
    "\n",
    "--------"
   ]
  },
  {
   "cell_type": "markdown",
   "metadata": {
    "Collapsed": "false"
   },
   "source": [
    "## Evolution of COVID-19\n",
    "\n",
    "With the next series of plots, we will see the chronological evolution of the virus and its impact on the different countries.\n",
    "\n",
    "The data used for these plots are the total number of Coronavirus cases, Recoveries and deaths per country per day."
   ]
  },
  {
   "cell_type": "code",
   "execution_count": 8,
   "metadata": {
    "Collapsed": "false"
   },
   "outputs": [],
   "source": [
    "time = pd.read_csv('data/covid_19_data (1).csv')\n",
    "#Paolo: again weird file name with space in it and (1), I renamed it \n",
    "time = time.groupby(['Country/Region', 'ObservationDate']).agg('sum')\n",
    "time = time.reset_index()\n",
    "time.drop('SNo', axis=1, inplace=True)\n",
    "time.rename(columns={'ObservationDate': 'Date Long'}, inplace=True)\n",
    "time['Date'] = time['Date Long'].replace(regex=True,to_replace=r'(\\/\\d{2})\\w+',value=r'')\n",
    "time = time.sort_values(by=['Date Long'])"
   ]
  },
  {
   "cell_type": "code",
   "execution_count": 9,
   "metadata": {
    "Collapsed": "false"
   },
   "outputs": [
    {
     "data": {
      "application/vnd.plotly.v1+json": {
       "config": {
        "plotlyServerURL": "https://plot.ly"
       },
       "data": [
        {
         "hoverlabel": {
          "namelength": 0
         },
         "hovertemplate": "Country/Region=US<br>Date=%{x}<br>Confirmed=%{y}",
         "legendgroup": "US",
         "line": {
          "color": "#636efa",
          "dash": "solid"
         },
         "mode": "lines",
         "name": "US",
         "showlegend": true,
         "type": "scatter",
         "x": [
          "01/22",
          "01/23",
          "01/24",
          "01/25",
          "01/26",
          "01/27",
          "01/28",
          "01/29",
          "01/30",
          "01/31",
          "02/01",
          "02/02",
          "02/03",
          "02/04",
          "02/05",
          "02/06",
          "02/07",
          "02/08",
          "02/09",
          "02/10",
          "02/11",
          "02/12",
          "02/13",
          "02/14",
          "02/15",
          "02/16",
          "02/17",
          "02/18",
          "02/19",
          "02/20",
          "02/21",
          "02/22",
          "02/23",
          "02/24",
          "02/25",
          "02/26",
          "02/27",
          "02/28",
          "02/29",
          "03/01",
          "03/02",
          "03/03",
          "03/04",
          "03/05",
          "03/06",
          "03/07",
          "03/08",
          "03/09",
          "03/10",
          "03/11",
          "03/12",
          "03/13",
          "03/14",
          "03/15",
          "03/16",
          "03/17",
          "03/18",
          "03/19",
          "03/20",
          "03/21",
          "03/22",
          "03/23",
          "03/24",
          "03/25",
          "03/26",
          "03/27",
          "03/28",
          "03/29",
          "03/30",
          "03/31",
          "04/01",
          "04/02"
         ],
         "xaxis": "x",
         "y": [
          1,
          1,
          2,
          2,
          5,
          5,
          5,
          5,
          5,
          6,
          8,
          8,
          11,
          11,
          12,
          12,
          12,
          12,
          12,
          12,
          13,
          13,
          15,
          15,
          15,
          15,
          15,
          15,
          15,
          15,
          35,
          35,
          35,
          53,
          53,
          59,
          60,
          62,
          70,
          76,
          101,
          122,
          153,
          221,
          278,
          417,
          537,
          605,
          959,
          1281,
          1663,
          2179,
          2726,
          3499,
          4632,
          6421,
          7786,
          13680,
          19101,
          25493,
          33746,
          43667,
          53740,
          65778,
          83836,
          101657,
          121478,
          140886,
          161807,
          188172,
          213372,
          243453
         ],
         "yaxis": "y"
        },
        {
         "hoverlabel": {
          "namelength": 0
         },
         "hovertemplate": "Country/Region=Mainland China<br>Date=%{x}<br>Confirmed=%{y}",
         "legendgroup": "Mainland China",
         "line": {
          "color": "#EF553B",
          "dash": "solid"
         },
         "mode": "lines",
         "name": "Mainland China",
         "showlegend": true,
         "type": "scatter",
         "x": [
          "01/22",
          "01/23",
          "01/24",
          "01/25",
          "01/26",
          "01/27",
          "01/28",
          "01/29",
          "01/30",
          "01/31",
          "02/01",
          "02/02",
          "02/03",
          "02/04",
          "02/05",
          "02/06",
          "02/07",
          "02/08",
          "02/09",
          "02/10",
          "02/11",
          "02/12",
          "02/13",
          "02/14",
          "02/15",
          "02/16",
          "02/17",
          "02/18",
          "02/19",
          "02/20",
          "02/21",
          "02/22",
          "02/23",
          "02/24",
          "02/25",
          "02/26",
          "02/27",
          "02/28",
          "02/29",
          "03/01",
          "03/02",
          "03/03",
          "03/04",
          "03/05",
          "03/06",
          "03/07",
          "03/08",
          "03/09",
          "03/10",
          "03/11",
          "03/12",
          "03/13",
          "03/14",
          "03/15",
          "03/16",
          "03/17",
          "03/18",
          "03/19",
          "03/20",
          "03/21",
          "03/22",
          "03/23",
          "03/24",
          "03/25",
          "03/26",
          "03/27",
          "03/28",
          "03/29",
          "03/30",
          "03/31",
          "04/01",
          "04/02"
         ],
         "xaxis": "x",
         "y": [
          547,
          639,
          916,
          1399,
          2062,
          2863,
          5494,
          6070,
          8124,
          9783,
          11871,
          16607,
          19693,
          23680,
          27409,
          30553,
          34075,
          36778,
          39790,
          42306,
          44327,
          44699,
          59832,
          66292,
          68347,
          70446,
          72364,
          74139,
          74546,
          74999,
          75472,
          76922,
          76938,
          77152,
          77660,
          78065,
          78498,
          78824,
          79251,
          79826,
          80026,
          80151,
          80271,
          80422,
          80573,
          80652,
          80699,
          80735,
          80757,
          80785,
          80793,
          80801,
          80827,
          80848,
          80867,
          80884,
          80906,
          80931,
          80977,
          81014,
          81060,
          81116,
          81180,
          81221,
          81298,
          81345,
          81401,
          81444,
          81478,
          81524,
          81555,
          81589
         ],
         "yaxis": "y"
        },
        {
         "hoverlabel": {
          "namelength": 0
         },
         "hovertemplate": "Country/Region=France<br>Date=%{x}<br>Confirmed=%{y}",
         "legendgroup": "France",
         "line": {
          "color": "#00cc96",
          "dash": "solid"
         },
         "mode": "lines",
         "name": "France",
         "showlegend": true,
         "type": "scatter",
         "x": [
          "01/24",
          "01/25",
          "01/26",
          "01/27",
          "01/28",
          "01/29",
          "01/30",
          "01/31",
          "02/01",
          "02/02",
          "02/03",
          "02/04",
          "02/05",
          "02/06",
          "02/07",
          "02/08",
          "02/09",
          "02/10",
          "02/11",
          "02/12",
          "02/13",
          "02/14",
          "02/15",
          "02/16",
          "02/17",
          "02/18",
          "02/19",
          "02/20",
          "02/21",
          "02/22",
          "02/23",
          "02/24",
          "02/25",
          "02/26",
          "02/27",
          "02/28",
          "02/29",
          "03/01",
          "03/02",
          "03/03",
          "03/04",
          "03/05",
          "03/06",
          "03/07",
          "03/08",
          "03/09",
          "03/10",
          "03/11",
          "03/12",
          "03/13",
          "03/14",
          "03/15",
          "03/16",
          "03/17",
          "03/18",
          "03/19",
          "03/20",
          "03/21",
          "03/22",
          "03/23",
          "03/24",
          "03/25",
          "03/26",
          "03/27",
          "03/28",
          "03/29",
          "03/30",
          "03/31",
          "04/01",
          "04/02"
         ],
         "xaxis": "x",
         "y": [
          2,
          3,
          3,
          3,
          4,
          5,
          5,
          5,
          6,
          6,
          6,
          6,
          6,
          6,
          6,
          11,
          11,
          11,
          11,
          11,
          11,
          11,
          12,
          12,
          12,
          12,
          12,
          12,
          12,
          12,
          12,
          12,
          14,
          18,
          38,
          57,
          100,
          130,
          191,
          204,
          285,
          377,
          653,
          949,
          1126,
          1209,
          1784,
          2284,
          2284,
          3667,
          4480,
          4513,
          6650,
          7683,
          9052,
          10886,
          12632,
          14308,
          16214,
          20123,
          22622,
          25600,
          29551,
          33402,
          38105,
          40708,
          45170,
          52827,
          57749,
          59929
         ],
         "yaxis": "y"
        },
        {
         "hoverlabel": {
          "namelength": 0
         },
         "hovertemplate": "Country/Region=Germany<br>Date=%{x}<br>Confirmed=%{y}",
         "legendgroup": "Germany",
         "line": {
          "color": "#ab63fa",
          "dash": "solid"
         },
         "mode": "lines",
         "name": "Germany",
         "showlegend": true,
         "type": "scatter",
         "x": [
          "01/28",
          "01/29",
          "01/30",
          "01/31",
          "02/01",
          "02/02",
          "02/03",
          "02/04",
          "02/05",
          "02/06",
          "02/07",
          "02/08",
          "02/09",
          "02/10",
          "02/11",
          "02/12",
          "02/13",
          "02/14",
          "02/15",
          "02/16",
          "02/17",
          "02/18",
          "02/19",
          "02/20",
          "02/21",
          "02/22",
          "02/23",
          "02/24",
          "02/25",
          "02/26",
          "02/27",
          "02/28",
          "02/29",
          "03/01",
          "03/02",
          "03/03",
          "03/04",
          "03/05",
          "03/06",
          "03/07",
          "03/08",
          "03/09",
          "03/10",
          "03/11",
          "03/12",
          "03/13",
          "03/14",
          "03/15",
          "03/16",
          "03/17",
          "03/18",
          "03/19",
          "03/20",
          "03/21",
          "03/22",
          "03/23",
          "03/24",
          "03/25",
          "03/26",
          "03/27",
          "03/28",
          "03/29",
          "03/30",
          "03/31",
          "04/01",
          "04/02"
         ],
         "xaxis": "x",
         "y": [
          4,
          4,
          4,
          5,
          8,
          10,
          12,
          12,
          12,
          12,
          13,
          13,
          14,
          14,
          16,
          16,
          16,
          16,
          16,
          16,
          16,
          16,
          16,
          16,
          16,
          16,
          16,
          16,
          17,
          27,
          46,
          48,
          79,
          130,
          159,
          196,
          262,
          482,
          670,
          799,
          1040,
          1176,
          1457,
          1908,
          2078,
          3675,
          4585,
          5795,
          7272,
          9257,
          12327,
          15320,
          19848,
          22213,
          24873,
          29056,
          32986,
          37323,
          43938,
          50871,
          57695,
          62095,
          66885,
          71808,
          77872,
          84794
         ],
         "yaxis": "y"
        },
        {
         "hoverlabel": {
          "namelength": 0
         },
         "hovertemplate": "Country/Region=Italy<br>Date=%{x}<br>Confirmed=%{y}",
         "legendgroup": "Italy",
         "line": {
          "color": "#FFA15A",
          "dash": "solid"
         },
         "mode": "lines",
         "name": "Italy",
         "showlegend": true,
         "type": "scatter",
         "x": [
          "01/31",
          "02/01",
          "02/02",
          "02/03",
          "02/04",
          "02/05",
          "02/06",
          "02/07",
          "02/08",
          "02/09",
          "02/10",
          "02/11",
          "02/12",
          "02/13",
          "02/14",
          "02/15",
          "02/16",
          "02/17",
          "02/18",
          "02/19",
          "02/20",
          "02/21",
          "02/22",
          "02/23",
          "02/24",
          "02/25",
          "02/26",
          "02/27",
          "02/28",
          "02/29",
          "03/01",
          "03/02",
          "03/03",
          "03/04",
          "03/05",
          "03/06",
          "03/07",
          "03/08",
          "03/09",
          "03/10",
          "03/11",
          "03/12",
          "03/13",
          "03/14",
          "03/15",
          "03/16",
          "03/17",
          "03/18",
          "03/19",
          "03/20",
          "03/21",
          "03/22",
          "03/23",
          "03/24",
          "03/25",
          "03/26",
          "03/27",
          "03/28",
          "03/29",
          "03/30",
          "03/31",
          "04/01",
          "04/02"
         ],
         "xaxis": "x",
         "y": [
          2,
          2,
          2,
          2,
          2,
          2,
          2,
          3,
          3,
          3,
          3,
          3,
          3,
          3,
          3,
          3,
          3,
          3,
          3,
          3,
          3,
          20,
          62,
          155,
          229,
          322,
          453,
          655,
          888,
          1128,
          1694,
          2036,
          2502,
          3089,
          3858,
          4636,
          5883,
          7375,
          9172,
          10149,
          12462,
          12462,
          17660,
          21157,
          24747,
          27980,
          31506,
          35713,
          41035,
          47021,
          53578,
          59138,
          63927,
          69176,
          74386,
          80589,
          86498,
          92472,
          97689,
          101739,
          105792,
          110574,
          115242
         ],
         "yaxis": "y"
        },
        {
         "hoverlabel": {
          "namelength": 0
         },
         "hovertemplate": "Country/Region=Spain<br>Date=%{x}<br>Confirmed=%{y}",
         "legendgroup": "Spain",
         "line": {
          "color": "#19d3f3",
          "dash": "solid"
         },
         "mode": "lines",
         "name": "Spain",
         "showlegend": true,
         "type": "scatter",
         "x": [
          "02/01",
          "02/02",
          "02/03",
          "02/04",
          "02/05",
          "02/06",
          "02/07",
          "02/08",
          "02/09",
          "02/10",
          "02/11",
          "02/12",
          "02/13",
          "02/14",
          "02/15",
          "02/16",
          "02/17",
          "02/18",
          "02/19",
          "02/20",
          "02/21",
          "02/22",
          "02/23",
          "02/24",
          "02/25",
          "02/26",
          "02/27",
          "02/28",
          "02/29",
          "03/01",
          "03/02",
          "03/03",
          "03/04",
          "03/05",
          "03/06",
          "03/07",
          "03/08",
          "03/09",
          "03/10",
          "03/11",
          "03/12",
          "03/13",
          "03/14",
          "03/15",
          "03/16",
          "03/17",
          "03/18",
          "03/19",
          "03/20",
          "03/21",
          "03/22",
          "03/23",
          "03/24",
          "03/25",
          "03/26",
          "03/27",
          "03/28",
          "03/29",
          "03/30",
          "03/31",
          "04/01",
          "04/02"
         ],
         "xaxis": "x",
         "y": [
          1,
          1,
          1,
          1,
          1,
          1,
          1,
          1,
          2,
          2,
          2,
          2,
          2,
          2,
          2,
          2,
          2,
          2,
          2,
          2,
          2,
          2,
          2,
          2,
          6,
          13,
          15,
          32,
          45,
          84,
          120,
          165,
          222,
          259,
          400,
          500,
          673,
          1073,
          1695,
          2277,
          2277,
          5232,
          6391,
          7798,
          9942,
          11748,
          13910,
          17963,
          20410,
          25374,
          28603,
          35136,
          39885,
          49515,
          57786,
          65719,
          73235,
          80110,
          87956,
          95923,
          104118,
          112065
         ],
         "yaxis": "y"
        },
        {
         "hoverlabel": {
          "namelength": 0
         },
         "hovertemplate": "Country/Region=Netherlands<br>Date=%{x}<br>Confirmed=%{y}",
         "legendgroup": "Netherlands",
         "line": {
          "color": "#FF6692",
          "dash": "solid"
         },
         "mode": "lines",
         "name": "Netherlands",
         "showlegend": true,
         "type": "scatter",
         "x": [
          "02/27",
          "02/28",
          "02/29",
          "03/01",
          "03/02",
          "03/03",
          "03/04",
          "03/05",
          "03/06",
          "03/07",
          "03/08",
          "03/09",
          "03/10",
          "03/11",
          "03/12",
          "03/13",
          "03/14",
          "03/15",
          "03/16",
          "03/17",
          "03/18",
          "03/19",
          "03/20",
          "03/21",
          "03/22",
          "03/23",
          "03/24",
          "03/25",
          "03/26",
          "03/27",
          "03/28",
          "03/29",
          "03/30",
          "03/31",
          "04/01",
          "04/02"
         ],
         "xaxis": "x",
         "y": [
          1,
          1,
          6,
          10,
          18,
          24,
          38,
          82,
          128,
          188,
          265,
          321,
          382,
          503,
          503,
          804,
          959,
          1135,
          1414,
          1708,
          2056,
          2465,
          3003,
          3640,
          4217,
          4764,
          5580,
          6438,
          7468,
          8647,
          9819,
          10930,
          11817,
          12667,
          13696,
          14788
         ],
         "yaxis": "y"
        }
       ],
       "layout": {
        "annotations": [
         {
          "font": {
           "color": "rgb(150,150,150)",
           "family": "Arial",
           "size": 12
          },
          "showarrow": false,
          "text": "Source: Kaggle Coronavirus (COVID-19) Visualization & Prediction",
          "x": 0.5,
          "xanchor": "center",
          "xref": "paper",
          "y": -0.16,
          "yanchor": "top",
          "yref": "paper"
         },
         {
          "font": {
           "color": "rgb(37,37,37)",
           "family": "Arial",
           "size": 30
          },
          "showarrow": false,
          "text": "Evolution of cases (Confirmed) per country",
          "x": 0,
          "xanchor": "left",
          "xref": "paper",
          "y": 1.05,
          "yanchor": "bottom",
          "yref": "paper"
         }
        ],
        "legend": {
         "title": {
          "text": "Country/Region"
         },
         "tracegroupgap": 0
        },
        "margin": {
         "t": 60
        },
        "plot_bgcolor": "white",
        "template": {
         "data": {
          "bar": [
           {
            "error_x": {
             "color": "#2a3f5f"
            },
            "error_y": {
             "color": "#2a3f5f"
            },
            "marker": {
             "line": {
              "color": "#E5ECF6",
              "width": 0.5
             }
            },
            "type": "bar"
           }
          ],
          "barpolar": [
           {
            "marker": {
             "line": {
              "color": "#E5ECF6",
              "width": 0.5
             }
            },
            "type": "barpolar"
           }
          ],
          "carpet": [
           {
            "aaxis": {
             "endlinecolor": "#2a3f5f",
             "gridcolor": "white",
             "linecolor": "white",
             "minorgridcolor": "white",
             "startlinecolor": "#2a3f5f"
            },
            "baxis": {
             "endlinecolor": "#2a3f5f",
             "gridcolor": "white",
             "linecolor": "white",
             "minorgridcolor": "white",
             "startlinecolor": "#2a3f5f"
            },
            "type": "carpet"
           }
          ],
          "choropleth": [
           {
            "colorbar": {
             "outlinewidth": 0,
             "ticks": ""
            },
            "type": "choropleth"
           }
          ],
          "contour": [
           {
            "colorbar": {
             "outlinewidth": 0,
             "ticks": ""
            },
            "colorscale": [
             [
              0,
              "#0d0887"
             ],
             [
              0.1111111111111111,
              "#46039f"
             ],
             [
              0.2222222222222222,
              "#7201a8"
             ],
             [
              0.3333333333333333,
              "#9c179e"
             ],
             [
              0.4444444444444444,
              "#bd3786"
             ],
             [
              0.5555555555555556,
              "#d8576b"
             ],
             [
              0.6666666666666666,
              "#ed7953"
             ],
             [
              0.7777777777777778,
              "#fb9f3a"
             ],
             [
              0.8888888888888888,
              "#fdca26"
             ],
             [
              1,
              "#f0f921"
             ]
            ],
            "type": "contour"
           }
          ],
          "contourcarpet": [
           {
            "colorbar": {
             "outlinewidth": 0,
             "ticks": ""
            },
            "type": "contourcarpet"
           }
          ],
          "heatmap": [
           {
            "colorbar": {
             "outlinewidth": 0,
             "ticks": ""
            },
            "colorscale": [
             [
              0,
              "#0d0887"
             ],
             [
              0.1111111111111111,
              "#46039f"
             ],
             [
              0.2222222222222222,
              "#7201a8"
             ],
             [
              0.3333333333333333,
              "#9c179e"
             ],
             [
              0.4444444444444444,
              "#bd3786"
             ],
             [
              0.5555555555555556,
              "#d8576b"
             ],
             [
              0.6666666666666666,
              "#ed7953"
             ],
             [
              0.7777777777777778,
              "#fb9f3a"
             ],
             [
              0.8888888888888888,
              "#fdca26"
             ],
             [
              1,
              "#f0f921"
             ]
            ],
            "type": "heatmap"
           }
          ],
          "heatmapgl": [
           {
            "colorbar": {
             "outlinewidth": 0,
             "ticks": ""
            },
            "colorscale": [
             [
              0,
              "#0d0887"
             ],
             [
              0.1111111111111111,
              "#46039f"
             ],
             [
              0.2222222222222222,
              "#7201a8"
             ],
             [
              0.3333333333333333,
              "#9c179e"
             ],
             [
              0.4444444444444444,
              "#bd3786"
             ],
             [
              0.5555555555555556,
              "#d8576b"
             ],
             [
              0.6666666666666666,
              "#ed7953"
             ],
             [
              0.7777777777777778,
              "#fb9f3a"
             ],
             [
              0.8888888888888888,
              "#fdca26"
             ],
             [
              1,
              "#f0f921"
             ]
            ],
            "type": "heatmapgl"
           }
          ],
          "histogram": [
           {
            "marker": {
             "colorbar": {
              "outlinewidth": 0,
              "ticks": ""
             }
            },
            "type": "histogram"
           }
          ],
          "histogram2d": [
           {
            "colorbar": {
             "outlinewidth": 0,
             "ticks": ""
            },
            "colorscale": [
             [
              0,
              "#0d0887"
             ],
             [
              0.1111111111111111,
              "#46039f"
             ],
             [
              0.2222222222222222,
              "#7201a8"
             ],
             [
              0.3333333333333333,
              "#9c179e"
             ],
             [
              0.4444444444444444,
              "#bd3786"
             ],
             [
              0.5555555555555556,
              "#d8576b"
             ],
             [
              0.6666666666666666,
              "#ed7953"
             ],
             [
              0.7777777777777778,
              "#fb9f3a"
             ],
             [
              0.8888888888888888,
              "#fdca26"
             ],
             [
              1,
              "#f0f921"
             ]
            ],
            "type": "histogram2d"
           }
          ],
          "histogram2dcontour": [
           {
            "colorbar": {
             "outlinewidth": 0,
             "ticks": ""
            },
            "colorscale": [
             [
              0,
              "#0d0887"
             ],
             [
              0.1111111111111111,
              "#46039f"
             ],
             [
              0.2222222222222222,
              "#7201a8"
             ],
             [
              0.3333333333333333,
              "#9c179e"
             ],
             [
              0.4444444444444444,
              "#bd3786"
             ],
             [
              0.5555555555555556,
              "#d8576b"
             ],
             [
              0.6666666666666666,
              "#ed7953"
             ],
             [
              0.7777777777777778,
              "#fb9f3a"
             ],
             [
              0.8888888888888888,
              "#fdca26"
             ],
             [
              1,
              "#f0f921"
             ]
            ],
            "type": "histogram2dcontour"
           }
          ],
          "mesh3d": [
           {
            "colorbar": {
             "outlinewidth": 0,
             "ticks": ""
            },
            "type": "mesh3d"
           }
          ],
          "parcoords": [
           {
            "line": {
             "colorbar": {
              "outlinewidth": 0,
              "ticks": ""
             }
            },
            "type": "parcoords"
           }
          ],
          "pie": [
           {
            "automargin": true,
            "type": "pie"
           }
          ],
          "scatter": [
           {
            "marker": {
             "colorbar": {
              "outlinewidth": 0,
              "ticks": ""
             }
            },
            "type": "scatter"
           }
          ],
          "scatter3d": [
           {
            "line": {
             "colorbar": {
              "outlinewidth": 0,
              "ticks": ""
             }
            },
            "marker": {
             "colorbar": {
              "outlinewidth": 0,
              "ticks": ""
             }
            },
            "type": "scatter3d"
           }
          ],
          "scattercarpet": [
           {
            "marker": {
             "colorbar": {
              "outlinewidth": 0,
              "ticks": ""
             }
            },
            "type": "scattercarpet"
           }
          ],
          "scattergeo": [
           {
            "marker": {
             "colorbar": {
              "outlinewidth": 0,
              "ticks": ""
             }
            },
            "type": "scattergeo"
           }
          ],
          "scattergl": [
           {
            "marker": {
             "colorbar": {
              "outlinewidth": 0,
              "ticks": ""
             }
            },
            "type": "scattergl"
           }
          ],
          "scattermapbox": [
           {
            "marker": {
             "colorbar": {
              "outlinewidth": 0,
              "ticks": ""
             }
            },
            "type": "scattermapbox"
           }
          ],
          "scatterpolar": [
           {
            "marker": {
             "colorbar": {
              "outlinewidth": 0,
              "ticks": ""
             }
            },
            "type": "scatterpolar"
           }
          ],
          "scatterpolargl": [
           {
            "marker": {
             "colorbar": {
              "outlinewidth": 0,
              "ticks": ""
             }
            },
            "type": "scatterpolargl"
           }
          ],
          "scatterternary": [
           {
            "marker": {
             "colorbar": {
              "outlinewidth": 0,
              "ticks": ""
             }
            },
            "type": "scatterternary"
           }
          ],
          "surface": [
           {
            "colorbar": {
             "outlinewidth": 0,
             "ticks": ""
            },
            "colorscale": [
             [
              0,
              "#0d0887"
             ],
             [
              0.1111111111111111,
              "#46039f"
             ],
             [
              0.2222222222222222,
              "#7201a8"
             ],
             [
              0.3333333333333333,
              "#9c179e"
             ],
             [
              0.4444444444444444,
              "#bd3786"
             ],
             [
              0.5555555555555556,
              "#d8576b"
             ],
             [
              0.6666666666666666,
              "#ed7953"
             ],
             [
              0.7777777777777778,
              "#fb9f3a"
             ],
             [
              0.8888888888888888,
              "#fdca26"
             ],
             [
              1,
              "#f0f921"
             ]
            ],
            "type": "surface"
           }
          ],
          "table": [
           {
            "cells": {
             "fill": {
              "color": "#EBF0F8"
             },
             "line": {
              "color": "white"
             }
            },
            "header": {
             "fill": {
              "color": "#C8D4E3"
             },
             "line": {
              "color": "white"
             }
            },
            "type": "table"
           }
          ]
         },
         "layout": {
          "annotationdefaults": {
           "arrowcolor": "#2a3f5f",
           "arrowhead": 0,
           "arrowwidth": 1
          },
          "coloraxis": {
           "colorbar": {
            "outlinewidth": 0,
            "ticks": ""
           }
          },
          "colorscale": {
           "diverging": [
            [
             0,
             "#8e0152"
            ],
            [
             0.1,
             "#c51b7d"
            ],
            [
             0.2,
             "#de77ae"
            ],
            [
             0.3,
             "#f1b6da"
            ],
            [
             0.4,
             "#fde0ef"
            ],
            [
             0.5,
             "#f7f7f7"
            ],
            [
             0.6,
             "#e6f5d0"
            ],
            [
             0.7,
             "#b8e186"
            ],
            [
             0.8,
             "#7fbc41"
            ],
            [
             0.9,
             "#4d9221"
            ],
            [
             1,
             "#276419"
            ]
           ],
           "sequential": [
            [
             0,
             "#0d0887"
            ],
            [
             0.1111111111111111,
             "#46039f"
            ],
            [
             0.2222222222222222,
             "#7201a8"
            ],
            [
             0.3333333333333333,
             "#9c179e"
            ],
            [
             0.4444444444444444,
             "#bd3786"
            ],
            [
             0.5555555555555556,
             "#d8576b"
            ],
            [
             0.6666666666666666,
             "#ed7953"
            ],
            [
             0.7777777777777778,
             "#fb9f3a"
            ],
            [
             0.8888888888888888,
             "#fdca26"
            ],
            [
             1,
             "#f0f921"
            ]
           ],
           "sequentialminus": [
            [
             0,
             "#0d0887"
            ],
            [
             0.1111111111111111,
             "#46039f"
            ],
            [
             0.2222222222222222,
             "#7201a8"
            ],
            [
             0.3333333333333333,
             "#9c179e"
            ],
            [
             0.4444444444444444,
             "#bd3786"
            ],
            [
             0.5555555555555556,
             "#d8576b"
            ],
            [
             0.6666666666666666,
             "#ed7953"
            ],
            [
             0.7777777777777778,
             "#fb9f3a"
            ],
            [
             0.8888888888888888,
             "#fdca26"
            ],
            [
             1,
             "#f0f921"
            ]
           ]
          },
          "colorway": [
           "#636efa",
           "#EF553B",
           "#00cc96",
           "#ab63fa",
           "#FFA15A",
           "#19d3f3",
           "#FF6692",
           "#B6E880",
           "#FF97FF",
           "#FECB52"
          ],
          "font": {
           "color": "#2a3f5f"
          },
          "geo": {
           "bgcolor": "white",
           "lakecolor": "white",
           "landcolor": "#E5ECF6",
           "showlakes": true,
           "showland": true,
           "subunitcolor": "white"
          },
          "hoverlabel": {
           "align": "left"
          },
          "hovermode": "closest",
          "mapbox": {
           "style": "light"
          },
          "paper_bgcolor": "white",
          "plot_bgcolor": "#E5ECF6",
          "polar": {
           "angularaxis": {
            "gridcolor": "white",
            "linecolor": "white",
            "ticks": ""
           },
           "bgcolor": "#E5ECF6",
           "radialaxis": {
            "gridcolor": "white",
            "linecolor": "white",
            "ticks": ""
           }
          },
          "scene": {
           "xaxis": {
            "backgroundcolor": "#E5ECF6",
            "gridcolor": "white",
            "gridwidth": 2,
            "linecolor": "white",
            "showbackground": true,
            "ticks": "",
            "zerolinecolor": "white"
           },
           "yaxis": {
            "backgroundcolor": "#E5ECF6",
            "gridcolor": "white",
            "gridwidth": 2,
            "linecolor": "white",
            "showbackground": true,
            "ticks": "",
            "zerolinecolor": "white"
           },
           "zaxis": {
            "backgroundcolor": "#E5ECF6",
            "gridcolor": "white",
            "gridwidth": 2,
            "linecolor": "white",
            "showbackground": true,
            "ticks": "",
            "zerolinecolor": "white"
           }
          },
          "shapedefaults": {
           "line": {
            "color": "#2a3f5f"
           }
          },
          "ternary": {
           "aaxis": {
            "gridcolor": "white",
            "linecolor": "white",
            "ticks": ""
           },
           "baxis": {
            "gridcolor": "white",
            "linecolor": "white",
            "ticks": ""
           },
           "bgcolor": "#E5ECF6",
           "caxis": {
            "gridcolor": "white",
            "linecolor": "white",
            "ticks": ""
           }
          },
          "title": {
           "x": 0.05
          },
          "xaxis": {
           "automargin": true,
           "gridcolor": "white",
           "linecolor": "white",
           "ticks": "",
           "title": {
            "standoff": 15
           },
           "zerolinecolor": "white",
           "zerolinewidth": 2
          },
          "yaxis": {
           "automargin": true,
           "gridcolor": "white",
           "linecolor": "white",
           "ticks": "",
           "title": {
            "standoff": 15
           },
           "zerolinecolor": "white",
           "zerolinewidth": 2
          }
         }
        },
        "xaxis": {
         "anchor": "y",
         "domain": [
          0,
          1
         ],
         "nticks": 36,
         "showticklabels": true,
         "tickangle": 45,
         "title": {
          "text": "Date"
         }
        },
        "yaxis": {
         "anchor": "x",
         "domain": [
          0,
          1
         ],
         "nticks": 20,
         "title": {
          "text": "Confirmed"
         }
        }
       }
      },
      "text/html": [
       "<div>\n",
       "        \n",
       "        \n",
       "            <div id=\"108181db-4820-4852-bd38-ae9263ecb206\" class=\"plotly-graph-div\" style=\"height:525px; width:100%;\"></div>\n",
       "            <script type=\"text/javascript\">\n",
       "                require([\"plotly\"], function(Plotly) {\n",
       "                    window.PLOTLYENV=window.PLOTLYENV || {};\n",
       "                    \n",
       "                if (document.getElementById(\"108181db-4820-4852-bd38-ae9263ecb206\")) {\n",
       "                    Plotly.newPlot(\n",
       "                        '108181db-4820-4852-bd38-ae9263ecb206',\n",
       "                        [{\"hoverlabel\": {\"namelength\": 0}, \"hovertemplate\": \"Country/Region=US<br>Date=%{x}<br>Confirmed=%{y}\", \"legendgroup\": \"US\", \"line\": {\"color\": \"#636efa\", \"dash\": \"solid\"}, \"mode\": \"lines\", \"name\": \"US\", \"showlegend\": true, \"type\": \"scatter\", \"x\": [\"01/22\", \"01/23\", \"01/24\", \"01/25\", \"01/26\", \"01/27\", \"01/28\", \"01/29\", \"01/30\", \"01/31\", \"02/01\", \"02/02\", \"02/03\", \"02/04\", \"02/05\", \"02/06\", \"02/07\", \"02/08\", \"02/09\", \"02/10\", \"02/11\", \"02/12\", \"02/13\", \"02/14\", \"02/15\", \"02/16\", \"02/17\", \"02/18\", \"02/19\", \"02/20\", \"02/21\", \"02/22\", \"02/23\", \"02/24\", \"02/25\", \"02/26\", \"02/27\", \"02/28\", \"02/29\", \"03/01\", \"03/02\", \"03/03\", \"03/04\", \"03/05\", \"03/06\", \"03/07\", \"03/08\", \"03/09\", \"03/10\", \"03/11\", \"03/12\", \"03/13\", \"03/14\", \"03/15\", \"03/16\", \"03/17\", \"03/18\", \"03/19\", \"03/20\", \"03/21\", \"03/22\", \"03/23\", \"03/24\", \"03/25\", \"03/26\", \"03/27\", \"03/28\", \"03/29\", \"03/30\", \"03/31\", \"04/01\", \"04/02\"], \"xaxis\": \"x\", \"y\": [1.0, 1.0, 2.0, 2.0, 5.0, 5.0, 5.0, 5.0, 5.0, 6.0, 8.0, 8.0, 11.0, 11.0, 12.0, 12.0, 12.0, 12.0, 12.0, 12.0, 13.0, 13.0, 15.0, 15.0, 15.0, 15.0, 15.0, 15.0, 15.0, 15.0, 35.0, 35.0, 35.0, 53.0, 53.0, 59.0, 60.0, 62.0, 70.0, 76.0, 101.0, 122.0, 153.0, 221.0, 278.0, 417.0, 537.0, 605.0, 959.0, 1281.0, 1663.0, 2179.0, 2726.0, 3499.0, 4632.0, 6421.0, 7786.0, 13680.0, 19101.0, 25493.0, 33746.0, 43667.0, 53740.0, 65778.0, 83836.0, 101657.0, 121478.0, 140886.0, 161807.0, 188172.0, 213372.0, 243453.0], \"yaxis\": \"y\"}, {\"hoverlabel\": {\"namelength\": 0}, \"hovertemplate\": \"Country/Region=Mainland China<br>Date=%{x}<br>Confirmed=%{y}\", \"legendgroup\": \"Mainland China\", \"line\": {\"color\": \"#EF553B\", \"dash\": \"solid\"}, \"mode\": \"lines\", \"name\": \"Mainland China\", \"showlegend\": true, \"type\": \"scatter\", \"x\": [\"01/22\", \"01/23\", \"01/24\", \"01/25\", \"01/26\", \"01/27\", \"01/28\", \"01/29\", \"01/30\", \"01/31\", \"02/01\", \"02/02\", \"02/03\", \"02/04\", \"02/05\", \"02/06\", \"02/07\", \"02/08\", \"02/09\", \"02/10\", \"02/11\", \"02/12\", \"02/13\", \"02/14\", \"02/15\", \"02/16\", \"02/17\", \"02/18\", \"02/19\", \"02/20\", \"02/21\", \"02/22\", \"02/23\", \"02/24\", \"02/25\", \"02/26\", \"02/27\", \"02/28\", \"02/29\", \"03/01\", \"03/02\", \"03/03\", \"03/04\", \"03/05\", \"03/06\", \"03/07\", \"03/08\", \"03/09\", \"03/10\", \"03/11\", \"03/12\", \"03/13\", \"03/14\", \"03/15\", \"03/16\", \"03/17\", \"03/18\", \"03/19\", \"03/20\", \"03/21\", \"03/22\", \"03/23\", \"03/24\", \"03/25\", \"03/26\", \"03/27\", \"03/28\", \"03/29\", \"03/30\", \"03/31\", \"04/01\", \"04/02\"], \"xaxis\": \"x\", \"y\": [547.0, 639.0, 916.0, 1399.0, 2062.0, 2863.0, 5494.0, 6070.0, 8124.0, 9783.0, 11871.0, 16607.0, 19693.0, 23680.0, 27409.0, 30553.0, 34075.0, 36778.0, 39790.0, 42306.0, 44327.0, 44699.0, 59832.0, 66292.0, 68347.0, 70446.0, 72364.0, 74139.0, 74546.0, 74999.0, 75472.0, 76922.0, 76938.0, 77152.0, 77660.0, 78065.0, 78498.0, 78824.0, 79251.0, 79826.0, 80026.0, 80151.0, 80271.0, 80422.0, 80573.0, 80652.0, 80699.0, 80735.0, 80757.0, 80785.0, 80793.0, 80801.0, 80827.0, 80848.0, 80867.0, 80884.0, 80906.0, 80931.0, 80977.0, 81014.0, 81060.0, 81116.0, 81180.0, 81221.0, 81298.0, 81345.0, 81401.0, 81444.0, 81478.0, 81524.0, 81555.0, 81589.0], \"yaxis\": \"y\"}, {\"hoverlabel\": {\"namelength\": 0}, \"hovertemplate\": \"Country/Region=France<br>Date=%{x}<br>Confirmed=%{y}\", \"legendgroup\": \"France\", \"line\": {\"color\": \"#00cc96\", \"dash\": \"solid\"}, \"mode\": \"lines\", \"name\": \"France\", \"showlegend\": true, \"type\": \"scatter\", \"x\": [\"01/24\", \"01/25\", \"01/26\", \"01/27\", \"01/28\", \"01/29\", \"01/30\", \"01/31\", \"02/01\", \"02/02\", \"02/03\", \"02/04\", \"02/05\", \"02/06\", \"02/07\", \"02/08\", \"02/09\", \"02/10\", \"02/11\", \"02/12\", \"02/13\", \"02/14\", \"02/15\", \"02/16\", \"02/17\", \"02/18\", \"02/19\", \"02/20\", \"02/21\", \"02/22\", \"02/23\", \"02/24\", \"02/25\", \"02/26\", \"02/27\", \"02/28\", \"02/29\", \"03/01\", \"03/02\", \"03/03\", \"03/04\", \"03/05\", \"03/06\", \"03/07\", \"03/08\", \"03/09\", \"03/10\", \"03/11\", \"03/12\", \"03/13\", \"03/14\", \"03/15\", \"03/16\", \"03/17\", \"03/18\", \"03/19\", \"03/20\", \"03/21\", \"03/22\", \"03/23\", \"03/24\", \"03/25\", \"03/26\", \"03/27\", \"03/28\", \"03/29\", \"03/30\", \"03/31\", \"04/01\", \"04/02\"], \"xaxis\": \"x\", \"y\": [2.0, 3.0, 3.0, 3.0, 4.0, 5.0, 5.0, 5.0, 6.0, 6.0, 6.0, 6.0, 6.0, 6.0, 6.0, 11.0, 11.0, 11.0, 11.0, 11.0, 11.0, 11.0, 12.0, 12.0, 12.0, 12.0, 12.0, 12.0, 12.0, 12.0, 12.0, 12.0, 14.0, 18.0, 38.0, 57.0, 100.0, 130.0, 191.0, 204.0, 285.0, 377.0, 653.0, 949.0, 1126.0, 1209.0, 1784.0, 2284.0, 2284.0, 3667.0, 4480.0, 4513.0, 6650.0, 7683.0, 9052.0, 10886.0, 12632.0, 14308.0, 16214.0, 20123.0, 22622.0, 25600.0, 29551.0, 33402.0, 38105.0, 40708.0, 45170.0, 52827.0, 57749.0, 59929.0], \"yaxis\": \"y\"}, {\"hoverlabel\": {\"namelength\": 0}, \"hovertemplate\": \"Country/Region=Germany<br>Date=%{x}<br>Confirmed=%{y}\", \"legendgroup\": \"Germany\", \"line\": {\"color\": \"#ab63fa\", \"dash\": \"solid\"}, \"mode\": \"lines\", \"name\": \"Germany\", \"showlegend\": true, \"type\": \"scatter\", \"x\": [\"01/28\", \"01/29\", \"01/30\", \"01/31\", \"02/01\", \"02/02\", \"02/03\", \"02/04\", \"02/05\", \"02/06\", \"02/07\", \"02/08\", \"02/09\", \"02/10\", \"02/11\", \"02/12\", \"02/13\", \"02/14\", \"02/15\", \"02/16\", \"02/17\", \"02/18\", \"02/19\", \"02/20\", \"02/21\", \"02/22\", \"02/23\", \"02/24\", \"02/25\", \"02/26\", \"02/27\", \"02/28\", \"02/29\", \"03/01\", \"03/02\", \"03/03\", \"03/04\", \"03/05\", \"03/06\", \"03/07\", \"03/08\", \"03/09\", \"03/10\", \"03/11\", \"03/12\", \"03/13\", \"03/14\", \"03/15\", \"03/16\", \"03/17\", \"03/18\", \"03/19\", \"03/20\", \"03/21\", \"03/22\", \"03/23\", \"03/24\", \"03/25\", \"03/26\", \"03/27\", \"03/28\", \"03/29\", \"03/30\", \"03/31\", \"04/01\", \"04/02\"], \"xaxis\": \"x\", \"y\": [4.0, 4.0, 4.0, 5.0, 8.0, 10.0, 12.0, 12.0, 12.0, 12.0, 13.0, 13.0, 14.0, 14.0, 16.0, 16.0, 16.0, 16.0, 16.0, 16.0, 16.0, 16.0, 16.0, 16.0, 16.0, 16.0, 16.0, 16.0, 17.0, 27.0, 46.0, 48.0, 79.0, 130.0, 159.0, 196.0, 262.0, 482.0, 670.0, 799.0, 1040.0, 1176.0, 1457.0, 1908.0, 2078.0, 3675.0, 4585.0, 5795.0, 7272.0, 9257.0, 12327.0, 15320.0, 19848.0, 22213.0, 24873.0, 29056.0, 32986.0, 37323.0, 43938.0, 50871.0, 57695.0, 62095.0, 66885.0, 71808.0, 77872.0, 84794.0], \"yaxis\": \"y\"}, {\"hoverlabel\": {\"namelength\": 0}, \"hovertemplate\": \"Country/Region=Italy<br>Date=%{x}<br>Confirmed=%{y}\", \"legendgroup\": \"Italy\", \"line\": {\"color\": \"#FFA15A\", \"dash\": \"solid\"}, \"mode\": \"lines\", \"name\": \"Italy\", \"showlegend\": true, \"type\": \"scatter\", \"x\": [\"01/31\", \"02/01\", \"02/02\", \"02/03\", \"02/04\", \"02/05\", \"02/06\", \"02/07\", \"02/08\", \"02/09\", \"02/10\", \"02/11\", \"02/12\", \"02/13\", \"02/14\", \"02/15\", \"02/16\", \"02/17\", \"02/18\", \"02/19\", \"02/20\", \"02/21\", \"02/22\", \"02/23\", \"02/24\", \"02/25\", \"02/26\", \"02/27\", \"02/28\", \"02/29\", \"03/01\", \"03/02\", \"03/03\", \"03/04\", \"03/05\", \"03/06\", \"03/07\", \"03/08\", \"03/09\", \"03/10\", \"03/11\", \"03/12\", \"03/13\", \"03/14\", \"03/15\", \"03/16\", \"03/17\", \"03/18\", \"03/19\", \"03/20\", \"03/21\", \"03/22\", \"03/23\", \"03/24\", \"03/25\", \"03/26\", \"03/27\", \"03/28\", \"03/29\", \"03/30\", \"03/31\", \"04/01\", \"04/02\"], \"xaxis\": \"x\", \"y\": [2.0, 2.0, 2.0, 2.0, 2.0, 2.0, 2.0, 3.0, 3.0, 3.0, 3.0, 3.0, 3.0, 3.0, 3.0, 3.0, 3.0, 3.0, 3.0, 3.0, 3.0, 20.0, 62.0, 155.0, 229.0, 322.0, 453.0, 655.0, 888.0, 1128.0, 1694.0, 2036.0, 2502.0, 3089.0, 3858.0, 4636.0, 5883.0, 7375.0, 9172.0, 10149.0, 12462.0, 12462.0, 17660.0, 21157.0, 24747.0, 27980.0, 31506.0, 35713.0, 41035.0, 47021.0, 53578.0, 59138.0, 63927.0, 69176.0, 74386.0, 80589.0, 86498.0, 92472.0, 97689.0, 101739.0, 105792.0, 110574.0, 115242.0], \"yaxis\": \"y\"}, {\"hoverlabel\": {\"namelength\": 0}, \"hovertemplate\": \"Country/Region=Spain<br>Date=%{x}<br>Confirmed=%{y}\", \"legendgroup\": \"Spain\", \"line\": {\"color\": \"#19d3f3\", \"dash\": \"solid\"}, \"mode\": \"lines\", \"name\": \"Spain\", \"showlegend\": true, \"type\": \"scatter\", \"x\": [\"02/01\", \"02/02\", \"02/03\", \"02/04\", \"02/05\", \"02/06\", \"02/07\", \"02/08\", \"02/09\", \"02/10\", \"02/11\", \"02/12\", \"02/13\", \"02/14\", \"02/15\", \"02/16\", \"02/17\", \"02/18\", \"02/19\", \"02/20\", \"02/21\", \"02/22\", \"02/23\", \"02/24\", \"02/25\", \"02/26\", \"02/27\", \"02/28\", \"02/29\", \"03/01\", \"03/02\", \"03/03\", \"03/04\", \"03/05\", \"03/06\", \"03/07\", \"03/08\", \"03/09\", \"03/10\", \"03/11\", \"03/12\", \"03/13\", \"03/14\", \"03/15\", \"03/16\", \"03/17\", \"03/18\", \"03/19\", \"03/20\", \"03/21\", \"03/22\", \"03/23\", \"03/24\", \"03/25\", \"03/26\", \"03/27\", \"03/28\", \"03/29\", \"03/30\", \"03/31\", \"04/01\", \"04/02\"], \"xaxis\": \"x\", \"y\": [1.0, 1.0, 1.0, 1.0, 1.0, 1.0, 1.0, 1.0, 2.0, 2.0, 2.0, 2.0, 2.0, 2.0, 2.0, 2.0, 2.0, 2.0, 2.0, 2.0, 2.0, 2.0, 2.0, 2.0, 6.0, 13.0, 15.0, 32.0, 45.0, 84.0, 120.0, 165.0, 222.0, 259.0, 400.0, 500.0, 673.0, 1073.0, 1695.0, 2277.0, 2277.0, 5232.0, 6391.0, 7798.0, 9942.0, 11748.0, 13910.0, 17963.0, 20410.0, 25374.0, 28603.0, 35136.0, 39885.0, 49515.0, 57786.0, 65719.0, 73235.0, 80110.0, 87956.0, 95923.0, 104118.0, 112065.0], \"yaxis\": \"y\"}, {\"hoverlabel\": {\"namelength\": 0}, \"hovertemplate\": \"Country/Region=Netherlands<br>Date=%{x}<br>Confirmed=%{y}\", \"legendgroup\": \"Netherlands\", \"line\": {\"color\": \"#FF6692\", \"dash\": \"solid\"}, \"mode\": \"lines\", \"name\": \"Netherlands\", \"showlegend\": true, \"type\": \"scatter\", \"x\": [\"02/27\", \"02/28\", \"02/29\", \"03/01\", \"03/02\", \"03/03\", \"03/04\", \"03/05\", \"03/06\", \"03/07\", \"03/08\", \"03/09\", \"03/10\", \"03/11\", \"03/12\", \"03/13\", \"03/14\", \"03/15\", \"03/16\", \"03/17\", \"03/18\", \"03/19\", \"03/20\", \"03/21\", \"03/22\", \"03/23\", \"03/24\", \"03/25\", \"03/26\", \"03/27\", \"03/28\", \"03/29\", \"03/30\", \"03/31\", \"04/01\", \"04/02\"], \"xaxis\": \"x\", \"y\": [1.0, 1.0, 6.0, 10.0, 18.0, 24.0, 38.0, 82.0, 128.0, 188.0, 265.0, 321.0, 382.0, 503.0, 503.0, 804.0, 959.0, 1135.0, 1414.0, 1708.0, 2056.0, 2465.0, 3003.0, 3640.0, 4217.0, 4764.0, 5580.0, 6438.0, 7468.0, 8647.0, 9819.0, 10930.0, 11817.0, 12667.0, 13696.0, 14788.0], \"yaxis\": \"y\"}],\n",
       "                        {\"annotations\": [{\"font\": {\"color\": \"rgb(150,150,150)\", \"family\": \"Arial\", \"size\": 12}, \"showarrow\": false, \"text\": \"Source: Kaggle Coronavirus (COVID-19) Visualization & Prediction\", \"x\": 0.5, \"xanchor\": \"center\", \"xref\": \"paper\", \"y\": -0.16, \"yanchor\": \"top\", \"yref\": \"paper\"}, {\"font\": {\"color\": \"rgb(37,37,37)\", \"family\": \"Arial\", \"size\": 30}, \"showarrow\": false, \"text\": \"Evolution of cases (Confirmed) per country\", \"x\": 0.0, \"xanchor\": \"left\", \"xref\": \"paper\", \"y\": 1.05, \"yanchor\": \"bottom\", \"yref\": \"paper\"}], \"legend\": {\"title\": {\"text\": \"Country/Region\"}, \"tracegroupgap\": 0}, \"margin\": {\"t\": 60}, \"plot_bgcolor\": \"white\", \"template\": {\"data\": {\"bar\": [{\"error_x\": {\"color\": \"#2a3f5f\"}, \"error_y\": {\"color\": \"#2a3f5f\"}, \"marker\": {\"line\": {\"color\": \"#E5ECF6\", \"width\": 0.5}}, \"type\": \"bar\"}], \"barpolar\": [{\"marker\": {\"line\": {\"color\": \"#E5ECF6\", \"width\": 0.5}}, \"type\": \"barpolar\"}], \"carpet\": [{\"aaxis\": {\"endlinecolor\": \"#2a3f5f\", \"gridcolor\": \"white\", \"linecolor\": \"white\", \"minorgridcolor\": \"white\", \"startlinecolor\": \"#2a3f5f\"}, \"baxis\": {\"endlinecolor\": \"#2a3f5f\", \"gridcolor\": \"white\", \"linecolor\": \"white\", \"minorgridcolor\": \"white\", \"startlinecolor\": \"#2a3f5f\"}, \"type\": \"carpet\"}], \"choropleth\": [{\"colorbar\": {\"outlinewidth\": 0, \"ticks\": \"\"}, \"type\": \"choropleth\"}], \"contour\": [{\"colorbar\": {\"outlinewidth\": 0, \"ticks\": \"\"}, \"colorscale\": [[0.0, \"#0d0887\"], [0.1111111111111111, \"#46039f\"], [0.2222222222222222, \"#7201a8\"], [0.3333333333333333, \"#9c179e\"], [0.4444444444444444, \"#bd3786\"], [0.5555555555555556, \"#d8576b\"], [0.6666666666666666, \"#ed7953\"], [0.7777777777777778, \"#fb9f3a\"], [0.8888888888888888, \"#fdca26\"], [1.0, \"#f0f921\"]], \"type\": \"contour\"}], \"contourcarpet\": [{\"colorbar\": {\"outlinewidth\": 0, \"ticks\": \"\"}, \"type\": \"contourcarpet\"}], \"heatmap\": [{\"colorbar\": {\"outlinewidth\": 0, \"ticks\": \"\"}, \"colorscale\": [[0.0, \"#0d0887\"], [0.1111111111111111, \"#46039f\"], [0.2222222222222222, \"#7201a8\"], [0.3333333333333333, \"#9c179e\"], [0.4444444444444444, \"#bd3786\"], [0.5555555555555556, \"#d8576b\"], [0.6666666666666666, \"#ed7953\"], [0.7777777777777778, \"#fb9f3a\"], [0.8888888888888888, \"#fdca26\"], [1.0, \"#f0f921\"]], \"type\": \"heatmap\"}], \"heatmapgl\": [{\"colorbar\": {\"outlinewidth\": 0, \"ticks\": \"\"}, \"colorscale\": [[0.0, \"#0d0887\"], [0.1111111111111111, \"#46039f\"], [0.2222222222222222, \"#7201a8\"], [0.3333333333333333, \"#9c179e\"], [0.4444444444444444, \"#bd3786\"], [0.5555555555555556, \"#d8576b\"], [0.6666666666666666, \"#ed7953\"], [0.7777777777777778, \"#fb9f3a\"], [0.8888888888888888, \"#fdca26\"], [1.0, \"#f0f921\"]], \"type\": \"heatmapgl\"}], \"histogram\": [{\"marker\": {\"colorbar\": {\"outlinewidth\": 0, \"ticks\": \"\"}}, \"type\": \"histogram\"}], \"histogram2d\": [{\"colorbar\": {\"outlinewidth\": 0, \"ticks\": \"\"}, \"colorscale\": [[0.0, \"#0d0887\"], [0.1111111111111111, \"#46039f\"], [0.2222222222222222, \"#7201a8\"], [0.3333333333333333, \"#9c179e\"], [0.4444444444444444, \"#bd3786\"], [0.5555555555555556, \"#d8576b\"], [0.6666666666666666, \"#ed7953\"], [0.7777777777777778, \"#fb9f3a\"], [0.8888888888888888, \"#fdca26\"], [1.0, \"#f0f921\"]], \"type\": \"histogram2d\"}], \"histogram2dcontour\": [{\"colorbar\": {\"outlinewidth\": 0, \"ticks\": \"\"}, \"colorscale\": [[0.0, \"#0d0887\"], [0.1111111111111111, \"#46039f\"], [0.2222222222222222, \"#7201a8\"], [0.3333333333333333, \"#9c179e\"], [0.4444444444444444, \"#bd3786\"], [0.5555555555555556, \"#d8576b\"], [0.6666666666666666, \"#ed7953\"], [0.7777777777777778, \"#fb9f3a\"], [0.8888888888888888, \"#fdca26\"], [1.0, \"#f0f921\"]], \"type\": \"histogram2dcontour\"}], \"mesh3d\": [{\"colorbar\": {\"outlinewidth\": 0, \"ticks\": \"\"}, \"type\": \"mesh3d\"}], \"parcoords\": [{\"line\": {\"colorbar\": {\"outlinewidth\": 0, \"ticks\": \"\"}}, \"type\": \"parcoords\"}], \"pie\": [{\"automargin\": true, \"type\": \"pie\"}], \"scatter\": [{\"marker\": {\"colorbar\": {\"outlinewidth\": 0, \"ticks\": \"\"}}, \"type\": \"scatter\"}], \"scatter3d\": [{\"line\": {\"colorbar\": {\"outlinewidth\": 0, \"ticks\": \"\"}}, \"marker\": {\"colorbar\": {\"outlinewidth\": 0, \"ticks\": \"\"}}, \"type\": \"scatter3d\"}], \"scattercarpet\": [{\"marker\": {\"colorbar\": {\"outlinewidth\": 0, \"ticks\": \"\"}}, \"type\": \"scattercarpet\"}], \"scattergeo\": [{\"marker\": {\"colorbar\": {\"outlinewidth\": 0, \"ticks\": \"\"}}, \"type\": \"scattergeo\"}], \"scattergl\": [{\"marker\": {\"colorbar\": {\"outlinewidth\": 0, \"ticks\": \"\"}}, \"type\": \"scattergl\"}], \"scattermapbox\": [{\"marker\": {\"colorbar\": {\"outlinewidth\": 0, \"ticks\": \"\"}}, \"type\": \"scattermapbox\"}], \"scatterpolar\": [{\"marker\": {\"colorbar\": {\"outlinewidth\": 0, \"ticks\": \"\"}}, \"type\": \"scatterpolar\"}], \"scatterpolargl\": [{\"marker\": {\"colorbar\": {\"outlinewidth\": 0, \"ticks\": \"\"}}, \"type\": \"scatterpolargl\"}], \"scatterternary\": [{\"marker\": {\"colorbar\": {\"outlinewidth\": 0, \"ticks\": \"\"}}, \"type\": \"scatterternary\"}], \"surface\": [{\"colorbar\": {\"outlinewidth\": 0, \"ticks\": \"\"}, \"colorscale\": [[0.0, \"#0d0887\"], [0.1111111111111111, \"#46039f\"], [0.2222222222222222, \"#7201a8\"], [0.3333333333333333, \"#9c179e\"], [0.4444444444444444, \"#bd3786\"], [0.5555555555555556, \"#d8576b\"], [0.6666666666666666, \"#ed7953\"], [0.7777777777777778, \"#fb9f3a\"], [0.8888888888888888, \"#fdca26\"], [1.0, \"#f0f921\"]], \"type\": \"surface\"}], \"table\": [{\"cells\": {\"fill\": {\"color\": \"#EBF0F8\"}, \"line\": {\"color\": \"white\"}}, \"header\": {\"fill\": {\"color\": \"#C8D4E3\"}, \"line\": {\"color\": \"white\"}}, \"type\": \"table\"}]}, \"layout\": {\"annotationdefaults\": {\"arrowcolor\": \"#2a3f5f\", \"arrowhead\": 0, \"arrowwidth\": 1}, \"coloraxis\": {\"colorbar\": {\"outlinewidth\": 0, \"ticks\": \"\"}}, \"colorscale\": {\"diverging\": [[0, \"#8e0152\"], [0.1, \"#c51b7d\"], [0.2, \"#de77ae\"], [0.3, \"#f1b6da\"], [0.4, \"#fde0ef\"], [0.5, \"#f7f7f7\"], [0.6, \"#e6f5d0\"], [0.7, \"#b8e186\"], [0.8, \"#7fbc41\"], [0.9, \"#4d9221\"], [1, \"#276419\"]], \"sequential\": [[0.0, \"#0d0887\"], [0.1111111111111111, \"#46039f\"], [0.2222222222222222, \"#7201a8\"], [0.3333333333333333, \"#9c179e\"], [0.4444444444444444, \"#bd3786\"], [0.5555555555555556, \"#d8576b\"], [0.6666666666666666, \"#ed7953\"], [0.7777777777777778, \"#fb9f3a\"], [0.8888888888888888, \"#fdca26\"], [1.0, \"#f0f921\"]], \"sequentialminus\": [[0.0, \"#0d0887\"], [0.1111111111111111, \"#46039f\"], [0.2222222222222222, \"#7201a8\"], [0.3333333333333333, \"#9c179e\"], [0.4444444444444444, \"#bd3786\"], [0.5555555555555556, \"#d8576b\"], [0.6666666666666666, \"#ed7953\"], [0.7777777777777778, \"#fb9f3a\"], [0.8888888888888888, \"#fdca26\"], [1.0, \"#f0f921\"]]}, \"colorway\": [\"#636efa\", \"#EF553B\", \"#00cc96\", \"#ab63fa\", \"#FFA15A\", \"#19d3f3\", \"#FF6692\", \"#B6E880\", \"#FF97FF\", \"#FECB52\"], \"font\": {\"color\": \"#2a3f5f\"}, \"geo\": {\"bgcolor\": \"white\", \"lakecolor\": \"white\", \"landcolor\": \"#E5ECF6\", \"showlakes\": true, \"showland\": true, \"subunitcolor\": \"white\"}, \"hoverlabel\": {\"align\": \"left\"}, \"hovermode\": \"closest\", \"mapbox\": {\"style\": \"light\"}, \"paper_bgcolor\": \"white\", \"plot_bgcolor\": \"#E5ECF6\", \"polar\": {\"angularaxis\": {\"gridcolor\": \"white\", \"linecolor\": \"white\", \"ticks\": \"\"}, \"bgcolor\": \"#E5ECF6\", \"radialaxis\": {\"gridcolor\": \"white\", \"linecolor\": \"white\", \"ticks\": \"\"}}, \"scene\": {\"xaxis\": {\"backgroundcolor\": \"#E5ECF6\", \"gridcolor\": \"white\", \"gridwidth\": 2, \"linecolor\": \"white\", \"showbackground\": true, \"ticks\": \"\", \"zerolinecolor\": \"white\"}, \"yaxis\": {\"backgroundcolor\": \"#E5ECF6\", \"gridcolor\": \"white\", \"gridwidth\": 2, \"linecolor\": \"white\", \"showbackground\": true, \"ticks\": \"\", \"zerolinecolor\": \"white\"}, \"zaxis\": {\"backgroundcolor\": \"#E5ECF6\", \"gridcolor\": \"white\", \"gridwidth\": 2, \"linecolor\": \"white\", \"showbackground\": true, \"ticks\": \"\", \"zerolinecolor\": \"white\"}}, \"shapedefaults\": {\"line\": {\"color\": \"#2a3f5f\"}}, \"ternary\": {\"aaxis\": {\"gridcolor\": \"white\", \"linecolor\": \"white\", \"ticks\": \"\"}, \"baxis\": {\"gridcolor\": \"white\", \"linecolor\": \"white\", \"ticks\": \"\"}, \"bgcolor\": \"#E5ECF6\", \"caxis\": {\"gridcolor\": \"white\", \"linecolor\": \"white\", \"ticks\": \"\"}}, \"title\": {\"x\": 0.05}, \"xaxis\": {\"automargin\": true, \"gridcolor\": \"white\", \"linecolor\": \"white\", \"ticks\": \"\", \"title\": {\"standoff\": 15}, \"zerolinecolor\": \"white\", \"zerolinewidth\": 2}, \"yaxis\": {\"automargin\": true, \"gridcolor\": \"white\", \"linecolor\": \"white\", \"ticks\": \"\", \"title\": {\"standoff\": 15}, \"zerolinecolor\": \"white\", \"zerolinewidth\": 2}}}, \"xaxis\": {\"anchor\": \"y\", \"domain\": [0.0, 1.0], \"nticks\": 36, \"showticklabels\": true, \"tickangle\": 45, \"title\": {\"text\": \"Date\"}}, \"yaxis\": {\"anchor\": \"x\", \"domain\": [0.0, 1.0], \"nticks\": 20, \"title\": {\"text\": \"Confirmed\"}}},\n",
       "                        {\"responsive\": true}\n",
       "                    ).then(function(){\n",
       "                            \n",
       "var gd = document.getElementById('108181db-4820-4852-bd38-ae9263ecb206');\n",
       "var x = new MutationObserver(function (mutations, observer) {{\n",
       "        var display = window.getComputedStyle(gd).display;\n",
       "        if (!display || display === 'none') {{\n",
       "            console.log([gd, 'removed!']);\n",
       "            Plotly.purge(gd);\n",
       "            observer.disconnect();\n",
       "        }}\n",
       "}});\n",
       "\n",
       "// Listen for the removal of the full notebook cells\n",
       "var notebookContainer = gd.closest('#notebook-container');\n",
       "if (notebookContainer) {{\n",
       "    x.observe(notebookContainer, {childList: true});\n",
       "}}\n",
       "\n",
       "// Listen for the clearing of the current output cell\n",
       "var outputEl = gd.closest('.output');\n",
       "if (outputEl) {{\n",
       "    x.observe(outputEl, {childList: true});\n",
       "}}\n",
       "\n",
       "                        })\n",
       "                };\n",
       "                });\n",
       "            </script>\n",
       "        </div>"
      ]
     },
     "metadata": {},
     "output_type": "display_data"
    }
   ],
   "source": [
    "countries_list = list(time['Country/Region'].unique())\n",
    "countries_list.sort()\n",
    "@widgets.interact(\n",
    "    num_dates = (1, time['Date'].nunique()),\n",
    "    countries = widgets.SelectMultiple(\n",
    "        options=countries_list,\n",
    "        value=['Netherlands', 'US', 'France', 'Spain', 'Mainland China', 'Italy', 'Germany'],\n",
    "        #rows=10,\n",
    "        description='Countries',\n",
    "        disabled=False\n",
    "    ),\n",
    "    data = widgets.Dropdown(\n",
    "        options=['Confirmed', 'Deaths', 'Recovered'],\n",
    "        value='Confirmed',\n",
    "        description='Data:',\n",
    "        disabled=False,\n",
    "    ),\n",
    "    from_date = widgets.DatePicker(\n",
    "        description='From',\n",
    "        disabled=False\n",
    "    ),\n",
    "    to_date = widgets.DatePicker(\n",
    "        description='To',\n",
    "        disabled=False\n",
    "    ),\n",
    ")\n",
    "\n",
    "def chart(data, countries, from_date, to_date, num_dates):\n",
    "    df = time\n",
    "    if len(list(countries)) > 0:\n",
    "        df = df[df['Country/Region'].isin(countries)]\n",
    "\n",
    "    if from_date is not None and from_date.strftime('%m/%d/%Y') < df['Date Long'].max():\n",
    "        df = df[df['Date Long'] >= from_date.strftime('%m/%d/%Y')]\n",
    "\n",
    "    if to_date is not None and to_date.strftime('%m/%d/%Y') > df['Date Long'].min():\n",
    "        df = df[df['Date Long'] <= to_date.strftime('%m/%d/%Y')]\n",
    "\n",
    "    fig = px.line(\n",
    "        df, \n",
    "        x=\"Date\",\n",
    "        y=data,\n",
    "        color=\"Country/Region\",\n",
    "    )\n",
    "    \n",
    "    annotations = []\n",
    "    #Source Part\n",
    "    annotations.append(\n",
    "        dict(\n",
    "            xref='paper', \n",
    "            yref='paper', \n",
    "            x=0.5, \n",
    "            y=-0.16,\n",
    "            xanchor='center', \n",
    "            yanchor='top',\n",
    "            text='Source: Kaggle Coronavirus (COVID-19) Visualization & Prediction',\n",
    "            font=dict(\n",
    "                family='Arial',\n",
    "                size=12,\n",
    "                color='rgb(150,150,150)'\n",
    "            ),\n",
    "            showarrow=False\n",
    "        )\n",
    "    )\n",
    "    \n",
    "    # Title Part\n",
    "    annotations.append(\n",
    "        dict(\n",
    "            xref='paper', \n",
    "            yref='paper', \n",
    "            x=0.0, \n",
    "            y=1.05,\n",
    "            xanchor='left', \n",
    "            yanchor='bottom',\n",
    "            text=f'Evolution of cases ({data}) per country',\n",
    "            font=dict(family='Arial',\n",
    "                size=30,\n",
    "                color='rgb(37,37,37)'\n",
    "             ),\n",
    "             showarrow=False\n",
    "        )\n",
    "    )\n",
    "    \n",
    "    fig.update_layout(\n",
    "        xaxis=dict(\n",
    "            nticks=num_dates,\n",
    "            showticklabels=True,\n",
    "            tickangle=45,\n",
    "        ),\n",
    "        yaxis=dict(\n",
    "            nticks=20,\n",
    "        ),\n",
    "        plot_bgcolor='white',\n",
    "        annotations = annotations\n",
    "    )\n",
    "    fig.show()\n"
   ]
  },
  {
   "cell_type": "markdown",
   "metadata": {
    "Collapsed": "false"
   },
   "source": [
    "Insights:\n",
    "\n",
    "- The China curve stabilized 1 month after the records from this database.\n",
    "- The US speed of spread is alarmingly high (more than twice than China, for a country with 1/3 of the population).\n",
    "- Other countries that are heavily affected (Spain, France, Italy) have also high curves, but not as high.\n",
    "- In comparaison to other countries, the Netherlands might seem as a not high value, but we need to take into consideration that Netherlands is a much smaller country, with a smaller population count. But the population density is higher, so the risk of contagion is more present.\n",
    "- The confirmed case curve and death curve is highly similar.\n",
    "- China is leading in recovered cases.\n",
    "-------"
   ]
  },
  {
   "cell_type": "code",
   "execution_count": null,
   "metadata": {
    "Collapsed": "false"
   },
   "outputs": [],
   "source": [
    "#Paolo: great plots, great that you can also select multiple plots! These plots display pretty much \n",
    "#exponential trend. Usually a log scale on y is much better instead of a linear scale to plot exponentials. \n",
    "#An exponential is a line in logscale, try it!"
   ]
  },
  {
   "cell_type": "markdown",
   "metadata": {
    "Collapsed": "false"
   },
   "source": [
    "## Bending the curve\n",
    "\n",
    "Are there any countries that have been able to revert the curve? \n",
    "\n",
    "To verify this we created 2 plots with datasets that are linked to our previous one, but show us different information.\n",
    "\n",
    "There is one dataset that provides us with information of the daily new confirmed cases per country (and also world), and the second one provides us with information of the daily new deaths."
   ]
  },
  {
   "cell_type": "code",
   "execution_count": 13,
   "metadata": {
    "Collapsed": "false"
   },
   "outputs": [],
   "source": [
    "deaths = pd.read_csv('data/covid-confirmed-daily-deaths (1).csv')\n",
    "deaths['Date'] = deaths['Date'].apply(lambda x: datetime.datetime.strptime(x, '%b %d, %Y').strftime('%m/%d/%Y'))\n",
    "deaths = deaths[deaths['Date'] != '12/31/2019']\n",
    "deaths.rename(columns={'Date': 'Date Long', 'Daily confirmed deaths': 'Daily Confirmed Deaths', 'Entity': 'Country'}, inplace=True)\n",
    "deaths['Date'] = deaths['Date Long'].replace(regex=True,to_replace=r'(\\/\\d{2})\\w+',value=r'')\n",
    "deaths = deaths.sort_values(by=['Date Long'])\n",
    "\n",
    "cases = pd.read_csv('data/covid-confirmed-daily-cases (1).csv')\n",
    "cases['Date'] = cases['Date'].apply(lambda x: datetime.datetime.strptime(x, '%b %d, %Y').strftime('%m/%d/%Y'))\n",
    "cases = cases[cases['Date'] != '12/31/2019']\n",
    "cases.rename(columns={'Date': 'Date Long', 'Daily confirmed cases': 'Daily Confirmed Cases', 'Entity': 'Country'}, inplace=True)\n",
    "cases['Date'] = cases['Date Long'].replace(regex=True,to_replace=r'(\\/\\d{2})\\w+',value=r'')\n",
    "cases = cases.sort_values(by=['Date Long'])"
   ]
  },
  {
   "cell_type": "code",
   "execution_count": 14,
   "metadata": {
    "Collapsed": "false"
   },
   "outputs": [
    {
     "data": {
      "application/vnd.plotly.v1+json": {
       "config": {
        "plotlyServerURL": "https://plot.ly"
       },
       "data": [
        {
         "hoverlabel": {
          "namelength": 0
         },
         "hovertemplate": "Country=Spain<br>Date=%{x}<br>Daily Confirmed Cases=%{y}",
         "legendgroup": "Spain",
         "line": {
          "color": "#636efa",
          "dash": "solid"
         },
         "mode": "lines",
         "name": "Spain",
         "showlegend": true,
         "type": "scatter",
         "x": [
          "01/02",
          "01/03",
          "01/04",
          "01/05",
          "01/06",
          "01/07",
          "01/08",
          "01/09",
          "01/10",
          "01/11",
          "01/12",
          "01/13",
          "01/14",
          "01/15",
          "01/16",
          "01/17",
          "01/18",
          "01/19",
          "01/20",
          "01/21",
          "01/22",
          "01/23",
          "01/24",
          "01/25",
          "01/26",
          "01/27",
          "01/28",
          "01/29",
          "01/30",
          "01/31",
          "02/01",
          "02/02",
          "02/03",
          "02/04",
          "02/05",
          "02/06",
          "02/07",
          "02/08",
          "02/09",
          "02/10",
          "02/11",
          "02/12",
          "02/13",
          "02/14",
          "02/15",
          "02/16",
          "02/17",
          "02/18",
          "02/19",
          "02/20",
          "02/21",
          "02/22",
          "02/23",
          "02/24",
          "02/25",
          "02/26",
          "02/27",
          "02/28",
          "02/29",
          "03/01",
          "03/02",
          "03/03",
          "03/04",
          "03/05",
          "03/06",
          "03/07",
          "03/08",
          "03/09",
          "03/10",
          "03/11",
          "03/12",
          "03/13",
          "03/14",
          "03/15",
          "03/16",
          "03/17",
          "03/18",
          "03/19",
          "03/20",
          "03/21",
          "03/22",
          "03/23",
          "03/24",
          "03/25",
          "03/26",
          "03/27",
          "03/28",
          "03/29",
          "03/30",
          "03/31",
          "04/01",
          "04/02",
          "04/03"
         ],
         "xaxis": "x",
         "y": [
          0,
          0,
          0,
          0,
          0,
          0,
          0,
          0,
          0,
          0,
          0,
          0,
          0,
          0,
          0,
          0,
          0,
          0,
          0,
          0,
          0,
          0,
          0,
          0,
          0,
          0,
          0,
          0,
          0,
          0,
          0.14285714285714285,
          0.14285714285714285,
          0.14285714285714285,
          0.14285714285714285,
          0.14285714285714285,
          0.14285714285714285,
          0.14285714285714285,
          0,
          0,
          0.14285714285714285,
          0.14285714285714285,
          0.14285714285714285,
          0.14285714285714285,
          0.14285714285714285,
          0.14285714285714285,
          0.14285714285714285,
          0,
          0,
          0,
          0,
          0,
          0,
          0,
          0,
          0.14285714285714285,
          0.7142857142857143,
          1.4285714285714286,
          3.2857142857142856,
          4.571428571428571,
          9.142857142857142,
          11.571428571428573,
          15.857142857142858,
          20.571428571428573,
          26.857142857142854,
          33.714285714285715,
          48.57142857142857,
          52,
          72.28571428571429,
          155.71428571428572,
          212.57142857142856,
          277.14285714285717,
          391.8571428571428,
          551,
          760.4285714285713,
          1023.4285714285713,
          1141,
          1362.7142857142858,
          1653.7142857142858,
          2020.4285714285716,
          2249.8571428571427,
          2739,
          2974.142857142857,
          3414,
          4070.714285714286,
          4842,
          5577.285714285716,
          6297,
          6760.285714285716,
          7175,
          7443.714285714284,
          7820.571428571428,
          7789.428571428572,
          7721.428571428572
         ],
         "yaxis": "y"
        },
        {
         "hoverlabel": {
          "namelength": 0
         },
         "hovertemplate": "Country=China<br>Date=%{x}<br>Daily Confirmed Cases=%{y}",
         "legendgroup": "China",
         "line": {
          "color": "#EF553B",
          "dash": "solid"
         },
         "mode": "lines",
         "name": "China",
         "showlegend": true,
         "type": "scatter",
         "x": [
          "01/02",
          "01/03",
          "01/04",
          "01/05",
          "01/06",
          "01/07",
          "01/08",
          "01/09",
          "01/10",
          "01/11",
          "01/12",
          "01/13",
          "01/14",
          "01/15",
          "01/16",
          "01/17",
          "01/18",
          "01/19",
          "01/20",
          "01/21",
          "01/22",
          "01/23",
          "01/24",
          "01/25",
          "01/26",
          "01/27",
          "01/28",
          "01/29",
          "01/30",
          "01/31",
          "02/01",
          "02/02",
          "02/03",
          "02/04",
          "02/05",
          "02/06",
          "02/07",
          "02/08",
          "02/09",
          "02/10",
          "02/11",
          "02/12",
          "02/13",
          "02/14",
          "02/15",
          "02/16",
          "02/17",
          "02/18",
          "02/19",
          "02/20",
          "02/21",
          "02/22",
          "02/23",
          "02/24",
          "02/25",
          "02/26",
          "02/27",
          "02/28",
          "02/29",
          "03/01",
          "03/02",
          "03/03",
          "03/04",
          "03/05",
          "03/06",
          "03/07",
          "03/08",
          "03/09",
          "03/10",
          "03/11",
          "03/12",
          "03/13",
          "03/14",
          "03/15",
          "03/16",
          "03/17",
          "03/18",
          "03/19",
          "03/20",
          "03/21",
          "03/22",
          "03/23",
          "03/24",
          "03/25",
          "03/26",
          "03/27",
          "03/28",
          "03/29",
          "03/30",
          "03/31",
          "04/01",
          "04/02",
          "04/03"
         ],
         "xaxis": "x",
         "y": [
          9,
          11,
          8.8,
          9.833333333333334,
          8.428571428571429,
          4.571428571428571,
          4.571428571428571,
          4.571428571428571,
          2.142857142857143,
          2.142857142857143,
          0,
          0,
          0,
          0,
          0,
          0.5714285714285714,
          3,
          22.428571428571423,
          25.142857142857146,
          46.714285714285715,
          66.71428571428571,
          80.57142857142857,
          117,
          177.5714285714286,
          253.14285714285717,
          362.8571428571428,
          591.7142857142858,
          781.1428571428571,
          1015.8571428571428,
          1261.7142857142858,
          1498,
          1773,
          2062.285714285714,
          2274.285714285714,
          2618,
          2901.857142857143,
          3070.4285714285716,
          3259.4285714285716,
          3261.857142857143,
          3285,
          3178.285714285714,
          2914.857142857143,
          4545.428571428572,
          4687.714285714285,
          4562,
          4476.285714285715,
          4344.571428571428,
          4258.857142857143,
          4219.142857142857,
          2112.428571428572,
          1646,
          1401.428571428571,
          1207.142857142857,
          945.1428571428572,
          748.7142857142858,
          557.2857142857143,
          563.7142857142858,
          483.4285714285714,
          426.57142857142856,
          416.1428571428572,
          414.28571428571433,
          358.8571428571428,
          317.2857142857143,
          271.2857142857143,
          248.57142857142856,
          201.85714285714286,
          126.42857142857143,
          103.57142857142857,
          88.2857142857143,
          75.42857142857143,
          62.14285714285714,
          41,
          29.285714285714285,
          25.857142857142854,
          23,
          26.285714285714285,
          25.42857142857143,
          28.285714285714285,
          39.285714285714285,
          44,
          50.14285714285714,
          66.28571428571429,
          70,
          77.85714285714286,
          86.14285714285714,
          85.42857142857143,
          95,
          101.85714285714286,
          96.14285714285714,
          98.28571428571428,
          94.85714285714286,
          94.57142857142857,
          91.14285714285714
         ],
         "yaxis": "y"
        },
        {
         "hoverlabel": {
          "namelength": 0
         },
         "hovertemplate": "Country=United States<br>Date=%{x}<br>Daily Confirmed Cases=%{y}",
         "legendgroup": "United States",
         "line": {
          "color": "#00cc96",
          "dash": "solid"
         },
         "mode": "lines",
         "name": "United States",
         "showlegend": true,
         "type": "scatter",
         "x": [
          "01/02",
          "01/03",
          "01/04",
          "01/05",
          "01/06",
          "01/07",
          "01/08",
          "01/09",
          "01/10",
          "01/11",
          "01/12",
          "01/13",
          "01/14",
          "01/15",
          "01/16",
          "01/17",
          "01/18",
          "01/19",
          "01/20",
          "01/21",
          "01/22",
          "01/23",
          "01/24",
          "01/25",
          "01/26",
          "01/27",
          "01/28",
          "01/29",
          "01/30",
          "01/31",
          "02/01",
          "02/02",
          "02/03",
          "02/04",
          "02/05",
          "02/06",
          "02/07",
          "02/08",
          "02/09",
          "02/10",
          "02/11",
          "02/12",
          "02/13",
          "02/14",
          "02/15",
          "02/16",
          "02/17",
          "02/18",
          "02/19",
          "02/20",
          "02/21",
          "02/22",
          "02/23",
          "02/24",
          "02/25",
          "02/26",
          "02/27",
          "02/28",
          "02/29",
          "03/01",
          "03/02",
          "03/03",
          "03/04",
          "03/05",
          "03/06",
          "03/07",
          "03/08",
          "03/09",
          "03/10",
          "03/11",
          "03/12",
          "03/13",
          "03/14",
          "03/15",
          "03/16",
          "03/17",
          "03/18",
          "03/19",
          "03/20",
          "03/21",
          "03/22",
          "03/23",
          "03/24",
          "03/25",
          "03/26",
          "03/27",
          "03/28",
          "03/29",
          "03/30",
          "03/31",
          "04/01",
          "04/02",
          "04/03"
         ],
         "xaxis": "x",
         "y": [
          0,
          0,
          0,
          0,
          0,
          0,
          0,
          0,
          0,
          0,
          0,
          0,
          0,
          0,
          0,
          0,
          0,
          0,
          0,
          0.14285714285714285,
          0.14285714285714285,
          0.14285714285714285,
          0.14285714285714285,
          0.2857142857142857,
          0.2857142857142857,
          0.7142857142857143,
          0.5714285714285714,
          0.5714285714285714,
          0.5714285714285714,
          0.7142857142857143,
          0.7142857142857143,
          0.8571428571428571,
          0.8571428571428571,
          0.8571428571428571,
          0.8571428571428571,
          1,
          0.8571428571428571,
          0.7142857142857143,
          0.5714285714285714,
          0.14285714285714285,
          0.2857142857142857,
          0.2857142857142857,
          0.2857142857142857,
          0.42857142857142855,
          0.42857142857142855,
          0.42857142857142855,
          0.42857142857142855,
          0.2857142857142857,
          0.2857142857142857,
          0.14285714285714285,
          0.14285714285714285,
          2.8571428571428568,
          2.8571428571428568,
          2.8571428571428568,
          5.428571428571429,
          5.428571428571429,
          6.2857142857142865,
          6.2857142857142865,
          4.428571428571429,
          4.857142857142857,
          7.7142857142857135,
          7.142857142857142,
          10.285714285714286,
          14.285714285714285,
          24.714285714285715,
          38.857142857142854,
          52,
          66.42857142857143,
          93,
          128.57142857142858,
          164.71428571428572,
          204.28571428571428,
          262.2857142857143,
          359.71428571428567,
          460,
          558.1428571428571,
          771.7142857142858,
          1157.5714285714287,
          1798.142857142857,
          2492.857142857143,
          3399.4285714285716,
          4490.285714285715,
          5968.714285714284,
          6972,
          8539.857142857143,
          10248.714285714286,
          12151.714285714286,
          13988.285714285714,
          15402.714285714286,
          16882.571428571428,
          19198.14285714286,
          21075.285714285714,
          22792.714285714286
         ],
         "yaxis": "y"
        },
        {
         "hoverlabel": {
          "namelength": 0
         },
         "hovertemplate": "Country=Germany<br>Date=%{x}<br>Daily Confirmed Cases=%{y}",
         "legendgroup": "Germany",
         "line": {
          "color": "#ab63fa",
          "dash": "solid"
         },
         "mode": "lines",
         "name": "Germany",
         "showlegend": true,
         "type": "scatter",
         "x": [
          "01/02",
          "01/03",
          "01/04",
          "01/05",
          "01/06",
          "01/07",
          "01/08",
          "01/09",
          "01/10",
          "01/11",
          "01/12",
          "01/13",
          "01/14",
          "01/15",
          "01/16",
          "01/17",
          "01/18",
          "01/19",
          "01/20",
          "01/21",
          "01/22",
          "01/23",
          "01/24",
          "01/25",
          "01/26",
          "01/27",
          "01/28",
          "01/29",
          "01/30",
          "01/31",
          "02/01",
          "02/02",
          "02/03",
          "02/04",
          "02/05",
          "02/06",
          "02/07",
          "02/08",
          "02/09",
          "02/10",
          "02/11",
          "02/12",
          "02/13",
          "02/14",
          "02/15",
          "02/16",
          "02/17",
          "02/18",
          "02/19",
          "02/20",
          "02/21",
          "02/22",
          "02/23",
          "02/24",
          "02/25",
          "02/26",
          "02/27",
          "02/28",
          "02/29",
          "03/01",
          "03/02",
          "03/03",
          "03/04",
          "03/05",
          "03/06",
          "03/07",
          "03/08",
          "03/09",
          "03/10",
          "03/11",
          "03/12",
          "03/13",
          "03/14",
          "03/15",
          "03/16",
          "03/17",
          "03/18",
          "03/19",
          "03/20",
          "03/21",
          "03/22",
          "03/23",
          "03/24",
          "03/25",
          "03/26",
          "03/27",
          "03/28",
          "03/29",
          "03/30",
          "03/31",
          "04/01",
          "04/02",
          "04/03"
         ],
         "xaxis": "x",
         "y": [
          0,
          0,
          0,
          0,
          0,
          0,
          0,
          0,
          0,
          0,
          0,
          0,
          0,
          0,
          0,
          0,
          0,
          0,
          0,
          0,
          0,
          0,
          0,
          0,
          0,
          0,
          0.14285714285714285,
          0.5714285714285714,
          0.5714285714285714,
          0.7142857142857143,
          1,
          1.1428571428571428,
          1.2857142857142858,
          1.4285714285714286,
          1,
          1,
          1,
          0.8571428571428571,
          0.7142857142857143,
          0.5714285714285714,
          0.2857142857142857,
          0.5714285714285714,
          0.5714285714285714,
          0.42857142857142855,
          0.2857142857142857,
          0.2857142857142857,
          0.2857142857142857,
          0.2857142857142857,
          0,
          0,
          0,
          0,
          0,
          0,
          0,
          0.2857142857142857,
          0.8571428571428571,
          4.571428571428571,
          6,
          13.714285714285715,
          16.285714285714285,
          20.285714285714285,
          25.57142857142857,
          34.42857142857143,
          50.42857142857143,
          89.57142857142857,
          105.14285714285714,
          110.42857142857143,
          140.28571428571428,
          157.14285714285714,
          186.42857142857144,
          281.2857142857143,
          339.7142857142857,
          421.1428571428572,
          562.2857142857143,
          696.1428571428571,
          837.1428571428571,
          947.2857142857144,
          1681.2857142857142,
          2160.714285714286,
          2524,
          2848,
          3314.285714285714,
          3485.4285714285716,
          4044.285714285714,
          4021.4285714285716,
          4342.142857142857,
          4440.571428571428,
          4646.285714285715,
          4671.571428571428,
          5116,
          5287.714285714285,
          4462
         ],
         "yaxis": "y"
        },
        {
         "hoverlabel": {
          "namelength": 0
         },
         "hovertemplate": "Country=France<br>Date=%{x}<br>Daily Confirmed Cases=%{y}",
         "legendgroup": "France",
         "line": {
          "color": "#FFA15A",
          "dash": "solid"
         },
         "mode": "lines",
         "name": "France",
         "showlegend": true,
         "type": "scatter",
         "x": [
          "01/02",
          "01/03",
          "01/04",
          "01/05",
          "01/06",
          "01/07",
          "01/08",
          "01/09",
          "01/10",
          "01/11",
          "01/12",
          "01/13",
          "01/14",
          "01/15",
          "01/16",
          "01/17",
          "01/18",
          "01/19",
          "01/20",
          "01/21",
          "01/22",
          "01/23",
          "01/24",
          "01/25",
          "01/26",
          "01/27",
          "01/28",
          "01/29",
          "01/30",
          "01/31",
          "02/01",
          "02/02",
          "02/03",
          "02/04",
          "02/05",
          "02/06",
          "02/07",
          "02/08",
          "02/09",
          "02/10",
          "02/11",
          "02/12",
          "02/13",
          "02/14",
          "02/15",
          "02/16",
          "02/17",
          "02/18",
          "02/19",
          "02/20",
          "02/21",
          "02/22",
          "02/23",
          "02/24",
          "02/25",
          "02/26",
          "02/27",
          "02/28",
          "02/29",
          "03/01",
          "03/02",
          "03/03",
          "03/04",
          "03/05",
          "03/06",
          "03/07",
          "03/08",
          "03/09",
          "03/10",
          "03/11",
          "03/12",
          "03/13",
          "03/14",
          "03/15",
          "03/16",
          "03/17",
          "03/18",
          "03/19",
          "03/20",
          "03/21",
          "03/22",
          "03/23",
          "03/24",
          "03/25",
          "03/26",
          "03/27",
          "03/28",
          "03/29",
          "03/30",
          "03/31",
          "04/01",
          "04/02",
          "04/03"
         ],
         "xaxis": "x",
         "y": [
          0,
          0,
          0,
          0,
          0,
          0,
          0,
          0,
          0,
          0,
          0,
          0,
          0,
          0,
          0,
          0,
          0,
          0,
          0,
          0,
          0,
          0,
          0,
          0.42857142857142855,
          0.42857142857142855,
          0.42857142857142855,
          0.42857142857142855,
          0.5714285714285714,
          0.7142857142857143,
          0.8571428571428571,
          0.42857142857142855,
          0.42857142857142855,
          0.42857142857142855,
          0.42857142857142855,
          0.2857142857142857,
          0.14285714285714285,
          0,
          0.7142857142857143,
          0.7142857142857143,
          0.7142857142857143,
          0.7142857142857143,
          0.7142857142857143,
          0.7142857142857143,
          0.7142857142857143,
          0,
          0,
          0.14285714285714285,
          0.14285714285714285,
          0.14285714285714285,
          0.14285714285714285,
          0.14285714285714285,
          0.14285714285714285,
          0.14285714285714285,
          0,
          0,
          0.2857142857142857,
          0.7142857142857143,
          3.7142857142857135,
          6.428571428571429,
          12.571428571428573,
          16.857142857142858,
          23.714285714285715,
          28.285714285714285,
          38.285714285714285,
          55,
          79.42857142857143,
          88,
          142.28571428571428,
          176.28571428571428,
          224.57142857142856,
          285.14285714285717,
          350.42857142857144,
          435.4285714285714,
          540.4285714285714,
          613.8571428571429,
          745.8571428571429,
          849.4285714285713,
          979,
          1159.857142857143,
          1278.7142857142858,
          1422.857142857143,
          1513.571428571429,
          1889,
          2081.714285714286,
          2299.857142857143,
          2594.285714285714,
          2907.4285714285716,
          3302.285714285714,
          3450.857142857143,
          3527.714285714286,
          4260.857142857143,
          4536.571428571428,
          4278.571428571428
         ],
         "yaxis": "y"
        },
        {
         "hoverlabel": {
          "namelength": 0
         },
         "hovertemplate": "Country=Netherlands<br>Date=%{x}<br>Daily Confirmed Cases=%{y}",
         "legendgroup": "Netherlands",
         "line": {
          "color": "#19d3f3",
          "dash": "solid"
         },
         "mode": "lines",
         "name": "Netherlands",
         "showlegend": true,
         "type": "scatter",
         "x": [
          "01/02",
          "01/03",
          "01/04",
          "01/05",
          "01/06",
          "01/07",
          "01/08",
          "01/09",
          "01/10",
          "01/11",
          "01/12",
          "01/13",
          "01/14",
          "01/15",
          "01/16",
          "01/17",
          "01/18",
          "01/19",
          "01/20",
          "01/21",
          "01/22",
          "01/23",
          "01/24",
          "01/25",
          "01/26",
          "01/27",
          "01/28",
          "01/29",
          "01/30",
          "01/31",
          "02/01",
          "02/02",
          "02/03",
          "02/04",
          "02/05",
          "02/06",
          "02/07",
          "02/08",
          "02/09",
          "02/10",
          "02/11",
          "02/12",
          "02/13",
          "02/14",
          "02/15",
          "02/16",
          "02/17",
          "02/18",
          "02/19",
          "02/20",
          "02/21",
          "02/22",
          "02/23",
          "02/24",
          "02/25",
          "02/26",
          "02/27",
          "02/28",
          "02/29",
          "03/01",
          "03/02",
          "03/03",
          "03/04",
          "03/05",
          "03/06",
          "03/07",
          "03/08",
          "03/09",
          "03/10",
          "03/11",
          "03/12",
          "03/13",
          "03/14",
          "03/15",
          "03/16",
          "03/17",
          "03/18",
          "03/19",
          "03/20",
          "03/21",
          "03/22",
          "03/23",
          "03/24",
          "03/25",
          "03/26",
          "03/27",
          "03/28",
          "03/29",
          "03/30",
          "03/31",
          "04/01",
          "04/02",
          "04/03"
         ],
         "xaxis": "x",
         "y": [
          0,
          0,
          0,
          0,
          0,
          0,
          0,
          0,
          0,
          0,
          0,
          0,
          0,
          0,
          0,
          0,
          0,
          0,
          0,
          0,
          0,
          0,
          0,
          0,
          0,
          0,
          0,
          0,
          0,
          0,
          0,
          0,
          0,
          0,
          0,
          0,
          0,
          0,
          0,
          0,
          0,
          0,
          0,
          0,
          0,
          0,
          0,
          0,
          0,
          0,
          0,
          0,
          0,
          0,
          0,
          0,
          0,
          0.14285714285714285,
          0.2857142857142857,
          1,
          1.8571428571428568,
          2.571428571428572,
          4,
          5.428571428571429,
          11.571428571428573,
          18,
          25.857142857142854,
          36,
          43.28571428571429,
          50.57142857142857,
          66.42857142857143,
          76,
          96.57142857142857,
          110.14285714285714,
          124.28571428571428,
          156,
          189,
          221.14285714285717,
          263.7142857142857,
          312.85714285714283,
          381.71428571428567,
          438.4285714285714,
          476.57142857142856,
          550.7142857142857,
          623,
          710.1428571428571,
          801.2857142857142,
          875.8571428571429,
          951.7142857142856,
          1000.1428571428572,
          1005,
          1028.857142857143,
          1038
         ],
         "yaxis": "y"
        }
       ],
       "layout": {
        "annotations": [
         {
          "font": {
           "color": "rgb(150,150,150)",
           "family": "Arial",
           "size": 12
          },
          "showarrow": false,
          "text": "Source: https://ourworldindata.org/",
          "x": 0.5,
          "xanchor": "center",
          "xref": "paper",
          "y": -0.16,
          "yanchor": "top",
          "yref": "paper"
         },
         {
          "font": {
           "color": "rgb(37,37,37)",
           "family": "Arial",
           "size": 30
          },
          "showarrow": false,
          "text": "Daily Confirmed Cases per country",
          "x": 0,
          "xanchor": "left",
          "xref": "paper",
          "y": 1.05,
          "yanchor": "bottom",
          "yref": "paper"
         }
        ],
        "legend": {
         "title": {
          "text": "Country"
         },
         "tracegroupgap": 0
        },
        "margin": {
         "t": 60
        },
        "plot_bgcolor": "white",
        "template": {
         "data": {
          "bar": [
           {
            "error_x": {
             "color": "#2a3f5f"
            },
            "error_y": {
             "color": "#2a3f5f"
            },
            "marker": {
             "line": {
              "color": "#E5ECF6",
              "width": 0.5
             }
            },
            "type": "bar"
           }
          ],
          "barpolar": [
           {
            "marker": {
             "line": {
              "color": "#E5ECF6",
              "width": 0.5
             }
            },
            "type": "barpolar"
           }
          ],
          "carpet": [
           {
            "aaxis": {
             "endlinecolor": "#2a3f5f",
             "gridcolor": "white",
             "linecolor": "white",
             "minorgridcolor": "white",
             "startlinecolor": "#2a3f5f"
            },
            "baxis": {
             "endlinecolor": "#2a3f5f",
             "gridcolor": "white",
             "linecolor": "white",
             "minorgridcolor": "white",
             "startlinecolor": "#2a3f5f"
            },
            "type": "carpet"
           }
          ],
          "choropleth": [
           {
            "colorbar": {
             "outlinewidth": 0,
             "ticks": ""
            },
            "type": "choropleth"
           }
          ],
          "contour": [
           {
            "colorbar": {
             "outlinewidth": 0,
             "ticks": ""
            },
            "colorscale": [
             [
              0,
              "#0d0887"
             ],
             [
              0.1111111111111111,
              "#46039f"
             ],
             [
              0.2222222222222222,
              "#7201a8"
             ],
             [
              0.3333333333333333,
              "#9c179e"
             ],
             [
              0.4444444444444444,
              "#bd3786"
             ],
             [
              0.5555555555555556,
              "#d8576b"
             ],
             [
              0.6666666666666666,
              "#ed7953"
             ],
             [
              0.7777777777777778,
              "#fb9f3a"
             ],
             [
              0.8888888888888888,
              "#fdca26"
             ],
             [
              1,
              "#f0f921"
             ]
            ],
            "type": "contour"
           }
          ],
          "contourcarpet": [
           {
            "colorbar": {
             "outlinewidth": 0,
             "ticks": ""
            },
            "type": "contourcarpet"
           }
          ],
          "heatmap": [
           {
            "colorbar": {
             "outlinewidth": 0,
             "ticks": ""
            },
            "colorscale": [
             [
              0,
              "#0d0887"
             ],
             [
              0.1111111111111111,
              "#46039f"
             ],
             [
              0.2222222222222222,
              "#7201a8"
             ],
             [
              0.3333333333333333,
              "#9c179e"
             ],
             [
              0.4444444444444444,
              "#bd3786"
             ],
             [
              0.5555555555555556,
              "#d8576b"
             ],
             [
              0.6666666666666666,
              "#ed7953"
             ],
             [
              0.7777777777777778,
              "#fb9f3a"
             ],
             [
              0.8888888888888888,
              "#fdca26"
             ],
             [
              1,
              "#f0f921"
             ]
            ],
            "type": "heatmap"
           }
          ],
          "heatmapgl": [
           {
            "colorbar": {
             "outlinewidth": 0,
             "ticks": ""
            },
            "colorscale": [
             [
              0,
              "#0d0887"
             ],
             [
              0.1111111111111111,
              "#46039f"
             ],
             [
              0.2222222222222222,
              "#7201a8"
             ],
             [
              0.3333333333333333,
              "#9c179e"
             ],
             [
              0.4444444444444444,
              "#bd3786"
             ],
             [
              0.5555555555555556,
              "#d8576b"
             ],
             [
              0.6666666666666666,
              "#ed7953"
             ],
             [
              0.7777777777777778,
              "#fb9f3a"
             ],
             [
              0.8888888888888888,
              "#fdca26"
             ],
             [
              1,
              "#f0f921"
             ]
            ],
            "type": "heatmapgl"
           }
          ],
          "histogram": [
           {
            "marker": {
             "colorbar": {
              "outlinewidth": 0,
              "ticks": ""
             }
            },
            "type": "histogram"
           }
          ],
          "histogram2d": [
           {
            "colorbar": {
             "outlinewidth": 0,
             "ticks": ""
            },
            "colorscale": [
             [
              0,
              "#0d0887"
             ],
             [
              0.1111111111111111,
              "#46039f"
             ],
             [
              0.2222222222222222,
              "#7201a8"
             ],
             [
              0.3333333333333333,
              "#9c179e"
             ],
             [
              0.4444444444444444,
              "#bd3786"
             ],
             [
              0.5555555555555556,
              "#d8576b"
             ],
             [
              0.6666666666666666,
              "#ed7953"
             ],
             [
              0.7777777777777778,
              "#fb9f3a"
             ],
             [
              0.8888888888888888,
              "#fdca26"
             ],
             [
              1,
              "#f0f921"
             ]
            ],
            "type": "histogram2d"
           }
          ],
          "histogram2dcontour": [
           {
            "colorbar": {
             "outlinewidth": 0,
             "ticks": ""
            },
            "colorscale": [
             [
              0,
              "#0d0887"
             ],
             [
              0.1111111111111111,
              "#46039f"
             ],
             [
              0.2222222222222222,
              "#7201a8"
             ],
             [
              0.3333333333333333,
              "#9c179e"
             ],
             [
              0.4444444444444444,
              "#bd3786"
             ],
             [
              0.5555555555555556,
              "#d8576b"
             ],
             [
              0.6666666666666666,
              "#ed7953"
             ],
             [
              0.7777777777777778,
              "#fb9f3a"
             ],
             [
              0.8888888888888888,
              "#fdca26"
             ],
             [
              1,
              "#f0f921"
             ]
            ],
            "type": "histogram2dcontour"
           }
          ],
          "mesh3d": [
           {
            "colorbar": {
             "outlinewidth": 0,
             "ticks": ""
            },
            "type": "mesh3d"
           }
          ],
          "parcoords": [
           {
            "line": {
             "colorbar": {
              "outlinewidth": 0,
              "ticks": ""
             }
            },
            "type": "parcoords"
           }
          ],
          "pie": [
           {
            "automargin": true,
            "type": "pie"
           }
          ],
          "scatter": [
           {
            "marker": {
             "colorbar": {
              "outlinewidth": 0,
              "ticks": ""
             }
            },
            "type": "scatter"
           }
          ],
          "scatter3d": [
           {
            "line": {
             "colorbar": {
              "outlinewidth": 0,
              "ticks": ""
             }
            },
            "marker": {
             "colorbar": {
              "outlinewidth": 0,
              "ticks": ""
             }
            },
            "type": "scatter3d"
           }
          ],
          "scattercarpet": [
           {
            "marker": {
             "colorbar": {
              "outlinewidth": 0,
              "ticks": ""
             }
            },
            "type": "scattercarpet"
           }
          ],
          "scattergeo": [
           {
            "marker": {
             "colorbar": {
              "outlinewidth": 0,
              "ticks": ""
             }
            },
            "type": "scattergeo"
           }
          ],
          "scattergl": [
           {
            "marker": {
             "colorbar": {
              "outlinewidth": 0,
              "ticks": ""
             }
            },
            "type": "scattergl"
           }
          ],
          "scattermapbox": [
           {
            "marker": {
             "colorbar": {
              "outlinewidth": 0,
              "ticks": ""
             }
            },
            "type": "scattermapbox"
           }
          ],
          "scatterpolar": [
           {
            "marker": {
             "colorbar": {
              "outlinewidth": 0,
              "ticks": ""
             }
            },
            "type": "scatterpolar"
           }
          ],
          "scatterpolargl": [
           {
            "marker": {
             "colorbar": {
              "outlinewidth": 0,
              "ticks": ""
             }
            },
            "type": "scatterpolargl"
           }
          ],
          "scatterternary": [
           {
            "marker": {
             "colorbar": {
              "outlinewidth": 0,
              "ticks": ""
             }
            },
            "type": "scatterternary"
           }
          ],
          "surface": [
           {
            "colorbar": {
             "outlinewidth": 0,
             "ticks": ""
            },
            "colorscale": [
             [
              0,
              "#0d0887"
             ],
             [
              0.1111111111111111,
              "#46039f"
             ],
             [
              0.2222222222222222,
              "#7201a8"
             ],
             [
              0.3333333333333333,
              "#9c179e"
             ],
             [
              0.4444444444444444,
              "#bd3786"
             ],
             [
              0.5555555555555556,
              "#d8576b"
             ],
             [
              0.6666666666666666,
              "#ed7953"
             ],
             [
              0.7777777777777778,
              "#fb9f3a"
             ],
             [
              0.8888888888888888,
              "#fdca26"
             ],
             [
              1,
              "#f0f921"
             ]
            ],
            "type": "surface"
           }
          ],
          "table": [
           {
            "cells": {
             "fill": {
              "color": "#EBF0F8"
             },
             "line": {
              "color": "white"
             }
            },
            "header": {
             "fill": {
              "color": "#C8D4E3"
             },
             "line": {
              "color": "white"
             }
            },
            "type": "table"
           }
          ]
         },
         "layout": {
          "annotationdefaults": {
           "arrowcolor": "#2a3f5f",
           "arrowhead": 0,
           "arrowwidth": 1
          },
          "coloraxis": {
           "colorbar": {
            "outlinewidth": 0,
            "ticks": ""
           }
          },
          "colorscale": {
           "diverging": [
            [
             0,
             "#8e0152"
            ],
            [
             0.1,
             "#c51b7d"
            ],
            [
             0.2,
             "#de77ae"
            ],
            [
             0.3,
             "#f1b6da"
            ],
            [
             0.4,
             "#fde0ef"
            ],
            [
             0.5,
             "#f7f7f7"
            ],
            [
             0.6,
             "#e6f5d0"
            ],
            [
             0.7,
             "#b8e186"
            ],
            [
             0.8,
             "#7fbc41"
            ],
            [
             0.9,
             "#4d9221"
            ],
            [
             1,
             "#276419"
            ]
           ],
           "sequential": [
            [
             0,
             "#0d0887"
            ],
            [
             0.1111111111111111,
             "#46039f"
            ],
            [
             0.2222222222222222,
             "#7201a8"
            ],
            [
             0.3333333333333333,
             "#9c179e"
            ],
            [
             0.4444444444444444,
             "#bd3786"
            ],
            [
             0.5555555555555556,
             "#d8576b"
            ],
            [
             0.6666666666666666,
             "#ed7953"
            ],
            [
             0.7777777777777778,
             "#fb9f3a"
            ],
            [
             0.8888888888888888,
             "#fdca26"
            ],
            [
             1,
             "#f0f921"
            ]
           ],
           "sequentialminus": [
            [
             0,
             "#0d0887"
            ],
            [
             0.1111111111111111,
             "#46039f"
            ],
            [
             0.2222222222222222,
             "#7201a8"
            ],
            [
             0.3333333333333333,
             "#9c179e"
            ],
            [
             0.4444444444444444,
             "#bd3786"
            ],
            [
             0.5555555555555556,
             "#d8576b"
            ],
            [
             0.6666666666666666,
             "#ed7953"
            ],
            [
             0.7777777777777778,
             "#fb9f3a"
            ],
            [
             0.8888888888888888,
             "#fdca26"
            ],
            [
             1,
             "#f0f921"
            ]
           ]
          },
          "colorway": [
           "#636efa",
           "#EF553B",
           "#00cc96",
           "#ab63fa",
           "#FFA15A",
           "#19d3f3",
           "#FF6692",
           "#B6E880",
           "#FF97FF",
           "#FECB52"
          ],
          "font": {
           "color": "#2a3f5f"
          },
          "geo": {
           "bgcolor": "white",
           "lakecolor": "white",
           "landcolor": "#E5ECF6",
           "showlakes": true,
           "showland": true,
           "subunitcolor": "white"
          },
          "hoverlabel": {
           "align": "left"
          },
          "hovermode": "closest",
          "mapbox": {
           "style": "light"
          },
          "paper_bgcolor": "white",
          "plot_bgcolor": "#E5ECF6",
          "polar": {
           "angularaxis": {
            "gridcolor": "white",
            "linecolor": "white",
            "ticks": ""
           },
           "bgcolor": "#E5ECF6",
           "radialaxis": {
            "gridcolor": "white",
            "linecolor": "white",
            "ticks": ""
           }
          },
          "scene": {
           "xaxis": {
            "backgroundcolor": "#E5ECF6",
            "gridcolor": "white",
            "gridwidth": 2,
            "linecolor": "white",
            "showbackground": true,
            "ticks": "",
            "zerolinecolor": "white"
           },
           "yaxis": {
            "backgroundcolor": "#E5ECF6",
            "gridcolor": "white",
            "gridwidth": 2,
            "linecolor": "white",
            "showbackground": true,
            "ticks": "",
            "zerolinecolor": "white"
           },
           "zaxis": {
            "backgroundcolor": "#E5ECF6",
            "gridcolor": "white",
            "gridwidth": 2,
            "linecolor": "white",
            "showbackground": true,
            "ticks": "",
            "zerolinecolor": "white"
           }
          },
          "shapedefaults": {
           "line": {
            "color": "#2a3f5f"
           }
          },
          "ternary": {
           "aaxis": {
            "gridcolor": "white",
            "linecolor": "white",
            "ticks": ""
           },
           "baxis": {
            "gridcolor": "white",
            "linecolor": "white",
            "ticks": ""
           },
           "bgcolor": "#E5ECF6",
           "caxis": {
            "gridcolor": "white",
            "linecolor": "white",
            "ticks": ""
           }
          },
          "title": {
           "x": 0.05
          },
          "xaxis": {
           "automargin": true,
           "gridcolor": "white",
           "linecolor": "white",
           "ticks": "",
           "title": {
            "standoff": 15
           },
           "zerolinecolor": "white",
           "zerolinewidth": 2
          },
          "yaxis": {
           "automargin": true,
           "gridcolor": "white",
           "linecolor": "white",
           "ticks": "",
           "title": {
            "standoff": 15
           },
           "zerolinecolor": "white",
           "zerolinewidth": 2
          }
         }
        },
        "xaxis": {
         "anchor": "y",
         "domain": [
          0,
          1
         ],
         "nticks": 47,
         "showticklabels": true,
         "tickangle": 45,
         "title": {
          "text": "Date"
         }
        },
        "yaxis": {
         "anchor": "x",
         "domain": [
          0,
          1
         ],
         "nticks": 20,
         "title": {
          "text": "Daily Confirmed Cases"
         }
        }
       }
      },
      "text/html": [
       "<div>\n",
       "        \n",
       "        \n",
       "            <div id=\"c727c932-1520-4a62-a56a-1f91a3a0437f\" class=\"plotly-graph-div\" style=\"height:525px; width:100%;\"></div>\n",
       "            <script type=\"text/javascript\">\n",
       "                require([\"plotly\"], function(Plotly) {\n",
       "                    window.PLOTLYENV=window.PLOTLYENV || {};\n",
       "                    \n",
       "                if (document.getElementById(\"c727c932-1520-4a62-a56a-1f91a3a0437f\")) {\n",
       "                    Plotly.newPlot(\n",
       "                        'c727c932-1520-4a62-a56a-1f91a3a0437f',\n",
       "                        [{\"hoverlabel\": {\"namelength\": 0}, \"hovertemplate\": \"Country=Spain<br>Date=%{x}<br>Daily Confirmed Cases=%{y}\", \"legendgroup\": \"Spain\", \"line\": {\"color\": \"#636efa\", \"dash\": \"solid\"}, \"mode\": \"lines\", \"name\": \"Spain\", \"showlegend\": true, \"type\": \"scatter\", \"x\": [\"01/02\", \"01/03\", \"01/04\", \"01/05\", \"01/06\", \"01/07\", \"01/08\", \"01/09\", \"01/10\", \"01/11\", \"01/12\", \"01/13\", \"01/14\", \"01/15\", \"01/16\", \"01/17\", \"01/18\", \"01/19\", \"01/20\", \"01/21\", \"01/22\", \"01/23\", \"01/24\", \"01/25\", \"01/26\", \"01/27\", \"01/28\", \"01/29\", \"01/30\", \"01/31\", \"02/01\", \"02/02\", \"02/03\", \"02/04\", \"02/05\", \"02/06\", \"02/07\", \"02/08\", \"02/09\", \"02/10\", \"02/11\", \"02/12\", \"02/13\", \"02/14\", \"02/15\", \"02/16\", \"02/17\", \"02/18\", \"02/19\", \"02/20\", \"02/21\", \"02/22\", \"02/23\", \"02/24\", \"02/25\", \"02/26\", \"02/27\", \"02/28\", \"02/29\", \"03/01\", \"03/02\", \"03/03\", \"03/04\", \"03/05\", \"03/06\", \"03/07\", \"03/08\", \"03/09\", \"03/10\", \"03/11\", \"03/12\", \"03/13\", \"03/14\", \"03/15\", \"03/16\", \"03/17\", \"03/18\", \"03/19\", \"03/20\", \"03/21\", \"03/22\", \"03/23\", \"03/24\", \"03/25\", \"03/26\", \"03/27\", \"03/28\", \"03/29\", \"03/30\", \"03/31\", \"04/01\", \"04/02\", \"04/03\"], \"xaxis\": \"x\", \"y\": [0.0, 0.0, 0.0, 0.0, 0.0, 0.0, 0.0, 0.0, 0.0, 0.0, 0.0, 0.0, 0.0, 0.0, 0.0, 0.0, 0.0, 0.0, 0.0, 0.0, 0.0, 0.0, 0.0, 0.0, 0.0, 0.0, 0.0, 0.0, 0.0, 0.0, 0.14285714285714285, 0.14285714285714285, 0.14285714285714285, 0.14285714285714285, 0.14285714285714285, 0.14285714285714285, 0.14285714285714285, 0.0, 0.0, 0.14285714285714285, 0.14285714285714285, 0.14285714285714285, 0.14285714285714285, 0.14285714285714285, 0.14285714285714285, 0.14285714285714285, 0.0, 0.0, 0.0, 0.0, 0.0, 0.0, 0.0, 0.0, 0.14285714285714285, 0.7142857142857143, 1.4285714285714286, 3.2857142857142856, 4.571428571428571, 9.142857142857142, 11.571428571428573, 15.857142857142858, 20.571428571428573, 26.857142857142854, 33.714285714285715, 48.57142857142857, 52.0, 72.28571428571429, 155.71428571428572, 212.57142857142856, 277.14285714285717, 391.8571428571428, 551.0, 760.4285714285713, 1023.4285714285713, 1141.0, 1362.7142857142858, 1653.7142857142858, 2020.4285714285716, 2249.8571428571427, 2739.0, 2974.142857142857, 3414.0, 4070.714285714286, 4842.0, 5577.285714285716, 6297.0, 6760.285714285716, 7175.0, 7443.714285714284, 7820.571428571428, 7789.428571428572, 7721.428571428572], \"yaxis\": \"y\"}, {\"hoverlabel\": {\"namelength\": 0}, \"hovertemplate\": \"Country=China<br>Date=%{x}<br>Daily Confirmed Cases=%{y}\", \"legendgroup\": \"China\", \"line\": {\"color\": \"#EF553B\", \"dash\": \"solid\"}, \"mode\": \"lines\", \"name\": \"China\", \"showlegend\": true, \"type\": \"scatter\", \"x\": [\"01/02\", \"01/03\", \"01/04\", \"01/05\", \"01/06\", \"01/07\", \"01/08\", \"01/09\", \"01/10\", \"01/11\", \"01/12\", \"01/13\", \"01/14\", \"01/15\", \"01/16\", \"01/17\", \"01/18\", \"01/19\", \"01/20\", \"01/21\", \"01/22\", \"01/23\", \"01/24\", \"01/25\", \"01/26\", \"01/27\", \"01/28\", \"01/29\", \"01/30\", \"01/31\", \"02/01\", \"02/02\", \"02/03\", \"02/04\", \"02/05\", \"02/06\", \"02/07\", \"02/08\", \"02/09\", \"02/10\", \"02/11\", \"02/12\", \"02/13\", \"02/14\", \"02/15\", \"02/16\", \"02/17\", \"02/18\", \"02/19\", \"02/20\", \"02/21\", \"02/22\", \"02/23\", \"02/24\", \"02/25\", \"02/26\", \"02/27\", \"02/28\", \"02/29\", \"03/01\", \"03/02\", \"03/03\", \"03/04\", \"03/05\", \"03/06\", \"03/07\", \"03/08\", \"03/09\", \"03/10\", \"03/11\", \"03/12\", \"03/13\", \"03/14\", \"03/15\", \"03/16\", \"03/17\", \"03/18\", \"03/19\", \"03/20\", \"03/21\", \"03/22\", \"03/23\", \"03/24\", \"03/25\", \"03/26\", \"03/27\", \"03/28\", \"03/29\", \"03/30\", \"03/31\", \"04/01\", \"04/02\", \"04/03\"], \"xaxis\": \"x\", \"y\": [9.0, 11.0, 8.8, 9.833333333333334, 8.428571428571429, 4.571428571428571, 4.571428571428571, 4.571428571428571, 2.142857142857143, 2.142857142857143, 0.0, 0.0, 0.0, 0.0, 0.0, 0.5714285714285714, 3.0, 22.428571428571423, 25.142857142857146, 46.714285714285715, 66.71428571428571, 80.57142857142857, 117.0, 177.5714285714286, 253.14285714285717, 362.8571428571428, 591.7142857142858, 781.1428571428571, 1015.8571428571428, 1261.7142857142858, 1498.0, 1773.0, 2062.285714285714, 2274.285714285714, 2618.0, 2901.857142857143, 3070.4285714285716, 3259.4285714285716, 3261.857142857143, 3285.0, 3178.285714285714, 2914.857142857143, 4545.428571428572, 4687.714285714285, 4562.0, 4476.285714285715, 4344.571428571428, 4258.857142857143, 4219.142857142857, 2112.428571428572, 1646.0, 1401.428571428571, 1207.142857142857, 945.1428571428572, 748.7142857142858, 557.2857142857143, 563.7142857142858, 483.4285714285714, 426.57142857142856, 416.1428571428572, 414.28571428571433, 358.8571428571428, 317.2857142857143, 271.2857142857143, 248.57142857142856, 201.85714285714286, 126.42857142857143, 103.57142857142857, 88.2857142857143, 75.42857142857143, 62.14285714285714, 41.0, 29.285714285714285, 25.857142857142854, 23.0, 26.285714285714285, 25.42857142857143, 28.285714285714285, 39.285714285714285, 44.0, 50.14285714285714, 66.28571428571429, 70.0, 77.85714285714286, 86.14285714285714, 85.42857142857143, 95.0, 101.85714285714286, 96.14285714285714, 98.28571428571428, 94.85714285714286, 94.57142857142857, 91.14285714285714], \"yaxis\": \"y\"}, {\"hoverlabel\": {\"namelength\": 0}, \"hovertemplate\": \"Country=United States<br>Date=%{x}<br>Daily Confirmed Cases=%{y}\", \"legendgroup\": \"United States\", \"line\": {\"color\": \"#00cc96\", \"dash\": \"solid\"}, \"mode\": \"lines\", \"name\": \"United States\", \"showlegend\": true, \"type\": \"scatter\", \"x\": [\"01/02\", \"01/03\", \"01/04\", \"01/05\", \"01/06\", \"01/07\", \"01/08\", \"01/09\", \"01/10\", \"01/11\", \"01/12\", \"01/13\", \"01/14\", \"01/15\", \"01/16\", \"01/17\", \"01/18\", \"01/19\", \"01/20\", \"01/21\", \"01/22\", \"01/23\", \"01/24\", \"01/25\", \"01/26\", \"01/27\", \"01/28\", \"01/29\", \"01/30\", \"01/31\", \"02/01\", \"02/02\", \"02/03\", \"02/04\", \"02/05\", \"02/06\", \"02/07\", \"02/08\", \"02/09\", \"02/10\", \"02/11\", \"02/12\", \"02/13\", \"02/14\", \"02/15\", \"02/16\", \"02/17\", \"02/18\", \"02/19\", \"02/20\", \"02/21\", \"02/22\", \"02/23\", \"02/24\", \"02/25\", \"02/26\", \"02/27\", \"02/28\", \"02/29\", \"03/01\", \"03/02\", \"03/03\", \"03/04\", \"03/05\", \"03/06\", \"03/07\", \"03/08\", \"03/09\", \"03/10\", \"03/11\", \"03/12\", \"03/13\", \"03/14\", \"03/15\", \"03/16\", \"03/17\", \"03/18\", \"03/19\", \"03/20\", \"03/21\", \"03/22\", \"03/23\", \"03/24\", \"03/25\", \"03/26\", \"03/27\", \"03/28\", \"03/29\", \"03/30\", \"03/31\", \"04/01\", \"04/02\", \"04/03\"], \"xaxis\": \"x\", \"y\": [0.0, 0.0, 0.0, 0.0, 0.0, 0.0, 0.0, 0.0, 0.0, 0.0, 0.0, 0.0, 0.0, 0.0, 0.0, 0.0, 0.0, 0.0, 0.0, 0.14285714285714285, 0.14285714285714285, 0.14285714285714285, 0.14285714285714285, 0.2857142857142857, 0.2857142857142857, 0.7142857142857143, 0.5714285714285714, 0.5714285714285714, 0.5714285714285714, 0.7142857142857143, 0.7142857142857143, 0.8571428571428571, 0.8571428571428571, 0.8571428571428571, 0.8571428571428571, 1.0, 0.8571428571428571, 0.7142857142857143, 0.5714285714285714, 0.14285714285714285, 0.2857142857142857, 0.2857142857142857, 0.2857142857142857, 0.42857142857142855, 0.42857142857142855, 0.42857142857142855, 0.42857142857142855, 0.2857142857142857, 0.2857142857142857, 0.14285714285714285, 0.14285714285714285, 2.8571428571428568, 2.8571428571428568, 2.8571428571428568, 5.428571428571429, 5.428571428571429, 6.2857142857142865, 6.2857142857142865, 4.428571428571429, 4.857142857142857, 7.7142857142857135, 7.142857142857142, 10.285714285714286, 14.285714285714285, 24.714285714285715, 38.857142857142854, 52.0, 66.42857142857143, 93.0, 128.57142857142858, 164.71428571428572, 204.28571428571428, 262.2857142857143, 359.71428571428567, 460.0, 558.1428571428571, 771.7142857142858, 1157.5714285714287, 1798.142857142857, 2492.857142857143, 3399.4285714285716, 4490.285714285715, 5968.714285714284, 6972.0, 8539.857142857143, 10248.714285714286, 12151.714285714286, 13988.285714285714, 15402.714285714286, 16882.571428571428, 19198.14285714286, 21075.285714285714, 22792.714285714286], \"yaxis\": \"y\"}, {\"hoverlabel\": {\"namelength\": 0}, \"hovertemplate\": \"Country=Germany<br>Date=%{x}<br>Daily Confirmed Cases=%{y}\", \"legendgroup\": \"Germany\", \"line\": {\"color\": \"#ab63fa\", \"dash\": \"solid\"}, \"mode\": \"lines\", \"name\": \"Germany\", \"showlegend\": true, \"type\": \"scatter\", \"x\": [\"01/02\", \"01/03\", \"01/04\", \"01/05\", \"01/06\", \"01/07\", \"01/08\", \"01/09\", \"01/10\", \"01/11\", \"01/12\", \"01/13\", \"01/14\", \"01/15\", \"01/16\", \"01/17\", \"01/18\", \"01/19\", \"01/20\", \"01/21\", \"01/22\", \"01/23\", \"01/24\", \"01/25\", \"01/26\", \"01/27\", \"01/28\", \"01/29\", \"01/30\", \"01/31\", \"02/01\", \"02/02\", \"02/03\", \"02/04\", \"02/05\", \"02/06\", \"02/07\", \"02/08\", \"02/09\", \"02/10\", \"02/11\", \"02/12\", \"02/13\", \"02/14\", \"02/15\", \"02/16\", \"02/17\", \"02/18\", \"02/19\", \"02/20\", \"02/21\", \"02/22\", \"02/23\", \"02/24\", \"02/25\", \"02/26\", \"02/27\", \"02/28\", \"02/29\", \"03/01\", \"03/02\", \"03/03\", \"03/04\", \"03/05\", \"03/06\", \"03/07\", \"03/08\", \"03/09\", \"03/10\", \"03/11\", \"03/12\", \"03/13\", \"03/14\", \"03/15\", \"03/16\", \"03/17\", \"03/18\", \"03/19\", \"03/20\", \"03/21\", \"03/22\", \"03/23\", \"03/24\", \"03/25\", \"03/26\", \"03/27\", \"03/28\", \"03/29\", \"03/30\", \"03/31\", \"04/01\", \"04/02\", \"04/03\"], \"xaxis\": \"x\", \"y\": [0.0, 0.0, 0.0, 0.0, 0.0, 0.0, 0.0, 0.0, 0.0, 0.0, 0.0, 0.0, 0.0, 0.0, 0.0, 0.0, 0.0, 0.0, 0.0, 0.0, 0.0, 0.0, 0.0, 0.0, 0.0, 0.0, 0.14285714285714285, 0.5714285714285714, 0.5714285714285714, 0.7142857142857143, 1.0, 1.1428571428571428, 1.2857142857142858, 1.4285714285714286, 1.0, 1.0, 1.0, 0.8571428571428571, 0.7142857142857143, 0.5714285714285714, 0.2857142857142857, 0.5714285714285714, 0.5714285714285714, 0.42857142857142855, 0.2857142857142857, 0.2857142857142857, 0.2857142857142857, 0.2857142857142857, 0.0, 0.0, 0.0, 0.0, 0.0, 0.0, 0.0, 0.2857142857142857, 0.8571428571428571, 4.571428571428571, 6.0, 13.714285714285715, 16.285714285714285, 20.285714285714285, 25.57142857142857, 34.42857142857143, 50.42857142857143, 89.57142857142857, 105.14285714285714, 110.42857142857143, 140.28571428571428, 157.14285714285714, 186.42857142857144, 281.2857142857143, 339.7142857142857, 421.1428571428572, 562.2857142857143, 696.1428571428571, 837.1428571428571, 947.2857142857144, 1681.2857142857142, 2160.714285714286, 2524.0, 2848.0, 3314.285714285714, 3485.4285714285716, 4044.285714285714, 4021.4285714285716, 4342.142857142857, 4440.571428571428, 4646.285714285715, 4671.571428571428, 5116.0, 5287.714285714285, 4462.0], \"yaxis\": \"y\"}, {\"hoverlabel\": {\"namelength\": 0}, \"hovertemplate\": \"Country=France<br>Date=%{x}<br>Daily Confirmed Cases=%{y}\", \"legendgroup\": \"France\", \"line\": {\"color\": \"#FFA15A\", \"dash\": \"solid\"}, \"mode\": \"lines\", \"name\": \"France\", \"showlegend\": true, \"type\": \"scatter\", \"x\": [\"01/02\", \"01/03\", \"01/04\", \"01/05\", \"01/06\", \"01/07\", \"01/08\", \"01/09\", \"01/10\", \"01/11\", \"01/12\", \"01/13\", \"01/14\", \"01/15\", \"01/16\", \"01/17\", \"01/18\", \"01/19\", \"01/20\", \"01/21\", \"01/22\", \"01/23\", \"01/24\", \"01/25\", \"01/26\", \"01/27\", \"01/28\", \"01/29\", \"01/30\", \"01/31\", \"02/01\", \"02/02\", \"02/03\", \"02/04\", \"02/05\", \"02/06\", \"02/07\", \"02/08\", \"02/09\", \"02/10\", \"02/11\", \"02/12\", \"02/13\", \"02/14\", \"02/15\", \"02/16\", \"02/17\", \"02/18\", \"02/19\", \"02/20\", \"02/21\", \"02/22\", \"02/23\", \"02/24\", \"02/25\", \"02/26\", \"02/27\", \"02/28\", \"02/29\", \"03/01\", \"03/02\", \"03/03\", \"03/04\", \"03/05\", \"03/06\", \"03/07\", \"03/08\", \"03/09\", \"03/10\", \"03/11\", \"03/12\", \"03/13\", \"03/14\", \"03/15\", \"03/16\", \"03/17\", \"03/18\", \"03/19\", \"03/20\", \"03/21\", \"03/22\", \"03/23\", \"03/24\", \"03/25\", \"03/26\", \"03/27\", \"03/28\", \"03/29\", \"03/30\", \"03/31\", \"04/01\", \"04/02\", \"04/03\"], \"xaxis\": \"x\", \"y\": [0.0, 0.0, 0.0, 0.0, 0.0, 0.0, 0.0, 0.0, 0.0, 0.0, 0.0, 0.0, 0.0, 0.0, 0.0, 0.0, 0.0, 0.0, 0.0, 0.0, 0.0, 0.0, 0.0, 0.42857142857142855, 0.42857142857142855, 0.42857142857142855, 0.42857142857142855, 0.5714285714285714, 0.7142857142857143, 0.8571428571428571, 0.42857142857142855, 0.42857142857142855, 0.42857142857142855, 0.42857142857142855, 0.2857142857142857, 0.14285714285714285, 0.0, 0.7142857142857143, 0.7142857142857143, 0.7142857142857143, 0.7142857142857143, 0.7142857142857143, 0.7142857142857143, 0.7142857142857143, 0.0, 0.0, 0.14285714285714285, 0.14285714285714285, 0.14285714285714285, 0.14285714285714285, 0.14285714285714285, 0.14285714285714285, 0.14285714285714285, 0.0, 0.0, 0.2857142857142857, 0.7142857142857143, 3.7142857142857135, 6.428571428571429, 12.571428571428573, 16.857142857142858, 23.714285714285715, 28.285714285714285, 38.285714285714285, 55.0, 79.42857142857143, 88.0, 142.28571428571428, 176.28571428571428, 224.57142857142856, 285.14285714285717, 350.42857142857144, 435.4285714285714, 540.4285714285714, 613.8571428571429, 745.8571428571429, 849.4285714285713, 979.0, 1159.857142857143, 1278.7142857142858, 1422.857142857143, 1513.571428571429, 1889.0, 2081.714285714286, 2299.857142857143, 2594.285714285714, 2907.4285714285716, 3302.285714285714, 3450.857142857143, 3527.714285714286, 4260.857142857143, 4536.571428571428, 4278.571428571428], \"yaxis\": \"y\"}, {\"hoverlabel\": {\"namelength\": 0}, \"hovertemplate\": \"Country=Netherlands<br>Date=%{x}<br>Daily Confirmed Cases=%{y}\", \"legendgroup\": \"Netherlands\", \"line\": {\"color\": \"#19d3f3\", \"dash\": \"solid\"}, \"mode\": \"lines\", \"name\": \"Netherlands\", \"showlegend\": true, \"type\": \"scatter\", \"x\": [\"01/02\", \"01/03\", \"01/04\", \"01/05\", \"01/06\", \"01/07\", \"01/08\", \"01/09\", \"01/10\", \"01/11\", \"01/12\", \"01/13\", \"01/14\", \"01/15\", \"01/16\", \"01/17\", \"01/18\", \"01/19\", \"01/20\", \"01/21\", \"01/22\", \"01/23\", \"01/24\", \"01/25\", \"01/26\", \"01/27\", \"01/28\", \"01/29\", \"01/30\", \"01/31\", \"02/01\", \"02/02\", \"02/03\", \"02/04\", \"02/05\", \"02/06\", \"02/07\", \"02/08\", \"02/09\", \"02/10\", \"02/11\", \"02/12\", \"02/13\", \"02/14\", \"02/15\", \"02/16\", \"02/17\", \"02/18\", \"02/19\", \"02/20\", \"02/21\", \"02/22\", \"02/23\", \"02/24\", \"02/25\", \"02/26\", \"02/27\", \"02/28\", \"02/29\", \"03/01\", \"03/02\", \"03/03\", \"03/04\", \"03/05\", \"03/06\", \"03/07\", \"03/08\", \"03/09\", \"03/10\", \"03/11\", \"03/12\", \"03/13\", \"03/14\", \"03/15\", \"03/16\", \"03/17\", \"03/18\", \"03/19\", \"03/20\", \"03/21\", \"03/22\", \"03/23\", \"03/24\", \"03/25\", \"03/26\", \"03/27\", \"03/28\", \"03/29\", \"03/30\", \"03/31\", \"04/01\", \"04/02\", \"04/03\"], \"xaxis\": \"x\", \"y\": [0.0, 0.0, 0.0, 0.0, 0.0, 0.0, 0.0, 0.0, 0.0, 0.0, 0.0, 0.0, 0.0, 0.0, 0.0, 0.0, 0.0, 0.0, 0.0, 0.0, 0.0, 0.0, 0.0, 0.0, 0.0, 0.0, 0.0, 0.0, 0.0, 0.0, 0.0, 0.0, 0.0, 0.0, 0.0, 0.0, 0.0, 0.0, 0.0, 0.0, 0.0, 0.0, 0.0, 0.0, 0.0, 0.0, 0.0, 0.0, 0.0, 0.0, 0.0, 0.0, 0.0, 0.0, 0.0, 0.0, 0.0, 0.14285714285714285, 0.2857142857142857, 1.0, 1.8571428571428568, 2.571428571428572, 4.0, 5.428571428571429, 11.571428571428573, 18.0, 25.857142857142854, 36.0, 43.28571428571429, 50.57142857142857, 66.42857142857143, 76.0, 96.57142857142857, 110.14285714285714, 124.28571428571428, 156.0, 189.0, 221.14285714285717, 263.7142857142857, 312.85714285714283, 381.71428571428567, 438.4285714285714, 476.57142857142856, 550.7142857142857, 623.0, 710.1428571428571, 801.2857142857142, 875.8571428571429, 951.7142857142856, 1000.1428571428572, 1005.0, 1028.857142857143, 1038.0], \"yaxis\": \"y\"}],\n",
       "                        {\"annotations\": [{\"font\": {\"color\": \"rgb(150,150,150)\", \"family\": \"Arial\", \"size\": 12}, \"showarrow\": false, \"text\": \"Source: https://ourworldindata.org/\", \"x\": 0.5, \"xanchor\": \"center\", \"xref\": \"paper\", \"y\": -0.16, \"yanchor\": \"top\", \"yref\": \"paper\"}, {\"font\": {\"color\": \"rgb(37,37,37)\", \"family\": \"Arial\", \"size\": 30}, \"showarrow\": false, \"text\": \"Daily Confirmed Cases per country\", \"x\": 0.0, \"xanchor\": \"left\", \"xref\": \"paper\", \"y\": 1.05, \"yanchor\": \"bottom\", \"yref\": \"paper\"}], \"legend\": {\"title\": {\"text\": \"Country\"}, \"tracegroupgap\": 0}, \"margin\": {\"t\": 60}, \"plot_bgcolor\": \"white\", \"template\": {\"data\": {\"bar\": [{\"error_x\": {\"color\": \"#2a3f5f\"}, \"error_y\": {\"color\": \"#2a3f5f\"}, \"marker\": {\"line\": {\"color\": \"#E5ECF6\", \"width\": 0.5}}, \"type\": \"bar\"}], \"barpolar\": [{\"marker\": {\"line\": {\"color\": \"#E5ECF6\", \"width\": 0.5}}, \"type\": \"barpolar\"}], \"carpet\": [{\"aaxis\": {\"endlinecolor\": \"#2a3f5f\", \"gridcolor\": \"white\", \"linecolor\": \"white\", \"minorgridcolor\": \"white\", \"startlinecolor\": \"#2a3f5f\"}, \"baxis\": {\"endlinecolor\": \"#2a3f5f\", \"gridcolor\": \"white\", \"linecolor\": \"white\", \"minorgridcolor\": \"white\", \"startlinecolor\": \"#2a3f5f\"}, \"type\": \"carpet\"}], \"choropleth\": [{\"colorbar\": {\"outlinewidth\": 0, \"ticks\": \"\"}, \"type\": \"choropleth\"}], \"contour\": [{\"colorbar\": {\"outlinewidth\": 0, \"ticks\": \"\"}, \"colorscale\": [[0.0, \"#0d0887\"], [0.1111111111111111, \"#46039f\"], [0.2222222222222222, \"#7201a8\"], [0.3333333333333333, \"#9c179e\"], [0.4444444444444444, \"#bd3786\"], [0.5555555555555556, \"#d8576b\"], [0.6666666666666666, \"#ed7953\"], [0.7777777777777778, \"#fb9f3a\"], [0.8888888888888888, \"#fdca26\"], [1.0, \"#f0f921\"]], \"type\": \"contour\"}], \"contourcarpet\": [{\"colorbar\": {\"outlinewidth\": 0, \"ticks\": \"\"}, \"type\": \"contourcarpet\"}], \"heatmap\": [{\"colorbar\": {\"outlinewidth\": 0, \"ticks\": \"\"}, \"colorscale\": [[0.0, \"#0d0887\"], [0.1111111111111111, \"#46039f\"], [0.2222222222222222, \"#7201a8\"], [0.3333333333333333, \"#9c179e\"], [0.4444444444444444, \"#bd3786\"], [0.5555555555555556, \"#d8576b\"], [0.6666666666666666, \"#ed7953\"], [0.7777777777777778, \"#fb9f3a\"], [0.8888888888888888, \"#fdca26\"], [1.0, \"#f0f921\"]], \"type\": \"heatmap\"}], \"heatmapgl\": [{\"colorbar\": {\"outlinewidth\": 0, \"ticks\": \"\"}, \"colorscale\": [[0.0, \"#0d0887\"], [0.1111111111111111, \"#46039f\"], [0.2222222222222222, \"#7201a8\"], [0.3333333333333333, \"#9c179e\"], [0.4444444444444444, \"#bd3786\"], [0.5555555555555556, \"#d8576b\"], [0.6666666666666666, \"#ed7953\"], [0.7777777777777778, \"#fb9f3a\"], [0.8888888888888888, \"#fdca26\"], [1.0, \"#f0f921\"]], \"type\": \"heatmapgl\"}], \"histogram\": [{\"marker\": {\"colorbar\": {\"outlinewidth\": 0, \"ticks\": \"\"}}, \"type\": \"histogram\"}], \"histogram2d\": [{\"colorbar\": {\"outlinewidth\": 0, \"ticks\": \"\"}, \"colorscale\": [[0.0, \"#0d0887\"], [0.1111111111111111, \"#46039f\"], [0.2222222222222222, \"#7201a8\"], [0.3333333333333333, \"#9c179e\"], [0.4444444444444444, \"#bd3786\"], [0.5555555555555556, \"#d8576b\"], [0.6666666666666666, \"#ed7953\"], [0.7777777777777778, \"#fb9f3a\"], [0.8888888888888888, \"#fdca26\"], [1.0, \"#f0f921\"]], \"type\": \"histogram2d\"}], \"histogram2dcontour\": [{\"colorbar\": {\"outlinewidth\": 0, \"ticks\": \"\"}, \"colorscale\": [[0.0, \"#0d0887\"], [0.1111111111111111, \"#46039f\"], [0.2222222222222222, \"#7201a8\"], [0.3333333333333333, \"#9c179e\"], [0.4444444444444444, \"#bd3786\"], [0.5555555555555556, \"#d8576b\"], [0.6666666666666666, \"#ed7953\"], [0.7777777777777778, \"#fb9f3a\"], [0.8888888888888888, \"#fdca26\"], [1.0, \"#f0f921\"]], \"type\": \"histogram2dcontour\"}], \"mesh3d\": [{\"colorbar\": {\"outlinewidth\": 0, \"ticks\": \"\"}, \"type\": \"mesh3d\"}], \"parcoords\": [{\"line\": {\"colorbar\": {\"outlinewidth\": 0, \"ticks\": \"\"}}, \"type\": \"parcoords\"}], \"pie\": [{\"automargin\": true, \"type\": \"pie\"}], \"scatter\": [{\"marker\": {\"colorbar\": {\"outlinewidth\": 0, \"ticks\": \"\"}}, \"type\": \"scatter\"}], \"scatter3d\": [{\"line\": {\"colorbar\": {\"outlinewidth\": 0, \"ticks\": \"\"}}, \"marker\": {\"colorbar\": {\"outlinewidth\": 0, \"ticks\": \"\"}}, \"type\": \"scatter3d\"}], \"scattercarpet\": [{\"marker\": {\"colorbar\": {\"outlinewidth\": 0, \"ticks\": \"\"}}, \"type\": \"scattercarpet\"}], \"scattergeo\": [{\"marker\": {\"colorbar\": {\"outlinewidth\": 0, \"ticks\": \"\"}}, \"type\": \"scattergeo\"}], \"scattergl\": [{\"marker\": {\"colorbar\": {\"outlinewidth\": 0, \"ticks\": \"\"}}, \"type\": \"scattergl\"}], \"scattermapbox\": [{\"marker\": {\"colorbar\": {\"outlinewidth\": 0, \"ticks\": \"\"}}, \"type\": \"scattermapbox\"}], \"scatterpolar\": [{\"marker\": {\"colorbar\": {\"outlinewidth\": 0, \"ticks\": \"\"}}, \"type\": \"scatterpolar\"}], \"scatterpolargl\": [{\"marker\": {\"colorbar\": {\"outlinewidth\": 0, \"ticks\": \"\"}}, \"type\": \"scatterpolargl\"}], \"scatterternary\": [{\"marker\": {\"colorbar\": {\"outlinewidth\": 0, \"ticks\": \"\"}}, \"type\": \"scatterternary\"}], \"surface\": [{\"colorbar\": {\"outlinewidth\": 0, \"ticks\": \"\"}, \"colorscale\": [[0.0, \"#0d0887\"], [0.1111111111111111, \"#46039f\"], [0.2222222222222222, \"#7201a8\"], [0.3333333333333333, \"#9c179e\"], [0.4444444444444444, \"#bd3786\"], [0.5555555555555556, \"#d8576b\"], [0.6666666666666666, \"#ed7953\"], [0.7777777777777778, \"#fb9f3a\"], [0.8888888888888888, \"#fdca26\"], [1.0, \"#f0f921\"]], \"type\": \"surface\"}], \"table\": [{\"cells\": {\"fill\": {\"color\": \"#EBF0F8\"}, \"line\": {\"color\": \"white\"}}, \"header\": {\"fill\": {\"color\": \"#C8D4E3\"}, \"line\": {\"color\": \"white\"}}, \"type\": \"table\"}]}, \"layout\": {\"annotationdefaults\": {\"arrowcolor\": \"#2a3f5f\", \"arrowhead\": 0, \"arrowwidth\": 1}, \"coloraxis\": {\"colorbar\": {\"outlinewidth\": 0, \"ticks\": \"\"}}, \"colorscale\": {\"diverging\": [[0, \"#8e0152\"], [0.1, \"#c51b7d\"], [0.2, \"#de77ae\"], [0.3, \"#f1b6da\"], [0.4, \"#fde0ef\"], [0.5, \"#f7f7f7\"], [0.6, \"#e6f5d0\"], [0.7, \"#b8e186\"], [0.8, \"#7fbc41\"], [0.9, \"#4d9221\"], [1, \"#276419\"]], \"sequential\": [[0.0, \"#0d0887\"], [0.1111111111111111, \"#46039f\"], [0.2222222222222222, \"#7201a8\"], [0.3333333333333333, \"#9c179e\"], [0.4444444444444444, \"#bd3786\"], [0.5555555555555556, \"#d8576b\"], [0.6666666666666666, \"#ed7953\"], [0.7777777777777778, \"#fb9f3a\"], [0.8888888888888888, \"#fdca26\"], [1.0, \"#f0f921\"]], \"sequentialminus\": [[0.0, \"#0d0887\"], [0.1111111111111111, \"#46039f\"], [0.2222222222222222, \"#7201a8\"], [0.3333333333333333, \"#9c179e\"], [0.4444444444444444, \"#bd3786\"], [0.5555555555555556, \"#d8576b\"], [0.6666666666666666, \"#ed7953\"], [0.7777777777777778, \"#fb9f3a\"], [0.8888888888888888, \"#fdca26\"], [1.0, \"#f0f921\"]]}, \"colorway\": [\"#636efa\", \"#EF553B\", \"#00cc96\", \"#ab63fa\", \"#FFA15A\", \"#19d3f3\", \"#FF6692\", \"#B6E880\", \"#FF97FF\", \"#FECB52\"], \"font\": {\"color\": \"#2a3f5f\"}, \"geo\": {\"bgcolor\": \"white\", \"lakecolor\": \"white\", \"landcolor\": \"#E5ECF6\", \"showlakes\": true, \"showland\": true, \"subunitcolor\": \"white\"}, \"hoverlabel\": {\"align\": \"left\"}, \"hovermode\": \"closest\", \"mapbox\": {\"style\": \"light\"}, \"paper_bgcolor\": \"white\", \"plot_bgcolor\": \"#E5ECF6\", \"polar\": {\"angularaxis\": {\"gridcolor\": \"white\", \"linecolor\": \"white\", \"ticks\": \"\"}, \"bgcolor\": \"#E5ECF6\", \"radialaxis\": {\"gridcolor\": \"white\", \"linecolor\": \"white\", \"ticks\": \"\"}}, \"scene\": {\"xaxis\": {\"backgroundcolor\": \"#E5ECF6\", \"gridcolor\": \"white\", \"gridwidth\": 2, \"linecolor\": \"white\", \"showbackground\": true, \"ticks\": \"\", \"zerolinecolor\": \"white\"}, \"yaxis\": {\"backgroundcolor\": \"#E5ECF6\", \"gridcolor\": \"white\", \"gridwidth\": 2, \"linecolor\": \"white\", \"showbackground\": true, \"ticks\": \"\", \"zerolinecolor\": \"white\"}, \"zaxis\": {\"backgroundcolor\": \"#E5ECF6\", \"gridcolor\": \"white\", \"gridwidth\": 2, \"linecolor\": \"white\", \"showbackground\": true, \"ticks\": \"\", \"zerolinecolor\": \"white\"}}, \"shapedefaults\": {\"line\": {\"color\": \"#2a3f5f\"}}, \"ternary\": {\"aaxis\": {\"gridcolor\": \"white\", \"linecolor\": \"white\", \"ticks\": \"\"}, \"baxis\": {\"gridcolor\": \"white\", \"linecolor\": \"white\", \"ticks\": \"\"}, \"bgcolor\": \"#E5ECF6\", \"caxis\": {\"gridcolor\": \"white\", \"linecolor\": \"white\", \"ticks\": \"\"}}, \"title\": {\"x\": 0.05}, \"xaxis\": {\"automargin\": true, \"gridcolor\": \"white\", \"linecolor\": \"white\", \"ticks\": \"\", \"title\": {\"standoff\": 15}, \"zerolinecolor\": \"white\", \"zerolinewidth\": 2}, \"yaxis\": {\"automargin\": true, \"gridcolor\": \"white\", \"linecolor\": \"white\", \"ticks\": \"\", \"title\": {\"standoff\": 15}, \"zerolinecolor\": \"white\", \"zerolinewidth\": 2}}}, \"xaxis\": {\"anchor\": \"y\", \"domain\": [0.0, 1.0], \"nticks\": 47, \"showticklabels\": true, \"tickangle\": 45, \"title\": {\"text\": \"Date\"}}, \"yaxis\": {\"anchor\": \"x\", \"domain\": [0.0, 1.0], \"nticks\": 20, \"title\": {\"text\": \"Daily Confirmed Cases\"}}},\n",
       "                        {\"responsive\": true}\n",
       "                    ).then(function(){\n",
       "                            \n",
       "var gd = document.getElementById('c727c932-1520-4a62-a56a-1f91a3a0437f');\n",
       "var x = new MutationObserver(function (mutations, observer) {{\n",
       "        var display = window.getComputedStyle(gd).display;\n",
       "        if (!display || display === 'none') {{\n",
       "            console.log([gd, 'removed!']);\n",
       "            Plotly.purge(gd);\n",
       "            observer.disconnect();\n",
       "        }}\n",
       "}});\n",
       "\n",
       "// Listen for the removal of the full notebook cells\n",
       "var notebookContainer = gd.closest('#notebook-container');\n",
       "if (notebookContainer) {{\n",
       "    x.observe(notebookContainer, {childList: true});\n",
       "}}\n",
       "\n",
       "// Listen for the clearing of the current output cell\n",
       "var outputEl = gd.closest('.output');\n",
       "if (outputEl) {{\n",
       "    x.observe(outputEl, {childList: true});\n",
       "}}\n",
       "\n",
       "                        })\n",
       "                };\n",
       "                });\n",
       "            </script>\n",
       "        </div>"
      ]
     },
     "metadata": {},
     "output_type": "display_data"
    }
   ],
   "source": [
    "countries_list = list(deaths['Country'].unique())\n",
    "countries_list.sort()\n",
    "@widgets.interact(\n",
    "    num_dates = (1, deaths['Date'].nunique()),\n",
    "    countries = widgets.SelectMultiple(\n",
    "        options=countries_list,\n",
    "        value=['Netherlands', 'France', 'Spain', 'China', 'United States', 'Germany'],\n",
    "        description='Countries',\n",
    "        disabled=False\n",
    "    ),\n",
    "    data = widgets.Dropdown(\n",
    "        options=['Daily Confirmed Cases', 'Daily Confirmed Deaths'],\n",
    "        value='Daily Confirmed Cases',\n",
    "        description='Data:',\n",
    "        disabled=False,\n",
    "    ),\n",
    "    from_date = widgets.DatePicker(\n",
    "        description='From',\n",
    "        disabled=False\n",
    "    ),\n",
    "    to_date = widgets.DatePicker(\n",
    "        description='To',\n",
    "        disabled=False\n",
    "    ),\n",
    ")\n",
    "def chart(data, countries, from_date, to_date, num_dates):\n",
    "    if data == 'Daily Confirmed Cases':\n",
    "        df = cases\n",
    "    if data == 'Daily Confirmed Deaths':\n",
    "        df = deaths\n",
    "\n",
    "    if len(list(countries)) > 0:\n",
    "        df = df[df['Country'].isin(countries)]\n",
    "        \n",
    "    if from_date is not None and from_date.strftime('%m/%d/%Y') < df['Date Long'].max():\n",
    "        df = df[df['Date Long'] >= from_date.strftime('%m/%d/%Y')]\n",
    "\n",
    "    if to_date is not None and to_date.strftime('%m/%d/%Y') > df['Date Long'].min():\n",
    "        df = df[df['Date Long'] <= to_date.strftime('%m/%d/%Y')]\n",
    "\n",
    "    fig = px.line(\n",
    "        df, \n",
    "        x=\"Date\",\n",
    "        y=data,\n",
    "        color=\"Country\",\n",
    "    )\n",
    "    \n",
    "    annotations = []\n",
    "    #Source Part\n",
    "    annotations.append(\n",
    "        dict(\n",
    "            xref='paper', \n",
    "            yref='paper', \n",
    "            x=0.5, \n",
    "            y=-0.16,\n",
    "            xanchor='center', \n",
    "            yanchor='top',\n",
    "            text='Source: https://ourworldindata.org/',\n",
    "            font=dict(\n",
    "                family='Arial',\n",
    "                size=12,\n",
    "                color='rgb(150,150,150)'\n",
    "            ),\n",
    "            showarrow=False\n",
    "        )\n",
    "    )\n",
    "    \n",
    "    # Title Part\n",
    "    annotations.append(\n",
    "        dict(\n",
    "            xref='paper', \n",
    "            yref='paper', \n",
    "            x=0.0, \n",
    "            y=1.05,\n",
    "            xanchor='left', \n",
    "            yanchor='bottom',\n",
    "            text=f'{data} per country',\n",
    "            font=dict(family='Arial',\n",
    "                size=30,\n",
    "                color='rgb(37,37,37)'\n",
    "             ),\n",
    "             showarrow=False\n",
    "        )\n",
    "    )\n",
    "    \n",
    "    fig.update_layout(\n",
    "        xaxis=dict(\n",
    "            nticks=num_dates,\n",
    "            showticklabels=True,\n",
    "            tickangle=45,\n",
    "        ),\n",
    "        yaxis=dict(\n",
    "            nticks=20,\n",
    "        ),\n",
    "        plot_bgcolor='white',\n",
    "        annotations = annotations\n",
    "    )\n",
    "    fig.show()"
   ]
  },
  {
   "cell_type": "markdown",
   "metadata": {
    "Collapsed": "false"
   },
   "source": [
    "Insights:\n",
    "\n",
    "- As in the previous plots, the distribution between the confirmed daily cases and confirmed deaths is relatively similar.\n",
    "- So far, only 1 country has been able to bend the curve succesfully: China.\n",
    "- According to this data, France might be on the right path to bend the curve also, going from the highest peak of 7578 new cases in April 1st, to 2116 on April 4th, being the lowest number since March 23th.\n",
    "- Daily cases in the Netherlands have been consistenly growing.\n",
    "\n",
    "----"
   ]
  },
  {
   "cell_type": "markdown",
   "metadata": {
    "Collapsed": "false"
   },
   "source": [
    "## Higher risk countries.\n",
    "\n",
    "To define which are the High risk countries, we used some insight gained from our previous plots (on which we see that the most concerned population is older people), and country data on percentage of population 70 years old or over and the quantity of physicians per 1000 citizens.\n",
    "\n",
    "Assuming that countries with higher rate of population >= 70 years old  will have a higher need of physicians and medical facilities to handle complications related to Coronavirus, we consider higher risk those countries who present a higher than average percentage of elderly people and lower than average quantity of physicians per 1000 citizens.\n",
    "\n",
    "---"
   ]
  },
  {
   "cell_type": "code",
   "execution_count": null,
   "metadata": {
    "Collapsed": "false"
   },
   "outputs": [],
   "source": [
    "#Paolo: what is the average of elderly people you are talking about, a defined number, where is it?"
   ]
  },
  {
   "cell_type": "code",
   "execution_count": 16,
   "metadata": {
    "Collapsed": "false"
   },
   "outputs": [],
   "source": [
    "doctors = pd.read_csv('data/physicians-per-1000-people.csv')\n",
    "doctors.rename(columns={'Physicians (per 1,000 people) (per 1,000 people)': 'data', 'Entity': 'Country'}, inplace=True)\n",
    "doctors = doctors.groupby('Country').agg('max')\n",
    "doctors = doctors.reset_index()\n",
    "\n",
    "age = pd.read_csv('data/age.csv')\n",
    "age.rename(columns={'Share who is 70 or over (%)': 'data', 'Entity': 'Country'}, inplace=True)\n",
    "age = age.groupby('Country').agg('max')\n",
    "age = age.reset_index()\n",
    "\n",
    "merged_df = pd.merge(age, doctors, on='Country')\n",
    "merged_df.drop(columns=['Code_y', 'Year_y'] ,axis=1 ,inplace=True)\n",
    "merged_df.rename(columns={'Code_x': 'Code', 'Year_x': 'Year', 'data_x': 'age', 'data_y': 'doctors'} ,inplace=True)"
   ]
  },
  {
   "cell_type": "code",
   "execution_count": 17,
   "metadata": {
    "Collapsed": "false"
   },
   "outputs": [
    {
     "data": {
      "application/vnd.plotly.v1+json": {
       "config": {
        "plotlyServerURL": "https://plot.ly"
       },
       "data": [
        {
         "customdata": [
          [
           "Afghanistan",
           1.473,
           0.315
          ]
         ],
         "hoverlabel": {
          "namelength": 0
         },
         "hovertemplate": "Country=%{customdata[0]}<br>age=%{customdata[1]}<br>doctors=%{customdata[2]}",
         "legendgroup": "Afghanistan",
         "marker": {
          "color": "#636efa",
          "symbol": "circle"
         },
         "mode": "markers",
         "name": "Afghanistan",
         "showlegend": true,
         "type": "scatter",
         "x": [
          1.473
         ],
         "xaxis": "x",
         "y": [
          0.315
         ],
         "yaxis": "y"
        },
        {
         "customdata": [
          [
           "Albania",
           8.642999999999999,
           1.65
          ]
         ],
         "hoverlabel": {
          "namelength": 0
         },
         "hovertemplate": "Country=%{customdata[0]}<br>age=%{customdata[1]}<br>doctors=%{customdata[2]}",
         "legendgroup": "Albania",
         "marker": {
          "color": "#EF553B",
          "symbol": "circle"
         },
         "mode": "markers",
         "name": "Albania",
         "showlegend": true,
         "type": "scatter",
         "x": [
          8.642999999999999
         ],
         "xaxis": "x",
         "y": [
          1.65
         ],
         "yaxis": "y"
        },
        {
         "customdata": [
          [
           "Algeria",
           3.8569999999999998,
           1.207
          ]
         ],
         "hoverlabel": {
          "namelength": 0
         },
         "hovertemplate": "Country=%{customdata[0]}<br>age=%{customdata[1]}<br>doctors=%{customdata[2]}",
         "legendgroup": "Algeria",
         "marker": {
          "color": "#00cc96",
          "symbol": "circle"
         },
         "mode": "markers",
         "name": "Algeria",
         "showlegend": true,
         "type": "scatter",
         "x": [
          3.8569999999999998
         ],
         "xaxis": "x",
         "y": [
          1.207
         ],
         "yaxis": "y"
        },
        {
         "customdata": [
          [
           "Angola",
           1.597,
           0.14400000000000002
          ]
         ],
         "hoverlabel": {
          "namelength": 0
         },
         "hovertemplate": "Country=%{customdata[0]}<br>age=%{customdata[1]}<br>doctors=%{customdata[2]}",
         "legendgroup": "Angola",
         "marker": {
          "color": "#ab63fa",
          "symbol": "circle"
         },
         "mode": "markers",
         "name": "Angola",
         "showlegend": true,
         "type": "scatter",
         "x": [
          1.597
         ],
         "xaxis": "x",
         "y": [
          0.14400000000000002
         ],
         "yaxis": "y"
        },
        {
         "customdata": [
          [
           "Antigua and Barbuda",
           5.193,
           3.03
          ]
         ],
         "hoverlabel": {
          "namelength": 0
         },
         "hovertemplate": "Country=%{customdata[0]}<br>age=%{customdata[1]}<br>doctors=%{customdata[2]}",
         "legendgroup": "Antigua and Barbuda",
         "marker": {
          "color": "#FFA15A",
          "symbol": "circle"
         },
         "mode": "markers",
         "name": "Antigua and Barbuda",
         "showlegend": true,
         "type": "scatter",
         "x": [
          5.193
         ],
         "xaxis": "x",
         "y": [
          3.03
         ],
         "yaxis": "y"
        },
        {
         "customdata": [
          [
           "Argentina",
           7.441,
           3.907
          ]
         ],
         "hoverlabel": {
          "namelength": 0
         },
         "hovertemplate": "Country=%{customdata[0]}<br>age=%{customdata[1]}<br>doctors=%{customdata[2]}",
         "legendgroup": "Argentina",
         "marker": {
          "color": "#19d3f3",
          "symbol": "circle"
         },
         "mode": "markers",
         "name": "Argentina",
         "showlegend": true,
         "type": "scatter",
         "x": [
          7.441
         ],
         "xaxis": "x",
         "y": [
          3.907
         ],
         "yaxis": "y"
        },
        {
         "customdata": [
          [
           "Armenia",
           8.755,
           3.924
          ]
         ],
         "hoverlabel": {
          "namelength": 0
         },
         "hovertemplate": "Country=%{customdata[0]}<br>age=%{customdata[1]}<br>doctors=%{customdata[2]}",
         "legendgroup": "Armenia",
         "marker": {
          "color": "#FF6692",
          "symbol": "circle"
         },
         "mode": "markers",
         "name": "Armenia",
         "showlegend": true,
         "type": "scatter",
         "x": [
          8.755
         ],
         "xaxis": "x",
         "y": [
          3.924
         ],
         "yaxis": "y"
        },
        {
         "customdata": [
          [
           "Aruba",
           7.452000000000001,
           1.12
          ]
         ],
         "hoverlabel": {
          "namelength": 0
         },
         "hovertemplate": "Country=%{customdata[0]}<br>age=%{customdata[1]}<br>doctors=%{customdata[2]}",
         "legendgroup": "Aruba",
         "marker": {
          "color": "#B6E880",
          "symbol": "circle"
         },
         "mode": "markers",
         "name": "Aruba",
         "showlegend": true,
         "type": "scatter",
         "x": [
          7.452000000000001
         ],
         "xaxis": "x",
         "y": [
          1.12
         ],
         "yaxis": "y"
        },
        {
         "customdata": [
          [
           "Australia",
           10.129,
           3.4960000000000004
          ]
         ],
         "hoverlabel": {
          "namelength": 0
         },
         "hovertemplate": "Country=%{customdata[0]}<br>age=%{customdata[1]}<br>doctors=%{customdata[2]}",
         "legendgroup": "Australia",
         "marker": {
          "color": "#FF97FF",
          "symbol": "circle"
         },
         "mode": "markers",
         "name": "Australia",
         "showlegend": true,
         "type": "scatter",
         "x": [
          10.129
         ],
         "xaxis": "x",
         "y": [
          3.4960000000000004
         ],
         "yaxis": "y"
        },
        {
         "customdata": [
          [
           "Austria",
           13.748,
           5.23
          ]
         ],
         "hoverlabel": {
          "namelength": 0
         },
         "hovertemplate": "Country=%{customdata[0]}<br>age=%{customdata[1]}<br>doctors=%{customdata[2]}",
         "legendgroup": "Austria",
         "marker": {
          "color": "#FECB52",
          "symbol": "circle"
         },
         "mode": "markers",
         "name": "Austria",
         "showlegend": true,
         "type": "scatter",
         "x": [
          13.748
         ],
         "xaxis": "x",
         "y": [
          5.23
         ],
         "yaxis": "y"
        },
        {
         "customdata": [
          [
           "Azerbaijan",
           4.462,
           3.99
          ]
         ],
         "hoverlabel": {
          "namelength": 0
         },
         "hovertemplate": "Country=%{customdata[0]}<br>age=%{customdata[1]}<br>doctors=%{customdata[2]}",
         "legendgroup": "Azerbaijan",
         "marker": {
          "color": "#636efa",
          "symbol": "circle"
         },
         "mode": "markers",
         "name": "Azerbaijan",
         "showlegend": true,
         "type": "scatter",
         "x": [
          4.462
         ],
         "xaxis": "x",
         "y": [
          3.99
         ],
         "yaxis": "y"
        },
        {
         "customdata": [
          [
           "Bahamas",
           5.2,
           2.717
          ]
         ],
         "hoverlabel": {
          "namelength": 0
         },
         "hovertemplate": "Country=%{customdata[0]}<br>age=%{customdata[1]}<br>doctors=%{customdata[2]}",
         "legendgroup": "Bahamas",
         "marker": {
          "color": "#EF553B",
          "symbol": "circle"
         },
         "mode": "markers",
         "name": "Bahamas",
         "showlegend": true,
         "type": "scatter",
         "x": [
          5.2
         ],
         "xaxis": "x",
         "y": [
          2.717
         ],
         "yaxis": "y"
        },
        {
         "customdata": [
          [
           "Bahrain",
           1.621,
           1.315
          ]
         ],
         "hoverlabel": {
          "namelength": 0
         },
         "hovertemplate": "Country=%{customdata[0]}<br>age=%{customdata[1]}<br>doctors=%{customdata[2]}",
         "legendgroup": "Bahrain",
         "marker": {
          "color": "#00cc96",
          "symbol": "circle"
         },
         "mode": "markers",
         "name": "Bahrain",
         "showlegend": true,
         "type": "scatter",
         "x": [
          1.621
         ],
         "xaxis": "x",
         "y": [
          1.315
         ],
         "yaxis": "y"
        },
        {
         "customdata": [
          [
           "Bangladesh",
           3.262,
           0.475
          ]
         ],
         "hoverlabel": {
          "namelength": 0
         },
         "hovertemplate": "Country=%{customdata[0]}<br>age=%{customdata[1]}<br>doctors=%{customdata[2]}",
         "legendgroup": "Bangladesh",
         "marker": {
          "color": "#ab63fa",
          "symbol": "circle"
         },
         "mode": "markers",
         "name": "Bangladesh",
         "showlegend": true,
         "type": "scatter",
         "x": [
          3.262
         ],
         "xaxis": "x",
         "y": [
          0.475
         ],
         "yaxis": "y"
        },
        {
         "customdata": [
          [
           "Barbados",
           9.472999999999999,
           1.811
          ]
         ],
         "hoverlabel": {
          "namelength": 0
         },
         "hovertemplate": "Country=%{customdata[0]}<br>age=%{customdata[1]}<br>doctors=%{customdata[2]}",
         "legendgroup": "Barbados",
         "marker": {
          "color": "#FFA15A",
          "symbol": "circle"
         },
         "mode": "markers",
         "name": "Barbados",
         "showlegend": true,
         "type": "scatter",
         "x": [
          9.472999999999999
         ],
         "xaxis": "x",
         "y": [
          1.811
         ],
         "yaxis": "y"
        },
        {
         "customdata": [
          [
           "Belarus",
           10.595,
           4.98
          ]
         ],
         "hoverlabel": {
          "namelength": 0
         },
         "hovertemplate": "Country=%{customdata[0]}<br>age=%{customdata[1]}<br>doctors=%{customdata[2]}",
         "legendgroup": "Belarus",
         "marker": {
          "color": "#19d3f3",
          "symbol": "circle"
         },
         "mode": "markers",
         "name": "Belarus",
         "showlegend": true,
         "type": "scatter",
         "x": [
          10.595
         ],
         "xaxis": "x",
         "y": [
          4.98
         ],
         "yaxis": "y"
        },
        {
         "customdata": [
          [
           "Belgium",
           13.019,
           3.9
          ]
         ],
         "hoverlabel": {
          "namelength": 0
         },
         "hovertemplate": "Country=%{customdata[0]}<br>age=%{customdata[1]}<br>doctors=%{customdata[2]}",
         "legendgroup": "Belgium",
         "marker": {
          "color": "#FF6692",
          "symbol": "circle"
         },
         "mode": "markers",
         "name": "Belgium",
         "showlegend": true,
         "type": "scatter",
         "x": [
          13.019
         ],
         "xaxis": "x",
         "y": [
          3.9
         ],
         "yaxis": "y"
        },
        {
         "customdata": [
          [
           "Belize",
           2.8539999999999996,
           1.015
          ]
         ],
         "hoverlabel": {
          "namelength": 0
         },
         "hovertemplate": "Country=%{customdata[0]}<br>age=%{customdata[1]}<br>doctors=%{customdata[2]}",
         "legendgroup": "Belize",
         "marker": {
          "color": "#B6E880",
          "symbol": "circle"
         },
         "mode": "markers",
         "name": "Belize",
         "showlegend": true,
         "type": "scatter",
         "x": [
          2.8539999999999996
         ],
         "xaxis": "x",
         "y": [
          1.015
         ],
         "yaxis": "y"
        },
        {
         "customdata": [
          [
           "Benin",
           5.039,
           0.159
          ]
         ],
         "hoverlabel": {
          "namelength": 0
         },
         "hovertemplate": "Country=%{customdata[0]}<br>age=%{customdata[1]}<br>doctors=%{customdata[2]}",
         "legendgroup": "Benin",
         "marker": {
          "color": "#FF97FF",
          "symbol": "circle"
         },
         "mode": "markers",
         "name": "Benin",
         "showlegend": true,
         "type": "scatter",
         "x": [
          5.039
         ],
         "xaxis": "x",
         "y": [
          0.159
         ],
         "yaxis": "y"
        },
        {
         "customdata": [
          [
           "Bhutan",
           2.977,
           0.381
          ]
         ],
         "hoverlabel": {
          "namelength": 0
         },
         "hovertemplate": "Country=%{customdata[0]}<br>age=%{customdata[1]}<br>doctors=%{customdata[2]}",
         "legendgroup": "Bhutan",
         "marker": {
          "color": "#FECB52",
          "symbol": "circle"
         },
         "mode": "markers",
         "name": "Bhutan",
         "showlegend": true,
         "type": "scatter",
         "x": [
          2.977
         ],
         "xaxis": "x",
         "y": [
          0.381
         ],
         "yaxis": "y"
        },
        {
         "customdata": [
          [
           "Bolivia",
           4.393,
           1.2990000000000002
          ]
         ],
         "hoverlabel": {
          "namelength": 0
         },
         "hovertemplate": "Country=%{customdata[0]}<br>age=%{customdata[1]}<br>doctors=%{customdata[2]}",
         "legendgroup": "Bolivia",
         "marker": {
          "color": "#636efa",
          "symbol": "circle"
         },
         "mode": "markers",
         "name": "Bolivia",
         "showlegend": true,
         "type": "scatter",
         "x": [
          4.393
         ],
         "xaxis": "x",
         "y": [
          1.2990000000000002
         ],
         "yaxis": "y"
        },
        {
         "customdata": [
          [
           "Bosnia and Herzegovina",
           10.710999999999999,
           1.886
          ]
         ],
         "hoverlabel": {
          "namelength": 0
         },
         "hovertemplate": "Country=%{customdata[0]}<br>age=%{customdata[1]}<br>doctors=%{customdata[2]}",
         "legendgroup": "Bosnia and Herzegovina",
         "marker": {
          "color": "#EF553B",
          "symbol": "circle"
         },
         "mode": "markers",
         "name": "Bosnia and Herzegovina",
         "showlegend": true,
         "type": "scatter",
         "x": [
          10.710999999999999
         ],
         "xaxis": "x",
         "y": [
          1.886
         ],
         "yaxis": "y"
        },
        {
         "customdata": [
          [
           "Botswana",
           2.448,
           0.389
          ]
         ],
         "hoverlabel": {
          "namelength": 0
         },
         "hovertemplate": "Country=%{customdata[0]}<br>age=%{customdata[1]}<br>doctors=%{customdata[2]}",
         "legendgroup": "Botswana",
         "marker": {
          "color": "#00cc96",
          "symbol": "circle"
         },
         "mode": "markers",
         "name": "Botswana",
         "showlegend": true,
         "type": "scatter",
         "x": [
          2.448
         ],
         "xaxis": "x",
         "y": [
          0.389
         ],
         "yaxis": "y"
        },
        {
         "customdata": [
          [
           "Brazil",
           5.06,
           1.8519999999999999
          ]
         ],
         "hoverlabel": {
          "namelength": 0
         },
         "hovertemplate": "Country=%{customdata[0]}<br>age=%{customdata[1]}<br>doctors=%{customdata[2]}",
         "legendgroup": "Brazil",
         "marker": {
          "color": "#ab63fa",
          "symbol": "circle"
         },
         "mode": "markers",
         "name": "Brazil",
         "showlegend": true,
         "type": "scatter",
         "x": [
          5.06
         ],
         "xaxis": "x",
         "y": [
          1.8519999999999999
         ],
         "yaxis": "y"
        },
        {
         "customdata": [
          [
           "Brunei",
           2.865,
           1.746
          ]
         ],
         "hoverlabel": {
          "namelength": 0
         },
         "hovertemplate": "Country=%{customdata[0]}<br>age=%{customdata[1]}<br>doctors=%{customdata[2]}",
         "legendgroup": "Brunei",
         "marker": {
          "color": "#FFA15A",
          "symbol": "circle"
         },
         "mode": "markers",
         "name": "Brunei",
         "showlegend": true,
         "type": "scatter",
         "x": [
          2.865
         ],
         "xaxis": "x",
         "y": [
          1.746
         ],
         "yaxis": "y"
        },
        {
         "customdata": [
          [
           "Bulgaria",
           13.272,
           3.9989999999999997
          ]
         ],
         "hoverlabel": {
          "namelength": 0
         },
         "hovertemplate": "Country=%{customdata[0]}<br>age=%{customdata[1]}<br>doctors=%{customdata[2]}",
         "legendgroup": "Bulgaria",
         "marker": {
          "color": "#19d3f3",
          "symbol": "circle"
         },
         "mode": "markers",
         "name": "Bulgaria",
         "showlegend": true,
         "type": "scatter",
         "x": [
          13.272
         ],
         "xaxis": "x",
         "y": [
          3.9989999999999997
         ],
         "yaxis": "y"
        },
        {
         "customdata": [
          [
           "Burkina Faso",
           1.838,
           0.054000000000000006
          ]
         ],
         "hoverlabel": {
          "namelength": 0
         },
         "hovertemplate": "Country=%{customdata[0]}<br>age=%{customdata[1]}<br>doctors=%{customdata[2]}",
         "legendgroup": "Burkina Faso",
         "marker": {
          "color": "#FF6692",
          "symbol": "circle"
         },
         "mode": "markers",
         "name": "Burkina Faso",
         "showlegend": true,
         "type": "scatter",
         "x": [
          1.838
         ],
         "xaxis": "x",
         "y": [
          0.054000000000000006
         ],
         "yaxis": "y"
        },
        {
         "customdata": [
          [
           "Burundi",
           1.8840000000000001,
           0.059000000000000004
          ]
         ],
         "hoverlabel": {
          "namelength": 0
         },
         "hovertemplate": "Country=%{customdata[0]}<br>age=%{customdata[1]}<br>doctors=%{customdata[2]}",
         "legendgroup": "Burundi",
         "marker": {
          "color": "#B6E880",
          "symbol": "circle"
         },
         "mode": "markers",
         "name": "Burundi",
         "showlegend": true,
         "type": "scatter",
         "x": [
          1.8840000000000001
         ],
         "xaxis": "x",
         "y": [
          0.059000000000000004
         ],
         "yaxis": "y"
        },
        {
         "customdata": [
          [
           "Cambodia",
           2.385,
           0.29600000000000004
          ]
         ],
         "hoverlabel": {
          "namelength": 0
         },
         "hovertemplate": "Country=%{customdata[0]}<br>age=%{customdata[1]}<br>doctors=%{customdata[2]}",
         "legendgroup": "Cambodia",
         "marker": {
          "color": "#FF97FF",
          "symbol": "circle"
         },
         "mode": "markers",
         "name": "Cambodia",
         "showlegend": true,
         "type": "scatter",
         "x": [
          2.385
         ],
         "xaxis": "x",
         "y": [
          0.29600000000000004
         ],
         "yaxis": "y"
        },
        {
         "customdata": [
          [
           "Cameroon",
           2.122,
           0.177
          ]
         ],
         "hoverlabel": {
          "namelength": 0
         },
         "hovertemplate": "Country=%{customdata[0]}<br>age=%{customdata[1]}<br>doctors=%{customdata[2]}",
         "legendgroup": "Cameroon",
         "marker": {
          "color": "#FECB52",
          "symbol": "circle"
         },
         "mode": "markers",
         "name": "Cameroon",
         "showlegend": true,
         "type": "scatter",
         "x": [
          2.122
         ],
         "xaxis": "x",
         "y": [
          0.177
         ],
         "yaxis": "y"
        },
        {
         "customdata": [
          [
           "Canada",
           10.797,
           2.539
          ]
         ],
         "hoverlabel": {
          "namelength": 0
         },
         "hovertemplate": "Country=%{customdata[0]}<br>age=%{customdata[1]}<br>doctors=%{customdata[2]}",
         "legendgroup": "Canada",
         "marker": {
          "color": "#636efa",
          "symbol": "circle"
         },
         "mode": "markers",
         "name": "Canada",
         "showlegend": true,
         "type": "scatter",
         "x": [
          10.797
         ],
         "xaxis": "x",
         "y": [
          2.539
         ],
         "yaxis": "y"
        },
        {
         "customdata": [
          [
           "Cape Verde",
           4.913,
           0.7879999999999999
          ]
         ],
         "hoverlabel": {
          "namelength": 0
         },
         "hovertemplate": "Country=%{customdata[0]}<br>age=%{customdata[1]}<br>doctors=%{customdata[2]}",
         "legendgroup": "Cape Verde",
         "marker": {
          "color": "#EF553B",
          "symbol": "circle"
         },
         "mode": "markers",
         "name": "Cape Verde",
         "showlegend": true,
         "type": "scatter",
         "x": [
          4.913
         ],
         "xaxis": "x",
         "y": [
          0.7879999999999999
         ],
         "yaxis": "y"
        },
        {
         "customdata": [
          [
           "Central African Republic",
           2.84,
           0.083
          ]
         ],
         "hoverlabel": {
          "namelength": 0
         },
         "hovertemplate": "Country=%{customdata[0]}<br>age=%{customdata[1]}<br>doctors=%{customdata[2]}",
         "legendgroup": "Central African Republic",
         "marker": {
          "color": "#00cc96",
          "symbol": "circle"
         },
         "mode": "markers",
         "name": "Central African Republic",
         "showlegend": true,
         "type": "scatter",
         "x": [
          2.84
         ],
         "xaxis": "x",
         "y": [
          0.083
         ],
         "yaxis": "y"
        },
        {
         "customdata": [
          [
           "Chad",
           2.396,
           0.044000000000000004
          ]
         ],
         "hoverlabel": {
          "namelength": 0
         },
         "hovertemplate": "Country=%{customdata[0]}<br>age=%{customdata[1]}<br>doctors=%{customdata[2]}",
         "legendgroup": "Chad",
         "marker": {
          "color": "#ab63fa",
          "symbol": "circle"
         },
         "mode": "markers",
         "name": "Chad",
         "showlegend": true,
         "type": "scatter",
         "x": [
          2.396
         ],
         "xaxis": "x",
         "y": [
          0.044000000000000004
         ],
         "yaxis": "y"
        },
        {
         "customdata": [
          [
           "Channel Islands",
           11.886,
           1.5219999999999998
          ]
         ],
         "hoverlabel": {
          "namelength": 0
         },
         "hovertemplate": "Country=%{customdata[0]}<br>age=%{customdata[1]}<br>doctors=%{customdata[2]}",
         "legendgroup": "Channel Islands",
         "marker": {
          "color": "#FFA15A",
          "symbol": "circle"
         },
         "mode": "markers",
         "name": "Channel Islands",
         "showlegend": true,
         "type": "scatter",
         "x": [
          11.886
         ],
         "xaxis": "x",
         "y": [
          1.5219999999999998
         ],
         "yaxis": "y"
        },
        {
         "customdata": [
          [
           "Chile",
           6.938,
           1.153
          ]
         ],
         "hoverlabel": {
          "namelength": 0
         },
         "hovertemplate": "Country=%{customdata[0]}<br>age=%{customdata[1]}<br>doctors=%{customdata[2]}",
         "legendgroup": "Chile",
         "marker": {
          "color": "#19d3f3",
          "symbol": "circle"
         },
         "mode": "markers",
         "name": "Chile",
         "showlegend": true,
         "type": "scatter",
         "x": [
          6.938
         ],
         "xaxis": "x",
         "y": [
          1.153
         ],
         "yaxis": "y"
        },
        {
         "customdata": [
          [
           "China",
           5.928999999999999,
           1.8119999999999998
          ]
         ],
         "hoverlabel": {
          "namelength": 0
         },
         "hovertemplate": "Country=%{customdata[0]}<br>age=%{customdata[1]}<br>doctors=%{customdata[2]}",
         "legendgroup": "China",
         "marker": {
          "color": "#FF6692",
          "symbol": "circle"
         },
         "mode": "markers",
         "name": "China",
         "showlegend": true,
         "type": "scatter",
         "x": [
          5.928999999999999
         ],
         "xaxis": "x",
         "y": [
          1.8119999999999998
         ],
         "yaxis": "y"
        },
        {
         "customdata": [
          [
           "Colombia",
           4.312,
           1.821
          ]
         ],
         "hoverlabel": {
          "namelength": 0
         },
         "hovertemplate": "Country=%{customdata[0]}<br>age=%{customdata[1]}<br>doctors=%{customdata[2]}",
         "legendgroup": "Colombia",
         "marker": {
          "color": "#B6E880",
          "symbol": "circle"
         },
         "mode": "markers",
         "name": "Colombia",
         "showlegend": true,
         "type": "scatter",
         "x": [
          4.312
         ],
         "xaxis": "x",
         "y": [
          1.821
         ],
         "yaxis": "y"
        },
        {
         "customdata": [
          [
           "Comoros",
           2.173,
           0.19
          ]
         ],
         "hoverlabel": {
          "namelength": 0
         },
         "hovertemplate": "Country=%{customdata[0]}<br>age=%{customdata[1]}<br>doctors=%{customdata[2]}",
         "legendgroup": "Comoros",
         "marker": {
          "color": "#FF97FF",
          "symbol": "circle"
         },
         "mode": "markers",
         "name": "Comoros",
         "showlegend": true,
         "type": "scatter",
         "x": [
          2.173
         ],
         "xaxis": "x",
         "y": [
          0.19
         ],
         "yaxis": "y"
        },
        {
         "customdata": [
          [
           "Congo",
           2.24,
           0.73
          ]
         ],
         "hoverlabel": {
          "namelength": 0
         },
         "hovertemplate": "Country=%{customdata[0]}<br>age=%{customdata[1]}<br>doctors=%{customdata[2]}",
         "legendgroup": "Congo",
         "marker": {
          "color": "#FECB52",
          "symbol": "circle"
         },
         "mode": "markers",
         "name": "Congo",
         "showlegend": true,
         "type": "scatter",
         "x": [
          2.24
         ],
         "xaxis": "x",
         "y": [
          0.73
         ],
         "yaxis": "y"
        },
        {
         "customdata": [
          [
           "Costa Rica",
           5.694,
           1.719
          ]
         ],
         "hoverlabel": {
          "namelength": 0
         },
         "hovertemplate": "Country=%{customdata[0]}<br>age=%{customdata[1]}<br>doctors=%{customdata[2]}",
         "legendgroup": "Costa Rica",
         "marker": {
          "color": "#636efa",
          "symbol": "circle"
         },
         "mode": "markers",
         "name": "Costa Rica",
         "showlegend": true,
         "type": "scatter",
         "x": [
          5.694
         ],
         "xaxis": "x",
         "y": [
          1.719
         ],
         "yaxis": "y"
        },
        {
         "customdata": [
          [
           "Cote d'Ivoire",
           1.59,
           0.14400000000000002
          ]
         ],
         "hoverlabel": {
          "namelength": 0
         },
         "hovertemplate": "Country=%{customdata[0]}<br>age=%{customdata[1]}<br>doctors=%{customdata[2]}",
         "legendgroup": "Cote d'Ivoire",
         "marker": {
          "color": "#EF553B",
          "symbol": "circle"
         },
         "mode": "markers",
         "name": "Cote d'Ivoire",
         "showlegend": true,
         "type": "scatter",
         "x": [
          1.59
         ],
         "xaxis": "x",
         "y": [
          0.14400000000000002
         ],
         "yaxis": "y"
        },
        {
         "customdata": [
          [
           "Croatia",
           13.112,
           3.1260000000000003
          ]
         ],
         "hoverlabel": {
          "namelength": 0
         },
         "hovertemplate": "Country=%{customdata[0]}<br>age=%{customdata[1]}<br>doctors=%{customdata[2]}",
         "legendgroup": "Croatia",
         "marker": {
          "color": "#00cc96",
          "symbol": "circle"
         },
         "mode": "markers",
         "name": "Croatia",
         "showlegend": true,
         "type": "scatter",
         "x": [
          13.112
         ],
         "xaxis": "x",
         "y": [
          3.1260000000000003
         ],
         "yaxis": "y"
        },
        {
         "customdata": [
          [
           "Cuba",
           9.719,
           7.519
          ]
         ],
         "hoverlabel": {
          "namelength": 0
         },
         "hovertemplate": "Country=%{customdata[0]}<br>age=%{customdata[1]}<br>doctors=%{customdata[2]}",
         "legendgroup": "Cuba",
         "marker": {
          "color": "#ab63fa",
          "symbol": "circle"
         },
         "mode": "markers",
         "name": "Cuba",
         "showlegend": true,
         "type": "scatter",
         "x": [
          9.719
         ],
         "xaxis": "x",
         "y": [
          7.519
         ],
         "yaxis": "y"
        },
        {
         "customdata": [
          [
           "Cyprus",
           8.562999999999999,
           2.55
          ]
         ],
         "hoverlabel": {
          "namelength": 0
         },
         "hovertemplate": "Country=%{customdata[0]}<br>age=%{customdata[1]}<br>doctors=%{customdata[2]}",
         "legendgroup": "Cyprus",
         "marker": {
          "color": "#FFA15A",
          "symbol": "circle"
         },
         "mode": "markers",
         "name": "Cyprus",
         "showlegend": true,
         "type": "scatter",
         "x": [
          8.562999999999999
         ],
         "xaxis": "x",
         "y": [
          2.55
         ],
         "yaxis": "y"
        },
        {
         "customdata": [
          [
           "Czech Republic",
           11.58,
           3.677
          ]
         ],
         "hoverlabel": {
          "namelength": 0
         },
         "hovertemplate": "Country=%{customdata[0]}<br>age=%{customdata[1]}<br>doctors=%{customdata[2]}",
         "legendgroup": "Czech Republic",
         "marker": {
          "color": "#19d3f3",
          "symbol": "circle"
         },
         "mode": "markers",
         "name": "Czech Republic",
         "showlegend": true,
         "type": "scatter",
         "x": [
          11.58
         ],
         "xaxis": "x",
         "y": [
          3.677
         ],
         "yaxis": "y"
        },
        {
         "customdata": [
          [
           "Democratic Republic of Congo",
           2.4330000000000003,
           0.107
          ]
         ],
         "hoverlabel": {
          "namelength": 0
         },
         "hovertemplate": "Country=%{customdata[0]}<br>age=%{customdata[1]}<br>doctors=%{customdata[2]}",
         "legendgroup": "Democratic Republic of Congo",
         "marker": {
          "color": "#FF6692",
          "symbol": "circle"
         },
         "mode": "markers",
         "name": "Democratic Republic of Congo",
         "showlegend": true,
         "type": "scatter",
         "x": [
          2.4330000000000003
         ],
         "xaxis": "x",
         "y": [
          0.107
         ],
         "yaxis": "y"
        },
        {
         "customdata": [
          [
           "Denmark",
           12.325,
           3.66
          ]
         ],
         "hoverlabel": {
          "namelength": 0
         },
         "hovertemplate": "Country=%{customdata[0]}<br>age=%{customdata[1]}<br>doctors=%{customdata[2]}",
         "legendgroup": "Denmark",
         "marker": {
          "color": "#B6E880",
          "symbol": "circle"
         },
         "mode": "markers",
         "name": "Denmark",
         "showlegend": true,
         "type": "scatter",
         "x": [
          12.325
         ],
         "xaxis": "x",
         "y": [
          3.66
         ],
         "yaxis": "y"
        },
        {
         "customdata": [
          [
           "Djibouti",
           2.38,
           0.284
          ]
         ],
         "hoverlabel": {
          "namelength": 0
         },
         "hovertemplate": "Country=%{customdata[0]}<br>age=%{customdata[1]}<br>doctors=%{customdata[2]}",
         "legendgroup": "Djibouti",
         "marker": {
          "color": "#FF97FF",
          "symbol": "circle"
         },
         "mode": "markers",
         "name": "Djibouti",
         "showlegend": true,
         "type": "scatter",
         "x": [
          2.38
         ],
         "xaxis": "x",
         "y": [
          0.284
         ],
         "yaxis": "y"
        },
        {
         "customdata": [
          [
           "Dominican Republic",
           4.419,
           2.156
          ]
         ],
         "hoverlabel": {
          "namelength": 0
         },
         "hovertemplate": "Country=%{customdata[0]}<br>age=%{customdata[1]}<br>doctors=%{customdata[2]}",
         "legendgroup": "Dominican Republic",
         "marker": {
          "color": "#FECB52",
          "symbol": "circle"
         },
         "mode": "markers",
         "name": "Dominican Republic",
         "showlegend": true,
         "type": "scatter",
         "x": [
          4.419
         ],
         "xaxis": "x",
         "y": [
          2.156
         ],
         "yaxis": "y"
        },
        {
         "customdata": [
          [
           "Ecuador",
           4.458,
           1.6869999999999998
          ]
         ],
         "hoverlabel": {
          "namelength": 0
         },
         "hovertemplate": "Country=%{customdata[0]}<br>age=%{customdata[1]}<br>doctors=%{customdata[2]}",
         "legendgroup": "Ecuador",
         "marker": {
          "color": "#636efa",
          "symbol": "circle"
         },
         "mode": "markers",
         "name": "Ecuador",
         "showlegend": true,
         "type": "scatter",
         "x": [
          4.458
         ],
         "xaxis": "x",
         "y": [
          1.6869999999999998
         ],
         "yaxis": "y"
        },
        {
         "customdata": [
          [
           "Egypt",
           3.0869999999999997,
           2.83
          ]
         ],
         "hoverlabel": {
          "namelength": 0
         },
         "hovertemplate": "Country=%{customdata[0]}<br>age=%{customdata[1]}<br>doctors=%{customdata[2]}",
         "legendgroup": "Egypt",
         "marker": {
          "color": "#EF553B",
          "symbol": "circle"
         },
         "mode": "markers",
         "name": "Egypt",
         "showlegend": true,
         "type": "scatter",
         "x": [
          3.0869999999999997
         ],
         "xaxis": "x",
         "y": [
          2.83
         ],
         "yaxis": "y"
        },
        {
         "customdata": [
          [
           "El Salvador",
           5.417000000000001,
           1.922
          ]
         ],
         "hoverlabel": {
          "namelength": 0
         },
         "hovertemplate": "Country=%{customdata[0]}<br>age=%{customdata[1]}<br>doctors=%{customdata[2]}",
         "legendgroup": "El Salvador",
         "marker": {
          "color": "#00cc96",
          "symbol": "circle"
         },
         "mode": "markers",
         "name": "El Salvador",
         "showlegend": true,
         "type": "scatter",
         "x": [
          5.417000000000001
         ],
         "xaxis": "x",
         "y": [
          1.922
         ],
         "yaxis": "y"
        },
        {
         "customdata": [
          [
           "Equatorial Guinea",
           3.133,
           0.281
          ]
         ],
         "hoverlabel": {
          "namelength": 0
         },
         "hovertemplate": "Country=%{customdata[0]}<br>age=%{customdata[1]}<br>doctors=%{customdata[2]}",
         "legendgroup": "Equatorial Guinea",
         "marker": {
          "color": "#ab63fa",
          "symbol": "circle"
         },
         "mode": "markers",
         "name": "Equatorial Guinea",
         "showlegend": true,
         "type": "scatter",
         "x": [
          3.133
         ],
         "xaxis": "x",
         "y": [
          0.281
         ],
         "yaxis": "y"
        },
        {
         "customdata": [
          [
           "Eritrea",
           2.171,
           0.053
          ]
         ],
         "hoverlabel": {
          "namelength": 0
         },
         "hovertemplate": "Country=%{customdata[0]}<br>age=%{customdata[1]}<br>doctors=%{customdata[2]}",
         "legendgroup": "Eritrea",
         "marker": {
          "color": "#FFA15A",
          "symbol": "circle"
         },
         "mode": "markers",
         "name": "Eritrea",
         "showlegend": true,
         "type": "scatter",
         "x": [
          2.171
         ],
         "xaxis": "x",
         "y": [
          0.053
         ],
         "yaxis": "y"
        },
        {
         "customdata": [
          [
           "Estonia",
           13.491,
           4.373
          ]
         ],
         "hoverlabel": {
          "namelength": 0
         },
         "hovertemplate": "Country=%{customdata[0]}<br>age=%{customdata[1]}<br>doctors=%{customdata[2]}",
         "legendgroup": "Estonia",
         "marker": {
          "color": "#19d3f3",
          "symbol": "circle"
         },
         "mode": "markers",
         "name": "Estonia",
         "showlegend": true,
         "type": "scatter",
         "x": [
          13.491
         ],
         "xaxis": "x",
         "y": [
          4.373
         ],
         "yaxis": "y"
        },
        {
         "customdata": [
          [
           "Ethiopia",
           2.063,
           0.032
          ]
         ],
         "hoverlabel": {
          "namelength": 0
         },
         "hovertemplate": "Country=%{customdata[0]}<br>age=%{customdata[1]}<br>doctors=%{customdata[2]}",
         "legendgroup": "Ethiopia",
         "marker": {
          "color": "#FF6692",
          "symbol": "circle"
         },
         "mode": "markers",
         "name": "Ethiopia",
         "showlegend": true,
         "type": "scatter",
         "x": [
          2.063
         ],
         "xaxis": "x",
         "y": [
          0.032
         ],
         "yaxis": "y"
        },
        {
         "customdata": [
          [
           "Fiji",
           3.284,
           0.8370000000000001
          ]
         ],
         "hoverlabel": {
          "namelength": 0
         },
         "hovertemplate": "Country=%{customdata[0]}<br>age=%{customdata[1]}<br>doctors=%{customdata[2]}",
         "legendgroup": "Fiji",
         "marker": {
          "color": "#B6E880",
          "symbol": "circle"
         },
         "mode": "markers",
         "name": "Fiji",
         "showlegend": true,
         "type": "scatter",
         "x": [
          3.284
         ],
         "xaxis": "x",
         "y": [
          0.8370000000000001
         ],
         "yaxis": "y"
        },
        {
         "customdata": [
          [
           "Finland",
           13.264000000000001,
           3.319
          ]
         ],
         "hoverlabel": {
          "namelength": 0
         },
         "hovertemplate": "Country=%{customdata[0]}<br>age=%{customdata[1]}<br>doctors=%{customdata[2]}",
         "legendgroup": "Finland",
         "marker": {
          "color": "#FF97FF",
          "symbol": "circle"
         },
         "mode": "markers",
         "name": "Finland",
         "showlegend": true,
         "type": "scatter",
         "x": [
          13.264000000000001
         ],
         "xaxis": "x",
         "y": [
          3.319
         ],
         "yaxis": "y"
        },
        {
         "customdata": [
          [
           "France",
           13.079,
           3.674
          ]
         ],
         "hoverlabel": {
          "namelength": 0
         },
         "hovertemplate": "Country=%{customdata[0]}<br>age=%{customdata[1]}<br>doctors=%{customdata[2]}",
         "legendgroup": "France",
         "marker": {
          "color": "#FECB52",
          "symbol": "circle"
         },
         "mode": "markers",
         "name": "France",
         "showlegend": true,
         "type": "scatter",
         "x": [
          13.079
         ],
         "xaxis": "x",
         "y": [
          3.674
         ],
         "yaxis": "y"
        },
        {
         "customdata": [
          [
           "French Polynesia",
           4.593,
           1.6969999999999998
          ]
         ],
         "hoverlabel": {
          "namelength": 0
         },
         "hovertemplate": "Country=%{customdata[0]}<br>age=%{customdata[1]}<br>doctors=%{customdata[2]}",
         "legendgroup": "French Polynesia",
         "marker": {
          "color": "#636efa",
          "symbol": "circle"
         },
         "mode": "markers",
         "name": "French Polynesia",
         "showlegend": true,
         "type": "scatter",
         "x": [
          4.593
         ],
         "xaxis": "x",
         "y": [
          1.6969999999999998
         ],
         "yaxis": "y"
        },
        {
         "customdata": [
          [
           "Gabon",
           4.188,
           0.518
          ]
         ],
         "hoverlabel": {
          "namelength": 0
         },
         "hovertemplate": "Country=%{customdata[0]}<br>age=%{customdata[1]}<br>doctors=%{customdata[2]}",
         "legendgroup": "Gabon",
         "marker": {
          "color": "#EF553B",
          "symbol": "circle"
         },
         "mode": "markers",
         "name": "Gabon",
         "showlegend": true,
         "type": "scatter",
         "x": [
          4.188
         ],
         "xaxis": "x",
         "y": [
          0.518
         ],
         "yaxis": "y"
        },
        {
         "customdata": [
          [
           "Gambia",
           1.626,
           0.11900000000000001
          ]
         ],
         "hoverlabel": {
          "namelength": 0
         },
         "hovertemplate": "Country=%{customdata[0]}<br>age=%{customdata[1]}<br>doctors=%{customdata[2]}",
         "legendgroup": "Gambia",
         "marker": {
          "color": "#00cc96",
          "symbol": "circle"
         },
         "mode": "markers",
         "name": "Gambia",
         "showlegend": true,
         "type": "scatter",
         "x": [
          1.626
         ],
         "xaxis": "x",
         "y": [
          0.11900000000000001
         ],
         "yaxis": "y"
        },
        {
         "customdata": [
          [
           "Georgia",
           10.737,
           5.192
          ]
         ],
         "hoverlabel": {
          "namelength": 0
         },
         "hovertemplate": "Country=%{customdata[0]}<br>age=%{customdata[1]}<br>doctors=%{customdata[2]}",
         "legendgroup": "Georgia",
         "marker": {
          "color": "#ab63fa",
          "symbol": "circle"
         },
         "mode": "markers",
         "name": "Georgia",
         "showlegend": true,
         "type": "scatter",
         "x": [
          10.737
         ],
         "xaxis": "x",
         "y": [
          5.192
         ],
         "yaxis": "y"
        },
        {
         "customdata": [
          [
           "Germany",
           15.957,
           4.191
          ]
         ],
         "hoverlabel": {
          "namelength": 0
         },
         "hovertemplate": "Country=%{customdata[0]}<br>age=%{customdata[1]}<br>doctors=%{customdata[2]}",
         "legendgroup": "Germany",
         "marker": {
          "color": "#FFA15A",
          "symbol": "circle"
         },
         "mode": "markers",
         "name": "Germany",
         "showlegend": true,
         "type": "scatter",
         "x": [
          15.957
         ],
         "xaxis": "x",
         "y": [
          4.191
         ],
         "yaxis": "y"
        },
        {
         "customdata": [
          [
           "Ghana",
           2.198,
           0.155
          ]
         ],
         "hoverlabel": {
          "namelength": 0
         },
         "hovertemplate": "Country=%{customdata[0]}<br>age=%{customdata[1]}<br>doctors=%{customdata[2]}",
         "legendgroup": "Ghana",
         "marker": {
          "color": "#19d3f3",
          "symbol": "circle"
         },
         "mode": "markers",
         "name": "Ghana",
         "showlegend": true,
         "type": "scatter",
         "x": [
          2.198
         ],
         "xaxis": "x",
         "y": [
          0.155
         ],
         "yaxis": "y"
        },
        {
         "customdata": [
          [
           "Greece",
           14.524000000000001,
           6.255
          ]
         ],
         "hoverlabel": {
          "namelength": 0
         },
         "hovertemplate": "Country=%{customdata[0]}<br>age=%{customdata[1]}<br>doctors=%{customdata[2]}",
         "legendgroup": "Greece",
         "marker": {
          "color": "#FF6692",
          "symbol": "circle"
         },
         "mode": "markers",
         "name": "Greece",
         "showlegend": true,
         "type": "scatter",
         "x": [
          14.524000000000001
         ],
         "xaxis": "x",
         "y": [
          6.255
         ],
         "yaxis": "y"
        },
        {
         "customdata": [
          [
           "Grenada",
           5.6979999999999995,
           0.6679999999999999
          ]
         ],
         "hoverlabel": {
          "namelength": 0
         },
         "hovertemplate": "Country=%{customdata[0]}<br>age=%{customdata[1]}<br>doctors=%{customdata[2]}",
         "legendgroup": "Grenada",
         "marker": {
          "color": "#B6E880",
          "symbol": "circle"
         },
         "mode": "markers",
         "name": "Grenada",
         "showlegend": true,
         "type": "scatter",
         "x": [
          5.6979999999999995
         ],
         "xaxis": "x",
         "y": [
          0.6679999999999999
         ],
         "yaxis": "y"
        },
        {
         "customdata": [
          [
           "Guam",
           5.492999999999999,
           1.187
          ]
         ],
         "hoverlabel": {
          "namelength": 0
         },
         "hovertemplate": "Country=%{customdata[0]}<br>age=%{customdata[1]}<br>doctors=%{customdata[2]}",
         "legendgroup": "Guam",
         "marker": {
          "color": "#FF97FF",
          "symbol": "circle"
         },
         "mode": "markers",
         "name": "Guam",
         "showlegend": true,
         "type": "scatter",
         "x": [
          5.492999999999999
         ],
         "xaxis": "x",
         "y": [
          1.187
         ],
         "yaxis": "y"
        },
        {
         "customdata": [
          [
           "Guatemala",
           3.016,
           1.1
          ]
         ],
         "hoverlabel": {
          "namelength": 0
         },
         "hovertemplate": "Country=%{customdata[0]}<br>age=%{customdata[1]}<br>doctors=%{customdata[2]}",
         "legendgroup": "Guatemala",
         "marker": {
          "color": "#FECB52",
          "symbol": "circle"
         },
         "mode": "markers",
         "name": "Guatemala",
         "showlegend": true,
         "type": "scatter",
         "x": [
          3.016
         ],
         "xaxis": "x",
         "y": [
          1.1
         ],
         "yaxis": "y"
        },
        {
         "customdata": [
          [
           "Guinea",
           2.989,
           0.152
          ]
         ],
         "hoverlabel": {
          "namelength": 0
         },
         "hovertemplate": "Country=%{customdata[0]}<br>age=%{customdata[1]}<br>doctors=%{customdata[2]}",
         "legendgroup": "Guinea",
         "marker": {
          "color": "#636efa",
          "symbol": "circle"
         },
         "mode": "markers",
         "name": "Guinea",
         "showlegend": true,
         "type": "scatter",
         "x": [
          2.989
         ],
         "xaxis": "x",
         "y": [
          0.152
         ],
         "yaxis": "y"
        },
        {
         "customdata": [
          [
           "Guinea-Bissau",
           1.9069999999999998,
           0.177
          ]
         ],
         "hoverlabel": {
          "namelength": 0
         },
         "hovertemplate": "Country=%{customdata[0]}<br>age=%{customdata[1]}<br>doctors=%{customdata[2]}",
         "legendgroup": "Guinea-Bissau",
         "marker": {
          "color": "#EF553B",
          "symbol": "circle"
         },
         "mode": "markers",
         "name": "Guinea-Bissau",
         "showlegend": true,
         "type": "scatter",
         "x": [
          1.9069999999999998
         ],
         "xaxis": "x",
         "y": [
          0.177
         ],
         "yaxis": "y"
        },
        {
         "customdata": [
          [
           "Guyana",
           3.014,
           0.493
          ]
         ],
         "hoverlabel": {
          "namelength": 0
         },
         "hovertemplate": "Country=%{customdata[0]}<br>age=%{customdata[1]}<br>doctors=%{customdata[2]}",
         "legendgroup": "Guyana",
         "marker": {
          "color": "#00cc96",
          "symbol": "circle"
         },
         "mode": "markers",
         "name": "Guyana",
         "showlegend": true,
         "type": "scatter",
         "x": [
          3.014
         ],
         "xaxis": "x",
         "y": [
          0.493
         ],
         "yaxis": "y"
        },
        {
         "customdata": [
          [
           "Haiti",
           2.9539999999999997,
           0.23600000000000002
          ]
         ],
         "hoverlabel": {
          "namelength": 0
         },
         "hovertemplate": "Country=%{customdata[0]}<br>age=%{customdata[1]}<br>doctors=%{customdata[2]}",
         "legendgroup": "Haiti",
         "marker": {
          "color": "#ab63fa",
          "symbol": "circle"
         },
         "mode": "markers",
         "name": "Haiti",
         "showlegend": true,
         "type": "scatter",
         "x": [
          2.9539999999999997
         ],
         "xaxis": "x",
         "y": [
          0.23600000000000002
         ],
         "yaxis": "y"
        },
        {
         "customdata": [
          [
           "Honduras",
           2.883,
           0.8320000000000001
          ]
         ],
         "hoverlabel": {
          "namelength": 0
         },
         "hovertemplate": "Country=%{customdata[0]}<br>age=%{customdata[1]}<br>doctors=%{customdata[2]}",
         "legendgroup": "Honduras",
         "marker": {
          "color": "#FFA15A",
          "symbol": "circle"
         },
         "mode": "markers",
         "name": "Honduras",
         "showlegend": true,
         "type": "scatter",
         "x": [
          2.883
         ],
         "xaxis": "x",
         "y": [
          0.8320000000000001
         ],
         "yaxis": "y"
        },
        {
         "customdata": [
          [
           "Hong Kong",
           10.158,
           1.319
          ]
         ],
         "hoverlabel": {
          "namelength": 0
         },
         "hovertemplate": "Country=%{customdata[0]}<br>age=%{customdata[1]}<br>doctors=%{customdata[2]}",
         "legendgroup": "Hong Kong",
         "marker": {
          "color": "#19d3f3",
          "symbol": "circle"
         },
         "mode": "markers",
         "name": "Hong Kong",
         "showlegend": true,
         "type": "scatter",
         "x": [
          10.158
         ],
         "xaxis": "x",
         "y": [
          1.319
         ],
         "yaxis": "y"
        },
        {
         "customdata": [
          [
           "Hungary",
           11.975999999999999,
           3.843
          ]
         ],
         "hoverlabel": {
          "namelength": 0
         },
         "hovertemplate": "Country=%{customdata[0]}<br>age=%{customdata[1]}<br>doctors=%{customdata[2]}",
         "legendgroup": "Hungary",
         "marker": {
          "color": "#FF6692",
          "symbol": "circle"
         },
         "mode": "markers",
         "name": "Hungary",
         "showlegend": true,
         "type": "scatter",
         "x": [
          11.975999999999999
         ],
         "xaxis": "x",
         "y": [
          3.843
         ],
         "yaxis": "y"
        },
        {
         "customdata": [
          [
           "Iceland",
           9.207,
           3.7910000000000004
          ]
         ],
         "hoverlabel": {
          "namelength": 0
         },
         "hovertemplate": "Country=%{customdata[0]}<br>age=%{customdata[1]}<br>doctors=%{customdata[2]}",
         "legendgroup": "Iceland",
         "marker": {
          "color": "#B6E880",
          "symbol": "circle"
         },
         "mode": "markers",
         "name": "Iceland",
         "showlegend": true,
         "type": "scatter",
         "x": [
          9.207
         ],
         "xaxis": "x",
         "y": [
          3.7910000000000004
         ],
         "yaxis": "y"
        },
        {
         "customdata": [
          [
           "India",
           3.4139999999999997,
           1.225
          ]
         ],
         "hoverlabel": {
          "namelength": 0
         },
         "hovertemplate": "Country=%{customdata[0]}<br>age=%{customdata[1]}<br>doctors=%{customdata[2]}",
         "legendgroup": "India",
         "marker": {
          "color": "#FF97FF",
          "symbol": "circle"
         },
         "mode": "markers",
         "name": "India",
         "showlegend": true,
         "type": "scatter",
         "x": [
          3.4139999999999997
         ],
         "xaxis": "x",
         "y": [
          1.225
         ],
         "yaxis": "y"
        },
        {
         "customdata": [
          [
           "Indonesia",
           3.053,
           0.28800000000000003
          ]
         ],
         "hoverlabel": {
          "namelength": 0
         },
         "hovertemplate": "Country=%{customdata[0]}<br>age=%{customdata[1]}<br>doctors=%{customdata[2]}",
         "legendgroup": "Indonesia",
         "marker": {
          "color": "#FECB52",
          "symbol": "circle"
         },
         "mode": "markers",
         "name": "Indonesia",
         "showlegend": true,
         "type": "scatter",
         "x": [
          3.053
         ],
         "xaxis": "x",
         "y": [
          0.28800000000000003
         ],
         "yaxis": "y"
        },
        {
         "customdata": [
          [
           "Iran",
           3.32,
           1.4909999999999999
          ]
         ],
         "hoverlabel": {
          "namelength": 0
         },
         "hovertemplate": "Country=%{customdata[0]}<br>age=%{customdata[1]}<br>doctors=%{customdata[2]}",
         "legendgroup": "Iran",
         "marker": {
          "color": "#636efa",
          "symbol": "circle"
         },
         "mode": "markers",
         "name": "Iran",
         "showlegend": true,
         "type": "scatter",
         "x": [
          3.32
         ],
         "xaxis": "x",
         "y": [
          1.4909999999999999
         ],
         "yaxis": "y"
        },
        {
         "customdata": [
          [
           "Iraq",
           2.459,
           0.8540000000000001
          ]
         ],
         "hoverlabel": {
          "namelength": 0
         },
         "hovertemplate": "Country=%{customdata[0]}<br>age=%{customdata[1]}<br>doctors=%{customdata[2]}",
         "legendgroup": "Iraq",
         "marker": {
          "color": "#EF553B",
          "symbol": "circle"
         },
         "mode": "markers",
         "name": "Iraq",
         "showlegend": true,
         "type": "scatter",
         "x": [
          2.459
         ],
         "xaxis": "x",
         "y": [
          0.8540000000000001
         ],
         "yaxis": "y"
        },
        {
         "customdata": [
          [
           "Ireland",
           8.677999999999999,
           3.187
          ]
         ],
         "hoverlabel": {
          "namelength": 0
         },
         "hovertemplate": "Country=%{customdata[0]}<br>age=%{customdata[1]}<br>doctors=%{customdata[2]}",
         "legendgroup": "Ireland",
         "marker": {
          "color": "#00cc96",
          "symbol": "circle"
         },
         "mode": "markers",
         "name": "Ireland",
         "showlegend": true,
         "type": "scatter",
         "x": [
          8.677999999999999
         ],
         "xaxis": "x",
         "y": [
          3.187
         ],
         "yaxis": "y"
        },
        {
         "customdata": [
          [
           "Israel",
           7.519,
           4.857
          ]
         ],
         "hoverlabel": {
          "namelength": 0
         },
         "hovertemplate": "Country=%{customdata[0]}<br>age=%{customdata[1]}<br>doctors=%{customdata[2]}",
         "legendgroup": "Israel",
         "marker": {
          "color": "#ab63fa",
          "symbol": "circle"
         },
         "mode": "markers",
         "name": "Israel",
         "showlegend": true,
         "type": "scatter",
         "x": [
          7.519
         ],
         "xaxis": "x",
         "y": [
          4.857
         ],
         "yaxis": "y"
        },
        {
         "customdata": [
          [
           "Italy",
           16.24,
           4.4
          ]
         ],
         "hoverlabel": {
          "namelength": 0
         },
         "hovertemplate": "Country=%{customdata[0]}<br>age=%{customdata[1]}<br>doctors=%{customdata[2]}",
         "legendgroup": "Italy",
         "marker": {
          "color": "#FFA15A",
          "symbol": "circle"
         },
         "mode": "markers",
         "name": "Italy",
         "showlegend": true,
         "type": "scatter",
         "x": [
          16.24
         ],
         "xaxis": "x",
         "y": [
          4.4
         ],
         "yaxis": "y"
        },
        {
         "customdata": [
          [
           "Jamaica",
           6.39,
           1.401
          ]
         ],
         "hoverlabel": {
          "namelength": 0
         },
         "hovertemplate": "Country=%{customdata[0]}<br>age=%{customdata[1]}<br>doctors=%{customdata[2]}",
         "legendgroup": "Jamaica",
         "marker": {
          "color": "#19d3f3",
          "symbol": "circle"
         },
         "mode": "markers",
         "name": "Jamaica",
         "showlegend": true,
         "type": "scatter",
         "x": [
          6.39
         ],
         "xaxis": "x",
         "y": [
          1.401
         ],
         "yaxis": "y"
        },
        {
         "customdata": [
          [
           "Japan",
           18.493,
           2.367
          ]
         ],
         "hoverlabel": {
          "namelength": 0
         },
         "hovertemplate": "Country=%{customdata[0]}<br>age=%{customdata[1]}<br>doctors=%{customdata[2]}",
         "legendgroup": "Japan",
         "marker": {
          "color": "#FF6692",
          "symbol": "circle"
         },
         "mode": "markers",
         "name": "Japan",
         "showlegend": true,
         "type": "scatter",
         "x": [
          18.493
         ],
         "xaxis": "x",
         "y": [
          2.367
         ],
         "yaxis": "y"
        },
        {
         "customdata": [
          [
           "Jordan",
           2.804,
           3.426
          ]
         ],
         "hoverlabel": {
          "namelength": 0
         },
         "hovertemplate": "Country=%{customdata[0]}<br>age=%{customdata[1]}<br>doctors=%{customdata[2]}",
         "legendgroup": "Jordan",
         "marker": {
          "color": "#B6E880",
          "symbol": "circle"
         },
         "mode": "markers",
         "name": "Jordan",
         "showlegend": true,
         "type": "scatter",
         "x": [
          2.804
         ],
         "xaxis": "x",
         "y": [
          3.426
         ],
         "yaxis": "y"
        },
        {
         "customdata": [
          [
           "Kazakhstan",
           4.853,
           3.9760000000000004
          ]
         ],
         "hoverlabel": {
          "namelength": 0
         },
         "hovertemplate": "Country=%{customdata[0]}<br>age=%{customdata[1]}<br>doctors=%{customdata[2]}",
         "legendgroup": "Kazakhstan",
         "marker": {
          "color": "#FF97FF",
          "symbol": "circle"
         },
         "mode": "markers",
         "name": "Kazakhstan",
         "showlegend": true,
         "type": "scatter",
         "x": [
          4.853
         ],
         "xaxis": "x",
         "y": [
          3.9760000000000004
         ],
         "yaxis": "y"
        },
        {
         "customdata": [
          [
           "Kenya",
           2.164,
           0.204
          ]
         ],
         "hoverlabel": {
          "namelength": 0
         },
         "hovertemplate": "Country=%{customdata[0]}<br>age=%{customdata[1]}<br>doctors=%{customdata[2]}",
         "legendgroup": "Kenya",
         "marker": {
          "color": "#FECB52",
          "symbol": "circle"
         },
         "mode": "markers",
         "name": "Kenya",
         "showlegend": true,
         "type": "scatter",
         "x": [
          2.164
         ],
         "xaxis": "x",
         "y": [
          0.204
         ],
         "yaxis": "y"
        },
        {
         "customdata": [
          [
           "Kiribati",
           2.299,
           0.613
          ]
         ],
         "hoverlabel": {
          "namelength": 0
         },
         "hovertemplate": "Country=%{customdata[0]}<br>age=%{customdata[1]}<br>doctors=%{customdata[2]}",
         "legendgroup": "Kiribati",
         "marker": {
          "color": "#636efa",
          "symbol": "circle"
         },
         "mode": "markers",
         "name": "Kiribati",
         "showlegend": true,
         "type": "scatter",
         "x": [
          2.299
         ],
         "xaxis": "x",
         "y": [
          0.613
         ],
         "yaxis": "y"
        },
        {
         "customdata": [
          [
           "Kuwait",
           1.6369999999999998,
           2.608
          ]
         ],
         "hoverlabel": {
          "namelength": 0
         },
         "hovertemplate": "Country=%{customdata[0]}<br>age=%{customdata[1]}<br>doctors=%{customdata[2]}",
         "legendgroup": "Kuwait",
         "marker": {
          "color": "#EF553B",
          "symbol": "circle"
         },
         "mode": "markers",
         "name": "Kuwait",
         "showlegend": true,
         "type": "scatter",
         "x": [
          1.6369999999999998
         ],
         "xaxis": "x",
         "y": [
          2.608
         ],
         "yaxis": "y"
        },
        {
         "customdata": [
          [
           "Kyrgyzstan",
           4.898,
           3.412
          ]
         ],
         "hoverlabel": {
          "namelength": 0
         },
         "hovertemplate": "Country=%{customdata[0]}<br>age=%{customdata[1]}<br>doctors=%{customdata[2]}",
         "legendgroup": "Kyrgyzstan",
         "marker": {
          "color": "#00cc96",
          "symbol": "circle"
         },
         "mode": "markers",
         "name": "Kyrgyzstan",
         "showlegend": true,
         "type": "scatter",
         "x": [
          4.898
         ],
         "xaxis": "x",
         "y": [
          3.412
         ],
         "yaxis": "y"
        },
        {
         "customdata": [
          [
           "Laos",
           2.322,
           0.7290000000000001
          ]
         ],
         "hoverlabel": {
          "namelength": 0
         },
         "hovertemplate": "Country=%{customdata[0]}<br>age=%{customdata[1]}<br>doctors=%{customdata[2]}",
         "legendgroup": "Laos",
         "marker": {
          "color": "#ab63fa",
          "symbol": "circle"
         },
         "mode": "markers",
         "name": "Laos",
         "showlegend": true,
         "type": "scatter",
         "x": [
          2.322
         ],
         "xaxis": "x",
         "y": [
          0.7290000000000001
         ],
         "yaxis": "y"
        },
        {
         "customdata": [
          [
           "Latvia",
           14.136,
           4.694
          ]
         ],
         "hoverlabel": {
          "namelength": 0
         },
         "hovertemplate": "Country=%{customdata[0]}<br>age=%{customdata[1]}<br>doctors=%{customdata[2]}",
         "legendgroup": "Latvia",
         "marker": {
          "color": "#FFA15A",
          "symbol": "circle"
         },
         "mode": "markers",
         "name": "Latvia",
         "showlegend": true,
         "type": "scatter",
         "x": [
          14.136
         ],
         "xaxis": "x",
         "y": [
          4.694
         ],
         "yaxis": "y"
        },
        {
         "customdata": [
          [
           "Lebanon",
           5.436,
           3.424
          ]
         ],
         "hoverlabel": {
          "namelength": 0
         },
         "hovertemplate": "Country=%{customdata[0]}<br>age=%{customdata[1]}<br>doctors=%{customdata[2]}",
         "legendgroup": "Lebanon",
         "marker": {
          "color": "#19d3f3",
          "symbol": "circle"
         },
         "mode": "markers",
         "name": "Lebanon",
         "showlegend": true,
         "type": "scatter",
         "x": [
          5.436
         ],
         "xaxis": "x",
         "y": [
          3.424
         ],
         "yaxis": "y"
        },
        {
         "customdata": [
          [
           "Lesotho",
           2.9560000000000004,
           0.071
          ]
         ],
         "hoverlabel": {
          "namelength": 0
         },
         "hovertemplate": "Country=%{customdata[0]}<br>age=%{customdata[1]}<br>doctors=%{customdata[2]}",
         "legendgroup": "Lesotho",
         "marker": {
          "color": "#FF6692",
          "symbol": "circle"
         },
         "mode": "markers",
         "name": "Lesotho",
         "showlegend": true,
         "type": "scatter",
         "x": [
          2.9560000000000004
         ],
         "xaxis": "x",
         "y": [
          0.071
         ],
         "yaxis": "y"
        },
        {
         "customdata": [
          [
           "Liberia",
           1.7630000000000001,
           0.107
          ]
         ],
         "hoverlabel": {
          "namelength": 0
         },
         "hovertemplate": "Country=%{customdata[0]}<br>age=%{customdata[1]}<br>doctors=%{customdata[2]}",
         "legendgroup": "Liberia",
         "marker": {
          "color": "#B6E880",
          "symbol": "circle"
         },
         "mode": "markers",
         "name": "Liberia",
         "showlegend": true,
         "type": "scatter",
         "x": [
          1.7630000000000001
         ],
         "xaxis": "x",
         "y": [
          0.107
         ],
         "yaxis": "y"
        },
        {
         "customdata": [
          [
           "Libya",
           3.028,
           2.092
          ]
         ],
         "hoverlabel": {
          "namelength": 0
         },
         "hovertemplate": "Country=%{customdata[0]}<br>age=%{customdata[1]}<br>doctors=%{customdata[2]}",
         "legendgroup": "Libya",
         "marker": {
          "color": "#FF97FF",
          "symbol": "circle"
         },
         "mode": "markers",
         "name": "Libya",
         "showlegend": true,
         "type": "scatter",
         "x": [
          3.028
         ],
         "xaxis": "x",
         "y": [
          2.092
         ],
         "yaxis": "y"
        },
        {
         "customdata": [
          [
           "Lithuania",
           13.777999999999999,
           4.379
          ]
         ],
         "hoverlabel": {
          "namelength": 0
         },
         "hovertemplate": "Country=%{customdata[0]}<br>age=%{customdata[1]}<br>doctors=%{customdata[2]}",
         "legendgroup": "Lithuania",
         "marker": {
          "color": "#FECB52",
          "symbol": "circle"
         },
         "mode": "markers",
         "name": "Lithuania",
         "showlegend": true,
         "type": "scatter",
         "x": [
          13.777999999999999
         ],
         "xaxis": "x",
         "y": [
          4.379
         ],
         "yaxis": "y"
        },
        {
         "customdata": [
          [
           "Luxembourg",
           10.267999999999999,
           2.9210000000000003
          ]
         ],
         "hoverlabel": {
          "namelength": 0
         },
         "hovertemplate": "Country=%{customdata[0]}<br>age=%{customdata[1]}<br>doctors=%{customdata[2]}",
         "legendgroup": "Luxembourg",
         "marker": {
          "color": "#636efa",
          "symbol": "circle"
         },
         "mode": "markers",
         "name": "Luxembourg",
         "showlegend": true,
         "type": "scatter",
         "x": [
          10.267999999999999
         ],
         "xaxis": "x",
         "y": [
          2.9210000000000003
         ],
         "yaxis": "y"
        },
        {
         "customdata": [
          [
           "Macao",
           5.044,
           2.428
          ]
         ],
         "hoverlabel": {
          "namelength": 0
         },
         "hovertemplate": "Country=%{customdata[0]}<br>age=%{customdata[1]}<br>doctors=%{customdata[2]}",
         "legendgroup": "Macao",
         "marker": {
          "color": "#EF553B",
          "symbol": "circle"
         },
         "mode": "markers",
         "name": "Macao",
         "showlegend": true,
         "type": "scatter",
         "x": [
          5.044
         ],
         "xaxis": "x",
         "y": [
          2.428
         ],
         "yaxis": "y"
        },
        {
         "customdata": [
          [
           "Macedonia",
           8.16,
           2.875
          ]
         ],
         "hoverlabel": {
          "namelength": 0
         },
         "hovertemplate": "Country=%{customdata[0]}<br>age=%{customdata[1]}<br>doctors=%{customdata[2]}",
         "legendgroup": "Macedonia",
         "marker": {
          "color": "#00cc96",
          "symbol": "circle"
         },
         "mode": "markers",
         "name": "Macedonia",
         "showlegend": true,
         "type": "scatter",
         "x": [
          8.16
         ],
         "xaxis": "x",
         "y": [
          2.875
         ],
         "yaxis": "y"
        },
        {
         "customdata": [
          [
           "Madagascar",
           2.025,
           0.272
          ]
         ],
         "hoverlabel": {
          "namelength": 0
         },
         "hovertemplate": "Country=%{customdata[0]}<br>age=%{customdata[1]}<br>doctors=%{customdata[2]}",
         "legendgroup": "Madagascar",
         "marker": {
          "color": "#ab63fa",
          "symbol": "circle"
         },
         "mode": "markers",
         "name": "Madagascar",
         "showlegend": true,
         "type": "scatter",
         "x": [
          2.025
         ],
         "xaxis": "x",
         "y": [
          0.272
         ],
         "yaxis": "y"
        },
        {
         "customdata": [
          [
           "Malawi",
           1.795,
           0.087
          ]
         ],
         "hoverlabel": {
          "namelength": 0
         },
         "hovertemplate": "Country=%{customdata[0]}<br>age=%{customdata[1]}<br>doctors=%{customdata[2]}",
         "legendgroup": "Malawi",
         "marker": {
          "color": "#FFA15A",
          "symbol": "circle"
         },
         "mode": "markers",
         "name": "Malawi",
         "showlegend": true,
         "type": "scatter",
         "x": [
          1.795
         ],
         "xaxis": "x",
         "y": [
          0.087
         ],
         "yaxis": "y"
        },
        {
         "customdata": [
          [
           "Malaysia",
           3.407,
           1.5330000000000001
          ]
         ],
         "hoverlabel": {
          "namelength": 0
         },
         "hovertemplate": "Country=%{customdata[0]}<br>age=%{customdata[1]}<br>doctors=%{customdata[2]}",
         "legendgroup": "Malaysia",
         "marker": {
          "color": "#19d3f3",
          "symbol": "circle"
         },
         "mode": "markers",
         "name": "Malaysia",
         "showlegend": true,
         "type": "scatter",
         "x": [
          3.407
         ],
         "xaxis": "x",
         "y": [
          1.5330000000000001
         ],
         "yaxis": "y"
        },
        {
         "customdata": [
          [
           "Maldives",
           2.925,
           3.611
          ]
         ],
         "hoverlabel": {
          "namelength": 0
         },
         "hovertemplate": "Country=%{customdata[0]}<br>age=%{customdata[1]}<br>doctors=%{customdata[2]}",
         "legendgroup": "Maldives",
         "marker": {
          "color": "#FF6692",
          "symbol": "circle"
         },
         "mode": "markers",
         "name": "Maldives",
         "showlegend": true,
         "type": "scatter",
         "x": [
          2.925
         ],
         "xaxis": "x",
         "y": [
          3.611
         ],
         "yaxis": "y"
        },
        {
         "customdata": [
          [
           "Mali",
           2.1630000000000003,
           0.085
          ]
         ],
         "hoverlabel": {
          "namelength": 0
         },
         "hovertemplate": "Country=%{customdata[0]}<br>age=%{customdata[1]}<br>doctors=%{customdata[2]}",
         "legendgroup": "Mali",
         "marker": {
          "color": "#B6E880",
          "symbol": "circle"
         },
         "mode": "markers",
         "name": "Mali",
         "showlegend": true,
         "type": "scatter",
         "x": [
          2.1630000000000003
         ],
         "xaxis": "x",
         "y": [
          0.085
         ],
         "yaxis": "y"
        },
        {
         "customdata": [
          [
           "Malta",
           11.324000000000002,
           3.908
          ]
         ],
         "hoverlabel": {
          "namelength": 0
         },
         "hovertemplate": "Country=%{customdata[0]}<br>age=%{customdata[1]}<br>doctors=%{customdata[2]}",
         "legendgroup": "Malta",
         "marker": {
          "color": "#FF97FF",
          "symbol": "circle"
         },
         "mode": "markers",
         "name": "Malta",
         "showlegend": true,
         "type": "scatter",
         "x": [
          11.324000000000002
         ],
         "xaxis": "x",
         "y": [
          3.908
         ],
         "yaxis": "y"
        },
        {
         "customdata": [
          [
           "Mauritania",
           1.829,
           0.138
          ]
         ],
         "hoverlabel": {
          "namelength": 0
         },
         "hovertemplate": "Country=%{customdata[0]}<br>age=%{customdata[1]}<br>doctors=%{customdata[2]}",
         "legendgroup": "Mauritania",
         "marker": {
          "color": "#FECB52",
          "symbol": "circle"
         },
         "mode": "markers",
         "name": "Mauritania",
         "showlegend": true,
         "type": "scatter",
         "x": [
          1.829
         ],
         "xaxis": "x",
         "y": [
          0.138
         ],
         "yaxis": "y"
        },
        {
         "customdata": [
          [
           "Mauritius",
           5.8839999999999995,
           2.003
          ]
         ],
         "hoverlabel": {
          "namelength": 0
         },
         "hovertemplate": "Country=%{customdata[0]}<br>age=%{customdata[1]}<br>doctors=%{customdata[2]}",
         "legendgroup": "Mauritius",
         "marker": {
          "color": "#636efa",
          "symbol": "circle"
         },
         "mode": "markers",
         "name": "Mauritius",
         "showlegend": true,
         "type": "scatter",
         "x": [
          5.8839999999999995
         ],
         "xaxis": "x",
         "y": [
          2.003
         ],
         "yaxis": "y"
        },
        {
         "customdata": [
          [
           "Mexico",
           4.321000000000001,
           2.8930000000000002
          ]
         ],
         "hoverlabel": {
          "namelength": 0
         },
         "hovertemplate": "Country=%{customdata[0]}<br>age=%{customdata[1]}<br>doctors=%{customdata[2]}",
         "legendgroup": "Mexico",
         "marker": {
          "color": "#EF553B",
          "symbol": "circle"
         },
         "mode": "markers",
         "name": "Mexico",
         "showlegend": true,
         "type": "scatter",
         "x": [
          4.321000000000001
         ],
         "xaxis": "x",
         "y": [
          2.8930000000000002
         ],
         "yaxis": "y"
        },
        {
         "customdata": [
          [
           "Micronesia (country)",
           2.7560000000000002,
           0.613
          ]
         ],
         "hoverlabel": {
          "namelength": 0
         },
         "hovertemplate": "Country=%{customdata[0]}<br>age=%{customdata[1]}<br>doctors=%{customdata[2]}",
         "legendgroup": "Micronesia (country)",
         "marker": {
          "color": "#00cc96",
          "symbol": "circle"
         },
         "mode": "markers",
         "name": "Micronesia (country)",
         "showlegend": true,
         "type": "scatter",
         "x": [
          2.7560000000000002
         ],
         "xaxis": "x",
         "y": [
          0.613
         ],
         "yaxis": "y"
        },
        {
         "customdata": [
          [
           "Moldova",
           7.068,
           3.6310000000000002
          ]
         ],
         "hoverlabel": {
          "namelength": 0
         },
         "hovertemplate": "Country=%{customdata[0]}<br>age=%{customdata[1]}<br>doctors=%{customdata[2]}",
         "legendgroup": "Moldova",
         "marker": {
          "color": "#ab63fa",
          "symbol": "circle"
         },
         "mode": "markers",
         "name": "Moldova",
         "showlegend": true,
         "type": "scatter",
         "x": [
          7.068
         ],
         "xaxis": "x",
         "y": [
          3.6310000000000002
         ],
         "yaxis": "y"
        },
        {
         "customdata": [
          [
           "Mongolia",
           2.79,
           3.262
          ]
         ],
         "hoverlabel": {
          "namelength": 0
         },
         "hovertemplate": "Country=%{customdata[0]}<br>age=%{customdata[1]}<br>doctors=%{customdata[2]}",
         "legendgroup": "Mongolia",
         "marker": {
          "color": "#FFA15A",
          "symbol": "circle"
         },
         "mode": "markers",
         "name": "Mongolia",
         "showlegend": true,
         "type": "scatter",
         "x": [
          2.79
         ],
         "xaxis": "x",
         "y": [
          3.262
         ],
         "yaxis": "y"
        },
        {
         "customdata": [
          [
           "Montenegro",
           9.416,
           2.343
          ]
         ],
         "hoverlabel": {
          "namelength": 0
         },
         "hovertemplate": "Country=%{customdata[0]}<br>age=%{customdata[1]}<br>doctors=%{customdata[2]}",
         "legendgroup": "Montenegro",
         "marker": {
          "color": "#19d3f3",
          "symbol": "circle"
         },
         "mode": "markers",
         "name": "Montenegro",
         "showlegend": true,
         "type": "scatter",
         "x": [
          9.416
         ],
         "xaxis": "x",
         "y": [
          2.343
         ],
         "yaxis": "y"
        },
        {
         "customdata": [
          [
           "Morocco",
           4.209,
           0.652
          ]
         ],
         "hoverlabel": {
          "namelength": 0
         },
         "hovertemplate": "Country=%{customdata[0]}<br>age=%{customdata[1]}<br>doctors=%{customdata[2]}",
         "legendgroup": "Morocco",
         "marker": {
          "color": "#FF6692",
          "symbol": "circle"
         },
         "mode": "markers",
         "name": "Morocco",
         "showlegend": true,
         "type": "scatter",
         "x": [
          4.209
         ],
         "xaxis": "x",
         "y": [
          0.652
         ],
         "yaxis": "y"
        },
        {
         "customdata": [
          [
           "Mozambique",
           1.871,
           0.055999999999999994
          ]
         ],
         "hoverlabel": {
          "namelength": 0
         },
         "hovertemplate": "Country=%{customdata[0]}<br>age=%{customdata[1]}<br>doctors=%{customdata[2]}",
         "legendgroup": "Mozambique",
         "marker": {
          "color": "#B6E880",
          "symbol": "circle"
         },
         "mode": "markers",
         "name": "Mozambique",
         "showlegend": true,
         "type": "scatter",
         "x": [
          1.871
         ],
         "xaxis": "x",
         "y": [
          0.055999999999999994
         ],
         "yaxis": "y"
        },
        {
         "customdata": [
          [
           "Myanmar",
           3.12,
           0.568
          ]
         ],
         "hoverlabel": {
          "namelength": 0
         },
         "hovertemplate": "Country=%{customdata[0]}<br>age=%{customdata[1]}<br>doctors=%{customdata[2]}",
         "legendgroup": "Myanmar",
         "marker": {
          "color": "#FF97FF",
          "symbol": "circle"
         },
         "mode": "markers",
         "name": "Myanmar",
         "showlegend": true,
         "type": "scatter",
         "x": [
          3.12
         ],
         "xaxis": "x",
         "y": [
          0.568
         ],
         "yaxis": "y"
        },
        {
         "customdata": [
          [
           "Namibia",
           2.323,
           0.374
          ]
         ],
         "hoverlabel": {
          "namelength": 0
         },
         "hovertemplate": "Country=%{customdata[0]}<br>age=%{customdata[1]}<br>doctors=%{customdata[2]}",
         "legendgroup": "Namibia",
         "marker": {
          "color": "#FECB52",
          "symbol": "circle"
         },
         "mode": "markers",
         "name": "Namibia",
         "showlegend": true,
         "type": "scatter",
         "x": [
          2.323
         ],
         "xaxis": "x",
         "y": [
          0.374
         ],
         "yaxis": "y"
        },
        {
         "customdata": [
          [
           "Nepal",
           3.2119999999999997,
           0.598
          ]
         ],
         "hoverlabel": {
          "namelength": 0
         },
         "hovertemplate": "Country=%{customdata[0]}<br>age=%{customdata[1]}<br>doctors=%{customdata[2]}",
         "legendgroup": "Nepal",
         "marker": {
          "color": "#636efa",
          "symbol": "circle"
         },
         "mode": "markers",
         "name": "Nepal",
         "showlegend": true,
         "type": "scatter",
         "x": [
          3.2119999999999997
         ],
         "xaxis": "x",
         "y": [
          0.598
         ],
         "yaxis": "y"
        },
        {
         "customdata": [
          [
           "Netherlands",
           11.880999999999998,
           3.9210000000000003
          ]
         ],
         "hoverlabel": {
          "namelength": 0
         },
         "hovertemplate": "Country=%{customdata[0]}<br>age=%{customdata[1]}<br>doctors=%{customdata[2]}",
         "legendgroup": "Netherlands",
         "marker": {
          "color": "#EF553B",
          "symbol": "circle"
         },
         "mode": "markers",
         "name": "Netherlands",
         "showlegend": true,
         "type": "scatter",
         "x": [
          11.880999999999998
         ],
         "xaxis": "x",
         "y": [
          3.9210000000000003
         ],
         "yaxis": "y"
        },
        {
         "customdata": [
          [
           "New Caledonia",
           6.489,
           1.982
          ]
         ],
         "hoverlabel": {
          "namelength": 0
         },
         "hovertemplate": "Country=%{customdata[0]}<br>age=%{customdata[1]}<br>doctors=%{customdata[2]}",
         "legendgroup": "New Caledonia",
         "marker": {
          "color": "#00cc96",
          "symbol": "circle"
         },
         "mode": "markers",
         "name": "New Caledonia",
         "showlegend": true,
         "type": "scatter",
         "x": [
          6.489
         ],
         "xaxis": "x",
         "y": [
          1.982
         ],
         "yaxis": "y"
        },
        {
         "customdata": [
          [
           "New Zealand",
           9.72,
           3.0610000000000004
          ]
         ],
         "hoverlabel": {
          "namelength": 0
         },
         "hovertemplate": "Country=%{customdata[0]}<br>age=%{customdata[1]}<br>doctors=%{customdata[2]}",
         "legendgroup": "New Zealand",
         "marker": {
          "color": "#ab63fa",
          "symbol": "circle"
         },
         "mode": "markers",
         "name": "New Zealand",
         "showlegend": true,
         "type": "scatter",
         "x": [
          9.72
         ],
         "xaxis": "x",
         "y": [
          3.0610000000000004
         ],
         "yaxis": "y"
        },
        {
         "customdata": [
          [
           "Nicaragua",
           3.5189999999999997,
           0.9159999999999999
          ]
         ],
         "hoverlabel": {
          "namelength": 0
         },
         "hovertemplate": "Country=%{customdata[0]}<br>age=%{customdata[1]}<br>doctors=%{customdata[2]}",
         "legendgroup": "Nicaragua",
         "marker": {
          "color": "#FFA15A",
          "symbol": "circle"
         },
         "mode": "markers",
         "name": "Nicaragua",
         "showlegend": true,
         "type": "scatter",
         "x": [
          3.5189999999999997
         ],
         "xaxis": "x",
         "y": [
          0.9159999999999999
         ],
         "yaxis": "y"
        },
        {
         "customdata": [
          [
           "Niger",
           1.3780000000000001,
           0.035
          ]
         ],
         "hoverlabel": {
          "namelength": 0
         },
         "hovertemplate": "Country=%{customdata[0]}<br>age=%{customdata[1]}<br>doctors=%{customdata[2]}",
         "legendgroup": "Niger",
         "marker": {
          "color": "#19d3f3",
          "symbol": "circle"
         },
         "mode": "markers",
         "name": "Niger",
         "showlegend": true,
         "type": "scatter",
         "x": [
          1.3780000000000001
         ],
         "xaxis": "x",
         "y": [
          0.035
         ],
         "yaxis": "y"
        },
        {
         "customdata": [
          [
           "Nigeria",
           1.535,
           0.395
          ]
         ],
         "hoverlabel": {
          "namelength": 0
         },
         "hovertemplate": "Country=%{customdata[0]}<br>age=%{customdata[1]}<br>doctors=%{customdata[2]}",
         "legendgroup": "Nigeria",
         "marker": {
          "color": "#FF6692",
          "symbol": "circle"
         },
         "mode": "markers",
         "name": "Nigeria",
         "showlegend": true,
         "type": "scatter",
         "x": [
          1.535
         ],
         "xaxis": "x",
         "y": [
          0.395
         ],
         "yaxis": "y"
        },
        {
         "customdata": [
          [
           "North Korea",
           6.138999999999999,
           3.5069999999999997
          ]
         ],
         "hoverlabel": {
          "namelength": 0
         },
         "hovertemplate": "Country=%{customdata[0]}<br>age=%{customdata[1]}<br>doctors=%{customdata[2]}",
         "legendgroup": "North Korea",
         "marker": {
          "color": "#B6E880",
          "symbol": "circle"
         },
         "mode": "markers",
         "name": "North Korea",
         "showlegend": true,
         "type": "scatter",
         "x": [
          6.138999999999999
         ],
         "xaxis": "x",
         "y": [
          3.5069999999999997
         ],
         "yaxis": "y"
        },
        {
         "customdata": [
          [
           "Norway",
           11.814,
           4.42
          ]
         ],
         "hoverlabel": {
          "namelength": 0
         },
         "hovertemplate": "Country=%{customdata[0]}<br>age=%{customdata[1]}<br>doctors=%{customdata[2]}",
         "legendgroup": "Norway",
         "marker": {
          "color": "#FF97FF",
          "symbol": "circle"
         },
         "mode": "markers",
         "name": "Norway",
         "showlegend": true,
         "type": "scatter",
         "x": [
          11.814
         ],
         "xaxis": "x",
         "y": [
          4.42
         ],
         "yaxis": "y"
        },
        {
         "customdata": [
          [
           "Oman",
           1.6909999999999998,
           2.0140000000000002
          ]
         ],
         "hoverlabel": {
          "namelength": 0
         },
         "hovertemplate": "Country=%{customdata[0]}<br>age=%{customdata[1]}<br>doctors=%{customdata[2]}",
         "legendgroup": "Oman",
         "marker": {
          "color": "#FECB52",
          "symbol": "circle"
         },
         "mode": "markers",
         "name": "Oman",
         "showlegend": true,
         "type": "scatter",
         "x": [
          1.6909999999999998
         ],
         "xaxis": "x",
         "y": [
          2.0140000000000002
         ],
         "yaxis": "y"
        },
        {
         "customdata": [
          [
           "Pakistan",
           3.698,
           0.978
          ]
         ],
         "hoverlabel": {
          "namelength": 0
         },
         "hovertemplate": "Country=%{customdata[0]}<br>age=%{customdata[1]}<br>doctors=%{customdata[2]}",
         "legendgroup": "Pakistan",
         "marker": {
          "color": "#636efa",
          "symbol": "circle"
         },
         "mode": "markers",
         "name": "Pakistan",
         "showlegend": true,
         "type": "scatter",
         "x": [
          3.698
         ],
         "xaxis": "x",
         "y": [
          0.978
         ],
         "yaxis": "y"
        },
        {
         "customdata": [
          [
           "Palestine",
           2.824,
           0.8370000000000001
          ]
         ],
         "hoverlabel": {
          "namelength": 0
         },
         "hovertemplate": "Country=%{customdata[0]}<br>age=%{customdata[1]}<br>doctors=%{customdata[2]}",
         "legendgroup": "Palestine",
         "marker": {
          "color": "#EF553B",
          "symbol": "circle"
         },
         "mode": "markers",
         "name": "Palestine",
         "showlegend": true,
         "type": "scatter",
         "x": [
          2.824
         ],
         "xaxis": "x",
         "y": [
          0.8370000000000001
         ],
         "yaxis": "y"
        },
        {
         "customdata": [
          [
           "Panama",
           5.03,
           1.7930000000000001
          ]
         ],
         "hoverlabel": {
          "namelength": 0
         },
         "hovertemplate": "Country=%{customdata[0]}<br>age=%{customdata[1]}<br>doctors=%{customdata[2]}",
         "legendgroup": "Panama",
         "marker": {
          "color": "#00cc96",
          "symbol": "circle"
         },
         "mode": "markers",
         "name": "Panama",
         "showlegend": true,
         "type": "scatter",
         "x": [
          5.03
         ],
         "xaxis": "x",
         "y": [
          1.7930000000000001
         ],
         "yaxis": "y"
        },
        {
         "customdata": [
          [
           "Papua New Guinea",
           2.3409999999999997,
           0.162
          ]
         ],
         "hoverlabel": {
          "namelength": 0
         },
         "hovertemplate": "Country=%{customdata[0]}<br>age=%{customdata[1]}<br>doctors=%{customdata[2]}",
         "legendgroup": "Papua New Guinea",
         "marker": {
          "color": "#ab63fa",
          "symbol": "circle"
         },
         "mode": "markers",
         "name": "Papua New Guinea",
         "showlegend": true,
         "type": "scatter",
         "x": [
          2.3409999999999997
         ],
         "xaxis": "x",
         "y": [
          0.162
         ],
         "yaxis": "y"
        },
        {
         "customdata": [
          [
           "Paraguay",
           3.833,
           1.286
          ]
         ],
         "hoverlabel": {
          "namelength": 0
         },
         "hovertemplate": "Country=%{customdata[0]}<br>age=%{customdata[1]}<br>doctors=%{customdata[2]}",
         "legendgroup": "Paraguay",
         "marker": {
          "color": "#FFA15A",
          "symbol": "circle"
         },
         "mode": "markers",
         "name": "Paraguay",
         "showlegend": true,
         "type": "scatter",
         "x": [
          3.833
         ],
         "xaxis": "x",
         "y": [
          1.286
         ],
         "yaxis": "y"
        },
        {
         "customdata": [
          [
           "Peru",
           4.455,
           1.166
          ]
         ],
         "hoverlabel": {
          "namelength": 0
         },
         "hovertemplate": "Country=%{customdata[0]}<br>age=%{customdata[1]}<br>doctors=%{customdata[2]}",
         "legendgroup": "Peru",
         "marker": {
          "color": "#19d3f3",
          "symbol": "circle"
         },
         "mode": "markers",
         "name": "Peru",
         "showlegend": true,
         "type": "scatter",
         "x": [
          4.455
         ],
         "xaxis": "x",
         "y": [
          1.166
         ],
         "yaxis": "y"
        },
        {
         "customdata": [
          [
           "Philippines",
           2.661,
           1.24
          ]
         ],
         "hoverlabel": {
          "namelength": 0
         },
         "hovertemplate": "Country=%{customdata[0]}<br>age=%{customdata[1]}<br>doctors=%{customdata[2]}",
         "legendgroup": "Philippines",
         "marker": {
          "color": "#FF6692",
          "symbol": "circle"
         },
         "mode": "markers",
         "name": "Philippines",
         "showlegend": true,
         "type": "scatter",
         "x": [
          2.661
         ],
         "xaxis": "x",
         "y": [
          1.24
         ],
         "yaxis": "y"
        },
        {
         "customdata": [
          [
           "Poland",
           10.202,
           2.469
          ]
         ],
         "hoverlabel": {
          "namelength": 0
         },
         "hovertemplate": "Country=%{customdata[0]}<br>age=%{customdata[1]}<br>doctors=%{customdata[2]}",
         "legendgroup": "Poland",
         "marker": {
          "color": "#B6E880",
          "symbol": "circle"
         },
         "mode": "markers",
         "name": "Poland",
         "showlegend": true,
         "type": "scatter",
         "x": [
          10.202
         ],
         "xaxis": "x",
         "y": [
          2.469
         ],
         "yaxis": "y"
        },
        {
         "customdata": [
          [
           "Portugal",
           14.924000000000001,
           4.426
          ]
         ],
         "hoverlabel": {
          "namelength": 0
         },
         "hovertemplate": "Country=%{customdata[0]}<br>age=%{customdata[1]}<br>doctors=%{customdata[2]}",
         "legendgroup": "Portugal",
         "marker": {
          "color": "#FF97FF",
          "symbol": "circle"
         },
         "mode": "markers",
         "name": "Portugal",
         "showlegend": true,
         "type": "scatter",
         "x": [
          14.924000000000001
         ],
         "xaxis": "x",
         "y": [
          4.426
         ],
         "yaxis": "y"
        },
        {
         "customdata": [
          [
           "Puerto Rico",
           9.829,
           1.75
          ]
         ],
         "hoverlabel": {
          "namelength": 0
         },
         "hovertemplate": "Country=%{customdata[0]}<br>age=%{customdata[1]}<br>doctors=%{customdata[2]}",
         "legendgroup": "Puerto Rico",
         "marker": {
          "color": "#FECB52",
          "symbol": "circle"
         },
         "mode": "markers",
         "name": "Puerto Rico",
         "showlegend": true,
         "type": "scatter",
         "x": [
          9.829
         ],
         "xaxis": "x",
         "y": [
          1.75
         ],
         "yaxis": "y"
        },
        {
         "customdata": [
          [
           "Qatar",
           1.82,
           3.9189999999999996
          ]
         ],
         "hoverlabel": {
          "namelength": 0
         },
         "hovertemplate": "Country=%{customdata[0]}<br>age=%{customdata[1]}<br>doctors=%{customdata[2]}",
         "legendgroup": "Qatar",
         "marker": {
          "color": "#636efa",
          "symbol": "circle"
         },
         "mode": "markers",
         "name": "Qatar",
         "showlegend": true,
         "type": "scatter",
         "x": [
          1.82
         ],
         "xaxis": "x",
         "y": [
          3.9189999999999996
         ],
         "yaxis": "y"
        },
        {
         "customdata": [
          [
           "Romania",
           11.69,
           2.6689999999999996
          ]
         ],
         "hoverlabel": {
          "namelength": 0
         },
         "hovertemplate": "Country=%{customdata[0]}<br>age=%{customdata[1]}<br>doctors=%{customdata[2]}",
         "legendgroup": "Romania",
         "marker": {
          "color": "#EF553B",
          "symbol": "circle"
         },
         "mode": "markers",
         "name": "Romania",
         "showlegend": true,
         "type": "scatter",
         "x": [
          11.69
         ],
         "xaxis": "x",
         "y": [
          2.6689999999999996
         ],
         "yaxis": "y"
        },
        {
         "customdata": [
          [
           "Russia",
           9.946,
           5
          ]
         ],
         "hoverlabel": {
          "namelength": 0
         },
         "hovertemplate": "Country=%{customdata[0]}<br>age=%{customdata[1]}<br>doctors=%{customdata[2]}",
         "legendgroup": "Russia",
         "marker": {
          "color": "#00cc96",
          "symbol": "circle"
         },
         "mode": "markers",
         "name": "Russia",
         "showlegend": true,
         "type": "scatter",
         "x": [
          9.946
         ],
         "xaxis": "x",
         "y": [
          5
         ],
         "yaxis": "y"
        },
        {
         "customdata": [
          [
           "Rwanda",
           1.9180000000000001,
           0.064
          ]
         ],
         "hoverlabel": {
          "namelength": 0
         },
         "hovertemplate": "Country=%{customdata[0]}<br>age=%{customdata[1]}<br>doctors=%{customdata[2]}",
         "legendgroup": "Rwanda",
         "marker": {
          "color": "#ab63fa",
          "symbol": "circle"
         },
         "mode": "markers",
         "name": "Rwanda",
         "showlegend": true,
         "type": "scatter",
         "x": [
          1.9180000000000001
         ],
         "xaxis": "x",
         "y": [
          0.064
         ],
         "yaxis": "y"
        },
        {
         "customdata": [
          [
           "Saint Lucia",
           6.405,
           0.8190000000000001
          ]
         ],
         "hoverlabel": {
          "namelength": 0
         },
         "hovertemplate": "Country=%{customdata[0]}<br>age=%{customdata[1]}<br>doctors=%{customdata[2]}",
         "legendgroup": "Saint Lucia",
         "marker": {
          "color": "#FFA15A",
          "symbol": "circle"
         },
         "mode": "markers",
         "name": "Saint Lucia",
         "showlegend": true,
         "type": "scatter",
         "x": [
          6.405
         ],
         "xaxis": "x",
         "y": [
          0.8190000000000001
         ],
         "yaxis": "y"
        },
        {
         "customdata": [
          [
           "Saint Vincent and the Grenadines",
           4.832,
           0.935
          ]
         ],
         "hoverlabel": {
          "namelength": 0
         },
         "hovertemplate": "Country=%{customdata[0]}<br>age=%{customdata[1]}<br>doctors=%{customdata[2]}",
         "legendgroup": "Saint Vincent and the Grenadines",
         "marker": {
          "color": "#19d3f3",
          "symbol": "circle"
         },
         "mode": "markers",
         "name": "Saint Vincent and the Grenadines",
         "showlegend": true,
         "type": "scatter",
         "x": [
          4.832
         ],
         "xaxis": "x",
         "y": [
          0.935
         ],
         "yaxis": "y"
        },
        {
         "customdata": [
          [
           "Samoa",
           3.5639999999999996,
           0.691
          ]
         ],
         "hoverlabel": {
          "namelength": 0
         },
         "hovertemplate": "Country=%{customdata[0]}<br>age=%{customdata[1]}<br>doctors=%{customdata[2]}",
         "legendgroup": "Samoa",
         "marker": {
          "color": "#FF6692",
          "symbol": "circle"
         },
         "mode": "markers",
         "name": "Samoa",
         "showlegend": true,
         "type": "scatter",
         "x": [
          3.5639999999999996
         ],
         "xaxis": "x",
         "y": [
          0.691
         ],
         "yaxis": "y"
        },
        {
         "customdata": [
          [
           "Sao Tome and Principe",
           3.1660000000000004,
           0.546
          ]
         ],
         "hoverlabel": {
          "namelength": 0
         },
         "hovertemplate": "Country=%{customdata[0]}<br>age=%{customdata[1]}<br>doctors=%{customdata[2]}",
         "legendgroup": "Sao Tome and Principe",
         "marker": {
          "color": "#B6E880",
          "symbol": "circle"
         },
         "mode": "markers",
         "name": "Sao Tome and Principe",
         "showlegend": true,
         "type": "scatter",
         "x": [
          3.1660000000000004
         ],
         "xaxis": "x",
         "y": [
          0.546
         ],
         "yaxis": "y"
        },
        {
         "customdata": [
          [
           "Saudi Arabia",
           1.999,
           2.568
          ]
         ],
         "hoverlabel": {
          "namelength": 0
         },
         "hovertemplate": "Country=%{customdata[0]}<br>age=%{customdata[1]}<br>doctors=%{customdata[2]}",
         "legendgroup": "Saudi Arabia",
         "marker": {
          "color": "#FF97FF",
          "symbol": "circle"
         },
         "mode": "markers",
         "name": "Saudi Arabia",
         "showlegend": true,
         "type": "scatter",
         "x": [
          1.999
         ],
         "xaxis": "x",
         "y": [
          2.568
         ],
         "yaxis": "y"
        },
        {
         "customdata": [
          [
           "Senegal",
           1.867,
           0.096
          ]
         ],
         "hoverlabel": {
          "namelength": 0
         },
         "hovertemplate": "Country=%{customdata[0]}<br>age=%{customdata[1]}<br>doctors=%{customdata[2]}",
         "legendgroup": "Senegal",
         "marker": {
          "color": "#FECB52",
          "symbol": "circle"
         },
         "mode": "markers",
         "name": "Senegal",
         "showlegend": true,
         "type": "scatter",
         "x": [
          1.867
         ],
         "xaxis": "x",
         "y": [
          0.096
         ],
         "yaxis": "y"
        },
        {
         "customdata": [
          [
           "Seychelles",
           5.586,
           1.385
          ]
         ],
         "hoverlabel": {
          "namelength": 0
         },
         "hovertemplate": "Country=%{customdata[0]}<br>age=%{customdata[1]}<br>doctors=%{customdata[2]}",
         "legendgroup": "Seychelles",
         "marker": {
          "color": "#636efa",
          "symbol": "circle"
         },
         "mode": "markers",
         "name": "Seychelles",
         "showlegend": true,
         "type": "scatter",
         "x": [
          5.586
         ],
         "xaxis": "x",
         "y": [
          1.385
         ],
         "yaxis": "y"
        },
        {
         "customdata": [
          [
           "Sierra Leone",
           1.5719999999999998,
           0.075
          ]
         ],
         "hoverlabel": {
          "namelength": 0
         },
         "hovertemplate": "Country=%{customdata[0]}<br>age=%{customdata[1]}<br>doctors=%{customdata[2]}",
         "legendgroup": "Sierra Leone",
         "marker": {
          "color": "#EF553B",
          "symbol": "circle"
         },
         "mode": "markers",
         "name": "Sierra Leone",
         "showlegend": true,
         "type": "scatter",
         "x": [
          1.5719999999999998
         ],
         "xaxis": "x",
         "y": [
          0.075
         ],
         "yaxis": "y"
        },
        {
         "customdata": [
          [
           "Singapore",
           7.0489999999999995,
           2.276
          ]
         ],
         "hoverlabel": {
          "namelength": 0
         },
         "hovertemplate": "Country=%{customdata[0]}<br>age=%{customdata[1]}<br>doctors=%{customdata[2]}",
         "legendgroup": "Singapore",
         "marker": {
          "color": "#00cc96",
          "symbol": "circle"
         },
         "mode": "markers",
         "name": "Singapore",
         "showlegend": true,
         "type": "scatter",
         "x": [
          7.0489999999999995
         ],
         "xaxis": "x",
         "y": [
          2.276
         ],
         "yaxis": "y"
        },
        {
         "customdata": [
          [
           "Slovakia",
           9.167,
           3.45
          ]
         ],
         "hoverlabel": {
          "namelength": 0
         },
         "hovertemplate": "Country=%{customdata[0]}<br>age=%{customdata[1]}<br>doctors=%{customdata[2]}",
         "legendgroup": "Slovakia",
         "marker": {
          "color": "#ab63fa",
          "symbol": "circle"
         },
         "mode": "markers",
         "name": "Slovakia",
         "showlegend": true,
         "type": "scatter",
         "x": [
          9.167
         ],
         "xaxis": "x",
         "y": [
          3.45
         ],
         "yaxis": "y"
        },
        {
         "customdata": [
          [
           "Slovenia",
           12.93,
           2.82
          ]
         ],
         "hoverlabel": {
          "namelength": 0
         },
         "hovertemplate": "Country=%{customdata[0]}<br>age=%{customdata[1]}<br>doctors=%{customdata[2]}",
         "legendgroup": "Slovenia",
         "marker": {
          "color": "#FFA15A",
          "symbol": "circle"
         },
         "mode": "markers",
         "name": "Slovenia",
         "showlegend": true,
         "type": "scatter",
         "x": [
          12.93
         ],
         "xaxis": "x",
         "y": [
          2.82
         ],
         "yaxis": "y"
        },
        {
         "customdata": [
          [
           "Solomon Islands",
           2.209,
           0.22399999999999998
          ]
         ],
         "hoverlabel": {
          "namelength": 0
         },
         "hovertemplate": "Country=%{customdata[0]}<br>age=%{customdata[1]}<br>doctors=%{customdata[2]}",
         "legendgroup": "Solomon Islands",
         "marker": {
          "color": "#19d3f3",
          "symbol": "circle"
         },
         "mode": "markers",
         "name": "Solomon Islands",
         "showlegend": true,
         "type": "scatter",
         "x": [
          2.209
         ],
         "xaxis": "x",
         "y": [
          0.22399999999999998
         ],
         "yaxis": "y"
        },
        {
         "customdata": [
          [
           "Somalia",
           1.785,
           0.071
          ]
         ],
         "hoverlabel": {
          "namelength": 0
         },
         "hovertemplate": "Country=%{customdata[0]}<br>age=%{customdata[1]}<br>doctors=%{customdata[2]}",
         "legendgroup": "Somalia",
         "marker": {
          "color": "#FF6692",
          "symbol": "circle"
         },
         "mode": "markers",
         "name": "Somalia",
         "showlegend": true,
         "type": "scatter",
         "x": [
          1.785
         ],
         "xaxis": "x",
         "y": [
          0.071
         ],
         "yaxis": "y"
        },
        {
         "customdata": [
          [
           "South Africa",
           3.053,
           0.818
          ]
         ],
         "hoverlabel": {
          "namelength": 0
         },
         "hovertemplate": "Country=%{customdata[0]}<br>age=%{customdata[1]}<br>doctors=%{customdata[2]}",
         "legendgroup": "South Africa",
         "marker": {
          "color": "#B6E880",
          "symbol": "circle"
         },
         "mode": "markers",
         "name": "South Africa",
         "showlegend": true,
         "type": "scatter",
         "x": [
          3.053
         ],
         "xaxis": "x",
         "y": [
          0.818
         ],
         "yaxis": "y"
        },
        {
         "customdata": [
          [
           "South Korea",
           8.622,
           2.326
          ]
         ],
         "hoverlabel": {
          "namelength": 0
         },
         "hovertemplate": "Country=%{customdata[0]}<br>age=%{customdata[1]}<br>doctors=%{customdata[2]}",
         "legendgroup": "South Korea",
         "marker": {
          "color": "#FF97FF",
          "symbol": "circle"
         },
         "mode": "markers",
         "name": "South Korea",
         "showlegend": true,
         "type": "scatter",
         "x": [
          8.622
         ],
         "xaxis": "x",
         "y": [
          2.326
         ],
         "yaxis": "y"
        },
        {
         "customdata": [
          [
           "Spain",
           13.799000000000001,
           4.731
          ]
         ],
         "hoverlabel": {
          "namelength": 0
         },
         "hovertemplate": "Country=%{customdata[0]}<br>age=%{customdata[1]}<br>doctors=%{customdata[2]}",
         "legendgroup": "Spain",
         "marker": {
          "color": "#FECB52",
          "symbol": "circle"
         },
         "mode": "markers",
         "name": "Spain",
         "showlegend": true,
         "type": "scatter",
         "x": [
          13.799000000000001
         ],
         "xaxis": "x",
         "y": [
          4.731
         ],
         "yaxis": "y"
        },
        {
         "customdata": [
          [
           "Sri Lanka",
           6.607,
           0.8809999999999999
          ]
         ],
         "hoverlabel": {
          "namelength": 0
         },
         "hovertemplate": "Country=%{customdata[0]}<br>age=%{customdata[1]}<br>doctors=%{customdata[2]}",
         "legendgroup": "Sri Lanka",
         "marker": {
          "color": "#636efa",
          "symbol": "circle"
         },
         "mode": "markers",
         "name": "Sri Lanka",
         "showlegend": true,
         "type": "scatter",
         "x": [
          6.607
         ],
         "xaxis": "x",
         "y": [
          0.8809999999999999
         ],
         "yaxis": "y"
        },
        {
         "customdata": [
          [
           "Sub-Saharan Africa",
           1.77,
           0.193216275180392
          ]
         ],
         "hoverlabel": {
          "namelength": 0
         },
         "hovertemplate": "Country=%{customdata[0]}<br>age=%{customdata[1]}<br>doctors=%{customdata[2]}",
         "legendgroup": "Sub-Saharan Africa",
         "marker": {
          "color": "#EF553B",
          "symbol": "circle"
         },
         "mode": "markers",
         "name": "Sub-Saharan Africa",
         "showlegend": true,
         "type": "scatter",
         "x": [
          1.77
         ],
         "xaxis": "x",
         "y": [
          0.193216275180392
         ],
         "yaxis": "y"
        },
        {
         "customdata": [
          [
           "Sudan",
           2.0340000000000003,
           0.33799999999999997
          ]
         ],
         "hoverlabel": {
          "namelength": 0
         },
         "hovertemplate": "Country=%{customdata[0]}<br>age=%{customdata[1]}<br>doctors=%{customdata[2]}",
         "legendgroup": "Sudan",
         "marker": {
          "color": "#00cc96",
          "symbol": "circle"
         },
         "mode": "markers",
         "name": "Sudan",
         "showlegend": true,
         "type": "scatter",
         "x": [
          2.0340000000000003
         ],
         "xaxis": "x",
         "y": [
          0.33799999999999997
         ],
         "yaxis": "y"
        },
        {
         "customdata": [
          [
           "Suriname",
           4.229,
           0.8170000000000001
          ]
         ],
         "hoverlabel": {
          "namelength": 0
         },
         "hovertemplate": "Country=%{customdata[0]}<br>age=%{customdata[1]}<br>doctors=%{customdata[2]}",
         "legendgroup": "Suriname",
         "marker": {
          "color": "#ab63fa",
          "symbol": "circle"
         },
         "mode": "markers",
         "name": "Suriname",
         "showlegend": true,
         "type": "scatter",
         "x": [
          4.229
         ],
         "xaxis": "x",
         "y": [
          0.8170000000000001
         ],
         "yaxis": "y"
        },
        {
         "customdata": [
          [
           "Swaziland",
           1.8519999999999999,
           0.16699999999999998
          ]
         ],
         "hoverlabel": {
          "namelength": 0
         },
         "hovertemplate": "Country=%{customdata[0]}<br>age=%{customdata[1]}<br>doctors=%{customdata[2]}",
         "legendgroup": "Swaziland",
         "marker": {
          "color": "#FFA15A",
          "symbol": "circle"
         },
         "mode": "markers",
         "name": "Swaziland",
         "showlegend": true,
         "type": "scatter",
         "x": [
          1.8519999999999999
         ],
         "xaxis": "x",
         "y": [
          0.16699999999999998
         ],
         "yaxis": "y"
        },
        {
         "customdata": [
          [
           "Sweden",
           13.433,
           4.188
          ]
         ],
         "hoverlabel": {
          "namelength": 0
         },
         "hovertemplate": "Country=%{customdata[0]}<br>age=%{customdata[1]}<br>doctors=%{customdata[2]}",
         "legendgroup": "Sweden",
         "marker": {
          "color": "#19d3f3",
          "symbol": "circle"
         },
         "mode": "markers",
         "name": "Sweden",
         "showlegend": true,
         "type": "scatter",
         "x": [
          13.433
         ],
         "xaxis": "x",
         "y": [
          4.188
         ],
         "yaxis": "y"
        },
        {
         "customdata": [
          [
           "Switzerland",
           12.644,
           4.248
          ]
         ],
         "hoverlabel": {
          "namelength": 0
         },
         "hovertemplate": "Country=%{customdata[0]}<br>age=%{customdata[1]}<br>doctors=%{customdata[2]}",
         "legendgroup": "Switzerland",
         "marker": {
          "color": "#FF6692",
          "symbol": "circle"
         },
         "mode": "markers",
         "name": "Switzerland",
         "showlegend": true,
         "type": "scatter",
         "x": [
          12.644
         ],
         "xaxis": "x",
         "y": [
          4.248
         ],
         "yaxis": "y"
        },
        {
         "customdata": [
          [
           "Tajikistan",
           3.052,
           2.697
          ]
         ],
         "hoverlabel": {
          "namelength": 0
         },
         "hovertemplate": "Country=%{customdata[0]}<br>age=%{customdata[1]}<br>doctors=%{customdata[2]}",
         "legendgroup": "Tajikistan",
         "marker": {
          "color": "#B6E880",
          "symbol": "circle"
         },
         "mode": "markers",
         "name": "Tajikistan",
         "showlegend": true,
         "type": "scatter",
         "x": [
          3.052
         ],
         "xaxis": "x",
         "y": [
          2.697
         ],
         "yaxis": "y"
        },
        {
         "customdata": [
          [
           "Tanzania",
           1.875,
           0.055
          ]
         ],
         "hoverlabel": {
          "namelength": 0
         },
         "hovertemplate": "Country=%{customdata[0]}<br>age=%{customdata[1]}<br>doctors=%{customdata[2]}",
         "legendgroup": "Tanzania",
         "marker": {
          "color": "#FF97FF",
          "symbol": "circle"
         },
         "mode": "markers",
         "name": "Tanzania",
         "showlegend": true,
         "type": "scatter",
         "x": [
          1.875
         ],
         "xaxis": "x",
         "y": [
          0.055
         ],
         "yaxis": "y"
        },
        {
         "customdata": [
          [
           "Thailand",
           6.89,
           0.47
          ]
         ],
         "hoverlabel": {
          "namelength": 0
         },
         "hovertemplate": "Country=%{customdata[0]}<br>age=%{customdata[1]}<br>doctors=%{customdata[2]}",
         "legendgroup": "Thailand",
         "marker": {
          "color": "#FECB52",
          "symbol": "circle"
         },
         "mode": "markers",
         "name": "Thailand",
         "showlegend": true,
         "type": "scatter",
         "x": [
          6.89
         ],
         "xaxis": "x",
         "y": [
          0.47
         ],
         "yaxis": "y"
        },
        {
         "customdata": [
          [
           "Timor",
           1.8969999999999998,
           0.08199999999999999
          ]
         ],
         "hoverlabel": {
          "namelength": 0
         },
         "hovertemplate": "Country=%{customdata[0]}<br>age=%{customdata[1]}<br>doctors=%{customdata[2]}",
         "legendgroup": "Timor",
         "marker": {
          "color": "#636efa",
          "symbol": "circle"
         },
         "mode": "markers",
         "name": "Timor",
         "showlegend": true,
         "type": "scatter",
         "x": [
          1.8969999999999998
         ],
         "xaxis": "x",
         "y": [
          0.08199999999999999
         ],
         "yaxis": "y"
        },
        {
         "customdata": [
          [
           "Togo",
           2.411,
           0.11699999999999999
          ]
         ],
         "hoverlabel": {
          "namelength": 0
         },
         "hovertemplate": "Country=%{customdata[0]}<br>age=%{customdata[1]}<br>doctors=%{customdata[2]}",
         "legendgroup": "Togo",
         "marker": {
          "color": "#EF553B",
          "symbol": "circle"
         },
         "mode": "markers",
         "name": "Togo",
         "showlegend": true,
         "type": "scatter",
         "x": [
          2.411
         ],
         "xaxis": "x",
         "y": [
          0.11699999999999999
         ],
         "yaxis": "y"
        },
        {
         "customdata": [
          [
           "Tonga",
           4.073,
           0.602
          ]
         ],
         "hoverlabel": {
          "namelength": 0
         },
         "hovertemplate": "Country=%{customdata[0]}<br>age=%{customdata[1]}<br>doctors=%{customdata[2]}",
         "legendgroup": "Tonga",
         "marker": {
          "color": "#00cc96",
          "symbol": "circle"
         },
         "mode": "markers",
         "name": "Tonga",
         "showlegend": true,
         "type": "scatter",
         "x": [
          4.073
         ],
         "xaxis": "x",
         "y": [
          0.602
         ],
         "yaxis": "y"
        },
        {
         "customdata": [
          [
           "Trinidad and Tobago",
           5.819,
           1.821
          ]
         ],
         "hoverlabel": {
          "namelength": 0
         },
         "hovertemplate": "Country=%{customdata[0]}<br>age=%{customdata[1]}<br>doctors=%{customdata[2]}",
         "legendgroup": "Trinidad and Tobago",
         "marker": {
          "color": "#ab63fa",
          "symbol": "circle"
         },
         "mode": "markers",
         "name": "Trinidad and Tobago",
         "showlegend": true,
         "type": "scatter",
         "x": [
          5.819
         ],
         "xaxis": "x",
         "y": [
          1.821
         ],
         "yaxis": "y"
        },
        {
         "customdata": [
          [
           "Tunisia",
           5.146,
           1.331
          ]
         ],
         "hoverlabel": {
          "namelength": 0
         },
         "hovertemplate": "Country=%{customdata[0]}<br>age=%{customdata[1]}<br>doctors=%{customdata[2]}",
         "legendgroup": "Tunisia",
         "marker": {
          "color": "#FFA15A",
          "symbol": "circle"
         },
         "mode": "markers",
         "name": "Tunisia",
         "showlegend": true,
         "type": "scatter",
         "x": [
          5.146
         ],
         "xaxis": "x",
         "y": [
          1.331
         ],
         "yaxis": "y"
        },
        {
         "customdata": [
          [
           "Turkey",
           5.061,
           1.755
          ]
         ],
         "hoverlabel": {
          "namelength": 0
         },
         "hovertemplate": "Country=%{customdata[0]}<br>age=%{customdata[1]}<br>doctors=%{customdata[2]}",
         "legendgroup": "Turkey",
         "marker": {
          "color": "#19d3f3",
          "symbol": "circle"
         },
         "mode": "markers",
         "name": "Turkey",
         "showlegend": true,
         "type": "scatter",
         "x": [
          5.061
         ],
         "xaxis": "x",
         "y": [
          1.755
         ],
         "yaxis": "y"
        },
        {
         "customdata": [
          [
           "Turkmenistan",
           3.4930000000000003,
           4.355
          ]
         ],
         "hoverlabel": {
          "namelength": 0
         },
         "hovertemplate": "Country=%{customdata[0]}<br>age=%{customdata[1]}<br>doctors=%{customdata[2]}",
         "legendgroup": "Turkmenistan",
         "marker": {
          "color": "#FF6692",
          "symbol": "circle"
         },
         "mode": "markers",
         "name": "Turkmenistan",
         "showlegend": true,
         "type": "scatter",
         "x": [
          3.4930000000000003
         ],
         "xaxis": "x",
         "y": [
          4.355
         ],
         "yaxis": "y"
        },
        {
         "customdata": [
          [
           "Uganda",
           1.651,
           0.12
          ]
         ],
         "hoverlabel": {
          "namelength": 0
         },
         "hovertemplate": "Country=%{customdata[0]}<br>age=%{customdata[1]}<br>doctors=%{customdata[2]}",
         "legendgroup": "Uganda",
         "marker": {
          "color": "#B6E880",
          "symbol": "circle"
         },
         "mode": "markers",
         "name": "Uganda",
         "showlegend": true,
         "type": "scatter",
         "x": [
          1.651
         ],
         "xaxis": "x",
         "y": [
          0.12
         ],
         "yaxis": "y"
        },
        {
         "customdata": [
          [
           "Ukraine",
           11.610999999999999,
           4.407
          ]
         ],
         "hoverlabel": {
          "namelength": 0
         },
         "hovertemplate": "Country=%{customdata[0]}<br>age=%{customdata[1]}<br>doctors=%{customdata[2]}",
         "legendgroup": "Ukraine",
         "marker": {
          "color": "#FF97FF",
          "symbol": "circle"
         },
         "mode": "markers",
         "name": "Ukraine",
         "showlegend": true,
         "type": "scatter",
         "x": [
          11.610999999999999
         ],
         "xaxis": "x",
         "y": [
          4.407
         ],
         "yaxis": "y"
        },
        {
         "customdata": [
          [
           "United Arab Emirates",
           1.896,
           1.929
          ]
         ],
         "hoverlabel": {
          "namelength": 0
         },
         "hovertemplate": "Country=%{customdata[0]}<br>age=%{customdata[1]}<br>doctors=%{customdata[2]}",
         "legendgroup": "United Arab Emirates",
         "marker": {
          "color": "#FECB52",
          "symbol": "circle"
         },
         "mode": "markers",
         "name": "United Arab Emirates",
         "showlegend": true,
         "type": "scatter",
         "x": [
          1.896
         ],
         "xaxis": "x",
         "y": [
          1.929
         ],
         "yaxis": "y"
        },
        {
         "customdata": [
          [
           "United Kingdom",
           12.527000000000001,
           2.825
          ]
         ],
         "hoverlabel": {
          "namelength": 0
         },
         "hovertemplate": "Country=%{customdata[0]}<br>age=%{customdata[1]}<br>doctors=%{customdata[2]}",
         "legendgroup": "United Kingdom",
         "marker": {
          "color": "#636efa",
          "symbol": "circle"
         },
         "mode": "markers",
         "name": "United Kingdom",
         "showlegend": true,
         "type": "scatter",
         "x": [
          12.527000000000001
         ],
         "xaxis": "x",
         "y": [
          2.825
         ],
         "yaxis": "y"
        },
        {
         "customdata": [
          [
           "United States",
           9.732000000000001,
           2.7039999999999997
          ]
         ],
         "hoverlabel": {
          "namelength": 0
         },
         "hovertemplate": "Country=%{customdata[0]}<br>age=%{customdata[1]}<br>doctors=%{customdata[2]}",
         "legendgroup": "United States",
         "marker": {
          "color": "#EF553B",
          "symbol": "circle"
         },
         "mode": "markers",
         "name": "United States",
         "showlegend": true,
         "type": "scatter",
         "x": [
          9.732000000000001
         ],
         "xaxis": "x",
         "y": [
          2.7039999999999997
         ],
         "yaxis": "y"
        },
        {
         "customdata": [
          [
           "United States Virgin Islands",
           10.799000000000001,
           1.65
          ]
         ],
         "hoverlabel": {
          "namelength": 0
         },
         "hovertemplate": "Country=%{customdata[0]}<br>age=%{customdata[1]}<br>doctors=%{customdata[2]}",
         "legendgroup": "United States Virgin Islands",
         "marker": {
          "color": "#00cc96",
          "symbol": "circle"
         },
         "mode": "markers",
         "name": "United States Virgin Islands",
         "showlegend": true,
         "type": "scatter",
         "x": [
          10.799000000000001
         ],
         "xaxis": "x",
         "y": [
          1.65
         ],
         "yaxis": "y"
        },
        {
         "customdata": [
          [
           "Uruguay",
           10.360999999999999,
           4.181
          ]
         ],
         "hoverlabel": {
          "namelength": 0
         },
         "hovertemplate": "Country=%{customdata[0]}<br>age=%{customdata[1]}<br>doctors=%{customdata[2]}",
         "legendgroup": "Uruguay",
         "marker": {
          "color": "#ab63fa",
          "symbol": "circle"
         },
         "mode": "markers",
         "name": "Uruguay",
         "showlegend": true,
         "type": "scatter",
         "x": [
          10.360999999999999
         ],
         "xaxis": "x",
         "y": [
          4.181
         ],
         "yaxis": "y"
        },
        {
         "customdata": [
          [
           "Uzbekistan",
           3.6719999999999997,
           3.425
          ]
         ],
         "hoverlabel": {
          "namelength": 0
         },
         "hovertemplate": "Country=%{customdata[0]}<br>age=%{customdata[1]}<br>doctors=%{customdata[2]}",
         "legendgroup": "Uzbekistan",
         "marker": {
          "color": "#FFA15A",
          "symbol": "circle"
         },
         "mode": "markers",
         "name": "Uzbekistan",
         "showlegend": true,
         "type": "scatter",
         "x": [
          3.6719999999999997
         ],
         "xaxis": "x",
         "y": [
          3.425
         ],
         "yaxis": "y"
        },
        {
         "customdata": [
          [
           "Vanuatu",
           2.62,
           0.301
          ]
         ],
         "hoverlabel": {
          "namelength": 0
         },
         "hovertemplate": "Country=%{customdata[0]}<br>age=%{customdata[1]}<br>doctors=%{customdata[2]}",
         "legendgroup": "Vanuatu",
         "marker": {
          "color": "#19d3f3",
          "symbol": "circle"
         },
         "mode": "markers",
         "name": "Vanuatu",
         "showlegend": true,
         "type": "scatter",
         "x": [
          2.62
         ],
         "xaxis": "x",
         "y": [
          0.301
         ],
         "yaxis": "y"
        },
        {
         "customdata": [
          [
           "Venezuela",
           3.915,
           1.94
          ]
         ],
         "hoverlabel": {
          "namelength": 0
         },
         "hovertemplate": "Country=%{customdata[0]}<br>age=%{customdata[1]}<br>doctors=%{customdata[2]}",
         "legendgroup": "Venezuela",
         "marker": {
          "color": "#FF6692",
          "symbol": "circle"
         },
         "mode": "markers",
         "name": "Venezuela",
         "showlegend": true,
         "type": "scatter",
         "x": [
          3.915
         ],
         "xaxis": "x",
         "y": [
          1.94
         ],
         "yaxis": "y"
        },
        {
         "customdata": [
          [
           "Vietnam",
           4.796,
           1.18
          ]
         ],
         "hoverlabel": {
          "namelength": 0
         },
         "hovertemplate": "Country=%{customdata[0]}<br>age=%{customdata[1]}<br>doctors=%{customdata[2]}",
         "legendgroup": "Vietnam",
         "marker": {
          "color": "#B6E880",
          "symbol": "circle"
         },
         "mode": "markers",
         "name": "Vietnam",
         "showlegend": true,
         "type": "scatter",
         "x": [
          4.796
         ],
         "xaxis": "x",
         "y": [
          1.18
         ],
         "yaxis": "y"
        },
        {
         "customdata": [
          [
           "World",
           5.355,
           1.4890209888016
          ]
         ],
         "hoverlabel": {
          "namelength": 0
         },
         "hovertemplate": "Country=%{customdata[0]}<br>age=%{customdata[1]}<br>doctors=%{customdata[2]}",
         "legendgroup": "World",
         "marker": {
          "color": "#FF97FF",
          "symbol": "circle"
         },
         "mode": "markers",
         "name": "World",
         "showlegend": true,
         "type": "scatter",
         "x": [
          5.355
         ],
         "xaxis": "x",
         "y": [
          1.4890209888016
         ],
         "yaxis": "y"
        },
        {
         "customdata": [
          [
           "Yemen",
           2.218,
           0.33799999999999997
          ]
         ],
         "hoverlabel": {
          "namelength": 0
         },
         "hovertemplate": "Country=%{customdata[0]}<br>age=%{customdata[1]}<br>doctors=%{customdata[2]}",
         "legendgroup": "Yemen",
         "marker": {
          "color": "#FECB52",
          "symbol": "circle"
         },
         "mode": "markers",
         "name": "Yemen",
         "showlegend": true,
         "type": "scatter",
         "x": [
          2.218
         ],
         "xaxis": "x",
         "y": [
          0.33799999999999997
         ],
         "yaxis": "y"
        },
        {
         "customdata": [
          [
           "Zambia",
           1.56,
           0.162
          ]
         ],
         "hoverlabel": {
          "namelength": 0
         },
         "hovertemplate": "Country=%{customdata[0]}<br>age=%{customdata[1]}<br>doctors=%{customdata[2]}",
         "legendgroup": "Zambia",
         "marker": {
          "color": "#636efa",
          "symbol": "circle"
         },
         "mode": "markers",
         "name": "Zambia",
         "showlegend": true,
         "type": "scatter",
         "x": [
          1.56
         ],
         "xaxis": "x",
         "y": [
          0.162
         ],
         "yaxis": "y"
        },
        {
         "customdata": [
          [
           "Zimbabwe",
           1.986,
           0.20199999999999999
          ]
         ],
         "hoverlabel": {
          "namelength": 0
         },
         "hovertemplate": "Country=%{customdata[0]}<br>age=%{customdata[1]}<br>doctors=%{customdata[2]}",
         "legendgroup": "Zimbabwe",
         "marker": {
          "color": "#EF553B",
          "symbol": "circle"
         },
         "mode": "markers",
         "name": "Zimbabwe",
         "showlegend": true,
         "type": "scatter",
         "x": [
          1.986
         ],
         "xaxis": "x",
         "y": [
          0.20199999999999999
         ],
         "yaxis": "y"
        }
       ],
       "layout": {
        "annotations": [
         {
          "font": {
           "color": "rgb(150,150,150)",
           "family": "Arial",
           "size": 12
          },
          "showarrow": false,
          "text": "Source: https://ourworldindata.org/",
          "x": 0.5,
          "xanchor": "center",
          "xref": "paper",
          "y": -0.16,
          "yanchor": "top",
          "yref": "paper"
         },
         {
          "font": {
           "color": "rgb(37,37,37)",
           "family": "Arial",
           "size": 30
          },
          "showarrow": false,
          "text": "Countries risk according population age/doctors per 1000",
          "x": 0,
          "xanchor": "left",
          "xref": "paper",
          "y": 1.05,
          "yanchor": "bottom",
          "yref": "paper"
         }
        ],
        "legend": {
         "title": {
          "text": "Country"
         },
         "tracegroupgap": 0
        },
        "margin": {
         "t": 60
        },
        "plot_bgcolor": "white",
        "template": {
         "data": {
          "bar": [
           {
            "error_x": {
             "color": "#2a3f5f"
            },
            "error_y": {
             "color": "#2a3f5f"
            },
            "marker": {
             "line": {
              "color": "#E5ECF6",
              "width": 0.5
             }
            },
            "type": "bar"
           }
          ],
          "barpolar": [
           {
            "marker": {
             "line": {
              "color": "#E5ECF6",
              "width": 0.5
             }
            },
            "type": "barpolar"
           }
          ],
          "carpet": [
           {
            "aaxis": {
             "endlinecolor": "#2a3f5f",
             "gridcolor": "white",
             "linecolor": "white",
             "minorgridcolor": "white",
             "startlinecolor": "#2a3f5f"
            },
            "baxis": {
             "endlinecolor": "#2a3f5f",
             "gridcolor": "white",
             "linecolor": "white",
             "minorgridcolor": "white",
             "startlinecolor": "#2a3f5f"
            },
            "type": "carpet"
           }
          ],
          "choropleth": [
           {
            "colorbar": {
             "outlinewidth": 0,
             "ticks": ""
            },
            "type": "choropleth"
           }
          ],
          "contour": [
           {
            "colorbar": {
             "outlinewidth": 0,
             "ticks": ""
            },
            "colorscale": [
             [
              0,
              "#0d0887"
             ],
             [
              0.1111111111111111,
              "#46039f"
             ],
             [
              0.2222222222222222,
              "#7201a8"
             ],
             [
              0.3333333333333333,
              "#9c179e"
             ],
             [
              0.4444444444444444,
              "#bd3786"
             ],
             [
              0.5555555555555556,
              "#d8576b"
             ],
             [
              0.6666666666666666,
              "#ed7953"
             ],
             [
              0.7777777777777778,
              "#fb9f3a"
             ],
             [
              0.8888888888888888,
              "#fdca26"
             ],
             [
              1,
              "#f0f921"
             ]
            ],
            "type": "contour"
           }
          ],
          "contourcarpet": [
           {
            "colorbar": {
             "outlinewidth": 0,
             "ticks": ""
            },
            "type": "contourcarpet"
           }
          ],
          "heatmap": [
           {
            "colorbar": {
             "outlinewidth": 0,
             "ticks": ""
            },
            "colorscale": [
             [
              0,
              "#0d0887"
             ],
             [
              0.1111111111111111,
              "#46039f"
             ],
             [
              0.2222222222222222,
              "#7201a8"
             ],
             [
              0.3333333333333333,
              "#9c179e"
             ],
             [
              0.4444444444444444,
              "#bd3786"
             ],
             [
              0.5555555555555556,
              "#d8576b"
             ],
             [
              0.6666666666666666,
              "#ed7953"
             ],
             [
              0.7777777777777778,
              "#fb9f3a"
             ],
             [
              0.8888888888888888,
              "#fdca26"
             ],
             [
              1,
              "#f0f921"
             ]
            ],
            "type": "heatmap"
           }
          ],
          "heatmapgl": [
           {
            "colorbar": {
             "outlinewidth": 0,
             "ticks": ""
            },
            "colorscale": [
             [
              0,
              "#0d0887"
             ],
             [
              0.1111111111111111,
              "#46039f"
             ],
             [
              0.2222222222222222,
              "#7201a8"
             ],
             [
              0.3333333333333333,
              "#9c179e"
             ],
             [
              0.4444444444444444,
              "#bd3786"
             ],
             [
              0.5555555555555556,
              "#d8576b"
             ],
             [
              0.6666666666666666,
              "#ed7953"
             ],
             [
              0.7777777777777778,
              "#fb9f3a"
             ],
             [
              0.8888888888888888,
              "#fdca26"
             ],
             [
              1,
              "#f0f921"
             ]
            ],
            "type": "heatmapgl"
           }
          ],
          "histogram": [
           {
            "marker": {
             "colorbar": {
              "outlinewidth": 0,
              "ticks": ""
             }
            },
            "type": "histogram"
           }
          ],
          "histogram2d": [
           {
            "colorbar": {
             "outlinewidth": 0,
             "ticks": ""
            },
            "colorscale": [
             [
              0,
              "#0d0887"
             ],
             [
              0.1111111111111111,
              "#46039f"
             ],
             [
              0.2222222222222222,
              "#7201a8"
             ],
             [
              0.3333333333333333,
              "#9c179e"
             ],
             [
              0.4444444444444444,
              "#bd3786"
             ],
             [
              0.5555555555555556,
              "#d8576b"
             ],
             [
              0.6666666666666666,
              "#ed7953"
             ],
             [
              0.7777777777777778,
              "#fb9f3a"
             ],
             [
              0.8888888888888888,
              "#fdca26"
             ],
             [
              1,
              "#f0f921"
             ]
            ],
            "type": "histogram2d"
           }
          ],
          "histogram2dcontour": [
           {
            "colorbar": {
             "outlinewidth": 0,
             "ticks": ""
            },
            "colorscale": [
             [
              0,
              "#0d0887"
             ],
             [
              0.1111111111111111,
              "#46039f"
             ],
             [
              0.2222222222222222,
              "#7201a8"
             ],
             [
              0.3333333333333333,
              "#9c179e"
             ],
             [
              0.4444444444444444,
              "#bd3786"
             ],
             [
              0.5555555555555556,
              "#d8576b"
             ],
             [
              0.6666666666666666,
              "#ed7953"
             ],
             [
              0.7777777777777778,
              "#fb9f3a"
             ],
             [
              0.8888888888888888,
              "#fdca26"
             ],
             [
              1,
              "#f0f921"
             ]
            ],
            "type": "histogram2dcontour"
           }
          ],
          "mesh3d": [
           {
            "colorbar": {
             "outlinewidth": 0,
             "ticks": ""
            },
            "type": "mesh3d"
           }
          ],
          "parcoords": [
           {
            "line": {
             "colorbar": {
              "outlinewidth": 0,
              "ticks": ""
             }
            },
            "type": "parcoords"
           }
          ],
          "pie": [
           {
            "automargin": true,
            "type": "pie"
           }
          ],
          "scatter": [
           {
            "marker": {
             "colorbar": {
              "outlinewidth": 0,
              "ticks": ""
             }
            },
            "type": "scatter"
           }
          ],
          "scatter3d": [
           {
            "line": {
             "colorbar": {
              "outlinewidth": 0,
              "ticks": ""
             }
            },
            "marker": {
             "colorbar": {
              "outlinewidth": 0,
              "ticks": ""
             }
            },
            "type": "scatter3d"
           }
          ],
          "scattercarpet": [
           {
            "marker": {
             "colorbar": {
              "outlinewidth": 0,
              "ticks": ""
             }
            },
            "type": "scattercarpet"
           }
          ],
          "scattergeo": [
           {
            "marker": {
             "colorbar": {
              "outlinewidth": 0,
              "ticks": ""
             }
            },
            "type": "scattergeo"
           }
          ],
          "scattergl": [
           {
            "marker": {
             "colorbar": {
              "outlinewidth": 0,
              "ticks": ""
             }
            },
            "type": "scattergl"
           }
          ],
          "scattermapbox": [
           {
            "marker": {
             "colorbar": {
              "outlinewidth": 0,
              "ticks": ""
             }
            },
            "type": "scattermapbox"
           }
          ],
          "scatterpolar": [
           {
            "marker": {
             "colorbar": {
              "outlinewidth": 0,
              "ticks": ""
             }
            },
            "type": "scatterpolar"
           }
          ],
          "scatterpolargl": [
           {
            "marker": {
             "colorbar": {
              "outlinewidth": 0,
              "ticks": ""
             }
            },
            "type": "scatterpolargl"
           }
          ],
          "scatterternary": [
           {
            "marker": {
             "colorbar": {
              "outlinewidth": 0,
              "ticks": ""
             }
            },
            "type": "scatterternary"
           }
          ],
          "surface": [
           {
            "colorbar": {
             "outlinewidth": 0,
             "ticks": ""
            },
            "colorscale": [
             [
              0,
              "#0d0887"
             ],
             [
              0.1111111111111111,
              "#46039f"
             ],
             [
              0.2222222222222222,
              "#7201a8"
             ],
             [
              0.3333333333333333,
              "#9c179e"
             ],
             [
              0.4444444444444444,
              "#bd3786"
             ],
             [
              0.5555555555555556,
              "#d8576b"
             ],
             [
              0.6666666666666666,
              "#ed7953"
             ],
             [
              0.7777777777777778,
              "#fb9f3a"
             ],
             [
              0.8888888888888888,
              "#fdca26"
             ],
             [
              1,
              "#f0f921"
             ]
            ],
            "type": "surface"
           }
          ],
          "table": [
           {
            "cells": {
             "fill": {
              "color": "#EBF0F8"
             },
             "line": {
              "color": "white"
             }
            },
            "header": {
             "fill": {
              "color": "#C8D4E3"
             },
             "line": {
              "color": "white"
             }
            },
            "type": "table"
           }
          ]
         },
         "layout": {
          "annotationdefaults": {
           "arrowcolor": "#2a3f5f",
           "arrowhead": 0,
           "arrowwidth": 1
          },
          "coloraxis": {
           "colorbar": {
            "outlinewidth": 0,
            "ticks": ""
           }
          },
          "colorscale": {
           "diverging": [
            [
             0,
             "#8e0152"
            ],
            [
             0.1,
             "#c51b7d"
            ],
            [
             0.2,
             "#de77ae"
            ],
            [
             0.3,
             "#f1b6da"
            ],
            [
             0.4,
             "#fde0ef"
            ],
            [
             0.5,
             "#f7f7f7"
            ],
            [
             0.6,
             "#e6f5d0"
            ],
            [
             0.7,
             "#b8e186"
            ],
            [
             0.8,
             "#7fbc41"
            ],
            [
             0.9,
             "#4d9221"
            ],
            [
             1,
             "#276419"
            ]
           ],
           "sequential": [
            [
             0,
             "#0d0887"
            ],
            [
             0.1111111111111111,
             "#46039f"
            ],
            [
             0.2222222222222222,
             "#7201a8"
            ],
            [
             0.3333333333333333,
             "#9c179e"
            ],
            [
             0.4444444444444444,
             "#bd3786"
            ],
            [
             0.5555555555555556,
             "#d8576b"
            ],
            [
             0.6666666666666666,
             "#ed7953"
            ],
            [
             0.7777777777777778,
             "#fb9f3a"
            ],
            [
             0.8888888888888888,
             "#fdca26"
            ],
            [
             1,
             "#f0f921"
            ]
           ],
           "sequentialminus": [
            [
             0,
             "#0d0887"
            ],
            [
             0.1111111111111111,
             "#46039f"
            ],
            [
             0.2222222222222222,
             "#7201a8"
            ],
            [
             0.3333333333333333,
             "#9c179e"
            ],
            [
             0.4444444444444444,
             "#bd3786"
            ],
            [
             0.5555555555555556,
             "#d8576b"
            ],
            [
             0.6666666666666666,
             "#ed7953"
            ],
            [
             0.7777777777777778,
             "#fb9f3a"
            ],
            [
             0.8888888888888888,
             "#fdca26"
            ],
            [
             1,
             "#f0f921"
            ]
           ]
          },
          "colorway": [
           "#636efa",
           "#EF553B",
           "#00cc96",
           "#ab63fa",
           "#FFA15A",
           "#19d3f3",
           "#FF6692",
           "#B6E880",
           "#FF97FF",
           "#FECB52"
          ],
          "font": {
           "color": "#2a3f5f"
          },
          "geo": {
           "bgcolor": "white",
           "lakecolor": "white",
           "landcolor": "#E5ECF6",
           "showlakes": true,
           "showland": true,
           "subunitcolor": "white"
          },
          "hoverlabel": {
           "align": "left"
          },
          "hovermode": "closest",
          "mapbox": {
           "style": "light"
          },
          "paper_bgcolor": "white",
          "plot_bgcolor": "#E5ECF6",
          "polar": {
           "angularaxis": {
            "gridcolor": "white",
            "linecolor": "white",
            "ticks": ""
           },
           "bgcolor": "#E5ECF6",
           "radialaxis": {
            "gridcolor": "white",
            "linecolor": "white",
            "ticks": ""
           }
          },
          "scene": {
           "xaxis": {
            "backgroundcolor": "#E5ECF6",
            "gridcolor": "white",
            "gridwidth": 2,
            "linecolor": "white",
            "showbackground": true,
            "ticks": "",
            "zerolinecolor": "white"
           },
           "yaxis": {
            "backgroundcolor": "#E5ECF6",
            "gridcolor": "white",
            "gridwidth": 2,
            "linecolor": "white",
            "showbackground": true,
            "ticks": "",
            "zerolinecolor": "white"
           },
           "zaxis": {
            "backgroundcolor": "#E5ECF6",
            "gridcolor": "white",
            "gridwidth": 2,
            "linecolor": "white",
            "showbackground": true,
            "ticks": "",
            "zerolinecolor": "white"
           }
          },
          "shapedefaults": {
           "line": {
            "color": "#2a3f5f"
           }
          },
          "ternary": {
           "aaxis": {
            "gridcolor": "white",
            "linecolor": "white",
            "ticks": ""
           },
           "baxis": {
            "gridcolor": "white",
            "linecolor": "white",
            "ticks": ""
           },
           "bgcolor": "#E5ECF6",
           "caxis": {
            "gridcolor": "white",
            "linecolor": "white",
            "ticks": ""
           }
          },
          "title": {
           "x": 0.05
          },
          "xaxis": {
           "automargin": true,
           "gridcolor": "white",
           "linecolor": "white",
           "ticks": "",
           "title": {
            "standoff": 15
           },
           "zerolinecolor": "white",
           "zerolinewidth": 2
          },
          "yaxis": {
           "automargin": true,
           "gridcolor": "white",
           "linecolor": "white",
           "ticks": "",
           "title": {
            "standoff": 15
           },
           "zerolinecolor": "white",
           "zerolinewidth": 2
          }
         }
        },
        "xaxis": {
         "anchor": "y",
         "domain": [
          0,
          1
         ],
         "showticklabels": true,
         "tickangle": 45,
         "title": {
          "text": "age"
         }
        },
        "yaxis": {
         "anchor": "x",
         "domain": [
          0,
          1
         ],
         "nticks": 20,
         "title": {
          "text": "doctors"
         }
        }
       }
      },
      "text/html": [
       "<div>\n",
       "        \n",
       "        \n",
       "            <div id=\"7d67d6cb-8f18-4124-a3d4-4f31d54fb664\" class=\"plotly-graph-div\" style=\"height:525px; width:100%;\"></div>\n",
       "            <script type=\"text/javascript\">\n",
       "                require([\"plotly\"], function(Plotly) {\n",
       "                    window.PLOTLYENV=window.PLOTLYENV || {};\n",
       "                    \n",
       "                if (document.getElementById(\"7d67d6cb-8f18-4124-a3d4-4f31d54fb664\")) {\n",
       "                    Plotly.newPlot(\n",
       "                        '7d67d6cb-8f18-4124-a3d4-4f31d54fb664',\n",
       "                        [{\"customdata\": [[\"Afghanistan\", 1.473, 0.315]], \"hoverlabel\": {\"namelength\": 0}, \"hovertemplate\": \"Country=%{customdata[0]}<br>age=%{customdata[1]}<br>doctors=%{customdata[2]}\", \"legendgroup\": \"Afghanistan\", \"marker\": {\"color\": \"#636efa\", \"symbol\": \"circle\"}, \"mode\": \"markers\", \"name\": \"Afghanistan\", \"showlegend\": true, \"type\": \"scatter\", \"x\": [1.473], \"xaxis\": \"x\", \"y\": [0.315], \"yaxis\": \"y\"}, {\"customdata\": [[\"Albania\", 8.642999999999999, 1.65]], \"hoverlabel\": {\"namelength\": 0}, \"hovertemplate\": \"Country=%{customdata[0]}<br>age=%{customdata[1]}<br>doctors=%{customdata[2]}\", \"legendgroup\": \"Albania\", \"marker\": {\"color\": \"#EF553B\", \"symbol\": \"circle\"}, \"mode\": \"markers\", \"name\": \"Albania\", \"showlegend\": true, \"type\": \"scatter\", \"x\": [8.642999999999999], \"xaxis\": \"x\", \"y\": [1.65], \"yaxis\": \"y\"}, {\"customdata\": [[\"Algeria\", 3.8569999999999998, 1.207]], \"hoverlabel\": {\"namelength\": 0}, \"hovertemplate\": \"Country=%{customdata[0]}<br>age=%{customdata[1]}<br>doctors=%{customdata[2]}\", \"legendgroup\": \"Algeria\", \"marker\": {\"color\": \"#00cc96\", \"symbol\": \"circle\"}, \"mode\": \"markers\", \"name\": \"Algeria\", \"showlegend\": true, \"type\": \"scatter\", \"x\": [3.8569999999999998], \"xaxis\": \"x\", \"y\": [1.207], \"yaxis\": \"y\"}, {\"customdata\": [[\"Angola\", 1.597, 0.14400000000000002]], \"hoverlabel\": {\"namelength\": 0}, \"hovertemplate\": \"Country=%{customdata[0]}<br>age=%{customdata[1]}<br>doctors=%{customdata[2]}\", \"legendgroup\": \"Angola\", \"marker\": {\"color\": \"#ab63fa\", \"symbol\": \"circle\"}, \"mode\": \"markers\", \"name\": \"Angola\", \"showlegend\": true, \"type\": \"scatter\", \"x\": [1.597], \"xaxis\": \"x\", \"y\": [0.14400000000000002], \"yaxis\": \"y\"}, {\"customdata\": [[\"Antigua and Barbuda\", 5.193, 3.03]], \"hoverlabel\": {\"namelength\": 0}, \"hovertemplate\": \"Country=%{customdata[0]}<br>age=%{customdata[1]}<br>doctors=%{customdata[2]}\", \"legendgroup\": \"Antigua and Barbuda\", \"marker\": {\"color\": \"#FFA15A\", \"symbol\": \"circle\"}, \"mode\": \"markers\", \"name\": \"Antigua and Barbuda\", \"showlegend\": true, \"type\": \"scatter\", \"x\": [5.193], \"xaxis\": \"x\", \"y\": [3.03], \"yaxis\": \"y\"}, {\"customdata\": [[\"Argentina\", 7.441, 3.907]], \"hoverlabel\": {\"namelength\": 0}, \"hovertemplate\": \"Country=%{customdata[0]}<br>age=%{customdata[1]}<br>doctors=%{customdata[2]}\", \"legendgroup\": \"Argentina\", \"marker\": {\"color\": \"#19d3f3\", \"symbol\": \"circle\"}, \"mode\": \"markers\", \"name\": \"Argentina\", \"showlegend\": true, \"type\": \"scatter\", \"x\": [7.441], \"xaxis\": \"x\", \"y\": [3.907], \"yaxis\": \"y\"}, {\"customdata\": [[\"Armenia\", 8.755, 3.924]], \"hoverlabel\": {\"namelength\": 0}, \"hovertemplate\": \"Country=%{customdata[0]}<br>age=%{customdata[1]}<br>doctors=%{customdata[2]}\", \"legendgroup\": \"Armenia\", \"marker\": {\"color\": \"#FF6692\", \"symbol\": \"circle\"}, \"mode\": \"markers\", \"name\": \"Armenia\", \"showlegend\": true, \"type\": \"scatter\", \"x\": [8.755], \"xaxis\": \"x\", \"y\": [3.924], \"yaxis\": \"y\"}, {\"customdata\": [[\"Aruba\", 7.452000000000001, 1.12]], \"hoverlabel\": {\"namelength\": 0}, \"hovertemplate\": \"Country=%{customdata[0]}<br>age=%{customdata[1]}<br>doctors=%{customdata[2]}\", \"legendgroup\": \"Aruba\", \"marker\": {\"color\": \"#B6E880\", \"symbol\": \"circle\"}, \"mode\": \"markers\", \"name\": \"Aruba\", \"showlegend\": true, \"type\": \"scatter\", \"x\": [7.452000000000001], \"xaxis\": \"x\", \"y\": [1.12], \"yaxis\": \"y\"}, {\"customdata\": [[\"Australia\", 10.129, 3.4960000000000004]], \"hoverlabel\": {\"namelength\": 0}, \"hovertemplate\": \"Country=%{customdata[0]}<br>age=%{customdata[1]}<br>doctors=%{customdata[2]}\", \"legendgroup\": \"Australia\", \"marker\": {\"color\": \"#FF97FF\", \"symbol\": \"circle\"}, \"mode\": \"markers\", \"name\": \"Australia\", \"showlegend\": true, \"type\": \"scatter\", \"x\": [10.129], \"xaxis\": \"x\", \"y\": [3.4960000000000004], \"yaxis\": \"y\"}, {\"customdata\": [[\"Austria\", 13.748, 5.23]], \"hoverlabel\": {\"namelength\": 0}, \"hovertemplate\": \"Country=%{customdata[0]}<br>age=%{customdata[1]}<br>doctors=%{customdata[2]}\", \"legendgroup\": \"Austria\", \"marker\": {\"color\": \"#FECB52\", \"symbol\": \"circle\"}, \"mode\": \"markers\", \"name\": \"Austria\", \"showlegend\": true, \"type\": \"scatter\", \"x\": [13.748], \"xaxis\": \"x\", \"y\": [5.23], \"yaxis\": \"y\"}, {\"customdata\": [[\"Azerbaijan\", 4.462, 3.99]], \"hoverlabel\": {\"namelength\": 0}, \"hovertemplate\": \"Country=%{customdata[0]}<br>age=%{customdata[1]}<br>doctors=%{customdata[2]}\", \"legendgroup\": \"Azerbaijan\", \"marker\": {\"color\": \"#636efa\", \"symbol\": \"circle\"}, \"mode\": \"markers\", \"name\": \"Azerbaijan\", \"showlegend\": true, \"type\": \"scatter\", \"x\": [4.462], \"xaxis\": \"x\", \"y\": [3.99], \"yaxis\": \"y\"}, {\"customdata\": [[\"Bahamas\", 5.2, 2.717]], \"hoverlabel\": {\"namelength\": 0}, \"hovertemplate\": \"Country=%{customdata[0]}<br>age=%{customdata[1]}<br>doctors=%{customdata[2]}\", \"legendgroup\": \"Bahamas\", \"marker\": {\"color\": \"#EF553B\", \"symbol\": \"circle\"}, \"mode\": \"markers\", \"name\": \"Bahamas\", \"showlegend\": true, \"type\": \"scatter\", \"x\": [5.2], \"xaxis\": \"x\", \"y\": [2.717], \"yaxis\": \"y\"}, {\"customdata\": [[\"Bahrain\", 1.621, 1.315]], \"hoverlabel\": {\"namelength\": 0}, \"hovertemplate\": \"Country=%{customdata[0]}<br>age=%{customdata[1]}<br>doctors=%{customdata[2]}\", \"legendgroup\": \"Bahrain\", \"marker\": {\"color\": \"#00cc96\", \"symbol\": \"circle\"}, \"mode\": \"markers\", \"name\": \"Bahrain\", \"showlegend\": true, \"type\": \"scatter\", \"x\": [1.621], \"xaxis\": \"x\", \"y\": [1.315], \"yaxis\": \"y\"}, {\"customdata\": [[\"Bangladesh\", 3.262, 0.475]], \"hoverlabel\": {\"namelength\": 0}, \"hovertemplate\": \"Country=%{customdata[0]}<br>age=%{customdata[1]}<br>doctors=%{customdata[2]}\", \"legendgroup\": \"Bangladesh\", \"marker\": {\"color\": \"#ab63fa\", \"symbol\": \"circle\"}, \"mode\": \"markers\", \"name\": \"Bangladesh\", \"showlegend\": true, \"type\": \"scatter\", \"x\": [3.262], \"xaxis\": \"x\", \"y\": [0.475], \"yaxis\": \"y\"}, {\"customdata\": [[\"Barbados\", 9.472999999999999, 1.811]], \"hoverlabel\": {\"namelength\": 0}, \"hovertemplate\": \"Country=%{customdata[0]}<br>age=%{customdata[1]}<br>doctors=%{customdata[2]}\", \"legendgroup\": \"Barbados\", \"marker\": {\"color\": \"#FFA15A\", \"symbol\": \"circle\"}, \"mode\": \"markers\", \"name\": \"Barbados\", \"showlegend\": true, \"type\": \"scatter\", \"x\": [9.472999999999999], \"xaxis\": \"x\", \"y\": [1.811], \"yaxis\": \"y\"}, {\"customdata\": [[\"Belarus\", 10.595, 4.98]], \"hoverlabel\": {\"namelength\": 0}, \"hovertemplate\": \"Country=%{customdata[0]}<br>age=%{customdata[1]}<br>doctors=%{customdata[2]}\", \"legendgroup\": \"Belarus\", \"marker\": {\"color\": \"#19d3f3\", \"symbol\": \"circle\"}, \"mode\": \"markers\", \"name\": \"Belarus\", \"showlegend\": true, \"type\": \"scatter\", \"x\": [10.595], \"xaxis\": \"x\", \"y\": [4.98], \"yaxis\": \"y\"}, {\"customdata\": [[\"Belgium\", 13.019, 3.9]], \"hoverlabel\": {\"namelength\": 0}, \"hovertemplate\": \"Country=%{customdata[0]}<br>age=%{customdata[1]}<br>doctors=%{customdata[2]}\", \"legendgroup\": \"Belgium\", \"marker\": {\"color\": \"#FF6692\", \"symbol\": \"circle\"}, \"mode\": \"markers\", \"name\": \"Belgium\", \"showlegend\": true, \"type\": \"scatter\", \"x\": [13.019], \"xaxis\": \"x\", \"y\": [3.9], \"yaxis\": \"y\"}, {\"customdata\": [[\"Belize\", 2.8539999999999996, 1.015]], \"hoverlabel\": {\"namelength\": 0}, \"hovertemplate\": \"Country=%{customdata[0]}<br>age=%{customdata[1]}<br>doctors=%{customdata[2]}\", \"legendgroup\": \"Belize\", \"marker\": {\"color\": \"#B6E880\", \"symbol\": \"circle\"}, \"mode\": \"markers\", \"name\": \"Belize\", \"showlegend\": true, \"type\": \"scatter\", \"x\": [2.8539999999999996], \"xaxis\": \"x\", \"y\": [1.015], \"yaxis\": \"y\"}, {\"customdata\": [[\"Benin\", 5.039, 0.159]], \"hoverlabel\": {\"namelength\": 0}, \"hovertemplate\": \"Country=%{customdata[0]}<br>age=%{customdata[1]}<br>doctors=%{customdata[2]}\", \"legendgroup\": \"Benin\", \"marker\": {\"color\": \"#FF97FF\", \"symbol\": \"circle\"}, \"mode\": \"markers\", \"name\": \"Benin\", \"showlegend\": true, \"type\": \"scatter\", \"x\": [5.039], \"xaxis\": \"x\", \"y\": [0.159], \"yaxis\": \"y\"}, {\"customdata\": [[\"Bhutan\", 2.977, 0.381]], \"hoverlabel\": {\"namelength\": 0}, \"hovertemplate\": \"Country=%{customdata[0]}<br>age=%{customdata[1]}<br>doctors=%{customdata[2]}\", \"legendgroup\": \"Bhutan\", \"marker\": {\"color\": \"#FECB52\", \"symbol\": \"circle\"}, \"mode\": \"markers\", \"name\": \"Bhutan\", \"showlegend\": true, \"type\": \"scatter\", \"x\": [2.977], \"xaxis\": \"x\", \"y\": [0.381], \"yaxis\": \"y\"}, {\"customdata\": [[\"Bolivia\", 4.393, 1.2990000000000002]], \"hoverlabel\": {\"namelength\": 0}, \"hovertemplate\": \"Country=%{customdata[0]}<br>age=%{customdata[1]}<br>doctors=%{customdata[2]}\", \"legendgroup\": \"Bolivia\", \"marker\": {\"color\": \"#636efa\", \"symbol\": \"circle\"}, \"mode\": \"markers\", \"name\": \"Bolivia\", \"showlegend\": true, \"type\": \"scatter\", \"x\": [4.393], \"xaxis\": \"x\", \"y\": [1.2990000000000002], \"yaxis\": \"y\"}, {\"customdata\": [[\"Bosnia and Herzegovina\", 10.710999999999999, 1.886]], \"hoverlabel\": {\"namelength\": 0}, \"hovertemplate\": \"Country=%{customdata[0]}<br>age=%{customdata[1]}<br>doctors=%{customdata[2]}\", \"legendgroup\": \"Bosnia and Herzegovina\", \"marker\": {\"color\": \"#EF553B\", \"symbol\": \"circle\"}, \"mode\": \"markers\", \"name\": \"Bosnia and Herzegovina\", \"showlegend\": true, \"type\": \"scatter\", \"x\": [10.710999999999999], \"xaxis\": \"x\", \"y\": [1.886], \"yaxis\": \"y\"}, {\"customdata\": [[\"Botswana\", 2.448, 0.389]], \"hoverlabel\": {\"namelength\": 0}, \"hovertemplate\": \"Country=%{customdata[0]}<br>age=%{customdata[1]}<br>doctors=%{customdata[2]}\", \"legendgroup\": \"Botswana\", \"marker\": {\"color\": \"#00cc96\", \"symbol\": \"circle\"}, \"mode\": \"markers\", \"name\": \"Botswana\", \"showlegend\": true, \"type\": \"scatter\", \"x\": [2.448], \"xaxis\": \"x\", \"y\": [0.389], \"yaxis\": \"y\"}, {\"customdata\": [[\"Brazil\", 5.06, 1.8519999999999999]], \"hoverlabel\": {\"namelength\": 0}, \"hovertemplate\": \"Country=%{customdata[0]}<br>age=%{customdata[1]}<br>doctors=%{customdata[2]}\", \"legendgroup\": \"Brazil\", \"marker\": {\"color\": \"#ab63fa\", \"symbol\": \"circle\"}, \"mode\": \"markers\", \"name\": \"Brazil\", \"showlegend\": true, \"type\": \"scatter\", \"x\": [5.06], \"xaxis\": \"x\", \"y\": [1.8519999999999999], \"yaxis\": \"y\"}, {\"customdata\": [[\"Brunei\", 2.865, 1.746]], \"hoverlabel\": {\"namelength\": 0}, \"hovertemplate\": \"Country=%{customdata[0]}<br>age=%{customdata[1]}<br>doctors=%{customdata[2]}\", \"legendgroup\": \"Brunei\", \"marker\": {\"color\": \"#FFA15A\", \"symbol\": \"circle\"}, \"mode\": \"markers\", \"name\": \"Brunei\", \"showlegend\": true, \"type\": \"scatter\", \"x\": [2.865], \"xaxis\": \"x\", \"y\": [1.746], \"yaxis\": \"y\"}, {\"customdata\": [[\"Bulgaria\", 13.272, 3.9989999999999997]], \"hoverlabel\": {\"namelength\": 0}, \"hovertemplate\": \"Country=%{customdata[0]}<br>age=%{customdata[1]}<br>doctors=%{customdata[2]}\", \"legendgroup\": \"Bulgaria\", \"marker\": {\"color\": \"#19d3f3\", \"symbol\": \"circle\"}, \"mode\": \"markers\", \"name\": \"Bulgaria\", \"showlegend\": true, \"type\": \"scatter\", \"x\": [13.272], \"xaxis\": \"x\", \"y\": [3.9989999999999997], \"yaxis\": \"y\"}, {\"customdata\": [[\"Burkina Faso\", 1.838, 0.054000000000000006]], \"hoverlabel\": {\"namelength\": 0}, \"hovertemplate\": \"Country=%{customdata[0]}<br>age=%{customdata[1]}<br>doctors=%{customdata[2]}\", \"legendgroup\": \"Burkina Faso\", \"marker\": {\"color\": \"#FF6692\", \"symbol\": \"circle\"}, \"mode\": \"markers\", \"name\": \"Burkina Faso\", \"showlegend\": true, \"type\": \"scatter\", \"x\": [1.838], \"xaxis\": \"x\", \"y\": [0.054000000000000006], \"yaxis\": \"y\"}, {\"customdata\": [[\"Burundi\", 1.8840000000000001, 0.059000000000000004]], \"hoverlabel\": {\"namelength\": 0}, \"hovertemplate\": \"Country=%{customdata[0]}<br>age=%{customdata[1]}<br>doctors=%{customdata[2]}\", \"legendgroup\": \"Burundi\", \"marker\": {\"color\": \"#B6E880\", \"symbol\": \"circle\"}, \"mode\": \"markers\", \"name\": \"Burundi\", \"showlegend\": true, \"type\": \"scatter\", \"x\": [1.8840000000000001], \"xaxis\": \"x\", \"y\": [0.059000000000000004], \"yaxis\": \"y\"}, {\"customdata\": [[\"Cambodia\", 2.385, 0.29600000000000004]], \"hoverlabel\": {\"namelength\": 0}, \"hovertemplate\": \"Country=%{customdata[0]}<br>age=%{customdata[1]}<br>doctors=%{customdata[2]}\", \"legendgroup\": \"Cambodia\", \"marker\": {\"color\": \"#FF97FF\", \"symbol\": \"circle\"}, \"mode\": \"markers\", \"name\": \"Cambodia\", \"showlegend\": true, \"type\": \"scatter\", \"x\": [2.385], \"xaxis\": \"x\", \"y\": [0.29600000000000004], \"yaxis\": \"y\"}, {\"customdata\": [[\"Cameroon\", 2.122, 0.177]], \"hoverlabel\": {\"namelength\": 0}, \"hovertemplate\": \"Country=%{customdata[0]}<br>age=%{customdata[1]}<br>doctors=%{customdata[2]}\", \"legendgroup\": \"Cameroon\", \"marker\": {\"color\": \"#FECB52\", \"symbol\": \"circle\"}, \"mode\": \"markers\", \"name\": \"Cameroon\", \"showlegend\": true, \"type\": \"scatter\", \"x\": [2.122], \"xaxis\": \"x\", \"y\": [0.177], \"yaxis\": \"y\"}, {\"customdata\": [[\"Canada\", 10.797, 2.539]], \"hoverlabel\": {\"namelength\": 0}, \"hovertemplate\": \"Country=%{customdata[0]}<br>age=%{customdata[1]}<br>doctors=%{customdata[2]}\", \"legendgroup\": \"Canada\", \"marker\": {\"color\": \"#636efa\", \"symbol\": \"circle\"}, \"mode\": \"markers\", \"name\": \"Canada\", \"showlegend\": true, \"type\": \"scatter\", \"x\": [10.797], \"xaxis\": \"x\", \"y\": [2.539], \"yaxis\": \"y\"}, {\"customdata\": [[\"Cape Verde\", 4.913, 0.7879999999999999]], \"hoverlabel\": {\"namelength\": 0}, \"hovertemplate\": \"Country=%{customdata[0]}<br>age=%{customdata[1]}<br>doctors=%{customdata[2]}\", \"legendgroup\": \"Cape Verde\", \"marker\": {\"color\": \"#EF553B\", \"symbol\": \"circle\"}, \"mode\": \"markers\", \"name\": \"Cape Verde\", \"showlegend\": true, \"type\": \"scatter\", \"x\": [4.913], \"xaxis\": \"x\", \"y\": [0.7879999999999999], \"yaxis\": \"y\"}, {\"customdata\": [[\"Central African Republic\", 2.84, 0.083]], \"hoverlabel\": {\"namelength\": 0}, \"hovertemplate\": \"Country=%{customdata[0]}<br>age=%{customdata[1]}<br>doctors=%{customdata[2]}\", \"legendgroup\": \"Central African Republic\", \"marker\": {\"color\": \"#00cc96\", \"symbol\": \"circle\"}, \"mode\": \"markers\", \"name\": \"Central African Republic\", \"showlegend\": true, \"type\": \"scatter\", \"x\": [2.84], \"xaxis\": \"x\", \"y\": [0.083], \"yaxis\": \"y\"}, {\"customdata\": [[\"Chad\", 2.396, 0.044000000000000004]], \"hoverlabel\": {\"namelength\": 0}, \"hovertemplate\": \"Country=%{customdata[0]}<br>age=%{customdata[1]}<br>doctors=%{customdata[2]}\", \"legendgroup\": \"Chad\", \"marker\": {\"color\": \"#ab63fa\", \"symbol\": \"circle\"}, \"mode\": \"markers\", \"name\": \"Chad\", \"showlegend\": true, \"type\": \"scatter\", \"x\": [2.396], \"xaxis\": \"x\", \"y\": [0.044000000000000004], \"yaxis\": \"y\"}, {\"customdata\": [[\"Channel Islands\", 11.886, 1.5219999999999998]], \"hoverlabel\": {\"namelength\": 0}, \"hovertemplate\": \"Country=%{customdata[0]}<br>age=%{customdata[1]}<br>doctors=%{customdata[2]}\", \"legendgroup\": \"Channel Islands\", \"marker\": {\"color\": \"#FFA15A\", \"symbol\": \"circle\"}, \"mode\": \"markers\", \"name\": \"Channel Islands\", \"showlegend\": true, \"type\": \"scatter\", \"x\": [11.886], \"xaxis\": \"x\", \"y\": [1.5219999999999998], \"yaxis\": \"y\"}, {\"customdata\": [[\"Chile\", 6.938, 1.153]], \"hoverlabel\": {\"namelength\": 0}, \"hovertemplate\": \"Country=%{customdata[0]}<br>age=%{customdata[1]}<br>doctors=%{customdata[2]}\", \"legendgroup\": \"Chile\", \"marker\": {\"color\": \"#19d3f3\", \"symbol\": \"circle\"}, \"mode\": \"markers\", \"name\": \"Chile\", \"showlegend\": true, \"type\": \"scatter\", \"x\": [6.938], \"xaxis\": \"x\", \"y\": [1.153], \"yaxis\": \"y\"}, {\"customdata\": [[\"China\", 5.928999999999999, 1.8119999999999998]], \"hoverlabel\": {\"namelength\": 0}, \"hovertemplate\": \"Country=%{customdata[0]}<br>age=%{customdata[1]}<br>doctors=%{customdata[2]}\", \"legendgroup\": \"China\", \"marker\": {\"color\": \"#FF6692\", \"symbol\": \"circle\"}, \"mode\": \"markers\", \"name\": \"China\", \"showlegend\": true, \"type\": \"scatter\", \"x\": [5.928999999999999], \"xaxis\": \"x\", \"y\": [1.8119999999999998], \"yaxis\": \"y\"}, {\"customdata\": [[\"Colombia\", 4.312, 1.821]], \"hoverlabel\": {\"namelength\": 0}, \"hovertemplate\": \"Country=%{customdata[0]}<br>age=%{customdata[1]}<br>doctors=%{customdata[2]}\", \"legendgroup\": \"Colombia\", \"marker\": {\"color\": \"#B6E880\", \"symbol\": \"circle\"}, \"mode\": \"markers\", \"name\": \"Colombia\", \"showlegend\": true, \"type\": \"scatter\", \"x\": [4.312], \"xaxis\": \"x\", \"y\": [1.821], \"yaxis\": \"y\"}, {\"customdata\": [[\"Comoros\", 2.173, 0.19]], \"hoverlabel\": {\"namelength\": 0}, \"hovertemplate\": \"Country=%{customdata[0]}<br>age=%{customdata[1]}<br>doctors=%{customdata[2]}\", \"legendgroup\": \"Comoros\", \"marker\": {\"color\": \"#FF97FF\", \"symbol\": \"circle\"}, \"mode\": \"markers\", \"name\": \"Comoros\", \"showlegend\": true, \"type\": \"scatter\", \"x\": [2.173], \"xaxis\": \"x\", \"y\": [0.19], \"yaxis\": \"y\"}, {\"customdata\": [[\"Congo\", 2.24, 0.73]], \"hoverlabel\": {\"namelength\": 0}, \"hovertemplate\": \"Country=%{customdata[0]}<br>age=%{customdata[1]}<br>doctors=%{customdata[2]}\", \"legendgroup\": \"Congo\", \"marker\": {\"color\": \"#FECB52\", \"symbol\": \"circle\"}, \"mode\": \"markers\", \"name\": \"Congo\", \"showlegend\": true, \"type\": \"scatter\", \"x\": [2.24], \"xaxis\": \"x\", \"y\": [0.73], \"yaxis\": \"y\"}, {\"customdata\": [[\"Costa Rica\", 5.694, 1.719]], \"hoverlabel\": {\"namelength\": 0}, \"hovertemplate\": \"Country=%{customdata[0]}<br>age=%{customdata[1]}<br>doctors=%{customdata[2]}\", \"legendgroup\": \"Costa Rica\", \"marker\": {\"color\": \"#636efa\", \"symbol\": \"circle\"}, \"mode\": \"markers\", \"name\": \"Costa Rica\", \"showlegend\": true, \"type\": \"scatter\", \"x\": [5.694], \"xaxis\": \"x\", \"y\": [1.719], \"yaxis\": \"y\"}, {\"customdata\": [[\"Cote d'Ivoire\", 1.59, 0.14400000000000002]], \"hoverlabel\": {\"namelength\": 0}, \"hovertemplate\": \"Country=%{customdata[0]}<br>age=%{customdata[1]}<br>doctors=%{customdata[2]}\", \"legendgroup\": \"Cote d'Ivoire\", \"marker\": {\"color\": \"#EF553B\", \"symbol\": \"circle\"}, \"mode\": \"markers\", \"name\": \"Cote d'Ivoire\", \"showlegend\": true, \"type\": \"scatter\", \"x\": [1.59], \"xaxis\": \"x\", \"y\": [0.14400000000000002], \"yaxis\": \"y\"}, {\"customdata\": [[\"Croatia\", 13.112, 3.1260000000000003]], \"hoverlabel\": {\"namelength\": 0}, \"hovertemplate\": \"Country=%{customdata[0]}<br>age=%{customdata[1]}<br>doctors=%{customdata[2]}\", \"legendgroup\": \"Croatia\", \"marker\": {\"color\": \"#00cc96\", \"symbol\": \"circle\"}, \"mode\": \"markers\", \"name\": \"Croatia\", \"showlegend\": true, \"type\": \"scatter\", \"x\": [13.112], \"xaxis\": \"x\", \"y\": [3.1260000000000003], \"yaxis\": \"y\"}, {\"customdata\": [[\"Cuba\", 9.719, 7.519]], \"hoverlabel\": {\"namelength\": 0}, \"hovertemplate\": \"Country=%{customdata[0]}<br>age=%{customdata[1]}<br>doctors=%{customdata[2]}\", \"legendgroup\": \"Cuba\", \"marker\": {\"color\": \"#ab63fa\", \"symbol\": \"circle\"}, \"mode\": \"markers\", \"name\": \"Cuba\", \"showlegend\": true, \"type\": \"scatter\", \"x\": [9.719], \"xaxis\": \"x\", \"y\": [7.519], \"yaxis\": \"y\"}, {\"customdata\": [[\"Cyprus\", 8.562999999999999, 2.55]], \"hoverlabel\": {\"namelength\": 0}, \"hovertemplate\": \"Country=%{customdata[0]}<br>age=%{customdata[1]}<br>doctors=%{customdata[2]}\", \"legendgroup\": \"Cyprus\", \"marker\": {\"color\": \"#FFA15A\", \"symbol\": \"circle\"}, \"mode\": \"markers\", \"name\": \"Cyprus\", \"showlegend\": true, \"type\": \"scatter\", \"x\": [8.562999999999999], \"xaxis\": \"x\", \"y\": [2.55], \"yaxis\": \"y\"}, {\"customdata\": [[\"Czech Republic\", 11.58, 3.677]], \"hoverlabel\": {\"namelength\": 0}, \"hovertemplate\": \"Country=%{customdata[0]}<br>age=%{customdata[1]}<br>doctors=%{customdata[2]}\", \"legendgroup\": \"Czech Republic\", \"marker\": {\"color\": \"#19d3f3\", \"symbol\": \"circle\"}, \"mode\": \"markers\", \"name\": \"Czech Republic\", \"showlegend\": true, \"type\": \"scatter\", \"x\": [11.58], \"xaxis\": \"x\", \"y\": [3.677], \"yaxis\": \"y\"}, {\"customdata\": [[\"Democratic Republic of Congo\", 2.4330000000000003, 0.107]], \"hoverlabel\": {\"namelength\": 0}, \"hovertemplate\": \"Country=%{customdata[0]}<br>age=%{customdata[1]}<br>doctors=%{customdata[2]}\", \"legendgroup\": \"Democratic Republic of Congo\", \"marker\": {\"color\": \"#FF6692\", \"symbol\": \"circle\"}, \"mode\": \"markers\", \"name\": \"Democratic Republic of Congo\", \"showlegend\": true, \"type\": \"scatter\", \"x\": [2.4330000000000003], \"xaxis\": \"x\", \"y\": [0.107], \"yaxis\": \"y\"}, {\"customdata\": [[\"Denmark\", 12.325, 3.66]], \"hoverlabel\": {\"namelength\": 0}, \"hovertemplate\": \"Country=%{customdata[0]}<br>age=%{customdata[1]}<br>doctors=%{customdata[2]}\", \"legendgroup\": \"Denmark\", \"marker\": {\"color\": \"#B6E880\", \"symbol\": \"circle\"}, \"mode\": \"markers\", \"name\": \"Denmark\", \"showlegend\": true, \"type\": \"scatter\", \"x\": [12.325], \"xaxis\": \"x\", \"y\": [3.66], \"yaxis\": \"y\"}, {\"customdata\": [[\"Djibouti\", 2.38, 0.284]], \"hoverlabel\": {\"namelength\": 0}, \"hovertemplate\": \"Country=%{customdata[0]}<br>age=%{customdata[1]}<br>doctors=%{customdata[2]}\", \"legendgroup\": \"Djibouti\", \"marker\": {\"color\": \"#FF97FF\", \"symbol\": \"circle\"}, \"mode\": \"markers\", \"name\": \"Djibouti\", \"showlegend\": true, \"type\": \"scatter\", \"x\": [2.38], \"xaxis\": \"x\", \"y\": [0.284], \"yaxis\": \"y\"}, {\"customdata\": [[\"Dominican Republic\", 4.419, 2.156]], \"hoverlabel\": {\"namelength\": 0}, \"hovertemplate\": \"Country=%{customdata[0]}<br>age=%{customdata[1]}<br>doctors=%{customdata[2]}\", \"legendgroup\": \"Dominican Republic\", \"marker\": {\"color\": \"#FECB52\", \"symbol\": \"circle\"}, \"mode\": \"markers\", \"name\": \"Dominican Republic\", \"showlegend\": true, \"type\": \"scatter\", \"x\": [4.419], \"xaxis\": \"x\", \"y\": [2.156], \"yaxis\": \"y\"}, {\"customdata\": [[\"Ecuador\", 4.458, 1.6869999999999998]], \"hoverlabel\": {\"namelength\": 0}, \"hovertemplate\": \"Country=%{customdata[0]}<br>age=%{customdata[1]}<br>doctors=%{customdata[2]}\", \"legendgroup\": \"Ecuador\", \"marker\": {\"color\": \"#636efa\", \"symbol\": \"circle\"}, \"mode\": \"markers\", \"name\": \"Ecuador\", \"showlegend\": true, \"type\": \"scatter\", \"x\": [4.458], \"xaxis\": \"x\", \"y\": [1.6869999999999998], \"yaxis\": \"y\"}, {\"customdata\": [[\"Egypt\", 3.0869999999999997, 2.83]], \"hoverlabel\": {\"namelength\": 0}, \"hovertemplate\": \"Country=%{customdata[0]}<br>age=%{customdata[1]}<br>doctors=%{customdata[2]}\", \"legendgroup\": \"Egypt\", \"marker\": {\"color\": \"#EF553B\", \"symbol\": \"circle\"}, \"mode\": \"markers\", \"name\": \"Egypt\", \"showlegend\": true, \"type\": \"scatter\", \"x\": [3.0869999999999997], \"xaxis\": \"x\", \"y\": [2.83], \"yaxis\": \"y\"}, {\"customdata\": [[\"El Salvador\", 5.417000000000001, 1.922]], \"hoverlabel\": {\"namelength\": 0}, \"hovertemplate\": \"Country=%{customdata[0]}<br>age=%{customdata[1]}<br>doctors=%{customdata[2]}\", \"legendgroup\": \"El Salvador\", \"marker\": {\"color\": \"#00cc96\", \"symbol\": \"circle\"}, \"mode\": \"markers\", \"name\": \"El Salvador\", \"showlegend\": true, \"type\": \"scatter\", \"x\": [5.417000000000001], \"xaxis\": \"x\", \"y\": [1.922], \"yaxis\": \"y\"}, {\"customdata\": [[\"Equatorial Guinea\", 3.133, 0.281]], \"hoverlabel\": {\"namelength\": 0}, \"hovertemplate\": \"Country=%{customdata[0]}<br>age=%{customdata[1]}<br>doctors=%{customdata[2]}\", \"legendgroup\": \"Equatorial Guinea\", \"marker\": {\"color\": \"#ab63fa\", \"symbol\": \"circle\"}, \"mode\": \"markers\", \"name\": \"Equatorial Guinea\", \"showlegend\": true, \"type\": \"scatter\", \"x\": [3.133], \"xaxis\": \"x\", \"y\": [0.281], \"yaxis\": \"y\"}, {\"customdata\": [[\"Eritrea\", 2.171, 0.053]], \"hoverlabel\": {\"namelength\": 0}, \"hovertemplate\": \"Country=%{customdata[0]}<br>age=%{customdata[1]}<br>doctors=%{customdata[2]}\", \"legendgroup\": \"Eritrea\", \"marker\": {\"color\": \"#FFA15A\", \"symbol\": \"circle\"}, \"mode\": \"markers\", \"name\": \"Eritrea\", \"showlegend\": true, \"type\": \"scatter\", \"x\": [2.171], \"xaxis\": \"x\", \"y\": [0.053], \"yaxis\": \"y\"}, {\"customdata\": [[\"Estonia\", 13.491, 4.373]], \"hoverlabel\": {\"namelength\": 0}, \"hovertemplate\": \"Country=%{customdata[0]}<br>age=%{customdata[1]}<br>doctors=%{customdata[2]}\", \"legendgroup\": \"Estonia\", \"marker\": {\"color\": \"#19d3f3\", \"symbol\": \"circle\"}, \"mode\": \"markers\", \"name\": \"Estonia\", \"showlegend\": true, \"type\": \"scatter\", \"x\": [13.491], \"xaxis\": \"x\", \"y\": [4.373], \"yaxis\": \"y\"}, {\"customdata\": [[\"Ethiopia\", 2.063, 0.032]], \"hoverlabel\": {\"namelength\": 0}, \"hovertemplate\": \"Country=%{customdata[0]}<br>age=%{customdata[1]}<br>doctors=%{customdata[2]}\", \"legendgroup\": \"Ethiopia\", \"marker\": {\"color\": \"#FF6692\", \"symbol\": \"circle\"}, \"mode\": \"markers\", \"name\": \"Ethiopia\", \"showlegend\": true, \"type\": \"scatter\", \"x\": [2.063], \"xaxis\": \"x\", \"y\": [0.032], \"yaxis\": \"y\"}, {\"customdata\": [[\"Fiji\", 3.284, 0.8370000000000001]], \"hoverlabel\": {\"namelength\": 0}, \"hovertemplate\": \"Country=%{customdata[0]}<br>age=%{customdata[1]}<br>doctors=%{customdata[2]}\", \"legendgroup\": \"Fiji\", \"marker\": {\"color\": \"#B6E880\", \"symbol\": \"circle\"}, \"mode\": \"markers\", \"name\": \"Fiji\", \"showlegend\": true, \"type\": \"scatter\", \"x\": [3.284], \"xaxis\": \"x\", \"y\": [0.8370000000000001], \"yaxis\": \"y\"}, {\"customdata\": [[\"Finland\", 13.264000000000001, 3.319]], \"hoverlabel\": {\"namelength\": 0}, \"hovertemplate\": \"Country=%{customdata[0]}<br>age=%{customdata[1]}<br>doctors=%{customdata[2]}\", \"legendgroup\": \"Finland\", \"marker\": {\"color\": \"#FF97FF\", \"symbol\": \"circle\"}, \"mode\": \"markers\", \"name\": \"Finland\", \"showlegend\": true, \"type\": \"scatter\", \"x\": [13.264000000000001], \"xaxis\": \"x\", \"y\": [3.319], \"yaxis\": \"y\"}, {\"customdata\": [[\"France\", 13.079, 3.674]], \"hoverlabel\": {\"namelength\": 0}, \"hovertemplate\": \"Country=%{customdata[0]}<br>age=%{customdata[1]}<br>doctors=%{customdata[2]}\", \"legendgroup\": \"France\", \"marker\": {\"color\": \"#FECB52\", \"symbol\": \"circle\"}, \"mode\": \"markers\", \"name\": \"France\", \"showlegend\": true, \"type\": \"scatter\", \"x\": [13.079], \"xaxis\": \"x\", \"y\": [3.674], \"yaxis\": \"y\"}, {\"customdata\": [[\"French Polynesia\", 4.593, 1.6969999999999998]], \"hoverlabel\": {\"namelength\": 0}, \"hovertemplate\": \"Country=%{customdata[0]}<br>age=%{customdata[1]}<br>doctors=%{customdata[2]}\", \"legendgroup\": \"French Polynesia\", \"marker\": {\"color\": \"#636efa\", \"symbol\": \"circle\"}, \"mode\": \"markers\", \"name\": \"French Polynesia\", \"showlegend\": true, \"type\": \"scatter\", \"x\": [4.593], \"xaxis\": \"x\", \"y\": [1.6969999999999998], \"yaxis\": \"y\"}, {\"customdata\": [[\"Gabon\", 4.188, 0.518]], \"hoverlabel\": {\"namelength\": 0}, \"hovertemplate\": \"Country=%{customdata[0]}<br>age=%{customdata[1]}<br>doctors=%{customdata[2]}\", \"legendgroup\": \"Gabon\", \"marker\": {\"color\": \"#EF553B\", \"symbol\": \"circle\"}, \"mode\": \"markers\", \"name\": \"Gabon\", \"showlegend\": true, \"type\": \"scatter\", \"x\": [4.188], \"xaxis\": \"x\", \"y\": [0.518], \"yaxis\": \"y\"}, {\"customdata\": [[\"Gambia\", 1.626, 0.11900000000000001]], \"hoverlabel\": {\"namelength\": 0}, \"hovertemplate\": \"Country=%{customdata[0]}<br>age=%{customdata[1]}<br>doctors=%{customdata[2]}\", \"legendgroup\": \"Gambia\", \"marker\": {\"color\": \"#00cc96\", \"symbol\": \"circle\"}, \"mode\": \"markers\", \"name\": \"Gambia\", \"showlegend\": true, \"type\": \"scatter\", \"x\": [1.626], \"xaxis\": \"x\", \"y\": [0.11900000000000001], \"yaxis\": \"y\"}, {\"customdata\": [[\"Georgia\", 10.737, 5.192]], \"hoverlabel\": {\"namelength\": 0}, \"hovertemplate\": \"Country=%{customdata[0]}<br>age=%{customdata[1]}<br>doctors=%{customdata[2]}\", \"legendgroup\": \"Georgia\", \"marker\": {\"color\": \"#ab63fa\", \"symbol\": \"circle\"}, \"mode\": \"markers\", \"name\": \"Georgia\", \"showlegend\": true, \"type\": \"scatter\", \"x\": [10.737], \"xaxis\": \"x\", \"y\": [5.192], \"yaxis\": \"y\"}, {\"customdata\": [[\"Germany\", 15.957, 4.191]], \"hoverlabel\": {\"namelength\": 0}, \"hovertemplate\": \"Country=%{customdata[0]}<br>age=%{customdata[1]}<br>doctors=%{customdata[2]}\", \"legendgroup\": \"Germany\", \"marker\": {\"color\": \"#FFA15A\", \"symbol\": \"circle\"}, \"mode\": \"markers\", \"name\": \"Germany\", \"showlegend\": true, \"type\": \"scatter\", \"x\": [15.957], \"xaxis\": \"x\", \"y\": [4.191], \"yaxis\": \"y\"}, {\"customdata\": [[\"Ghana\", 2.198, 0.155]], \"hoverlabel\": {\"namelength\": 0}, \"hovertemplate\": \"Country=%{customdata[0]}<br>age=%{customdata[1]}<br>doctors=%{customdata[2]}\", \"legendgroup\": \"Ghana\", \"marker\": {\"color\": \"#19d3f3\", \"symbol\": \"circle\"}, \"mode\": \"markers\", \"name\": \"Ghana\", \"showlegend\": true, \"type\": \"scatter\", \"x\": [2.198], \"xaxis\": \"x\", \"y\": [0.155], \"yaxis\": \"y\"}, {\"customdata\": [[\"Greece\", 14.524000000000001, 6.255]], \"hoverlabel\": {\"namelength\": 0}, \"hovertemplate\": \"Country=%{customdata[0]}<br>age=%{customdata[1]}<br>doctors=%{customdata[2]}\", \"legendgroup\": \"Greece\", \"marker\": {\"color\": \"#FF6692\", \"symbol\": \"circle\"}, \"mode\": \"markers\", \"name\": \"Greece\", \"showlegend\": true, \"type\": \"scatter\", \"x\": [14.524000000000001], \"xaxis\": \"x\", \"y\": [6.255], \"yaxis\": \"y\"}, {\"customdata\": [[\"Grenada\", 5.6979999999999995, 0.6679999999999999]], \"hoverlabel\": {\"namelength\": 0}, \"hovertemplate\": \"Country=%{customdata[0]}<br>age=%{customdata[1]}<br>doctors=%{customdata[2]}\", \"legendgroup\": \"Grenada\", \"marker\": {\"color\": \"#B6E880\", \"symbol\": \"circle\"}, \"mode\": \"markers\", \"name\": \"Grenada\", \"showlegend\": true, \"type\": \"scatter\", \"x\": [5.6979999999999995], \"xaxis\": \"x\", \"y\": [0.6679999999999999], \"yaxis\": \"y\"}, {\"customdata\": [[\"Guam\", 5.492999999999999, 1.187]], \"hoverlabel\": {\"namelength\": 0}, \"hovertemplate\": \"Country=%{customdata[0]}<br>age=%{customdata[1]}<br>doctors=%{customdata[2]}\", \"legendgroup\": \"Guam\", \"marker\": {\"color\": \"#FF97FF\", \"symbol\": \"circle\"}, \"mode\": \"markers\", \"name\": \"Guam\", \"showlegend\": true, \"type\": \"scatter\", \"x\": [5.492999999999999], \"xaxis\": \"x\", \"y\": [1.187], \"yaxis\": \"y\"}, {\"customdata\": [[\"Guatemala\", 3.016, 1.1]], \"hoverlabel\": {\"namelength\": 0}, \"hovertemplate\": \"Country=%{customdata[0]}<br>age=%{customdata[1]}<br>doctors=%{customdata[2]}\", \"legendgroup\": \"Guatemala\", \"marker\": {\"color\": \"#FECB52\", \"symbol\": \"circle\"}, \"mode\": \"markers\", \"name\": \"Guatemala\", \"showlegend\": true, \"type\": \"scatter\", \"x\": [3.016], \"xaxis\": \"x\", \"y\": [1.1], \"yaxis\": \"y\"}, {\"customdata\": [[\"Guinea\", 2.989, 0.152]], \"hoverlabel\": {\"namelength\": 0}, \"hovertemplate\": \"Country=%{customdata[0]}<br>age=%{customdata[1]}<br>doctors=%{customdata[2]}\", \"legendgroup\": \"Guinea\", \"marker\": {\"color\": \"#636efa\", \"symbol\": \"circle\"}, \"mode\": \"markers\", \"name\": \"Guinea\", \"showlegend\": true, \"type\": \"scatter\", \"x\": [2.989], \"xaxis\": \"x\", \"y\": [0.152], \"yaxis\": \"y\"}, {\"customdata\": [[\"Guinea-Bissau\", 1.9069999999999998, 0.177]], \"hoverlabel\": {\"namelength\": 0}, \"hovertemplate\": \"Country=%{customdata[0]}<br>age=%{customdata[1]}<br>doctors=%{customdata[2]}\", \"legendgroup\": \"Guinea-Bissau\", \"marker\": {\"color\": \"#EF553B\", \"symbol\": \"circle\"}, \"mode\": \"markers\", \"name\": \"Guinea-Bissau\", \"showlegend\": true, \"type\": \"scatter\", \"x\": [1.9069999999999998], \"xaxis\": \"x\", \"y\": [0.177], \"yaxis\": \"y\"}, {\"customdata\": [[\"Guyana\", 3.014, 0.493]], \"hoverlabel\": {\"namelength\": 0}, \"hovertemplate\": \"Country=%{customdata[0]}<br>age=%{customdata[1]}<br>doctors=%{customdata[2]}\", \"legendgroup\": \"Guyana\", \"marker\": {\"color\": \"#00cc96\", \"symbol\": \"circle\"}, \"mode\": \"markers\", \"name\": \"Guyana\", \"showlegend\": true, \"type\": \"scatter\", \"x\": [3.014], \"xaxis\": \"x\", \"y\": [0.493], \"yaxis\": \"y\"}, {\"customdata\": [[\"Haiti\", 2.9539999999999997, 0.23600000000000002]], \"hoverlabel\": {\"namelength\": 0}, \"hovertemplate\": \"Country=%{customdata[0]}<br>age=%{customdata[1]}<br>doctors=%{customdata[2]}\", \"legendgroup\": \"Haiti\", \"marker\": {\"color\": \"#ab63fa\", \"symbol\": \"circle\"}, \"mode\": \"markers\", \"name\": \"Haiti\", \"showlegend\": true, \"type\": \"scatter\", \"x\": [2.9539999999999997], \"xaxis\": \"x\", \"y\": [0.23600000000000002], \"yaxis\": \"y\"}, {\"customdata\": [[\"Honduras\", 2.883, 0.8320000000000001]], \"hoverlabel\": {\"namelength\": 0}, \"hovertemplate\": \"Country=%{customdata[0]}<br>age=%{customdata[1]}<br>doctors=%{customdata[2]}\", \"legendgroup\": \"Honduras\", \"marker\": {\"color\": \"#FFA15A\", \"symbol\": \"circle\"}, \"mode\": \"markers\", \"name\": \"Honduras\", \"showlegend\": true, \"type\": \"scatter\", \"x\": [2.883], \"xaxis\": \"x\", \"y\": [0.8320000000000001], \"yaxis\": \"y\"}, {\"customdata\": [[\"Hong Kong\", 10.158, 1.319]], \"hoverlabel\": {\"namelength\": 0}, \"hovertemplate\": \"Country=%{customdata[0]}<br>age=%{customdata[1]}<br>doctors=%{customdata[2]}\", \"legendgroup\": \"Hong Kong\", \"marker\": {\"color\": \"#19d3f3\", \"symbol\": \"circle\"}, \"mode\": \"markers\", \"name\": \"Hong Kong\", \"showlegend\": true, \"type\": \"scatter\", \"x\": [10.158], \"xaxis\": \"x\", \"y\": [1.319], \"yaxis\": \"y\"}, {\"customdata\": [[\"Hungary\", 11.975999999999999, 3.843]], \"hoverlabel\": {\"namelength\": 0}, \"hovertemplate\": \"Country=%{customdata[0]}<br>age=%{customdata[1]}<br>doctors=%{customdata[2]}\", \"legendgroup\": \"Hungary\", \"marker\": {\"color\": \"#FF6692\", \"symbol\": \"circle\"}, \"mode\": \"markers\", \"name\": \"Hungary\", \"showlegend\": true, \"type\": \"scatter\", \"x\": [11.975999999999999], \"xaxis\": \"x\", \"y\": [3.843], \"yaxis\": \"y\"}, {\"customdata\": [[\"Iceland\", 9.207, 3.7910000000000004]], \"hoverlabel\": {\"namelength\": 0}, \"hovertemplate\": \"Country=%{customdata[0]}<br>age=%{customdata[1]}<br>doctors=%{customdata[2]}\", \"legendgroup\": \"Iceland\", \"marker\": {\"color\": \"#B6E880\", \"symbol\": \"circle\"}, \"mode\": \"markers\", \"name\": \"Iceland\", \"showlegend\": true, \"type\": \"scatter\", \"x\": [9.207], \"xaxis\": \"x\", \"y\": [3.7910000000000004], \"yaxis\": \"y\"}, {\"customdata\": [[\"India\", 3.4139999999999997, 1.225]], \"hoverlabel\": {\"namelength\": 0}, \"hovertemplate\": \"Country=%{customdata[0]}<br>age=%{customdata[1]}<br>doctors=%{customdata[2]}\", \"legendgroup\": \"India\", \"marker\": {\"color\": \"#FF97FF\", \"symbol\": \"circle\"}, \"mode\": \"markers\", \"name\": \"India\", \"showlegend\": true, \"type\": \"scatter\", \"x\": [3.4139999999999997], \"xaxis\": \"x\", \"y\": [1.225], \"yaxis\": \"y\"}, {\"customdata\": [[\"Indonesia\", 3.053, 0.28800000000000003]], \"hoverlabel\": {\"namelength\": 0}, \"hovertemplate\": \"Country=%{customdata[0]}<br>age=%{customdata[1]}<br>doctors=%{customdata[2]}\", \"legendgroup\": \"Indonesia\", \"marker\": {\"color\": \"#FECB52\", \"symbol\": \"circle\"}, \"mode\": \"markers\", \"name\": \"Indonesia\", \"showlegend\": true, \"type\": \"scatter\", \"x\": [3.053], \"xaxis\": \"x\", \"y\": [0.28800000000000003], \"yaxis\": \"y\"}, {\"customdata\": [[\"Iran\", 3.32, 1.4909999999999999]], \"hoverlabel\": {\"namelength\": 0}, \"hovertemplate\": \"Country=%{customdata[0]}<br>age=%{customdata[1]}<br>doctors=%{customdata[2]}\", \"legendgroup\": \"Iran\", \"marker\": {\"color\": \"#636efa\", \"symbol\": \"circle\"}, \"mode\": \"markers\", \"name\": \"Iran\", \"showlegend\": true, \"type\": \"scatter\", \"x\": [3.32], \"xaxis\": \"x\", \"y\": [1.4909999999999999], \"yaxis\": \"y\"}, {\"customdata\": [[\"Iraq\", 2.459, 0.8540000000000001]], \"hoverlabel\": {\"namelength\": 0}, \"hovertemplate\": \"Country=%{customdata[0]}<br>age=%{customdata[1]}<br>doctors=%{customdata[2]}\", \"legendgroup\": \"Iraq\", \"marker\": {\"color\": \"#EF553B\", \"symbol\": \"circle\"}, \"mode\": \"markers\", \"name\": \"Iraq\", \"showlegend\": true, \"type\": \"scatter\", \"x\": [2.459], \"xaxis\": \"x\", \"y\": [0.8540000000000001], \"yaxis\": \"y\"}, {\"customdata\": [[\"Ireland\", 8.677999999999999, 3.187]], \"hoverlabel\": {\"namelength\": 0}, \"hovertemplate\": \"Country=%{customdata[0]}<br>age=%{customdata[1]}<br>doctors=%{customdata[2]}\", \"legendgroup\": \"Ireland\", \"marker\": {\"color\": \"#00cc96\", \"symbol\": \"circle\"}, \"mode\": \"markers\", \"name\": \"Ireland\", \"showlegend\": true, \"type\": \"scatter\", \"x\": [8.677999999999999], \"xaxis\": \"x\", \"y\": [3.187], \"yaxis\": \"y\"}, {\"customdata\": [[\"Israel\", 7.519, 4.857]], \"hoverlabel\": {\"namelength\": 0}, \"hovertemplate\": \"Country=%{customdata[0]}<br>age=%{customdata[1]}<br>doctors=%{customdata[2]}\", \"legendgroup\": \"Israel\", \"marker\": {\"color\": \"#ab63fa\", \"symbol\": \"circle\"}, \"mode\": \"markers\", \"name\": \"Israel\", \"showlegend\": true, \"type\": \"scatter\", \"x\": [7.519], \"xaxis\": \"x\", \"y\": [4.857], \"yaxis\": \"y\"}, {\"customdata\": [[\"Italy\", 16.24, 4.4]], \"hoverlabel\": {\"namelength\": 0}, \"hovertemplate\": \"Country=%{customdata[0]}<br>age=%{customdata[1]}<br>doctors=%{customdata[2]}\", \"legendgroup\": \"Italy\", \"marker\": {\"color\": \"#FFA15A\", \"symbol\": \"circle\"}, \"mode\": \"markers\", \"name\": \"Italy\", \"showlegend\": true, \"type\": \"scatter\", \"x\": [16.24], \"xaxis\": \"x\", \"y\": [4.4], \"yaxis\": \"y\"}, {\"customdata\": [[\"Jamaica\", 6.39, 1.401]], \"hoverlabel\": {\"namelength\": 0}, \"hovertemplate\": \"Country=%{customdata[0]}<br>age=%{customdata[1]}<br>doctors=%{customdata[2]}\", \"legendgroup\": \"Jamaica\", \"marker\": {\"color\": \"#19d3f3\", \"symbol\": \"circle\"}, \"mode\": \"markers\", \"name\": \"Jamaica\", \"showlegend\": true, \"type\": \"scatter\", \"x\": [6.39], \"xaxis\": \"x\", \"y\": [1.401], \"yaxis\": \"y\"}, {\"customdata\": [[\"Japan\", 18.493, 2.367]], \"hoverlabel\": {\"namelength\": 0}, \"hovertemplate\": \"Country=%{customdata[0]}<br>age=%{customdata[1]}<br>doctors=%{customdata[2]}\", \"legendgroup\": \"Japan\", \"marker\": {\"color\": \"#FF6692\", \"symbol\": \"circle\"}, \"mode\": \"markers\", \"name\": \"Japan\", \"showlegend\": true, \"type\": \"scatter\", \"x\": [18.493], \"xaxis\": \"x\", \"y\": [2.367], \"yaxis\": \"y\"}, {\"customdata\": [[\"Jordan\", 2.804, 3.426]], \"hoverlabel\": {\"namelength\": 0}, \"hovertemplate\": \"Country=%{customdata[0]}<br>age=%{customdata[1]}<br>doctors=%{customdata[2]}\", \"legendgroup\": \"Jordan\", \"marker\": {\"color\": \"#B6E880\", \"symbol\": \"circle\"}, \"mode\": \"markers\", \"name\": \"Jordan\", \"showlegend\": true, \"type\": \"scatter\", \"x\": [2.804], \"xaxis\": \"x\", \"y\": [3.426], \"yaxis\": \"y\"}, {\"customdata\": [[\"Kazakhstan\", 4.853, 3.9760000000000004]], \"hoverlabel\": {\"namelength\": 0}, \"hovertemplate\": \"Country=%{customdata[0]}<br>age=%{customdata[1]}<br>doctors=%{customdata[2]}\", \"legendgroup\": \"Kazakhstan\", \"marker\": {\"color\": \"#FF97FF\", \"symbol\": \"circle\"}, \"mode\": \"markers\", \"name\": \"Kazakhstan\", \"showlegend\": true, \"type\": \"scatter\", \"x\": [4.853], \"xaxis\": \"x\", \"y\": [3.9760000000000004], \"yaxis\": \"y\"}, {\"customdata\": [[\"Kenya\", 2.164, 0.204]], \"hoverlabel\": {\"namelength\": 0}, \"hovertemplate\": \"Country=%{customdata[0]}<br>age=%{customdata[1]}<br>doctors=%{customdata[2]}\", \"legendgroup\": \"Kenya\", \"marker\": {\"color\": \"#FECB52\", \"symbol\": \"circle\"}, \"mode\": \"markers\", \"name\": \"Kenya\", \"showlegend\": true, \"type\": \"scatter\", \"x\": [2.164], \"xaxis\": \"x\", \"y\": [0.204], \"yaxis\": \"y\"}, {\"customdata\": [[\"Kiribati\", 2.299, 0.613]], \"hoverlabel\": {\"namelength\": 0}, \"hovertemplate\": \"Country=%{customdata[0]}<br>age=%{customdata[1]}<br>doctors=%{customdata[2]}\", \"legendgroup\": \"Kiribati\", \"marker\": {\"color\": \"#636efa\", \"symbol\": \"circle\"}, \"mode\": \"markers\", \"name\": \"Kiribati\", \"showlegend\": true, \"type\": \"scatter\", \"x\": [2.299], \"xaxis\": \"x\", \"y\": [0.613], \"yaxis\": \"y\"}, {\"customdata\": [[\"Kuwait\", 1.6369999999999998, 2.608]], \"hoverlabel\": {\"namelength\": 0}, \"hovertemplate\": \"Country=%{customdata[0]}<br>age=%{customdata[1]}<br>doctors=%{customdata[2]}\", \"legendgroup\": \"Kuwait\", \"marker\": {\"color\": \"#EF553B\", \"symbol\": \"circle\"}, \"mode\": \"markers\", \"name\": \"Kuwait\", \"showlegend\": true, \"type\": \"scatter\", \"x\": [1.6369999999999998], \"xaxis\": \"x\", \"y\": [2.608], \"yaxis\": \"y\"}, {\"customdata\": [[\"Kyrgyzstan\", 4.898, 3.412]], \"hoverlabel\": {\"namelength\": 0}, \"hovertemplate\": \"Country=%{customdata[0]}<br>age=%{customdata[1]}<br>doctors=%{customdata[2]}\", \"legendgroup\": \"Kyrgyzstan\", \"marker\": {\"color\": \"#00cc96\", \"symbol\": \"circle\"}, \"mode\": \"markers\", \"name\": \"Kyrgyzstan\", \"showlegend\": true, \"type\": \"scatter\", \"x\": [4.898], \"xaxis\": \"x\", \"y\": [3.412], \"yaxis\": \"y\"}, {\"customdata\": [[\"Laos\", 2.322, 0.7290000000000001]], \"hoverlabel\": {\"namelength\": 0}, \"hovertemplate\": \"Country=%{customdata[0]}<br>age=%{customdata[1]}<br>doctors=%{customdata[2]}\", \"legendgroup\": \"Laos\", \"marker\": {\"color\": \"#ab63fa\", \"symbol\": \"circle\"}, \"mode\": \"markers\", \"name\": \"Laos\", \"showlegend\": true, \"type\": \"scatter\", \"x\": [2.322], \"xaxis\": \"x\", \"y\": [0.7290000000000001], \"yaxis\": \"y\"}, {\"customdata\": [[\"Latvia\", 14.136, 4.694]], \"hoverlabel\": {\"namelength\": 0}, \"hovertemplate\": \"Country=%{customdata[0]}<br>age=%{customdata[1]}<br>doctors=%{customdata[2]}\", \"legendgroup\": \"Latvia\", \"marker\": {\"color\": \"#FFA15A\", \"symbol\": \"circle\"}, \"mode\": \"markers\", \"name\": \"Latvia\", \"showlegend\": true, \"type\": \"scatter\", \"x\": [14.136], \"xaxis\": \"x\", \"y\": [4.694], \"yaxis\": \"y\"}, {\"customdata\": [[\"Lebanon\", 5.436, 3.424]], \"hoverlabel\": {\"namelength\": 0}, \"hovertemplate\": \"Country=%{customdata[0]}<br>age=%{customdata[1]}<br>doctors=%{customdata[2]}\", \"legendgroup\": \"Lebanon\", \"marker\": {\"color\": \"#19d3f3\", \"symbol\": \"circle\"}, \"mode\": \"markers\", \"name\": \"Lebanon\", \"showlegend\": true, \"type\": \"scatter\", \"x\": [5.436], \"xaxis\": \"x\", \"y\": [3.424], \"yaxis\": \"y\"}, {\"customdata\": [[\"Lesotho\", 2.9560000000000004, 0.071]], \"hoverlabel\": {\"namelength\": 0}, \"hovertemplate\": \"Country=%{customdata[0]}<br>age=%{customdata[1]}<br>doctors=%{customdata[2]}\", \"legendgroup\": \"Lesotho\", \"marker\": {\"color\": \"#FF6692\", \"symbol\": \"circle\"}, \"mode\": \"markers\", \"name\": \"Lesotho\", \"showlegend\": true, \"type\": \"scatter\", \"x\": [2.9560000000000004], \"xaxis\": \"x\", \"y\": [0.071], \"yaxis\": \"y\"}, {\"customdata\": [[\"Liberia\", 1.7630000000000001, 0.107]], \"hoverlabel\": {\"namelength\": 0}, \"hovertemplate\": \"Country=%{customdata[0]}<br>age=%{customdata[1]}<br>doctors=%{customdata[2]}\", \"legendgroup\": \"Liberia\", \"marker\": {\"color\": \"#B6E880\", \"symbol\": \"circle\"}, \"mode\": \"markers\", \"name\": \"Liberia\", \"showlegend\": true, \"type\": \"scatter\", \"x\": [1.7630000000000001], \"xaxis\": \"x\", \"y\": [0.107], \"yaxis\": \"y\"}, {\"customdata\": [[\"Libya\", 3.028, 2.092]], \"hoverlabel\": {\"namelength\": 0}, \"hovertemplate\": \"Country=%{customdata[0]}<br>age=%{customdata[1]}<br>doctors=%{customdata[2]}\", \"legendgroup\": \"Libya\", \"marker\": {\"color\": \"#FF97FF\", \"symbol\": \"circle\"}, \"mode\": \"markers\", \"name\": \"Libya\", \"showlegend\": true, \"type\": \"scatter\", \"x\": [3.028], \"xaxis\": \"x\", \"y\": [2.092], \"yaxis\": \"y\"}, {\"customdata\": [[\"Lithuania\", 13.777999999999999, 4.379]], \"hoverlabel\": {\"namelength\": 0}, \"hovertemplate\": \"Country=%{customdata[0]}<br>age=%{customdata[1]}<br>doctors=%{customdata[2]}\", \"legendgroup\": \"Lithuania\", \"marker\": {\"color\": \"#FECB52\", \"symbol\": \"circle\"}, \"mode\": \"markers\", \"name\": \"Lithuania\", \"showlegend\": true, \"type\": \"scatter\", \"x\": [13.777999999999999], \"xaxis\": \"x\", \"y\": [4.379], \"yaxis\": \"y\"}, {\"customdata\": [[\"Luxembourg\", 10.267999999999999, 2.9210000000000003]], \"hoverlabel\": {\"namelength\": 0}, \"hovertemplate\": \"Country=%{customdata[0]}<br>age=%{customdata[1]}<br>doctors=%{customdata[2]}\", \"legendgroup\": \"Luxembourg\", \"marker\": {\"color\": \"#636efa\", \"symbol\": \"circle\"}, \"mode\": \"markers\", \"name\": \"Luxembourg\", \"showlegend\": true, \"type\": \"scatter\", \"x\": [10.267999999999999], \"xaxis\": \"x\", \"y\": [2.9210000000000003], \"yaxis\": \"y\"}, {\"customdata\": [[\"Macao\", 5.044, 2.428]], \"hoverlabel\": {\"namelength\": 0}, \"hovertemplate\": \"Country=%{customdata[0]}<br>age=%{customdata[1]}<br>doctors=%{customdata[2]}\", \"legendgroup\": \"Macao\", \"marker\": {\"color\": \"#EF553B\", \"symbol\": \"circle\"}, \"mode\": \"markers\", \"name\": \"Macao\", \"showlegend\": true, \"type\": \"scatter\", \"x\": [5.044], \"xaxis\": \"x\", \"y\": [2.428], \"yaxis\": \"y\"}, {\"customdata\": [[\"Macedonia\", 8.16, 2.875]], \"hoverlabel\": {\"namelength\": 0}, \"hovertemplate\": \"Country=%{customdata[0]}<br>age=%{customdata[1]}<br>doctors=%{customdata[2]}\", \"legendgroup\": \"Macedonia\", \"marker\": {\"color\": \"#00cc96\", \"symbol\": \"circle\"}, \"mode\": \"markers\", \"name\": \"Macedonia\", \"showlegend\": true, \"type\": \"scatter\", \"x\": [8.16], \"xaxis\": \"x\", \"y\": [2.875], \"yaxis\": \"y\"}, {\"customdata\": [[\"Madagascar\", 2.025, 0.272]], \"hoverlabel\": {\"namelength\": 0}, \"hovertemplate\": \"Country=%{customdata[0]}<br>age=%{customdata[1]}<br>doctors=%{customdata[2]}\", \"legendgroup\": \"Madagascar\", \"marker\": {\"color\": \"#ab63fa\", \"symbol\": \"circle\"}, \"mode\": \"markers\", \"name\": \"Madagascar\", \"showlegend\": true, \"type\": \"scatter\", \"x\": [2.025], \"xaxis\": \"x\", \"y\": [0.272], \"yaxis\": \"y\"}, {\"customdata\": [[\"Malawi\", 1.795, 0.087]], \"hoverlabel\": {\"namelength\": 0}, \"hovertemplate\": \"Country=%{customdata[0]}<br>age=%{customdata[1]}<br>doctors=%{customdata[2]}\", \"legendgroup\": \"Malawi\", \"marker\": {\"color\": \"#FFA15A\", \"symbol\": \"circle\"}, \"mode\": \"markers\", \"name\": \"Malawi\", \"showlegend\": true, \"type\": \"scatter\", \"x\": [1.795], \"xaxis\": \"x\", \"y\": [0.087], \"yaxis\": \"y\"}, {\"customdata\": [[\"Malaysia\", 3.407, 1.5330000000000001]], \"hoverlabel\": {\"namelength\": 0}, \"hovertemplate\": \"Country=%{customdata[0]}<br>age=%{customdata[1]}<br>doctors=%{customdata[2]}\", \"legendgroup\": \"Malaysia\", \"marker\": {\"color\": \"#19d3f3\", \"symbol\": \"circle\"}, \"mode\": \"markers\", \"name\": \"Malaysia\", \"showlegend\": true, \"type\": \"scatter\", \"x\": [3.407], \"xaxis\": \"x\", \"y\": [1.5330000000000001], \"yaxis\": \"y\"}, {\"customdata\": [[\"Maldives\", 2.925, 3.611]], \"hoverlabel\": {\"namelength\": 0}, \"hovertemplate\": \"Country=%{customdata[0]}<br>age=%{customdata[1]}<br>doctors=%{customdata[2]}\", \"legendgroup\": \"Maldives\", \"marker\": {\"color\": \"#FF6692\", \"symbol\": \"circle\"}, \"mode\": \"markers\", \"name\": \"Maldives\", \"showlegend\": true, \"type\": \"scatter\", \"x\": [2.925], \"xaxis\": \"x\", \"y\": [3.611], \"yaxis\": \"y\"}, {\"customdata\": [[\"Mali\", 2.1630000000000003, 0.085]], \"hoverlabel\": {\"namelength\": 0}, \"hovertemplate\": \"Country=%{customdata[0]}<br>age=%{customdata[1]}<br>doctors=%{customdata[2]}\", \"legendgroup\": \"Mali\", \"marker\": {\"color\": \"#B6E880\", \"symbol\": \"circle\"}, \"mode\": \"markers\", \"name\": \"Mali\", \"showlegend\": true, \"type\": \"scatter\", \"x\": [2.1630000000000003], \"xaxis\": \"x\", \"y\": [0.085], \"yaxis\": \"y\"}, {\"customdata\": [[\"Malta\", 11.324000000000002, 3.908]], \"hoverlabel\": {\"namelength\": 0}, \"hovertemplate\": \"Country=%{customdata[0]}<br>age=%{customdata[1]}<br>doctors=%{customdata[2]}\", \"legendgroup\": \"Malta\", \"marker\": {\"color\": \"#FF97FF\", \"symbol\": \"circle\"}, \"mode\": \"markers\", \"name\": \"Malta\", \"showlegend\": true, \"type\": \"scatter\", \"x\": [11.324000000000002], \"xaxis\": \"x\", \"y\": [3.908], \"yaxis\": \"y\"}, {\"customdata\": [[\"Mauritania\", 1.829, 0.138]], \"hoverlabel\": {\"namelength\": 0}, \"hovertemplate\": \"Country=%{customdata[0]}<br>age=%{customdata[1]}<br>doctors=%{customdata[2]}\", \"legendgroup\": \"Mauritania\", \"marker\": {\"color\": \"#FECB52\", \"symbol\": \"circle\"}, \"mode\": \"markers\", \"name\": \"Mauritania\", \"showlegend\": true, \"type\": \"scatter\", \"x\": [1.829], \"xaxis\": \"x\", \"y\": [0.138], \"yaxis\": \"y\"}, {\"customdata\": [[\"Mauritius\", 5.8839999999999995, 2.003]], \"hoverlabel\": {\"namelength\": 0}, \"hovertemplate\": \"Country=%{customdata[0]}<br>age=%{customdata[1]}<br>doctors=%{customdata[2]}\", \"legendgroup\": \"Mauritius\", \"marker\": {\"color\": \"#636efa\", \"symbol\": \"circle\"}, \"mode\": \"markers\", \"name\": \"Mauritius\", \"showlegend\": true, \"type\": \"scatter\", \"x\": [5.8839999999999995], \"xaxis\": \"x\", \"y\": [2.003], \"yaxis\": \"y\"}, {\"customdata\": [[\"Mexico\", 4.321000000000001, 2.8930000000000002]], \"hoverlabel\": {\"namelength\": 0}, \"hovertemplate\": \"Country=%{customdata[0]}<br>age=%{customdata[1]}<br>doctors=%{customdata[2]}\", \"legendgroup\": \"Mexico\", \"marker\": {\"color\": \"#EF553B\", \"symbol\": \"circle\"}, \"mode\": \"markers\", \"name\": \"Mexico\", \"showlegend\": true, \"type\": \"scatter\", \"x\": [4.321000000000001], \"xaxis\": \"x\", \"y\": [2.8930000000000002], \"yaxis\": \"y\"}, {\"customdata\": [[\"Micronesia (country)\", 2.7560000000000002, 0.613]], \"hoverlabel\": {\"namelength\": 0}, \"hovertemplate\": \"Country=%{customdata[0]}<br>age=%{customdata[1]}<br>doctors=%{customdata[2]}\", \"legendgroup\": \"Micronesia (country)\", \"marker\": {\"color\": \"#00cc96\", \"symbol\": \"circle\"}, \"mode\": \"markers\", \"name\": \"Micronesia (country)\", \"showlegend\": true, \"type\": \"scatter\", \"x\": [2.7560000000000002], \"xaxis\": \"x\", \"y\": [0.613], \"yaxis\": \"y\"}, {\"customdata\": [[\"Moldova\", 7.068, 3.6310000000000002]], \"hoverlabel\": {\"namelength\": 0}, \"hovertemplate\": \"Country=%{customdata[0]}<br>age=%{customdata[1]}<br>doctors=%{customdata[2]}\", \"legendgroup\": \"Moldova\", \"marker\": {\"color\": \"#ab63fa\", \"symbol\": \"circle\"}, \"mode\": \"markers\", \"name\": \"Moldova\", \"showlegend\": true, \"type\": \"scatter\", \"x\": [7.068], \"xaxis\": \"x\", \"y\": [3.6310000000000002], \"yaxis\": \"y\"}, {\"customdata\": [[\"Mongolia\", 2.79, 3.262]], \"hoverlabel\": {\"namelength\": 0}, \"hovertemplate\": \"Country=%{customdata[0]}<br>age=%{customdata[1]}<br>doctors=%{customdata[2]}\", \"legendgroup\": \"Mongolia\", \"marker\": {\"color\": \"#FFA15A\", \"symbol\": \"circle\"}, \"mode\": \"markers\", \"name\": \"Mongolia\", \"showlegend\": true, \"type\": \"scatter\", \"x\": [2.79], \"xaxis\": \"x\", \"y\": [3.262], \"yaxis\": \"y\"}, {\"customdata\": [[\"Montenegro\", 9.416, 2.343]], \"hoverlabel\": {\"namelength\": 0}, \"hovertemplate\": \"Country=%{customdata[0]}<br>age=%{customdata[1]}<br>doctors=%{customdata[2]}\", \"legendgroup\": \"Montenegro\", \"marker\": {\"color\": \"#19d3f3\", \"symbol\": \"circle\"}, \"mode\": \"markers\", \"name\": \"Montenegro\", \"showlegend\": true, \"type\": \"scatter\", \"x\": [9.416], \"xaxis\": \"x\", \"y\": [2.343], \"yaxis\": \"y\"}, {\"customdata\": [[\"Morocco\", 4.209, 0.652]], \"hoverlabel\": {\"namelength\": 0}, \"hovertemplate\": \"Country=%{customdata[0]}<br>age=%{customdata[1]}<br>doctors=%{customdata[2]}\", \"legendgroup\": \"Morocco\", \"marker\": {\"color\": \"#FF6692\", \"symbol\": \"circle\"}, \"mode\": \"markers\", \"name\": \"Morocco\", \"showlegend\": true, \"type\": \"scatter\", \"x\": [4.209], \"xaxis\": \"x\", \"y\": [0.652], \"yaxis\": \"y\"}, {\"customdata\": [[\"Mozambique\", 1.871, 0.055999999999999994]], \"hoverlabel\": {\"namelength\": 0}, \"hovertemplate\": \"Country=%{customdata[0]}<br>age=%{customdata[1]}<br>doctors=%{customdata[2]}\", \"legendgroup\": \"Mozambique\", \"marker\": {\"color\": \"#B6E880\", \"symbol\": \"circle\"}, \"mode\": \"markers\", \"name\": \"Mozambique\", \"showlegend\": true, \"type\": \"scatter\", \"x\": [1.871], \"xaxis\": \"x\", \"y\": [0.055999999999999994], \"yaxis\": \"y\"}, {\"customdata\": [[\"Myanmar\", 3.12, 0.568]], \"hoverlabel\": {\"namelength\": 0}, \"hovertemplate\": \"Country=%{customdata[0]}<br>age=%{customdata[1]}<br>doctors=%{customdata[2]}\", \"legendgroup\": \"Myanmar\", \"marker\": {\"color\": \"#FF97FF\", \"symbol\": \"circle\"}, \"mode\": \"markers\", \"name\": \"Myanmar\", \"showlegend\": true, \"type\": \"scatter\", \"x\": [3.12], \"xaxis\": \"x\", \"y\": [0.568], \"yaxis\": \"y\"}, {\"customdata\": [[\"Namibia\", 2.323, 0.374]], \"hoverlabel\": {\"namelength\": 0}, \"hovertemplate\": \"Country=%{customdata[0]}<br>age=%{customdata[1]}<br>doctors=%{customdata[2]}\", \"legendgroup\": \"Namibia\", \"marker\": {\"color\": \"#FECB52\", \"symbol\": \"circle\"}, \"mode\": \"markers\", \"name\": \"Namibia\", \"showlegend\": true, \"type\": \"scatter\", \"x\": [2.323], \"xaxis\": \"x\", \"y\": [0.374], \"yaxis\": \"y\"}, {\"customdata\": [[\"Nepal\", 3.2119999999999997, 0.598]], \"hoverlabel\": {\"namelength\": 0}, \"hovertemplate\": \"Country=%{customdata[0]}<br>age=%{customdata[1]}<br>doctors=%{customdata[2]}\", \"legendgroup\": \"Nepal\", \"marker\": {\"color\": \"#636efa\", \"symbol\": \"circle\"}, \"mode\": \"markers\", \"name\": \"Nepal\", \"showlegend\": true, \"type\": \"scatter\", \"x\": [3.2119999999999997], \"xaxis\": \"x\", \"y\": [0.598], \"yaxis\": \"y\"}, {\"customdata\": [[\"Netherlands\", 11.880999999999998, 3.9210000000000003]], \"hoverlabel\": {\"namelength\": 0}, \"hovertemplate\": \"Country=%{customdata[0]}<br>age=%{customdata[1]}<br>doctors=%{customdata[2]}\", \"legendgroup\": \"Netherlands\", \"marker\": {\"color\": \"#EF553B\", \"symbol\": \"circle\"}, \"mode\": \"markers\", \"name\": \"Netherlands\", \"showlegend\": true, \"type\": \"scatter\", \"x\": [11.880999999999998], \"xaxis\": \"x\", \"y\": [3.9210000000000003], \"yaxis\": \"y\"}, {\"customdata\": [[\"New Caledonia\", 6.489, 1.982]], \"hoverlabel\": {\"namelength\": 0}, \"hovertemplate\": \"Country=%{customdata[0]}<br>age=%{customdata[1]}<br>doctors=%{customdata[2]}\", \"legendgroup\": \"New Caledonia\", \"marker\": {\"color\": \"#00cc96\", \"symbol\": \"circle\"}, \"mode\": \"markers\", \"name\": \"New Caledonia\", \"showlegend\": true, \"type\": \"scatter\", \"x\": [6.489], \"xaxis\": \"x\", \"y\": [1.982], \"yaxis\": \"y\"}, {\"customdata\": [[\"New Zealand\", 9.72, 3.0610000000000004]], \"hoverlabel\": {\"namelength\": 0}, \"hovertemplate\": \"Country=%{customdata[0]}<br>age=%{customdata[1]}<br>doctors=%{customdata[2]}\", \"legendgroup\": \"New Zealand\", \"marker\": {\"color\": \"#ab63fa\", \"symbol\": \"circle\"}, \"mode\": \"markers\", \"name\": \"New Zealand\", \"showlegend\": true, \"type\": \"scatter\", \"x\": [9.72], \"xaxis\": \"x\", \"y\": [3.0610000000000004], \"yaxis\": \"y\"}, {\"customdata\": [[\"Nicaragua\", 3.5189999999999997, 0.9159999999999999]], \"hoverlabel\": {\"namelength\": 0}, \"hovertemplate\": \"Country=%{customdata[0]}<br>age=%{customdata[1]}<br>doctors=%{customdata[2]}\", \"legendgroup\": \"Nicaragua\", \"marker\": {\"color\": \"#FFA15A\", \"symbol\": \"circle\"}, \"mode\": \"markers\", \"name\": \"Nicaragua\", \"showlegend\": true, \"type\": \"scatter\", \"x\": [3.5189999999999997], \"xaxis\": \"x\", \"y\": [0.9159999999999999], \"yaxis\": \"y\"}, {\"customdata\": [[\"Niger\", 1.3780000000000001, 0.035]], \"hoverlabel\": {\"namelength\": 0}, \"hovertemplate\": \"Country=%{customdata[0]}<br>age=%{customdata[1]}<br>doctors=%{customdata[2]}\", \"legendgroup\": \"Niger\", \"marker\": {\"color\": \"#19d3f3\", \"symbol\": \"circle\"}, \"mode\": \"markers\", \"name\": \"Niger\", \"showlegend\": true, \"type\": \"scatter\", \"x\": [1.3780000000000001], \"xaxis\": \"x\", \"y\": [0.035], \"yaxis\": \"y\"}, {\"customdata\": [[\"Nigeria\", 1.535, 0.395]], \"hoverlabel\": {\"namelength\": 0}, \"hovertemplate\": \"Country=%{customdata[0]}<br>age=%{customdata[1]}<br>doctors=%{customdata[2]}\", \"legendgroup\": \"Nigeria\", \"marker\": {\"color\": \"#FF6692\", \"symbol\": \"circle\"}, \"mode\": \"markers\", \"name\": \"Nigeria\", \"showlegend\": true, \"type\": \"scatter\", \"x\": [1.535], \"xaxis\": \"x\", \"y\": [0.395], \"yaxis\": \"y\"}, {\"customdata\": [[\"North Korea\", 6.138999999999999, 3.5069999999999997]], \"hoverlabel\": {\"namelength\": 0}, \"hovertemplate\": \"Country=%{customdata[0]}<br>age=%{customdata[1]}<br>doctors=%{customdata[2]}\", \"legendgroup\": \"North Korea\", \"marker\": {\"color\": \"#B6E880\", \"symbol\": \"circle\"}, \"mode\": \"markers\", \"name\": \"North Korea\", \"showlegend\": true, \"type\": \"scatter\", \"x\": [6.138999999999999], \"xaxis\": \"x\", \"y\": [3.5069999999999997], \"yaxis\": \"y\"}, {\"customdata\": [[\"Norway\", 11.814, 4.42]], \"hoverlabel\": {\"namelength\": 0}, \"hovertemplate\": \"Country=%{customdata[0]}<br>age=%{customdata[1]}<br>doctors=%{customdata[2]}\", \"legendgroup\": \"Norway\", \"marker\": {\"color\": \"#FF97FF\", \"symbol\": \"circle\"}, \"mode\": \"markers\", \"name\": \"Norway\", \"showlegend\": true, \"type\": \"scatter\", \"x\": [11.814], \"xaxis\": \"x\", \"y\": [4.42], \"yaxis\": \"y\"}, {\"customdata\": [[\"Oman\", 1.6909999999999998, 2.0140000000000002]], \"hoverlabel\": {\"namelength\": 0}, \"hovertemplate\": \"Country=%{customdata[0]}<br>age=%{customdata[1]}<br>doctors=%{customdata[2]}\", \"legendgroup\": \"Oman\", \"marker\": {\"color\": \"#FECB52\", \"symbol\": \"circle\"}, \"mode\": \"markers\", \"name\": \"Oman\", \"showlegend\": true, \"type\": \"scatter\", \"x\": [1.6909999999999998], \"xaxis\": \"x\", \"y\": [2.0140000000000002], \"yaxis\": \"y\"}, {\"customdata\": [[\"Pakistan\", 3.698, 0.978]], \"hoverlabel\": {\"namelength\": 0}, \"hovertemplate\": \"Country=%{customdata[0]}<br>age=%{customdata[1]}<br>doctors=%{customdata[2]}\", \"legendgroup\": \"Pakistan\", \"marker\": {\"color\": \"#636efa\", \"symbol\": \"circle\"}, \"mode\": \"markers\", \"name\": \"Pakistan\", \"showlegend\": true, \"type\": \"scatter\", \"x\": [3.698], \"xaxis\": \"x\", \"y\": [0.978], \"yaxis\": \"y\"}, {\"customdata\": [[\"Palestine\", 2.824, 0.8370000000000001]], \"hoverlabel\": {\"namelength\": 0}, \"hovertemplate\": \"Country=%{customdata[0]}<br>age=%{customdata[1]}<br>doctors=%{customdata[2]}\", \"legendgroup\": \"Palestine\", \"marker\": {\"color\": \"#EF553B\", \"symbol\": \"circle\"}, \"mode\": \"markers\", \"name\": \"Palestine\", \"showlegend\": true, \"type\": \"scatter\", \"x\": [2.824], \"xaxis\": \"x\", \"y\": [0.8370000000000001], \"yaxis\": \"y\"}, {\"customdata\": [[\"Panama\", 5.03, 1.7930000000000001]], \"hoverlabel\": {\"namelength\": 0}, \"hovertemplate\": \"Country=%{customdata[0]}<br>age=%{customdata[1]}<br>doctors=%{customdata[2]}\", \"legendgroup\": \"Panama\", \"marker\": {\"color\": \"#00cc96\", \"symbol\": \"circle\"}, \"mode\": \"markers\", \"name\": \"Panama\", \"showlegend\": true, \"type\": \"scatter\", \"x\": [5.03], \"xaxis\": \"x\", \"y\": [1.7930000000000001], \"yaxis\": \"y\"}, {\"customdata\": [[\"Papua New Guinea\", 2.3409999999999997, 0.162]], \"hoverlabel\": {\"namelength\": 0}, \"hovertemplate\": \"Country=%{customdata[0]}<br>age=%{customdata[1]}<br>doctors=%{customdata[2]}\", \"legendgroup\": \"Papua New Guinea\", \"marker\": {\"color\": \"#ab63fa\", \"symbol\": \"circle\"}, \"mode\": \"markers\", \"name\": \"Papua New Guinea\", \"showlegend\": true, \"type\": \"scatter\", \"x\": [2.3409999999999997], \"xaxis\": \"x\", \"y\": [0.162], \"yaxis\": \"y\"}, {\"customdata\": [[\"Paraguay\", 3.833, 1.286]], \"hoverlabel\": {\"namelength\": 0}, \"hovertemplate\": \"Country=%{customdata[0]}<br>age=%{customdata[1]}<br>doctors=%{customdata[2]}\", \"legendgroup\": \"Paraguay\", \"marker\": {\"color\": \"#FFA15A\", \"symbol\": \"circle\"}, \"mode\": \"markers\", \"name\": \"Paraguay\", \"showlegend\": true, \"type\": \"scatter\", \"x\": [3.833], \"xaxis\": \"x\", \"y\": [1.286], \"yaxis\": \"y\"}, {\"customdata\": [[\"Peru\", 4.455, 1.166]], \"hoverlabel\": {\"namelength\": 0}, \"hovertemplate\": \"Country=%{customdata[0]}<br>age=%{customdata[1]}<br>doctors=%{customdata[2]}\", \"legendgroup\": \"Peru\", \"marker\": {\"color\": \"#19d3f3\", \"symbol\": \"circle\"}, \"mode\": \"markers\", \"name\": \"Peru\", \"showlegend\": true, \"type\": \"scatter\", \"x\": [4.455], \"xaxis\": \"x\", \"y\": [1.166], \"yaxis\": \"y\"}, {\"customdata\": [[\"Philippines\", 2.661, 1.24]], \"hoverlabel\": {\"namelength\": 0}, \"hovertemplate\": \"Country=%{customdata[0]}<br>age=%{customdata[1]}<br>doctors=%{customdata[2]}\", \"legendgroup\": \"Philippines\", \"marker\": {\"color\": \"#FF6692\", \"symbol\": \"circle\"}, \"mode\": \"markers\", \"name\": \"Philippines\", \"showlegend\": true, \"type\": \"scatter\", \"x\": [2.661], \"xaxis\": \"x\", \"y\": [1.24], \"yaxis\": \"y\"}, {\"customdata\": [[\"Poland\", 10.202, 2.469]], \"hoverlabel\": {\"namelength\": 0}, \"hovertemplate\": \"Country=%{customdata[0]}<br>age=%{customdata[1]}<br>doctors=%{customdata[2]}\", \"legendgroup\": \"Poland\", \"marker\": {\"color\": \"#B6E880\", \"symbol\": \"circle\"}, \"mode\": \"markers\", \"name\": \"Poland\", \"showlegend\": true, \"type\": \"scatter\", \"x\": [10.202], \"xaxis\": \"x\", \"y\": [2.469], \"yaxis\": \"y\"}, {\"customdata\": [[\"Portugal\", 14.924000000000001, 4.426]], \"hoverlabel\": {\"namelength\": 0}, \"hovertemplate\": \"Country=%{customdata[0]}<br>age=%{customdata[1]}<br>doctors=%{customdata[2]}\", \"legendgroup\": \"Portugal\", \"marker\": {\"color\": \"#FF97FF\", \"symbol\": \"circle\"}, \"mode\": \"markers\", \"name\": \"Portugal\", \"showlegend\": true, \"type\": \"scatter\", \"x\": [14.924000000000001], \"xaxis\": \"x\", \"y\": [4.426], \"yaxis\": \"y\"}, {\"customdata\": [[\"Puerto Rico\", 9.829, 1.75]], \"hoverlabel\": {\"namelength\": 0}, \"hovertemplate\": \"Country=%{customdata[0]}<br>age=%{customdata[1]}<br>doctors=%{customdata[2]}\", \"legendgroup\": \"Puerto Rico\", \"marker\": {\"color\": \"#FECB52\", \"symbol\": \"circle\"}, \"mode\": \"markers\", \"name\": \"Puerto Rico\", \"showlegend\": true, \"type\": \"scatter\", \"x\": [9.829], \"xaxis\": \"x\", \"y\": [1.75], \"yaxis\": \"y\"}, {\"customdata\": [[\"Qatar\", 1.82, 3.9189999999999996]], \"hoverlabel\": {\"namelength\": 0}, \"hovertemplate\": \"Country=%{customdata[0]}<br>age=%{customdata[1]}<br>doctors=%{customdata[2]}\", \"legendgroup\": \"Qatar\", \"marker\": {\"color\": \"#636efa\", \"symbol\": \"circle\"}, \"mode\": \"markers\", \"name\": \"Qatar\", \"showlegend\": true, \"type\": \"scatter\", \"x\": [1.82], \"xaxis\": \"x\", \"y\": [3.9189999999999996], \"yaxis\": \"y\"}, {\"customdata\": [[\"Romania\", 11.69, 2.6689999999999996]], \"hoverlabel\": {\"namelength\": 0}, \"hovertemplate\": \"Country=%{customdata[0]}<br>age=%{customdata[1]}<br>doctors=%{customdata[2]}\", \"legendgroup\": \"Romania\", \"marker\": {\"color\": \"#EF553B\", \"symbol\": \"circle\"}, \"mode\": \"markers\", \"name\": \"Romania\", \"showlegend\": true, \"type\": \"scatter\", \"x\": [11.69], \"xaxis\": \"x\", \"y\": [2.6689999999999996], \"yaxis\": \"y\"}, {\"customdata\": [[\"Russia\", 9.946, 5.0]], \"hoverlabel\": {\"namelength\": 0}, \"hovertemplate\": \"Country=%{customdata[0]}<br>age=%{customdata[1]}<br>doctors=%{customdata[2]}\", \"legendgroup\": \"Russia\", \"marker\": {\"color\": \"#00cc96\", \"symbol\": \"circle\"}, \"mode\": \"markers\", \"name\": \"Russia\", \"showlegend\": true, \"type\": \"scatter\", \"x\": [9.946], \"xaxis\": \"x\", \"y\": [5.0], \"yaxis\": \"y\"}, {\"customdata\": [[\"Rwanda\", 1.9180000000000001, 0.064]], \"hoverlabel\": {\"namelength\": 0}, \"hovertemplate\": \"Country=%{customdata[0]}<br>age=%{customdata[1]}<br>doctors=%{customdata[2]}\", \"legendgroup\": \"Rwanda\", \"marker\": {\"color\": \"#ab63fa\", \"symbol\": \"circle\"}, \"mode\": \"markers\", \"name\": \"Rwanda\", \"showlegend\": true, \"type\": \"scatter\", \"x\": [1.9180000000000001], \"xaxis\": \"x\", \"y\": [0.064], \"yaxis\": \"y\"}, {\"customdata\": [[\"Saint Lucia\", 6.405, 0.8190000000000001]], \"hoverlabel\": {\"namelength\": 0}, \"hovertemplate\": \"Country=%{customdata[0]}<br>age=%{customdata[1]}<br>doctors=%{customdata[2]}\", \"legendgroup\": \"Saint Lucia\", \"marker\": {\"color\": \"#FFA15A\", \"symbol\": \"circle\"}, \"mode\": \"markers\", \"name\": \"Saint Lucia\", \"showlegend\": true, \"type\": \"scatter\", \"x\": [6.405], \"xaxis\": \"x\", \"y\": [0.8190000000000001], \"yaxis\": \"y\"}, {\"customdata\": [[\"Saint Vincent and the Grenadines\", 4.832, 0.935]], \"hoverlabel\": {\"namelength\": 0}, \"hovertemplate\": \"Country=%{customdata[0]}<br>age=%{customdata[1]}<br>doctors=%{customdata[2]}\", \"legendgroup\": \"Saint Vincent and the Grenadines\", \"marker\": {\"color\": \"#19d3f3\", \"symbol\": \"circle\"}, \"mode\": \"markers\", \"name\": \"Saint Vincent and the Grenadines\", \"showlegend\": true, \"type\": \"scatter\", \"x\": [4.832], \"xaxis\": \"x\", \"y\": [0.935], \"yaxis\": \"y\"}, {\"customdata\": [[\"Samoa\", 3.5639999999999996, 0.691]], \"hoverlabel\": {\"namelength\": 0}, \"hovertemplate\": \"Country=%{customdata[0]}<br>age=%{customdata[1]}<br>doctors=%{customdata[2]}\", \"legendgroup\": \"Samoa\", \"marker\": {\"color\": \"#FF6692\", \"symbol\": \"circle\"}, \"mode\": \"markers\", \"name\": \"Samoa\", \"showlegend\": true, \"type\": \"scatter\", \"x\": [3.5639999999999996], \"xaxis\": \"x\", \"y\": [0.691], \"yaxis\": \"y\"}, {\"customdata\": [[\"Sao Tome and Principe\", 3.1660000000000004, 0.546]], \"hoverlabel\": {\"namelength\": 0}, \"hovertemplate\": \"Country=%{customdata[0]}<br>age=%{customdata[1]}<br>doctors=%{customdata[2]}\", \"legendgroup\": \"Sao Tome and Principe\", \"marker\": {\"color\": \"#B6E880\", \"symbol\": \"circle\"}, \"mode\": \"markers\", \"name\": \"Sao Tome and Principe\", \"showlegend\": true, \"type\": \"scatter\", \"x\": [3.1660000000000004], \"xaxis\": \"x\", \"y\": [0.546], \"yaxis\": \"y\"}, {\"customdata\": [[\"Saudi Arabia\", 1.999, 2.568]], \"hoverlabel\": {\"namelength\": 0}, \"hovertemplate\": \"Country=%{customdata[0]}<br>age=%{customdata[1]}<br>doctors=%{customdata[2]}\", \"legendgroup\": \"Saudi Arabia\", \"marker\": {\"color\": \"#FF97FF\", \"symbol\": \"circle\"}, \"mode\": \"markers\", \"name\": \"Saudi Arabia\", \"showlegend\": true, \"type\": \"scatter\", \"x\": [1.999], \"xaxis\": \"x\", \"y\": [2.568], \"yaxis\": \"y\"}, {\"customdata\": [[\"Senegal\", 1.867, 0.096]], \"hoverlabel\": {\"namelength\": 0}, \"hovertemplate\": \"Country=%{customdata[0]}<br>age=%{customdata[1]}<br>doctors=%{customdata[2]}\", \"legendgroup\": \"Senegal\", \"marker\": {\"color\": \"#FECB52\", \"symbol\": \"circle\"}, \"mode\": \"markers\", \"name\": \"Senegal\", \"showlegend\": true, \"type\": \"scatter\", \"x\": [1.867], \"xaxis\": \"x\", \"y\": [0.096], \"yaxis\": \"y\"}, {\"customdata\": [[\"Seychelles\", 5.586, 1.385]], \"hoverlabel\": {\"namelength\": 0}, \"hovertemplate\": \"Country=%{customdata[0]}<br>age=%{customdata[1]}<br>doctors=%{customdata[2]}\", \"legendgroup\": \"Seychelles\", \"marker\": {\"color\": \"#636efa\", \"symbol\": \"circle\"}, \"mode\": \"markers\", \"name\": \"Seychelles\", \"showlegend\": true, \"type\": \"scatter\", \"x\": [5.586], \"xaxis\": \"x\", \"y\": [1.385], \"yaxis\": \"y\"}, {\"customdata\": [[\"Sierra Leone\", 1.5719999999999998, 0.075]], \"hoverlabel\": {\"namelength\": 0}, \"hovertemplate\": \"Country=%{customdata[0]}<br>age=%{customdata[1]}<br>doctors=%{customdata[2]}\", \"legendgroup\": \"Sierra Leone\", \"marker\": {\"color\": \"#EF553B\", \"symbol\": \"circle\"}, \"mode\": \"markers\", \"name\": \"Sierra Leone\", \"showlegend\": true, \"type\": \"scatter\", \"x\": [1.5719999999999998], \"xaxis\": \"x\", \"y\": [0.075], \"yaxis\": \"y\"}, {\"customdata\": [[\"Singapore\", 7.0489999999999995, 2.276]], \"hoverlabel\": {\"namelength\": 0}, \"hovertemplate\": \"Country=%{customdata[0]}<br>age=%{customdata[1]}<br>doctors=%{customdata[2]}\", \"legendgroup\": \"Singapore\", \"marker\": {\"color\": \"#00cc96\", \"symbol\": \"circle\"}, \"mode\": \"markers\", \"name\": \"Singapore\", \"showlegend\": true, \"type\": \"scatter\", \"x\": [7.0489999999999995], \"xaxis\": \"x\", \"y\": [2.276], \"yaxis\": \"y\"}, {\"customdata\": [[\"Slovakia\", 9.167, 3.45]], \"hoverlabel\": {\"namelength\": 0}, \"hovertemplate\": \"Country=%{customdata[0]}<br>age=%{customdata[1]}<br>doctors=%{customdata[2]}\", \"legendgroup\": \"Slovakia\", \"marker\": {\"color\": \"#ab63fa\", \"symbol\": \"circle\"}, \"mode\": \"markers\", \"name\": \"Slovakia\", \"showlegend\": true, \"type\": \"scatter\", \"x\": [9.167], \"xaxis\": \"x\", \"y\": [3.45], \"yaxis\": \"y\"}, {\"customdata\": [[\"Slovenia\", 12.93, 2.82]], \"hoverlabel\": {\"namelength\": 0}, \"hovertemplate\": \"Country=%{customdata[0]}<br>age=%{customdata[1]}<br>doctors=%{customdata[2]}\", \"legendgroup\": \"Slovenia\", \"marker\": {\"color\": \"#FFA15A\", \"symbol\": \"circle\"}, \"mode\": \"markers\", \"name\": \"Slovenia\", \"showlegend\": true, \"type\": \"scatter\", \"x\": [12.93], \"xaxis\": \"x\", \"y\": [2.82], \"yaxis\": \"y\"}, {\"customdata\": [[\"Solomon Islands\", 2.209, 0.22399999999999998]], \"hoverlabel\": {\"namelength\": 0}, \"hovertemplate\": \"Country=%{customdata[0]}<br>age=%{customdata[1]}<br>doctors=%{customdata[2]}\", \"legendgroup\": \"Solomon Islands\", \"marker\": {\"color\": \"#19d3f3\", \"symbol\": \"circle\"}, \"mode\": \"markers\", \"name\": \"Solomon Islands\", \"showlegend\": true, \"type\": \"scatter\", \"x\": [2.209], \"xaxis\": \"x\", \"y\": [0.22399999999999998], \"yaxis\": \"y\"}, {\"customdata\": [[\"Somalia\", 1.785, 0.071]], \"hoverlabel\": {\"namelength\": 0}, \"hovertemplate\": \"Country=%{customdata[0]}<br>age=%{customdata[1]}<br>doctors=%{customdata[2]}\", \"legendgroup\": \"Somalia\", \"marker\": {\"color\": \"#FF6692\", \"symbol\": \"circle\"}, \"mode\": \"markers\", \"name\": \"Somalia\", \"showlegend\": true, \"type\": \"scatter\", \"x\": [1.785], \"xaxis\": \"x\", \"y\": [0.071], \"yaxis\": \"y\"}, {\"customdata\": [[\"South Africa\", 3.053, 0.818]], \"hoverlabel\": {\"namelength\": 0}, \"hovertemplate\": \"Country=%{customdata[0]}<br>age=%{customdata[1]}<br>doctors=%{customdata[2]}\", \"legendgroup\": \"South Africa\", \"marker\": {\"color\": \"#B6E880\", \"symbol\": \"circle\"}, \"mode\": \"markers\", \"name\": \"South Africa\", \"showlegend\": true, \"type\": \"scatter\", \"x\": [3.053], \"xaxis\": \"x\", \"y\": [0.818], \"yaxis\": \"y\"}, {\"customdata\": [[\"South Korea\", 8.622, 2.326]], \"hoverlabel\": {\"namelength\": 0}, \"hovertemplate\": \"Country=%{customdata[0]}<br>age=%{customdata[1]}<br>doctors=%{customdata[2]}\", \"legendgroup\": \"South Korea\", \"marker\": {\"color\": \"#FF97FF\", \"symbol\": \"circle\"}, \"mode\": \"markers\", \"name\": \"South Korea\", \"showlegend\": true, \"type\": \"scatter\", \"x\": [8.622], \"xaxis\": \"x\", \"y\": [2.326], \"yaxis\": \"y\"}, {\"customdata\": [[\"Spain\", 13.799000000000001, 4.731]], \"hoverlabel\": {\"namelength\": 0}, \"hovertemplate\": \"Country=%{customdata[0]}<br>age=%{customdata[1]}<br>doctors=%{customdata[2]}\", \"legendgroup\": \"Spain\", \"marker\": {\"color\": \"#FECB52\", \"symbol\": \"circle\"}, \"mode\": \"markers\", \"name\": \"Spain\", \"showlegend\": true, \"type\": \"scatter\", \"x\": [13.799000000000001], \"xaxis\": \"x\", \"y\": [4.731], \"yaxis\": \"y\"}, {\"customdata\": [[\"Sri Lanka\", 6.607, 0.8809999999999999]], \"hoverlabel\": {\"namelength\": 0}, \"hovertemplate\": \"Country=%{customdata[0]}<br>age=%{customdata[1]}<br>doctors=%{customdata[2]}\", \"legendgroup\": \"Sri Lanka\", \"marker\": {\"color\": \"#636efa\", \"symbol\": \"circle\"}, \"mode\": \"markers\", \"name\": \"Sri Lanka\", \"showlegend\": true, \"type\": \"scatter\", \"x\": [6.607], \"xaxis\": \"x\", \"y\": [0.8809999999999999], \"yaxis\": \"y\"}, {\"customdata\": [[\"Sub-Saharan Africa\", 1.77, 0.193216275180392]], \"hoverlabel\": {\"namelength\": 0}, \"hovertemplate\": \"Country=%{customdata[0]}<br>age=%{customdata[1]}<br>doctors=%{customdata[2]}\", \"legendgroup\": \"Sub-Saharan Africa\", \"marker\": {\"color\": \"#EF553B\", \"symbol\": \"circle\"}, \"mode\": \"markers\", \"name\": \"Sub-Saharan Africa\", \"showlegend\": true, \"type\": \"scatter\", \"x\": [1.77], \"xaxis\": \"x\", \"y\": [0.193216275180392], \"yaxis\": \"y\"}, {\"customdata\": [[\"Sudan\", 2.0340000000000003, 0.33799999999999997]], \"hoverlabel\": {\"namelength\": 0}, \"hovertemplate\": \"Country=%{customdata[0]}<br>age=%{customdata[1]}<br>doctors=%{customdata[2]}\", \"legendgroup\": \"Sudan\", \"marker\": {\"color\": \"#00cc96\", \"symbol\": \"circle\"}, \"mode\": \"markers\", \"name\": \"Sudan\", \"showlegend\": true, \"type\": \"scatter\", \"x\": [2.0340000000000003], \"xaxis\": \"x\", \"y\": [0.33799999999999997], \"yaxis\": \"y\"}, {\"customdata\": [[\"Suriname\", 4.229, 0.8170000000000001]], \"hoverlabel\": {\"namelength\": 0}, \"hovertemplate\": \"Country=%{customdata[0]}<br>age=%{customdata[1]}<br>doctors=%{customdata[2]}\", \"legendgroup\": \"Suriname\", \"marker\": {\"color\": \"#ab63fa\", \"symbol\": \"circle\"}, \"mode\": \"markers\", \"name\": \"Suriname\", \"showlegend\": true, \"type\": \"scatter\", \"x\": [4.229], \"xaxis\": \"x\", \"y\": [0.8170000000000001], \"yaxis\": \"y\"}, {\"customdata\": [[\"Swaziland\", 1.8519999999999999, 0.16699999999999998]], \"hoverlabel\": {\"namelength\": 0}, \"hovertemplate\": \"Country=%{customdata[0]}<br>age=%{customdata[1]}<br>doctors=%{customdata[2]}\", \"legendgroup\": \"Swaziland\", \"marker\": {\"color\": \"#FFA15A\", \"symbol\": \"circle\"}, \"mode\": \"markers\", \"name\": \"Swaziland\", \"showlegend\": true, \"type\": \"scatter\", \"x\": [1.8519999999999999], \"xaxis\": \"x\", \"y\": [0.16699999999999998], \"yaxis\": \"y\"}, {\"customdata\": [[\"Sweden\", 13.433, 4.188]], \"hoverlabel\": {\"namelength\": 0}, \"hovertemplate\": \"Country=%{customdata[0]}<br>age=%{customdata[1]}<br>doctors=%{customdata[2]}\", \"legendgroup\": \"Sweden\", \"marker\": {\"color\": \"#19d3f3\", \"symbol\": \"circle\"}, \"mode\": \"markers\", \"name\": \"Sweden\", \"showlegend\": true, \"type\": \"scatter\", \"x\": [13.433], \"xaxis\": \"x\", \"y\": [4.188], \"yaxis\": \"y\"}, {\"customdata\": [[\"Switzerland\", 12.644, 4.248]], \"hoverlabel\": {\"namelength\": 0}, \"hovertemplate\": \"Country=%{customdata[0]}<br>age=%{customdata[1]}<br>doctors=%{customdata[2]}\", \"legendgroup\": \"Switzerland\", \"marker\": {\"color\": \"#FF6692\", \"symbol\": \"circle\"}, \"mode\": \"markers\", \"name\": \"Switzerland\", \"showlegend\": true, \"type\": \"scatter\", \"x\": [12.644], \"xaxis\": \"x\", \"y\": [4.248], \"yaxis\": \"y\"}, {\"customdata\": [[\"Tajikistan\", 3.052, 2.697]], \"hoverlabel\": {\"namelength\": 0}, \"hovertemplate\": \"Country=%{customdata[0]}<br>age=%{customdata[1]}<br>doctors=%{customdata[2]}\", \"legendgroup\": \"Tajikistan\", \"marker\": {\"color\": \"#B6E880\", \"symbol\": \"circle\"}, \"mode\": \"markers\", \"name\": \"Tajikistan\", \"showlegend\": true, \"type\": \"scatter\", \"x\": [3.052], \"xaxis\": \"x\", \"y\": [2.697], \"yaxis\": \"y\"}, {\"customdata\": [[\"Tanzania\", 1.875, 0.055]], \"hoverlabel\": {\"namelength\": 0}, \"hovertemplate\": \"Country=%{customdata[0]}<br>age=%{customdata[1]}<br>doctors=%{customdata[2]}\", \"legendgroup\": \"Tanzania\", \"marker\": {\"color\": \"#FF97FF\", \"symbol\": \"circle\"}, \"mode\": \"markers\", \"name\": \"Tanzania\", \"showlegend\": true, \"type\": \"scatter\", \"x\": [1.875], \"xaxis\": \"x\", \"y\": [0.055], \"yaxis\": \"y\"}, {\"customdata\": [[\"Thailand\", 6.89, 0.47]], \"hoverlabel\": {\"namelength\": 0}, \"hovertemplate\": \"Country=%{customdata[0]}<br>age=%{customdata[1]}<br>doctors=%{customdata[2]}\", \"legendgroup\": \"Thailand\", \"marker\": {\"color\": \"#FECB52\", \"symbol\": \"circle\"}, \"mode\": \"markers\", \"name\": \"Thailand\", \"showlegend\": true, \"type\": \"scatter\", \"x\": [6.89], \"xaxis\": \"x\", \"y\": [0.47], \"yaxis\": \"y\"}, {\"customdata\": [[\"Timor\", 1.8969999999999998, 0.08199999999999999]], \"hoverlabel\": {\"namelength\": 0}, \"hovertemplate\": \"Country=%{customdata[0]}<br>age=%{customdata[1]}<br>doctors=%{customdata[2]}\", \"legendgroup\": \"Timor\", \"marker\": {\"color\": \"#636efa\", \"symbol\": \"circle\"}, \"mode\": \"markers\", \"name\": \"Timor\", \"showlegend\": true, \"type\": \"scatter\", \"x\": [1.8969999999999998], \"xaxis\": \"x\", \"y\": [0.08199999999999999], \"yaxis\": \"y\"}, {\"customdata\": [[\"Togo\", 2.411, 0.11699999999999999]], \"hoverlabel\": {\"namelength\": 0}, \"hovertemplate\": \"Country=%{customdata[0]}<br>age=%{customdata[1]}<br>doctors=%{customdata[2]}\", \"legendgroup\": \"Togo\", \"marker\": {\"color\": \"#EF553B\", \"symbol\": \"circle\"}, \"mode\": \"markers\", \"name\": \"Togo\", \"showlegend\": true, \"type\": \"scatter\", \"x\": [2.411], \"xaxis\": \"x\", \"y\": [0.11699999999999999], \"yaxis\": \"y\"}, {\"customdata\": [[\"Tonga\", 4.073, 0.602]], \"hoverlabel\": {\"namelength\": 0}, \"hovertemplate\": \"Country=%{customdata[0]}<br>age=%{customdata[1]}<br>doctors=%{customdata[2]}\", \"legendgroup\": \"Tonga\", \"marker\": {\"color\": \"#00cc96\", \"symbol\": \"circle\"}, \"mode\": \"markers\", \"name\": \"Tonga\", \"showlegend\": true, \"type\": \"scatter\", \"x\": [4.073], \"xaxis\": \"x\", \"y\": [0.602], \"yaxis\": \"y\"}, {\"customdata\": [[\"Trinidad and Tobago\", 5.819, 1.821]], \"hoverlabel\": {\"namelength\": 0}, \"hovertemplate\": \"Country=%{customdata[0]}<br>age=%{customdata[1]}<br>doctors=%{customdata[2]}\", \"legendgroup\": \"Trinidad and Tobago\", \"marker\": {\"color\": \"#ab63fa\", \"symbol\": \"circle\"}, \"mode\": \"markers\", \"name\": \"Trinidad and Tobago\", \"showlegend\": true, \"type\": \"scatter\", \"x\": [5.819], \"xaxis\": \"x\", \"y\": [1.821], \"yaxis\": \"y\"}, {\"customdata\": [[\"Tunisia\", 5.146, 1.331]], \"hoverlabel\": {\"namelength\": 0}, \"hovertemplate\": \"Country=%{customdata[0]}<br>age=%{customdata[1]}<br>doctors=%{customdata[2]}\", \"legendgroup\": \"Tunisia\", \"marker\": {\"color\": \"#FFA15A\", \"symbol\": \"circle\"}, \"mode\": \"markers\", \"name\": \"Tunisia\", \"showlegend\": true, \"type\": \"scatter\", \"x\": [5.146], \"xaxis\": \"x\", \"y\": [1.331], \"yaxis\": \"y\"}, {\"customdata\": [[\"Turkey\", 5.061, 1.755]], \"hoverlabel\": {\"namelength\": 0}, \"hovertemplate\": \"Country=%{customdata[0]}<br>age=%{customdata[1]}<br>doctors=%{customdata[2]}\", \"legendgroup\": \"Turkey\", \"marker\": {\"color\": \"#19d3f3\", \"symbol\": \"circle\"}, \"mode\": \"markers\", \"name\": \"Turkey\", \"showlegend\": true, \"type\": \"scatter\", \"x\": [5.061], \"xaxis\": \"x\", \"y\": [1.755], \"yaxis\": \"y\"}, {\"customdata\": [[\"Turkmenistan\", 3.4930000000000003, 4.355]], \"hoverlabel\": {\"namelength\": 0}, \"hovertemplate\": \"Country=%{customdata[0]}<br>age=%{customdata[1]}<br>doctors=%{customdata[2]}\", \"legendgroup\": \"Turkmenistan\", \"marker\": {\"color\": \"#FF6692\", \"symbol\": \"circle\"}, \"mode\": \"markers\", \"name\": \"Turkmenistan\", \"showlegend\": true, \"type\": \"scatter\", \"x\": [3.4930000000000003], \"xaxis\": \"x\", \"y\": [4.355], \"yaxis\": \"y\"}, {\"customdata\": [[\"Uganda\", 1.651, 0.12]], \"hoverlabel\": {\"namelength\": 0}, \"hovertemplate\": \"Country=%{customdata[0]}<br>age=%{customdata[1]}<br>doctors=%{customdata[2]}\", \"legendgroup\": \"Uganda\", \"marker\": {\"color\": \"#B6E880\", \"symbol\": \"circle\"}, \"mode\": \"markers\", \"name\": \"Uganda\", \"showlegend\": true, \"type\": \"scatter\", \"x\": [1.651], \"xaxis\": \"x\", \"y\": [0.12], \"yaxis\": \"y\"}, {\"customdata\": [[\"Ukraine\", 11.610999999999999, 4.407]], \"hoverlabel\": {\"namelength\": 0}, \"hovertemplate\": \"Country=%{customdata[0]}<br>age=%{customdata[1]}<br>doctors=%{customdata[2]}\", \"legendgroup\": \"Ukraine\", \"marker\": {\"color\": \"#FF97FF\", \"symbol\": \"circle\"}, \"mode\": \"markers\", \"name\": \"Ukraine\", \"showlegend\": true, \"type\": \"scatter\", \"x\": [11.610999999999999], \"xaxis\": \"x\", \"y\": [4.407], \"yaxis\": \"y\"}, {\"customdata\": [[\"United Arab Emirates\", 1.896, 1.929]], \"hoverlabel\": {\"namelength\": 0}, \"hovertemplate\": \"Country=%{customdata[0]}<br>age=%{customdata[1]}<br>doctors=%{customdata[2]}\", \"legendgroup\": \"United Arab Emirates\", \"marker\": {\"color\": \"#FECB52\", \"symbol\": \"circle\"}, \"mode\": \"markers\", \"name\": \"United Arab Emirates\", \"showlegend\": true, \"type\": \"scatter\", \"x\": [1.896], \"xaxis\": \"x\", \"y\": [1.929], \"yaxis\": \"y\"}, {\"customdata\": [[\"United Kingdom\", 12.527000000000001, 2.825]], \"hoverlabel\": {\"namelength\": 0}, \"hovertemplate\": \"Country=%{customdata[0]}<br>age=%{customdata[1]}<br>doctors=%{customdata[2]}\", \"legendgroup\": \"United Kingdom\", \"marker\": {\"color\": \"#636efa\", \"symbol\": \"circle\"}, \"mode\": \"markers\", \"name\": \"United Kingdom\", \"showlegend\": true, \"type\": \"scatter\", \"x\": [12.527000000000001], \"xaxis\": \"x\", \"y\": [2.825], \"yaxis\": \"y\"}, {\"customdata\": [[\"United States\", 9.732000000000001, 2.7039999999999997]], \"hoverlabel\": {\"namelength\": 0}, \"hovertemplate\": \"Country=%{customdata[0]}<br>age=%{customdata[1]}<br>doctors=%{customdata[2]}\", \"legendgroup\": \"United States\", \"marker\": {\"color\": \"#EF553B\", \"symbol\": \"circle\"}, \"mode\": \"markers\", \"name\": \"United States\", \"showlegend\": true, \"type\": \"scatter\", \"x\": [9.732000000000001], \"xaxis\": \"x\", \"y\": [2.7039999999999997], \"yaxis\": \"y\"}, {\"customdata\": [[\"United States Virgin Islands\", 10.799000000000001, 1.65]], \"hoverlabel\": {\"namelength\": 0}, \"hovertemplate\": \"Country=%{customdata[0]}<br>age=%{customdata[1]}<br>doctors=%{customdata[2]}\", \"legendgroup\": \"United States Virgin Islands\", \"marker\": {\"color\": \"#00cc96\", \"symbol\": \"circle\"}, \"mode\": \"markers\", \"name\": \"United States Virgin Islands\", \"showlegend\": true, \"type\": \"scatter\", \"x\": [10.799000000000001], \"xaxis\": \"x\", \"y\": [1.65], \"yaxis\": \"y\"}, {\"customdata\": [[\"Uruguay\", 10.360999999999999, 4.181]], \"hoverlabel\": {\"namelength\": 0}, \"hovertemplate\": \"Country=%{customdata[0]}<br>age=%{customdata[1]}<br>doctors=%{customdata[2]}\", \"legendgroup\": \"Uruguay\", \"marker\": {\"color\": \"#ab63fa\", \"symbol\": \"circle\"}, \"mode\": \"markers\", \"name\": \"Uruguay\", \"showlegend\": true, \"type\": \"scatter\", \"x\": [10.360999999999999], \"xaxis\": \"x\", \"y\": [4.181], \"yaxis\": \"y\"}, {\"customdata\": [[\"Uzbekistan\", 3.6719999999999997, 3.425]], \"hoverlabel\": {\"namelength\": 0}, \"hovertemplate\": \"Country=%{customdata[0]}<br>age=%{customdata[1]}<br>doctors=%{customdata[2]}\", \"legendgroup\": \"Uzbekistan\", \"marker\": {\"color\": \"#FFA15A\", \"symbol\": \"circle\"}, \"mode\": \"markers\", \"name\": \"Uzbekistan\", \"showlegend\": true, \"type\": \"scatter\", \"x\": [3.6719999999999997], \"xaxis\": \"x\", \"y\": [3.425], \"yaxis\": \"y\"}, {\"customdata\": [[\"Vanuatu\", 2.62, 0.301]], \"hoverlabel\": {\"namelength\": 0}, \"hovertemplate\": \"Country=%{customdata[0]}<br>age=%{customdata[1]}<br>doctors=%{customdata[2]}\", \"legendgroup\": \"Vanuatu\", \"marker\": {\"color\": \"#19d3f3\", \"symbol\": \"circle\"}, \"mode\": \"markers\", \"name\": \"Vanuatu\", \"showlegend\": true, \"type\": \"scatter\", \"x\": [2.62], \"xaxis\": \"x\", \"y\": [0.301], \"yaxis\": \"y\"}, {\"customdata\": [[\"Venezuela\", 3.915, 1.94]], \"hoverlabel\": {\"namelength\": 0}, \"hovertemplate\": \"Country=%{customdata[0]}<br>age=%{customdata[1]}<br>doctors=%{customdata[2]}\", \"legendgroup\": \"Venezuela\", \"marker\": {\"color\": \"#FF6692\", \"symbol\": \"circle\"}, \"mode\": \"markers\", \"name\": \"Venezuela\", \"showlegend\": true, \"type\": \"scatter\", \"x\": [3.915], \"xaxis\": \"x\", \"y\": [1.94], \"yaxis\": \"y\"}, {\"customdata\": [[\"Vietnam\", 4.796, 1.18]], \"hoverlabel\": {\"namelength\": 0}, \"hovertemplate\": \"Country=%{customdata[0]}<br>age=%{customdata[1]}<br>doctors=%{customdata[2]}\", \"legendgroup\": \"Vietnam\", \"marker\": {\"color\": \"#B6E880\", \"symbol\": \"circle\"}, \"mode\": \"markers\", \"name\": \"Vietnam\", \"showlegend\": true, \"type\": \"scatter\", \"x\": [4.796], \"xaxis\": \"x\", \"y\": [1.18], \"yaxis\": \"y\"}, {\"customdata\": [[\"World\", 5.355, 1.4890209888016]], \"hoverlabel\": {\"namelength\": 0}, \"hovertemplate\": \"Country=%{customdata[0]}<br>age=%{customdata[1]}<br>doctors=%{customdata[2]}\", \"legendgroup\": \"World\", \"marker\": {\"color\": \"#FF97FF\", \"symbol\": \"circle\"}, \"mode\": \"markers\", \"name\": \"World\", \"showlegend\": true, \"type\": \"scatter\", \"x\": [5.355], \"xaxis\": \"x\", \"y\": [1.4890209888016], \"yaxis\": \"y\"}, {\"customdata\": [[\"Yemen\", 2.218, 0.33799999999999997]], \"hoverlabel\": {\"namelength\": 0}, \"hovertemplate\": \"Country=%{customdata[0]}<br>age=%{customdata[1]}<br>doctors=%{customdata[2]}\", \"legendgroup\": \"Yemen\", \"marker\": {\"color\": \"#FECB52\", \"symbol\": \"circle\"}, \"mode\": \"markers\", \"name\": \"Yemen\", \"showlegend\": true, \"type\": \"scatter\", \"x\": [2.218], \"xaxis\": \"x\", \"y\": [0.33799999999999997], \"yaxis\": \"y\"}, {\"customdata\": [[\"Zambia\", 1.56, 0.162]], \"hoverlabel\": {\"namelength\": 0}, \"hovertemplate\": \"Country=%{customdata[0]}<br>age=%{customdata[1]}<br>doctors=%{customdata[2]}\", \"legendgroup\": \"Zambia\", \"marker\": {\"color\": \"#636efa\", \"symbol\": \"circle\"}, \"mode\": \"markers\", \"name\": \"Zambia\", \"showlegend\": true, \"type\": \"scatter\", \"x\": [1.56], \"xaxis\": \"x\", \"y\": [0.162], \"yaxis\": \"y\"}, {\"customdata\": [[\"Zimbabwe\", 1.986, 0.20199999999999999]], \"hoverlabel\": {\"namelength\": 0}, \"hovertemplate\": \"Country=%{customdata[0]}<br>age=%{customdata[1]}<br>doctors=%{customdata[2]}\", \"legendgroup\": \"Zimbabwe\", \"marker\": {\"color\": \"#EF553B\", \"symbol\": \"circle\"}, \"mode\": \"markers\", \"name\": \"Zimbabwe\", \"showlegend\": true, \"type\": \"scatter\", \"x\": [1.986], \"xaxis\": \"x\", \"y\": [0.20199999999999999], \"yaxis\": \"y\"}],\n",
       "                        {\"annotations\": [{\"font\": {\"color\": \"rgb(150,150,150)\", \"family\": \"Arial\", \"size\": 12}, \"showarrow\": false, \"text\": \"Source: https://ourworldindata.org/\", \"x\": 0.5, \"xanchor\": \"center\", \"xref\": \"paper\", \"y\": -0.16, \"yanchor\": \"top\", \"yref\": \"paper\"}, {\"font\": {\"color\": \"rgb(37,37,37)\", \"family\": \"Arial\", \"size\": 30}, \"showarrow\": false, \"text\": \"Countries risk according population age/doctors per 1000\", \"x\": 0.0, \"xanchor\": \"left\", \"xref\": \"paper\", \"y\": 1.05, \"yanchor\": \"bottom\", \"yref\": \"paper\"}], \"legend\": {\"title\": {\"text\": \"Country\"}, \"tracegroupgap\": 0}, \"margin\": {\"t\": 60}, \"plot_bgcolor\": \"white\", \"template\": {\"data\": {\"bar\": [{\"error_x\": {\"color\": \"#2a3f5f\"}, \"error_y\": {\"color\": \"#2a3f5f\"}, \"marker\": {\"line\": {\"color\": \"#E5ECF6\", \"width\": 0.5}}, \"type\": \"bar\"}], \"barpolar\": [{\"marker\": {\"line\": {\"color\": \"#E5ECF6\", \"width\": 0.5}}, \"type\": \"barpolar\"}], \"carpet\": [{\"aaxis\": {\"endlinecolor\": \"#2a3f5f\", \"gridcolor\": \"white\", \"linecolor\": \"white\", \"minorgridcolor\": \"white\", \"startlinecolor\": \"#2a3f5f\"}, \"baxis\": {\"endlinecolor\": \"#2a3f5f\", \"gridcolor\": \"white\", \"linecolor\": \"white\", \"minorgridcolor\": \"white\", \"startlinecolor\": \"#2a3f5f\"}, \"type\": \"carpet\"}], \"choropleth\": [{\"colorbar\": {\"outlinewidth\": 0, \"ticks\": \"\"}, \"type\": \"choropleth\"}], \"contour\": [{\"colorbar\": {\"outlinewidth\": 0, \"ticks\": \"\"}, \"colorscale\": [[0.0, \"#0d0887\"], [0.1111111111111111, \"#46039f\"], [0.2222222222222222, \"#7201a8\"], [0.3333333333333333, \"#9c179e\"], [0.4444444444444444, \"#bd3786\"], [0.5555555555555556, \"#d8576b\"], [0.6666666666666666, \"#ed7953\"], [0.7777777777777778, \"#fb9f3a\"], [0.8888888888888888, \"#fdca26\"], [1.0, \"#f0f921\"]], \"type\": \"contour\"}], \"contourcarpet\": [{\"colorbar\": {\"outlinewidth\": 0, \"ticks\": \"\"}, \"type\": \"contourcarpet\"}], \"heatmap\": [{\"colorbar\": {\"outlinewidth\": 0, \"ticks\": \"\"}, \"colorscale\": [[0.0, \"#0d0887\"], [0.1111111111111111, \"#46039f\"], [0.2222222222222222, \"#7201a8\"], [0.3333333333333333, \"#9c179e\"], [0.4444444444444444, \"#bd3786\"], [0.5555555555555556, \"#d8576b\"], [0.6666666666666666, \"#ed7953\"], [0.7777777777777778, \"#fb9f3a\"], [0.8888888888888888, \"#fdca26\"], [1.0, \"#f0f921\"]], \"type\": \"heatmap\"}], \"heatmapgl\": [{\"colorbar\": {\"outlinewidth\": 0, \"ticks\": \"\"}, \"colorscale\": [[0.0, \"#0d0887\"], [0.1111111111111111, \"#46039f\"], [0.2222222222222222, \"#7201a8\"], [0.3333333333333333, \"#9c179e\"], [0.4444444444444444, \"#bd3786\"], [0.5555555555555556, \"#d8576b\"], [0.6666666666666666, \"#ed7953\"], [0.7777777777777778, \"#fb9f3a\"], [0.8888888888888888, \"#fdca26\"], [1.0, \"#f0f921\"]], \"type\": \"heatmapgl\"}], \"histogram\": [{\"marker\": {\"colorbar\": {\"outlinewidth\": 0, \"ticks\": \"\"}}, \"type\": \"histogram\"}], \"histogram2d\": [{\"colorbar\": {\"outlinewidth\": 0, \"ticks\": \"\"}, \"colorscale\": [[0.0, \"#0d0887\"], [0.1111111111111111, \"#46039f\"], [0.2222222222222222, \"#7201a8\"], [0.3333333333333333, \"#9c179e\"], [0.4444444444444444, \"#bd3786\"], [0.5555555555555556, \"#d8576b\"], [0.6666666666666666, \"#ed7953\"], [0.7777777777777778, \"#fb9f3a\"], [0.8888888888888888, \"#fdca26\"], [1.0, \"#f0f921\"]], \"type\": \"histogram2d\"}], \"histogram2dcontour\": [{\"colorbar\": {\"outlinewidth\": 0, \"ticks\": \"\"}, \"colorscale\": [[0.0, \"#0d0887\"], [0.1111111111111111, \"#46039f\"], [0.2222222222222222, \"#7201a8\"], [0.3333333333333333, \"#9c179e\"], [0.4444444444444444, \"#bd3786\"], [0.5555555555555556, \"#d8576b\"], [0.6666666666666666, \"#ed7953\"], [0.7777777777777778, \"#fb9f3a\"], [0.8888888888888888, \"#fdca26\"], [1.0, \"#f0f921\"]], \"type\": \"histogram2dcontour\"}], \"mesh3d\": [{\"colorbar\": {\"outlinewidth\": 0, \"ticks\": \"\"}, \"type\": \"mesh3d\"}], \"parcoords\": [{\"line\": {\"colorbar\": {\"outlinewidth\": 0, \"ticks\": \"\"}}, \"type\": \"parcoords\"}], \"pie\": [{\"automargin\": true, \"type\": \"pie\"}], \"scatter\": [{\"marker\": {\"colorbar\": {\"outlinewidth\": 0, \"ticks\": \"\"}}, \"type\": \"scatter\"}], \"scatter3d\": [{\"line\": {\"colorbar\": {\"outlinewidth\": 0, \"ticks\": \"\"}}, \"marker\": {\"colorbar\": {\"outlinewidth\": 0, \"ticks\": \"\"}}, \"type\": \"scatter3d\"}], \"scattercarpet\": [{\"marker\": {\"colorbar\": {\"outlinewidth\": 0, \"ticks\": \"\"}}, \"type\": \"scattercarpet\"}], \"scattergeo\": [{\"marker\": {\"colorbar\": {\"outlinewidth\": 0, \"ticks\": \"\"}}, \"type\": \"scattergeo\"}], \"scattergl\": [{\"marker\": {\"colorbar\": {\"outlinewidth\": 0, \"ticks\": \"\"}}, \"type\": \"scattergl\"}], \"scattermapbox\": [{\"marker\": {\"colorbar\": {\"outlinewidth\": 0, \"ticks\": \"\"}}, \"type\": \"scattermapbox\"}], \"scatterpolar\": [{\"marker\": {\"colorbar\": {\"outlinewidth\": 0, \"ticks\": \"\"}}, \"type\": \"scatterpolar\"}], \"scatterpolargl\": [{\"marker\": {\"colorbar\": {\"outlinewidth\": 0, \"ticks\": \"\"}}, \"type\": \"scatterpolargl\"}], \"scatterternary\": [{\"marker\": {\"colorbar\": {\"outlinewidth\": 0, \"ticks\": \"\"}}, \"type\": \"scatterternary\"}], \"surface\": [{\"colorbar\": {\"outlinewidth\": 0, \"ticks\": \"\"}, \"colorscale\": [[0.0, \"#0d0887\"], [0.1111111111111111, \"#46039f\"], [0.2222222222222222, \"#7201a8\"], [0.3333333333333333, \"#9c179e\"], [0.4444444444444444, \"#bd3786\"], [0.5555555555555556, \"#d8576b\"], [0.6666666666666666, \"#ed7953\"], [0.7777777777777778, \"#fb9f3a\"], [0.8888888888888888, \"#fdca26\"], [1.0, \"#f0f921\"]], \"type\": \"surface\"}], \"table\": [{\"cells\": {\"fill\": {\"color\": \"#EBF0F8\"}, \"line\": {\"color\": \"white\"}}, \"header\": {\"fill\": {\"color\": \"#C8D4E3\"}, \"line\": {\"color\": \"white\"}}, \"type\": \"table\"}]}, \"layout\": {\"annotationdefaults\": {\"arrowcolor\": \"#2a3f5f\", \"arrowhead\": 0, \"arrowwidth\": 1}, \"coloraxis\": {\"colorbar\": {\"outlinewidth\": 0, \"ticks\": \"\"}}, \"colorscale\": {\"diverging\": [[0, \"#8e0152\"], [0.1, \"#c51b7d\"], [0.2, \"#de77ae\"], [0.3, \"#f1b6da\"], [0.4, \"#fde0ef\"], [0.5, \"#f7f7f7\"], [0.6, \"#e6f5d0\"], [0.7, \"#b8e186\"], [0.8, \"#7fbc41\"], [0.9, \"#4d9221\"], [1, \"#276419\"]], \"sequential\": [[0.0, \"#0d0887\"], [0.1111111111111111, \"#46039f\"], [0.2222222222222222, \"#7201a8\"], [0.3333333333333333, \"#9c179e\"], [0.4444444444444444, \"#bd3786\"], [0.5555555555555556, \"#d8576b\"], [0.6666666666666666, \"#ed7953\"], [0.7777777777777778, \"#fb9f3a\"], [0.8888888888888888, \"#fdca26\"], [1.0, \"#f0f921\"]], \"sequentialminus\": [[0.0, \"#0d0887\"], [0.1111111111111111, \"#46039f\"], [0.2222222222222222, \"#7201a8\"], [0.3333333333333333, \"#9c179e\"], [0.4444444444444444, \"#bd3786\"], [0.5555555555555556, \"#d8576b\"], [0.6666666666666666, \"#ed7953\"], [0.7777777777777778, \"#fb9f3a\"], [0.8888888888888888, \"#fdca26\"], [1.0, \"#f0f921\"]]}, \"colorway\": [\"#636efa\", \"#EF553B\", \"#00cc96\", \"#ab63fa\", \"#FFA15A\", \"#19d3f3\", \"#FF6692\", \"#B6E880\", \"#FF97FF\", \"#FECB52\"], \"font\": {\"color\": \"#2a3f5f\"}, \"geo\": {\"bgcolor\": \"white\", \"lakecolor\": \"white\", \"landcolor\": \"#E5ECF6\", \"showlakes\": true, \"showland\": true, \"subunitcolor\": \"white\"}, \"hoverlabel\": {\"align\": \"left\"}, \"hovermode\": \"closest\", \"mapbox\": {\"style\": \"light\"}, \"paper_bgcolor\": \"white\", \"plot_bgcolor\": \"#E5ECF6\", \"polar\": {\"angularaxis\": {\"gridcolor\": \"white\", \"linecolor\": \"white\", \"ticks\": \"\"}, \"bgcolor\": \"#E5ECF6\", \"radialaxis\": {\"gridcolor\": \"white\", \"linecolor\": \"white\", \"ticks\": \"\"}}, \"scene\": {\"xaxis\": {\"backgroundcolor\": \"#E5ECF6\", \"gridcolor\": \"white\", \"gridwidth\": 2, \"linecolor\": \"white\", \"showbackground\": true, \"ticks\": \"\", \"zerolinecolor\": \"white\"}, \"yaxis\": {\"backgroundcolor\": \"#E5ECF6\", \"gridcolor\": \"white\", \"gridwidth\": 2, \"linecolor\": \"white\", \"showbackground\": true, \"ticks\": \"\", \"zerolinecolor\": \"white\"}, \"zaxis\": {\"backgroundcolor\": \"#E5ECF6\", \"gridcolor\": \"white\", \"gridwidth\": 2, \"linecolor\": \"white\", \"showbackground\": true, \"ticks\": \"\", \"zerolinecolor\": \"white\"}}, \"shapedefaults\": {\"line\": {\"color\": \"#2a3f5f\"}}, \"ternary\": {\"aaxis\": {\"gridcolor\": \"white\", \"linecolor\": \"white\", \"ticks\": \"\"}, \"baxis\": {\"gridcolor\": \"white\", \"linecolor\": \"white\", \"ticks\": \"\"}, \"bgcolor\": \"#E5ECF6\", \"caxis\": {\"gridcolor\": \"white\", \"linecolor\": \"white\", \"ticks\": \"\"}}, \"title\": {\"x\": 0.05}, \"xaxis\": {\"automargin\": true, \"gridcolor\": \"white\", \"linecolor\": \"white\", \"ticks\": \"\", \"title\": {\"standoff\": 15}, \"zerolinecolor\": \"white\", \"zerolinewidth\": 2}, \"yaxis\": {\"automargin\": true, \"gridcolor\": \"white\", \"linecolor\": \"white\", \"ticks\": \"\", \"title\": {\"standoff\": 15}, \"zerolinecolor\": \"white\", \"zerolinewidth\": 2}}}, \"xaxis\": {\"anchor\": \"y\", \"domain\": [0.0, 1.0], \"showticklabels\": true, \"tickangle\": 45, \"title\": {\"text\": \"age\"}}, \"yaxis\": {\"anchor\": \"x\", \"domain\": [0.0, 1.0], \"nticks\": 20, \"title\": {\"text\": \"doctors\"}}},\n",
       "                        {\"responsive\": true}\n",
       "                    ).then(function(){\n",
       "                            \n",
       "var gd = document.getElementById('7d67d6cb-8f18-4124-a3d4-4f31d54fb664');\n",
       "var x = new MutationObserver(function (mutations, observer) {{\n",
       "        var display = window.getComputedStyle(gd).display;\n",
       "        if (!display || display === 'none') {{\n",
       "            console.log([gd, 'removed!']);\n",
       "            Plotly.purge(gd);\n",
       "            observer.disconnect();\n",
       "        }}\n",
       "}});\n",
       "\n",
       "// Listen for the removal of the full notebook cells\n",
       "var notebookContainer = gd.closest('#notebook-container');\n",
       "if (notebookContainer) {{\n",
       "    x.observe(notebookContainer, {childList: true});\n",
       "}}\n",
       "\n",
       "// Listen for the clearing of the current output cell\n",
       "var outputEl = gd.closest('.output');\n",
       "if (outputEl) {{\n",
       "    x.observe(outputEl, {childList: true});\n",
       "}}\n",
       "\n",
       "                        })\n",
       "                };\n",
       "                });\n",
       "            </script>\n",
       "        </div>"
      ]
     },
     "metadata": {},
     "output_type": "display_data"
    }
   ],
   "source": [
    "countries_list = list(doctors['Country'].unique())\n",
    "countries_list.sort()\n",
    "@widgets.interact(\n",
    "    countries = widgets.SelectMultiple(\n",
    "        options=countries_list,\n",
    "\n",
    "        description='Countries',\n",
    "        disabled=False\n",
    "    ),\n",
    "    data = widgets.Dropdown(\n",
    "        options=['High Risk Countries(Age/Doctors Ratio)', 'Low Risk Countries(Age/Doctors Ratio)', \"Overall\"],\n",
    "        value = \"Overall\",\n",
    "        description='Options:',\n",
    "        disabled=False,\n",
    "    )\n",
    ")\n",
    "\n",
    "def chart(data, countries):\n",
    "    df = merged_df\n",
    "    \n",
    "    if data == 'High Risk Countries(Age/Doctors Ratio)':\n",
    "        df = df[(df['age'] > 9) & (df['doctors'] < 4)]\n",
    "    \n",
    "    if data == 'Low Risk Countries(Age/Doctors Ratio)':\n",
    "        df = df[(df['age'] < 9) & (df['doctors'] > 4)]\n",
    "\n",
    "    if len(list(countries)) > 0 and data == 'Overall':\n",
    "        df = df[df['Country'].isin(countries)]\n",
    "    fig = px.scatter(df, \n",
    "                     x=\"age\", \n",
    "                     y=\"doctors\", \n",
    "                     color=\"Country\",\n",
    "                     hover_data=['Country', 'age', 'doctors'])\n",
    "    \n",
    "    annotations = []\n",
    "    #Source Part\n",
    "    annotations.append(\n",
    "        dict(\n",
    "            xref='paper', \n",
    "            yref='paper', \n",
    "            x=0.5, \n",
    "            y=-0.16,\n",
    "            xanchor='center', \n",
    "            yanchor='top',\n",
    "            text='Source: https://ourworldindata.org/',\n",
    "            font=dict(\n",
    "                family='Arial',\n",
    "                size=12,\n",
    "                color='rgb(150,150,150)'\n",
    "            ),\n",
    "            showarrow=False\n",
    "        )\n",
    "    )\n",
    "    \n",
    "    # Title Part\n",
    "    annotations.append(\n",
    "        dict(\n",
    "            xref='paper', \n",
    "            yref='paper', \n",
    "            x=0.0, \n",
    "            y=1.05,\n",
    "            xanchor='left', \n",
    "            yanchor='bottom',\n",
    "            text=f'Countries risk according population age/doctors per 1000',\n",
    "            font=dict(family='Arial',\n",
    "                size=30,\n",
    "                color='rgb(37,37,37)'\n",
    "             ),\n",
    "             showarrow=False\n",
    "        )\n",
    "    )\n",
    "    \n",
    "    fig.update_layout(\n",
    "        xaxis=dict(\n",
    "            showticklabels=True,\n",
    "            tickangle=45,\n",
    "        ),\n",
    "        yaxis=dict(\n",
    "            nticks=20,\n",
    "        ),\n",
    "        plot_bgcolor='white',\n",
    "        annotations = annotations\n",
    "    )\n",
    "    fig.show()\n"
   ]
  },
  {
   "cell_type": "code",
   "execution_count": null,
   "metadata": {
    "Collapsed": "false"
   },
   "outputs": [],
   "source": [
    "#Paolo: I do not understand the age variable, is the age of the population? Why does ot go up to low numbers 10,15. At the beginning\n",
    "#it is not clear how to use the plot, as if you do not do anything it only dispalys a point. Maybe better not to have\n",
    "# the option and how directly data for all countries. Or explain how to use the plot"
   ]
  },
  {
   "cell_type": "markdown",
   "metadata": {
    "Collapsed": "false"
   },
   "source": [
    "Insights:\n",
    "\n",
    "- Japan, Italy and Germany are amongst the countries with the oldest population. Germany and Italy are amongst the countries most affected by coronavirus.\n",
    "- Cuba and Greece are the countries with the highest quantity of physicians per 1000 citizens.\n",
    "- There are multiple high risk countries, and amongst these some countries that are in the list of most affected countries (like Netherlands, France, US).\n",
    "- In low risk countries we have only 2, Israel and Turkmenistan.\n",
    "\n",
    "---"
   ]
  },
  {
   "cell_type": "markdown",
   "metadata": {
    "Collapsed": "false"
   },
   "source": [
    "## Conclusions\n",
    "\n",
    "- Contrary to popular belief, younger adults are also affected by the coronavirus. Infection rate is lower, but still highly significant.\n",
    "- So far, China has been the only country who has experienced a contamination crisis and has managed to revert it.\n",
    "- The worst part is yet to come, if the data follows the same trend then the next days/week will be the worst part of the crisis.\n",
    "- Social distancing is the only tool we have at the moment to face this crisis and manage to bend the curve like China.\n",
    "\n",
    "## Improvements\n",
    "\n",
    "- Get some more data on demographics.\n",
    "- Get more detailed data on demographics and contagion/deaths/recoveries.\n",
    "- Be able to link this data with comorbidity.\n",
    "- Interactive maps."
   ]
  },
  {
   "cell_type": "code",
   "execution_count": null,
   "metadata": {
    "Collapsed": "false"
   },
   "outputs": [],
   "source": []
  }
 ],
 "metadata": {
  "hide_input": false,
  "kernelspec": {
   "display_name": "Python 3",
   "language": "python",
   "name": "python3"
  },
  "language_info": {
   "codemirror_mode": {
    "name": "ipython",
    "version": 3
   },
   "file_extension": ".py",
   "mimetype": "text/x-python",
   "name": "python",
   "nbconvert_exporter": "python",
   "pygments_lexer": "ipython3",
   "version": "3.7.2"
  },
  "latex_envs": {
   "LaTeX_envs_menu_present": true,
   "autoclose": false,
   "autocomplete": true,
   "bibliofile": "biblio.bib",
   "cite_by": "apalike",
   "current_citInitial": 1,
   "eqLabelWithNumbers": true,
   "eqNumInitial": 1,
   "hotkeys": {
    "equation": "Ctrl-E",
    "itemize": "Ctrl-I"
   },
   "labels_anchors": false,
   "latex_user_defs": false,
   "report_style_numbering": false,
   "user_envs_cfg": false
  },
  "toc": {
   "base_numbering": 1,
   "nav_menu": {},
   "number_sections": true,
   "sideBar": true,
   "skip_h1_title": false,
   "title_cell": "Table of Contents",
   "title_sidebar": "Contents",
   "toc_cell": false,
   "toc_position": {},
   "toc_section_display": true,
   "toc_window_display": false
  }
 },
 "nbformat": 4,
 "nbformat_minor": 4
}
